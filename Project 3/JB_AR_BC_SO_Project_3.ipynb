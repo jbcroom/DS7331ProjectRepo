{
 "cells": [
  {
   "cell_type": "markdown",
   "metadata": {},
   "source": [
    "# DS 7331 - Machine Learning - Course Project\n",
    "Team: Allison Roderick, Jayson Barker, Sandesh Ojha, Brandon Croom\n",
    "\n",
    "Lab Number: 3"
   ]
  },
  {
   "cell_type": "markdown",
   "metadata": {},
   "source": [
    "## Business Understanding - 10pts\n",
    "\n",
    "Traffic accidents impact many of us in our daily lives. From being delayed due to an accident to being in an accident ourselves, anytime we are travelling there is a concern that a traffic accident could impact us. The US Accidents dataset is a country wide dataset covering 49 states within the United States. The data has been collected from several data sources which broadcast traffic accident related information. The dataset spans the time period of Feburary 2016 through December 2019. The data was sourced from the Kaggle website (https://www.kaggle.com/sobhanmoosavi/us-accidents).\n",
    "\n",
    "This data could be leveraged for multiple purposes:\n",
    "\n",
    "- Alerting drivers to when an accident may occur\n",
    "- Providing insurance companies information on accident fequencies\n",
    "- Assisting government agencies in future traffic pattern design and planning\n",
    "\n",
    "A good prediction algorithm for this data would establish a relationship between the factors in this data file, such as weather, time of day, location, and the severity of an accidents occurrence. We would know if the algorithm was useful if it could successfully predict how severe an accident would be based on those variables. In knowing the severity, we could recommend to civic institutions how, where, and when to allocate the most resources for accidents. "
   ]
  },
  {
   "cell_type": "markdown",
   "metadata": {},
   "source": [
    "## Data Understanding - 10pts\n",
    "\n",
    "Setup initial requirements for the data analysis prior to EDA. This is for cleanliness of the code base and consistency of outputs."
   ]
  },
  {
   "cell_type": "code",
   "execution_count": 1,
   "metadata": {},
   "outputs": [],
   "source": [
    "# Import libraries for data analysis\n",
    "import numpy as np \n",
    "import pandas as pd \n",
    "import pandas_profiling as pp\n",
    "import seaborn as sns\n",
    "import matplotlib.pyplot as plt\n",
    "import pathlib as pathlib\n",
    "\n",
    "from sklearn.model_selection import train_test_split\n",
    "from IPython.display import display,HTML\n",
    "from sklearn import ensemble\n",
    "\n",
    "#The packages below will need to be installed for use.\n",
    "# sorted_months_weekdays allows for easier manipulation of date fields\n",
    "from sorted_months_weekdays import Month_Sorted_Month, Weekday_Sorted_Week\n",
    "import swifter\n",
    "\n",
    "# show all columns\n",
    "pd.set_option('display.max_columns', None) \n",
    "\n",
    "#Set the seaborn plotting style\n",
    "sns.set(style=\"darkgrid\")\n",
    "\n",
    "#set variables for font sizes for plots. This will allow them to be consistent within the notebook\n",
    "titleFont = 25\n",
    "axisFont = 15\n",
    "labelFont = 15"
   ]
  },
  {
   "cell_type": "markdown",
   "metadata": {},
   "source": [
    "Define helper functions for data analysis"
   ]
  },
  {
   "cell_type": "code",
   "execution_count": 2,
   "metadata": {},
   "outputs": [],
   "source": [
    "#build out helper functions\n",
    "def getMedianTemp(row):\n",
    "    month = row['Start_Month']\n",
    "    \n",
    "    try:\n",
    "        result = medianTempByMonth[month]\n",
    "    except:\n",
    "        result = 0\n",
    "    finally:    \n",
    "        return result\n",
    "\n",
    "def getMedianPrecip(row):\n",
    "    month = row['Start_Month']\n",
    "    state = row['State']\n",
    "    \n",
    "    try:\n",
    "        result = medianPrecipByMonth[month]\n",
    "    except:\n",
    "        result = 0\n",
    "    finally:\n",
    "        return result\n",
    "\n",
    "def getMedianPressure(row):\n",
    "    month = row['Start_Month']\n",
    "    \n",
    "    try:\n",
    "        result = medianPressureByMonth[month]\n",
    "    except:\n",
    "        result = 0\n",
    "    finally:\n",
    "        return result\n",
    "\n",
    "def getMedianWindChill(row):\n",
    "    month = row['Start_Month']\n",
    "    \n",
    "    try:\n",
    "        result = medianWindChillByMonth[month]\n",
    "    except:\n",
    "        result = 0\n",
    "    finally:\n",
    "        return result\n",
    "\n",
    "def getMedianVis(row):\n",
    "    month = row['Start_Month']\n",
    "    \n",
    "    try:\n",
    "        result = medianVisByMonth[month]\n",
    "    except:\n",
    "        result = 0\n",
    "    finally:\n",
    "        return result\n",
    "\n",
    "def getMedianWindSpeed(row):\n",
    "    month = row['Start_Month']\n",
    "    \n",
    "    try:\n",
    "        result = medianWindSpeedByMonth[month]\n",
    "    except:\n",
    "        result = 0\n",
    "    finally:\n",
    "        return result\n",
    "\n",
    "def getMedianHumidity(row):\n",
    "    month = row['Start_Month']\n",
    "    \n",
    "    try:\n",
    "        result = medianHumidityByMonth[month]\n",
    "    except:\n",
    "        result = 0\n",
    "    finally:\n",
    "        return result\n",
    "\n",
    "def checkMissingValues(df,percent):\n",
    "    missing_df = df.isnull().sum(axis=0).reset_index()\n",
    "    missing_df.columns = ['columns_name','missing_count']\n",
    "    missing_df['missing_ratio'] = missing_df['missing_count'] /df.shape[0]\n",
    "    return missing_df.loc[missing_df['missing_ratio']>percent]"
   ]
  },
  {
   "cell_type": "markdown",
   "metadata": {},
   "source": [
    "Read in the datafile for analysis and perform a quick test to make sure we read the data in correctly"
   ]
  },
  {
   "cell_type": "code",
   "execution_count": 3,
   "metadata": {},
   "outputs": [
    {
     "data": {
      "text/html": [
       "<div>\n",
       "<style scoped>\n",
       "    .dataframe tbody tr th:only-of-type {\n",
       "        vertical-align: middle;\n",
       "    }\n",
       "\n",
       "    .dataframe tbody tr th {\n",
       "        vertical-align: top;\n",
       "    }\n",
       "\n",
       "    .dataframe thead th {\n",
       "        text-align: right;\n",
       "    }\n",
       "</style>\n",
       "<table border=\"1\" class=\"dataframe\">\n",
       "  <thead>\n",
       "    <tr style=\"text-align: right;\">\n",
       "      <th></th>\n",
       "      <th>ID</th>\n",
       "      <th>Source</th>\n",
       "      <th>TMC</th>\n",
       "      <th>Severity</th>\n",
       "      <th>Start_Time</th>\n",
       "      <th>End_Time</th>\n",
       "      <th>Start_Lat</th>\n",
       "      <th>Start_Lng</th>\n",
       "      <th>End_Lat</th>\n",
       "      <th>End_Lng</th>\n",
       "      <th>Distance(mi)</th>\n",
       "      <th>Description</th>\n",
       "      <th>Number</th>\n",
       "      <th>Street</th>\n",
       "      <th>Side</th>\n",
       "      <th>City</th>\n",
       "      <th>County</th>\n",
       "      <th>State</th>\n",
       "      <th>Zipcode</th>\n",
       "      <th>Country</th>\n",
       "      <th>Timezone</th>\n",
       "      <th>Airport_Code</th>\n",
       "      <th>Weather_Timestamp</th>\n",
       "      <th>Temperature(F)</th>\n",
       "      <th>Wind_Chill(F)</th>\n",
       "      <th>Humidity(%)</th>\n",
       "      <th>Pressure(in)</th>\n",
       "      <th>Visibility(mi)</th>\n",
       "      <th>Wind_Direction</th>\n",
       "      <th>Wind_Speed(mph)</th>\n",
       "      <th>Precipitation(in)</th>\n",
       "      <th>Weather_Condition</th>\n",
       "      <th>Amenity</th>\n",
       "      <th>Bump</th>\n",
       "      <th>Crossing</th>\n",
       "      <th>Give_Way</th>\n",
       "      <th>Junction</th>\n",
       "      <th>No_Exit</th>\n",
       "      <th>Railway</th>\n",
       "      <th>Roundabout</th>\n",
       "      <th>Station</th>\n",
       "      <th>Stop</th>\n",
       "      <th>Traffic_Calming</th>\n",
       "      <th>Traffic_Signal</th>\n",
       "      <th>Turning_Loop</th>\n",
       "      <th>Sunrise_Sunset</th>\n",
       "      <th>Civil_Twilight</th>\n",
       "      <th>Nautical_Twilight</th>\n",
       "      <th>Astronomical_Twilight</th>\n",
       "    </tr>\n",
       "  </thead>\n",
       "  <tbody>\n",
       "    <tr>\n",
       "      <th>0</th>\n",
       "      <td>A-1</td>\n",
       "      <td>MapQuest</td>\n",
       "      <td>201.0</td>\n",
       "      <td>3</td>\n",
       "      <td>2016-02-08 05:46:00</td>\n",
       "      <td>2016-02-08 11:00:00</td>\n",
       "      <td>39.865147</td>\n",
       "      <td>-84.058723</td>\n",
       "      <td>NaN</td>\n",
       "      <td>NaN</td>\n",
       "      <td>0.01</td>\n",
       "      <td>Right lane blocked due to accident on I-70 Eas...</td>\n",
       "      <td>NaN</td>\n",
       "      <td>I-70 E</td>\n",
       "      <td>R</td>\n",
       "      <td>Dayton</td>\n",
       "      <td>Montgomery</td>\n",
       "      <td>OH</td>\n",
       "      <td>45424</td>\n",
       "      <td>US</td>\n",
       "      <td>US/Eastern</td>\n",
       "      <td>KFFO</td>\n",
       "      <td>2016-02-08 05:58:00</td>\n",
       "      <td>36.9</td>\n",
       "      <td>NaN</td>\n",
       "      <td>91.0</td>\n",
       "      <td>29.68</td>\n",
       "      <td>10.0</td>\n",
       "      <td>Calm</td>\n",
       "      <td>NaN</td>\n",
       "      <td>0.02</td>\n",
       "      <td>Light Rain</td>\n",
       "      <td>False</td>\n",
       "      <td>False</td>\n",
       "      <td>False</td>\n",
       "      <td>False</td>\n",
       "      <td>False</td>\n",
       "      <td>False</td>\n",
       "      <td>False</td>\n",
       "      <td>False</td>\n",
       "      <td>False</td>\n",
       "      <td>False</td>\n",
       "      <td>False</td>\n",
       "      <td>False</td>\n",
       "      <td>False</td>\n",
       "      <td>Night</td>\n",
       "      <td>Night</td>\n",
       "      <td>Night</td>\n",
       "      <td>Night</td>\n",
       "    </tr>\n",
       "    <tr>\n",
       "      <th>1</th>\n",
       "      <td>A-2</td>\n",
       "      <td>MapQuest</td>\n",
       "      <td>201.0</td>\n",
       "      <td>2</td>\n",
       "      <td>2016-02-08 06:07:59</td>\n",
       "      <td>2016-02-08 06:37:59</td>\n",
       "      <td>39.928059</td>\n",
       "      <td>-82.831184</td>\n",
       "      <td>NaN</td>\n",
       "      <td>NaN</td>\n",
       "      <td>0.01</td>\n",
       "      <td>Accident on Brice Rd at Tussing Rd. Expect del...</td>\n",
       "      <td>2584.0</td>\n",
       "      <td>Brice Rd</td>\n",
       "      <td>L</td>\n",
       "      <td>Reynoldsburg</td>\n",
       "      <td>Franklin</td>\n",
       "      <td>OH</td>\n",
       "      <td>43068-3402</td>\n",
       "      <td>US</td>\n",
       "      <td>US/Eastern</td>\n",
       "      <td>KCMH</td>\n",
       "      <td>2016-02-08 05:51:00</td>\n",
       "      <td>37.9</td>\n",
       "      <td>NaN</td>\n",
       "      <td>100.0</td>\n",
       "      <td>29.65</td>\n",
       "      <td>10.0</td>\n",
       "      <td>Calm</td>\n",
       "      <td>NaN</td>\n",
       "      <td>0.00</td>\n",
       "      <td>Light Rain</td>\n",
       "      <td>False</td>\n",
       "      <td>False</td>\n",
       "      <td>False</td>\n",
       "      <td>False</td>\n",
       "      <td>False</td>\n",
       "      <td>False</td>\n",
       "      <td>False</td>\n",
       "      <td>False</td>\n",
       "      <td>False</td>\n",
       "      <td>False</td>\n",
       "      <td>False</td>\n",
       "      <td>False</td>\n",
       "      <td>False</td>\n",
       "      <td>Night</td>\n",
       "      <td>Night</td>\n",
       "      <td>Night</td>\n",
       "      <td>Day</td>\n",
       "    </tr>\n",
       "    <tr>\n",
       "      <th>2</th>\n",
       "      <td>A-3</td>\n",
       "      <td>MapQuest</td>\n",
       "      <td>201.0</td>\n",
       "      <td>2</td>\n",
       "      <td>2016-02-08 06:49:27</td>\n",
       "      <td>2016-02-08 07:19:27</td>\n",
       "      <td>39.063148</td>\n",
       "      <td>-84.032608</td>\n",
       "      <td>NaN</td>\n",
       "      <td>NaN</td>\n",
       "      <td>0.01</td>\n",
       "      <td>Accident on OH-32 State Route 32 Westbound at ...</td>\n",
       "      <td>NaN</td>\n",
       "      <td>State Route 32</td>\n",
       "      <td>R</td>\n",
       "      <td>Williamsburg</td>\n",
       "      <td>Clermont</td>\n",
       "      <td>OH</td>\n",
       "      <td>45176</td>\n",
       "      <td>US</td>\n",
       "      <td>US/Eastern</td>\n",
       "      <td>KI69</td>\n",
       "      <td>2016-02-08 06:56:00</td>\n",
       "      <td>36.0</td>\n",
       "      <td>33.3</td>\n",
       "      <td>100.0</td>\n",
       "      <td>29.67</td>\n",
       "      <td>10.0</td>\n",
       "      <td>SW</td>\n",
       "      <td>3.5</td>\n",
       "      <td>NaN</td>\n",
       "      <td>Overcast</td>\n",
       "      <td>False</td>\n",
       "      <td>False</td>\n",
       "      <td>False</td>\n",
       "      <td>False</td>\n",
       "      <td>False</td>\n",
       "      <td>False</td>\n",
       "      <td>False</td>\n",
       "      <td>False</td>\n",
       "      <td>False</td>\n",
       "      <td>False</td>\n",
       "      <td>False</td>\n",
       "      <td>True</td>\n",
       "      <td>False</td>\n",
       "      <td>Night</td>\n",
       "      <td>Night</td>\n",
       "      <td>Day</td>\n",
       "      <td>Day</td>\n",
       "    </tr>\n",
       "    <tr>\n",
       "      <th>3</th>\n",
       "      <td>A-4</td>\n",
       "      <td>MapQuest</td>\n",
       "      <td>201.0</td>\n",
       "      <td>3</td>\n",
       "      <td>2016-02-08 07:23:34</td>\n",
       "      <td>2016-02-08 07:53:34</td>\n",
       "      <td>39.747753</td>\n",
       "      <td>-84.205582</td>\n",
       "      <td>NaN</td>\n",
       "      <td>NaN</td>\n",
       "      <td>0.01</td>\n",
       "      <td>Accident on I-75 Southbound at Exits 52 52B US...</td>\n",
       "      <td>NaN</td>\n",
       "      <td>I-75 S</td>\n",
       "      <td>R</td>\n",
       "      <td>Dayton</td>\n",
       "      <td>Montgomery</td>\n",
       "      <td>OH</td>\n",
       "      <td>45417</td>\n",
       "      <td>US</td>\n",
       "      <td>US/Eastern</td>\n",
       "      <td>KDAY</td>\n",
       "      <td>2016-02-08 07:38:00</td>\n",
       "      <td>35.1</td>\n",
       "      <td>31.0</td>\n",
       "      <td>96.0</td>\n",
       "      <td>29.64</td>\n",
       "      <td>9.0</td>\n",
       "      <td>SW</td>\n",
       "      <td>4.6</td>\n",
       "      <td>NaN</td>\n",
       "      <td>Mostly Cloudy</td>\n",
       "      <td>False</td>\n",
       "      <td>False</td>\n",
       "      <td>False</td>\n",
       "      <td>False</td>\n",
       "      <td>False</td>\n",
       "      <td>False</td>\n",
       "      <td>False</td>\n",
       "      <td>False</td>\n",
       "      <td>False</td>\n",
       "      <td>False</td>\n",
       "      <td>False</td>\n",
       "      <td>False</td>\n",
       "      <td>False</td>\n",
       "      <td>Night</td>\n",
       "      <td>Day</td>\n",
       "      <td>Day</td>\n",
       "      <td>Day</td>\n",
       "    </tr>\n",
       "    <tr>\n",
       "      <th>4</th>\n",
       "      <td>A-5</td>\n",
       "      <td>MapQuest</td>\n",
       "      <td>201.0</td>\n",
       "      <td>2</td>\n",
       "      <td>2016-02-08 07:39:07</td>\n",
       "      <td>2016-02-08 08:09:07</td>\n",
       "      <td>39.627781</td>\n",
       "      <td>-84.188354</td>\n",
       "      <td>NaN</td>\n",
       "      <td>NaN</td>\n",
       "      <td>0.01</td>\n",
       "      <td>Accident on McEwen Rd at OH-725 Miamisburg Cen...</td>\n",
       "      <td>NaN</td>\n",
       "      <td>Miamisburg Centerville Rd</td>\n",
       "      <td>R</td>\n",
       "      <td>Dayton</td>\n",
       "      <td>Montgomery</td>\n",
       "      <td>OH</td>\n",
       "      <td>45459</td>\n",
       "      <td>US</td>\n",
       "      <td>US/Eastern</td>\n",
       "      <td>KMGY</td>\n",
       "      <td>2016-02-08 07:53:00</td>\n",
       "      <td>36.0</td>\n",
       "      <td>33.3</td>\n",
       "      <td>89.0</td>\n",
       "      <td>29.65</td>\n",
       "      <td>6.0</td>\n",
       "      <td>SW</td>\n",
       "      <td>3.5</td>\n",
       "      <td>NaN</td>\n",
       "      <td>Mostly Cloudy</td>\n",
       "      <td>False</td>\n",
       "      <td>False</td>\n",
       "      <td>False</td>\n",
       "      <td>False</td>\n",
       "      <td>False</td>\n",
       "      <td>False</td>\n",
       "      <td>False</td>\n",
       "      <td>False</td>\n",
       "      <td>False</td>\n",
       "      <td>False</td>\n",
       "      <td>False</td>\n",
       "      <td>True</td>\n",
       "      <td>False</td>\n",
       "      <td>Day</td>\n",
       "      <td>Day</td>\n",
       "      <td>Day</td>\n",
       "      <td>Day</td>\n",
       "    </tr>\n",
       "  </tbody>\n",
       "</table>\n",
       "</div>"
      ],
      "text/plain": [
       "    ID    Source    TMC  Severity           Start_Time             End_Time  \\\n",
       "0  A-1  MapQuest  201.0         3  2016-02-08 05:46:00  2016-02-08 11:00:00   \n",
       "1  A-2  MapQuest  201.0         2  2016-02-08 06:07:59  2016-02-08 06:37:59   \n",
       "2  A-3  MapQuest  201.0         2  2016-02-08 06:49:27  2016-02-08 07:19:27   \n",
       "3  A-4  MapQuest  201.0         3  2016-02-08 07:23:34  2016-02-08 07:53:34   \n",
       "4  A-5  MapQuest  201.0         2  2016-02-08 07:39:07  2016-02-08 08:09:07   \n",
       "\n",
       "   Start_Lat  Start_Lng  End_Lat  End_Lng  Distance(mi)  \\\n",
       "0  39.865147 -84.058723      NaN      NaN          0.01   \n",
       "1  39.928059 -82.831184      NaN      NaN          0.01   \n",
       "2  39.063148 -84.032608      NaN      NaN          0.01   \n",
       "3  39.747753 -84.205582      NaN      NaN          0.01   \n",
       "4  39.627781 -84.188354      NaN      NaN          0.01   \n",
       "\n",
       "                                         Description  Number  \\\n",
       "0  Right lane blocked due to accident on I-70 Eas...     NaN   \n",
       "1  Accident on Brice Rd at Tussing Rd. Expect del...  2584.0   \n",
       "2  Accident on OH-32 State Route 32 Westbound at ...     NaN   \n",
       "3  Accident on I-75 Southbound at Exits 52 52B US...     NaN   \n",
       "4  Accident on McEwen Rd at OH-725 Miamisburg Cen...     NaN   \n",
       "\n",
       "                      Street Side          City      County State     Zipcode  \\\n",
       "0                     I-70 E    R        Dayton  Montgomery    OH       45424   \n",
       "1                   Brice Rd    L  Reynoldsburg    Franklin    OH  43068-3402   \n",
       "2             State Route 32    R  Williamsburg    Clermont    OH       45176   \n",
       "3                     I-75 S    R        Dayton  Montgomery    OH       45417   \n",
       "4  Miamisburg Centerville Rd    R        Dayton  Montgomery    OH       45459   \n",
       "\n",
       "  Country    Timezone Airport_Code    Weather_Timestamp  Temperature(F)  \\\n",
       "0      US  US/Eastern         KFFO  2016-02-08 05:58:00            36.9   \n",
       "1      US  US/Eastern         KCMH  2016-02-08 05:51:00            37.9   \n",
       "2      US  US/Eastern         KI69  2016-02-08 06:56:00            36.0   \n",
       "3      US  US/Eastern         KDAY  2016-02-08 07:38:00            35.1   \n",
       "4      US  US/Eastern         KMGY  2016-02-08 07:53:00            36.0   \n",
       "\n",
       "   Wind_Chill(F)  Humidity(%)  Pressure(in)  Visibility(mi) Wind_Direction  \\\n",
       "0            NaN         91.0         29.68            10.0           Calm   \n",
       "1            NaN        100.0         29.65            10.0           Calm   \n",
       "2           33.3        100.0         29.67            10.0             SW   \n",
       "3           31.0         96.0         29.64             9.0             SW   \n",
       "4           33.3         89.0         29.65             6.0             SW   \n",
       "\n",
       "   Wind_Speed(mph)  Precipitation(in) Weather_Condition  Amenity   Bump  \\\n",
       "0              NaN               0.02        Light Rain    False  False   \n",
       "1              NaN               0.00        Light Rain    False  False   \n",
       "2              3.5                NaN          Overcast    False  False   \n",
       "3              4.6                NaN     Mostly Cloudy    False  False   \n",
       "4              3.5                NaN     Mostly Cloudy    False  False   \n",
       "\n",
       "   Crossing  Give_Way  Junction  No_Exit  Railway  Roundabout  Station   Stop  \\\n",
       "0     False     False     False    False    False       False    False  False   \n",
       "1     False     False     False    False    False       False    False  False   \n",
       "2     False     False     False    False    False       False    False  False   \n",
       "3     False     False     False    False    False       False    False  False   \n",
       "4     False     False     False    False    False       False    False  False   \n",
       "\n",
       "   Traffic_Calming  Traffic_Signal  Turning_Loop Sunrise_Sunset  \\\n",
       "0            False           False         False          Night   \n",
       "1            False           False         False          Night   \n",
       "2            False            True         False          Night   \n",
       "3            False           False         False          Night   \n",
       "4            False            True         False            Day   \n",
       "\n",
       "  Civil_Twilight Nautical_Twilight Astronomical_Twilight  \n",
       "0          Night             Night                 Night  \n",
       "1          Night             Night                   Day  \n",
       "2          Night               Day                   Day  \n",
       "3            Day               Day                   Day  \n",
       "4            Day               Day                   Day  "
      ]
     },
     "execution_count": 3,
     "metadata": {},
     "output_type": "execute_result"
    }
   ],
   "source": [
    "#read in the data file\n",
    "data_file = 'us-accidents.zip'\n",
    "weather_dic = 'WeatherDict.csv'\n",
    "\n",
    "#BC's filepaths\n",
    "filepath_BC = '/home/jbcroom/'\n",
    "filepath_BC2 = 'C:/RAI/'\n",
    "\n",
    "#AR's filepaths\n",
    "filepath_AR = ''\n",
    "\n",
    "#HB's filepaths\n",
    "filepath_JB = ''\n",
    "\n",
    "#SO's filepaths\n",
    "filepath_SO = ''\n",
    "\n",
    "#Get the information for the data file\n",
    "datafile_pathBC = pathlib.Path(filepath_BC + weather_dic)\n",
    "datafile_pathBC2 = pathlib.Path(filepath_BC2 + weather_dic)\n",
    "datafile_pathAR = pathlib.Path(filepath_AR + weather_dic)\n",
    "datafile_pathJB = pathlib.Path(filepath_JB + weather_dic)\n",
    "datafile_pathSO = pathlib.Path(filepath_SO + weather_dic)\n",
    "\n",
    "#Check to where the file exists and set the filepath to load the data. \n",
    "if (datafile_pathBC.exists):\n",
    "    weatherDic = filepath_BC + weather_dic\n",
    "elif (datafile_pathBC2.exists):\n",
    "    weatherDic = filepath_BC2 + weather_dic\n",
    "elif (datafile_pathAR.exists):\n",
    "    weatherDic = filepath_AR + weather_dic\n",
    "elif (datafile_pathJB.exists):\n",
    "    weatherDic = filepath_JB + weather_dic\n",
    "elif (datafile_pathSO.exists):\n",
    "    weatherDic = filepath_SO + weather_dic\n",
    "\n",
    "#Get the information for the data file\n",
    "datafile_pathBC = pathlib.Path(filepath_BC + data_file)\n",
    "datafile_pathBC2 = pathlib.Path(filepath_BC2 + data_file)\n",
    "datafile_pathAR = pathlib.Path(filepath_AR + data_file)\n",
    "datafile_pathJB = pathlib.Path(filepath_JB + data_file)\n",
    "datafile_pathSO = pathlib.Path(filepath_SO + data_file)\n",
    "\n",
    "#Check to where the file exists and set the filepath to load the data. \n",
    "if (datafile_pathBC.exists):\n",
    "    finalpath = filepath_BC + data_file\n",
    "elif (datafile_pathBC2.exists):\n",
    "    finalpath = filepath_BC2 + data_file\n",
    "elif (datafile_pathAR.exists):\n",
    "    finalpath = filepath_AR + data_file\n",
    "elif (datafile_pathJB.exists):\n",
    "    finalpath = filepath_JB + data_file\n",
    "elif (datafile_pathSO.exists):\n",
    "    finalpath = filepath_SO + data_file\n",
    "\n",
    "#load the datafile\n",
    "df = pd.read_csv(finalpath)\n",
    "df.head()"
   ]
  },
  {
   "cell_type": "markdown",
   "metadata": {},
   "source": [
    "The code below provides a quick check on the shape of the data which will provide the number of rows in the data and number of data columns."
   ]
  },
  {
   "cell_type": "code",
   "execution_count": 4,
   "metadata": {},
   "outputs": [
    {
     "data": {
      "text/plain": [
       "(2974335, 49)"
      ]
     },
     "execution_count": 4,
     "metadata": {},
     "output_type": "execute_result"
    }
   ],
   "source": [
    "df.shape"
   ]
  },
  {
   "cell_type": "markdown",
   "metadata": {},
   "source": [
    "From the output above there are 2,974,335 rows of data with 49 initial data columns. \n",
    "\n",
    "To gain additional insight into the data, the data types of each column need to be understood. This allows for an understanding of whether the data is categorical or continuous. The code below will provide a summary count of all of the data type values as well as the individual listing of data types for each column"
   ]
  },
  {
   "cell_type": "code",
   "execution_count": 5,
   "metadata": {},
   "outputs": [
    {
     "data": {
      "text/plain": [
       "object     21\n",
       "float64    14\n",
       "bool       13\n",
       "int64       1\n",
       "dtype: int64"
      ]
     },
     "execution_count": 5,
     "metadata": {},
     "output_type": "execute_result"
    }
   ],
   "source": [
    "df.dtypes.value_counts()"
   ]
  },
  {
   "cell_type": "code",
   "execution_count": 6,
   "metadata": {},
   "outputs": [
    {
     "data": {
      "text/plain": [
       "ID                        object\n",
       "Source                    object\n",
       "TMC                      float64\n",
       "Severity                   int64\n",
       "Start_Time                object\n",
       "End_Time                  object\n",
       "Start_Lat                float64\n",
       "Start_Lng                float64\n",
       "End_Lat                  float64\n",
       "End_Lng                  float64\n",
       "Distance(mi)             float64\n",
       "Description               object\n",
       "Number                   float64\n",
       "Street                    object\n",
       "Side                      object\n",
       "City                      object\n",
       "County                    object\n",
       "State                     object\n",
       "Zipcode                   object\n",
       "Country                   object\n",
       "Timezone                  object\n",
       "Airport_Code              object\n",
       "Weather_Timestamp         object\n",
       "Temperature(F)           float64\n",
       "Wind_Chill(F)            float64\n",
       "Humidity(%)              float64\n",
       "Pressure(in)             float64\n",
       "Visibility(mi)           float64\n",
       "Wind_Direction            object\n",
       "Wind_Speed(mph)          float64\n",
       "Precipitation(in)        float64\n",
       "Weather_Condition         object\n",
       "Amenity                     bool\n",
       "Bump                        bool\n",
       "Crossing                    bool\n",
       "Give_Way                    bool\n",
       "Junction                    bool\n",
       "No_Exit                     bool\n",
       "Railway                     bool\n",
       "Roundabout                  bool\n",
       "Station                     bool\n",
       "Stop                        bool\n",
       "Traffic_Calming             bool\n",
       "Traffic_Signal              bool\n",
       "Turning_Loop                bool\n",
       "Sunrise_Sunset            object\n",
       "Civil_Twilight            object\n",
       "Nautical_Twilight         object\n",
       "Astronomical_Twilight     object\n",
       "dtype: object"
      ]
     },
     "execution_count": 6,
     "metadata": {},
     "output_type": "execute_result"
    }
   ],
   "source": [
    "df.dtypes"
   ]
  },
  {
   "cell_type": "markdown",
   "metadata": {},
   "source": [
    "Assessing and addressing the quality of the data set is critical to ensuring a successful execution of further analysis. In this section data quality will be addressed by looking for and correcting: duplicate data and missing data.\n",
    "\n",
    "Initially, we check the dataset for any data duplication. This will verify whether the data counts are truly as large as initially seen upon data loading."
   ]
  },
  {
   "cell_type": "code",
   "execution_count": 7,
   "metadata": {},
   "outputs": [
    {
     "name": "stdout",
     "output_type": "stream",
     "text": [
      "Initial Shape:  (2974335, 49)\n",
      "Deduplication Shape:  (2974335, 49)\n",
      "No Duplicate Data Found\n"
     ]
    }
   ],
   "source": [
    "#get the shape of the dataframe (number of rows, number of columns)\n",
    "initShape = df.shape\n",
    "\n",
    "#remove duplicates from the dataframe\n",
    "df = df[~df.duplicated()]\n",
    "\n",
    "#get the shape of the deduplicated dataframe (number of rows, number of columns)\n",
    "dedupShape = df.shape\n",
    "\n",
    "#Print out the shape of the initial dataframe, the deduplicated dataframe and \n",
    "#determine if there is any duplication in the data\n",
    "print(\"Initial Shape: \", initShape)\n",
    "print(\"Deduplication Shape: \", dedupShape)\n",
    "\n",
    "\n",
    "if (initShape == dedupShape):\n",
    "    print(\"No Duplicate Data Found\")\n",
    "else:\n",
    "    print(\"Duplicate Data Found and removed\")"
   ]
  },
  {
   "cell_type": "markdown",
   "metadata": {},
   "source": [
    "As seen from the code execution above there is no duplication found within the data set.\n",
    "\n",
    "From the initial analysis shown in Table 1 (above) the amount of missing data in the data set is relatively minimal. This section will provide additional verification and address the quality issues."
   ]
  },
  {
   "cell_type": "code",
   "execution_count": 8,
   "metadata": {},
   "outputs": [
    {
     "data": {
      "image/png": "[encoded data removed]",
      "text/plain": [
       "<Figure size 864x1296 with 1 Axes>"
      ]
     },
     "metadata": {},
     "output_type": "display_data"
    }
   ],
   "source": [
    "# Look for missing data and plot values for visuals\n",
    "missing_df = df.isnull().sum(axis=0).reset_index()\n",
    "missing_df.columns = ['column_name','missing_count']\n",
    "missing_df = missing_df.loc[missing_df['missing_count']>0]\n",
    "missing_df = missing_df.sort_values(by='missing_count')\n",
    "\n",
    "ind = np.arange(missing_df.shape[0])\n",
    "fig,ax = plt.subplots(figsize=(12,18))\n",
    "rects = ax.barh(ind,missing_df.missing_count.values,color='blue')\n",
    "ax.set_yticks(ind)\n",
    "ax.set_yticklabels(missing_df.column_name.values, rotation='horizontal')\n",
    "ax.set_xlabel(\"Count of missing values\",fontsize=axisFont)\n",
    "ax.set_title(\"Number of missing values in each column\",fontsize=titleFont)\n",
    "plt.show()"
   ]
  },
  {
   "cell_type": "markdown",
   "metadata": {},
   "source": [
    "The visualization above confirms the information in Table 1. The columns: End_Lat, End_Long, Precipitation, Number, Wind Chill, TMC and Wind Speed all contain a large amount of missing data. \n",
    "\n",
    "Digging a bit deeper into this missing data will provide an indication and additional verification of how much data is missing. Build out a table listing the missing values."
   ]
  },
  {
   "cell_type": "code",
   "execution_count": 9,
   "metadata": {},
   "outputs": [
    {
     "data": {
      "text/html": [
       "<div>\n",
       "<style scoped>\n",
       "    .dataframe tbody tr th:only-of-type {\n",
       "        vertical-align: middle;\n",
       "    }\n",
       "\n",
       "    .dataframe tbody tr th {\n",
       "        vertical-align: top;\n",
       "    }\n",
       "\n",
       "    .dataframe thead th {\n",
       "        text-align: right;\n",
       "    }\n",
       "</style>\n",
       "<table border=\"1\" class=\"dataframe\">\n",
       "  <thead>\n",
       "    <tr style=\"text-align: right;\">\n",
       "      <th></th>\n",
       "      <th>columns_name</th>\n",
       "      <th>missing_count</th>\n",
       "      <th>missing_ratio</th>\n",
       "    </tr>\n",
       "  </thead>\n",
       "  <tbody>\n",
       "    <tr>\n",
       "      <th>2</th>\n",
       "      <td>TMC</td>\n",
       "      <td>728071</td>\n",
       "      <td>2.447845e-01</td>\n",
       "    </tr>\n",
       "    <tr>\n",
       "      <th>8</th>\n",
       "      <td>End_Lat</td>\n",
       "      <td>2246264</td>\n",
       "      <td>7.552155e-01</td>\n",
       "    </tr>\n",
       "    <tr>\n",
       "      <th>9</th>\n",
       "      <td>End_Lng</td>\n",
       "      <td>2246264</td>\n",
       "      <td>7.552155e-01</td>\n",
       "    </tr>\n",
       "    <tr>\n",
       "      <th>11</th>\n",
       "      <td>Description</td>\n",
       "      <td>1</td>\n",
       "      <td>3.362096e-07</td>\n",
       "    </tr>\n",
       "    <tr>\n",
       "      <th>12</th>\n",
       "      <td>Number</td>\n",
       "      <td>1917605</td>\n",
       "      <td>6.447172e-01</td>\n",
       "    </tr>\n",
       "    <tr>\n",
       "      <th>15</th>\n",
       "      <td>City</td>\n",
       "      <td>83</td>\n",
       "      <td>2.790540e-05</td>\n",
       "    </tr>\n",
       "    <tr>\n",
       "      <th>18</th>\n",
       "      <td>Zipcode</td>\n",
       "      <td>880</td>\n",
       "      <td>2.958645e-04</td>\n",
       "    </tr>\n",
       "    <tr>\n",
       "      <th>20</th>\n",
       "      <td>Timezone</td>\n",
       "      <td>3163</td>\n",
       "      <td>1.063431e-03</td>\n",
       "    </tr>\n",
       "    <tr>\n",
       "      <th>21</th>\n",
       "      <td>Airport_Code</td>\n",
       "      <td>5691</td>\n",
       "      <td>1.913369e-03</td>\n",
       "    </tr>\n",
       "    <tr>\n",
       "      <th>22</th>\n",
       "      <td>Weather_Timestamp</td>\n",
       "      <td>36705</td>\n",
       "      <td>1.234057e-02</td>\n",
       "    </tr>\n",
       "    <tr>\n",
       "      <th>23</th>\n",
       "      <td>Temperature(F)</td>\n",
       "      <td>56063</td>\n",
       "      <td>1.884892e-02</td>\n",
       "    </tr>\n",
       "    <tr>\n",
       "      <th>24</th>\n",
       "      <td>Wind_Chill(F)</td>\n",
       "      <td>1852623</td>\n",
       "      <td>6.228696e-01</td>\n",
       "    </tr>\n",
       "    <tr>\n",
       "      <th>25</th>\n",
       "      <td>Humidity(%)</td>\n",
       "      <td>59173</td>\n",
       "      <td>1.989453e-02</td>\n",
       "    </tr>\n",
       "    <tr>\n",
       "      <th>26</th>\n",
       "      <td>Pressure(in)</td>\n",
       "      <td>48142</td>\n",
       "      <td>1.618580e-02</td>\n",
       "    </tr>\n",
       "    <tr>\n",
       "      <th>27</th>\n",
       "      <td>Visibility(mi)</td>\n",
       "      <td>65691</td>\n",
       "      <td>2.208595e-02</td>\n",
       "    </tr>\n",
       "    <tr>\n",
       "      <th>28</th>\n",
       "      <td>Wind_Direction</td>\n",
       "      <td>45101</td>\n",
       "      <td>1.516339e-02</td>\n",
       "    </tr>\n",
       "    <tr>\n",
       "      <th>29</th>\n",
       "      <td>Wind_Speed(mph)</td>\n",
       "      <td>440840</td>\n",
       "      <td>1.482146e-01</td>\n",
       "    </tr>\n",
       "    <tr>\n",
       "      <th>30</th>\n",
       "      <td>Precipitation(in)</td>\n",
       "      <td>1998358</td>\n",
       "      <td>6.718672e-01</td>\n",
       "    </tr>\n",
       "    <tr>\n",
       "      <th>31</th>\n",
       "      <td>Weather_Condition</td>\n",
       "      <td>65932</td>\n",
       "      <td>2.216697e-02</td>\n",
       "    </tr>\n",
       "    <tr>\n",
       "      <th>45</th>\n",
       "      <td>Sunrise_Sunset</td>\n",
       "      <td>93</td>\n",
       "      <td>3.126749e-05</td>\n",
       "    </tr>\n",
       "    <tr>\n",
       "      <th>46</th>\n",
       "      <td>Civil_Twilight</td>\n",
       "      <td>93</td>\n",
       "      <td>3.126749e-05</td>\n",
       "    </tr>\n",
       "    <tr>\n",
       "      <th>47</th>\n",
       "      <td>Nautical_Twilight</td>\n",
       "      <td>93</td>\n",
       "      <td>3.126749e-05</td>\n",
       "    </tr>\n",
       "    <tr>\n",
       "      <th>48</th>\n",
       "      <td>Astronomical_Twilight</td>\n",
       "      <td>93</td>\n",
       "      <td>3.126749e-05</td>\n",
       "    </tr>\n",
       "  </tbody>\n",
       "</table>\n",
       "</div>"
      ],
      "text/plain": [
       "             columns_name  missing_count  missing_ratio\n",
       "2                     TMC         728071   2.447845e-01\n",
       "8                 End_Lat        2246264   7.552155e-01\n",
       "9                 End_Lng        2246264   7.552155e-01\n",
       "11            Description              1   3.362096e-07\n",
       "12                 Number        1917605   6.447172e-01\n",
       "15                   City             83   2.790540e-05\n",
       "18                Zipcode            880   2.958645e-04\n",
       "20               Timezone           3163   1.063431e-03\n",
       "21           Airport_Code           5691   1.913369e-03\n",
       "22      Weather_Timestamp          36705   1.234057e-02\n",
       "23         Temperature(F)          56063   1.884892e-02\n",
       "24          Wind_Chill(F)        1852623   6.228696e-01\n",
       "25            Humidity(%)          59173   1.989453e-02\n",
       "26           Pressure(in)          48142   1.618580e-02\n",
       "27         Visibility(mi)          65691   2.208595e-02\n",
       "28         Wind_Direction          45101   1.516339e-02\n",
       "29        Wind_Speed(mph)         440840   1.482146e-01\n",
       "30      Precipitation(in)        1998358   6.718672e-01\n",
       "31      Weather_Condition          65932   2.216697e-02\n",
       "45         Sunrise_Sunset             93   3.126749e-05\n",
       "46         Civil_Twilight             93   3.126749e-05\n",
       "47      Nautical_Twilight             93   3.126749e-05\n",
       "48  Astronomical_Twilight             93   3.126749e-05"
      ]
     },
     "execution_count": 9,
     "metadata": {},
     "output_type": "execute_result"
    }
   ],
   "source": [
    "#Get table listing of missing values\n",
    "checkMissingValues(df,0.00)"
   ]
  },
  {
   "cell_type": "markdown",
   "metadata": {},
   "source": [
    "The additional confirmation of these missing data items continues to match all the previous analysis. Given the high percentage of missing data in many of these fields it seems more beneficial to remove them from the analysis than to impute the data. The following actions will be taken on the data columns:\n",
    "\n",
    "- End_Lat - remove due to high percentage of data missing\n",
    "- End_Log - remove due to high percentage of data missing\n",
    "- Number - remove due to high percentage of data missing\n",
    "- TMC - remove due to high percententage of data missing\n",
    "- Wind_Chill(F) - keep and inpute the required values\n",
    "- Precipitation(in) - keep and inpute the required values\n",
    "\n",
    "\n",
    "Begin building a list of the columns to be removed from the data set."
   ]
  },
  {
   "cell_type": "code",
   "execution_count": 10,
   "metadata": {},
   "outputs": [
    {
     "data": {
      "text/plain": [
       "['TMC', 'End_Lat', 'End_Lng', 'Number']"
      ]
     },
     "execution_count": 10,
     "metadata": {},
     "output_type": "execute_result"
    }
   ],
   "source": [
    "#build a list of columns to remove based on the missing ratio data above. Keep Wind_Chill and Precipitation. \n",
    "#Use a 15% threshold here\n",
    "missing_df = df.isnull().sum(axis=0).reset_index()\n",
    "missing_df.columns = ['columns_name','missing_count']\n",
    "missing_df['missing_ratio'] = missing_df['missing_count'] /df.shape[0]\n",
    "missing = missing_df.loc[missing_df['missing_ratio']>0.15]\n",
    "removelist = missing['columns_name'].tolist()\n",
    "\n",
    "#List columns to keep\n",
    "keep_columns = {'Wind_Chill(F)', 'Precipitation(in)'} \n",
    "  \n",
    "removelist = [ele for ele in removelist if ele not in keep_columns] \n",
    "removelist"
   ]
  },
  {
   "cell_type": "markdown",
   "metadata": {},
   "source": [
    "Now that columns have been analyzed for missing values, let's move on to evaluate other columns that may need to be removed or cleaned up due lack of uniqueness of data or data inconsistencies. Continue to build the list of fields to be removed and correct data as we progress through the analysis"
   ]
  },
  {
   "cell_type": "code",
   "execution_count": 11,
   "metadata": {},
   "outputs": [
    {
     "data": {
      "text/plain": [
       "ID                       2974335\n",
       "Source                         3\n",
       "TMC                           21\n",
       "Severity                       4\n",
       "Start_Time               2743101\n",
       "End_Time                 2761499\n",
       "Start_Lat                1002359\n",
       "Start_Lng                 985099\n",
       "End_Lat                   298605\n",
       "End_Lng                   302906\n",
       "Distance(mi)               12847\n",
       "Description              1597506\n",
       "Number                     37398\n",
       "Street                    160715\n",
       "Side                           3\n",
       "City                       11685\n",
       "County                      1713\n",
       "State                         49\n",
       "Zipcode                   377152\n",
       "Country                        1\n",
       "Timezone                       4\n",
       "Airport_Code                1995\n",
       "Weather_Timestamp         470781\n",
       "Temperature(F)               827\n",
       "Wind_Chill(F)                971\n",
       "Humidity(%)                  100\n",
       "Pressure(in)                 994\n",
       "Visibility(mi)                81\n",
       "Wind_Direction                24\n",
       "Wind_Speed(mph)              147\n",
       "Precipitation(in)            256\n",
       "Weather_Condition            120\n",
       "Amenity                        2\n",
       "Bump                           2\n",
       "Crossing                       2\n",
       "Give_Way                       2\n",
       "Junction                       2\n",
       "No_Exit                        2\n",
       "Railway                        2\n",
       "Roundabout                     2\n",
       "Station                        2\n",
       "Stop                           2\n",
       "Traffic_Calming                2\n",
       "Traffic_Signal                 2\n",
       "Turning_Loop                   1\n",
       "Sunrise_Sunset                 2\n",
       "Civil_Twilight                 2\n",
       "Nautical_Twilight              2\n",
       "Astronomical_Twilight          2\n",
       "dtype: int64"
      ]
     },
     "execution_count": 11,
     "metadata": {},
     "output_type": "execute_result"
    }
   ],
   "source": [
    "df.nunique()"
   ]
  },
  {
   "cell_type": "markdown",
   "metadata": {},
   "source": [
    "From the information above the following fields need further investigation to determine removal or cleanup:\n",
    "- Wind_Direction\n",
    "- Source\n",
    "- Description\n",
    "- ZipCode\n",
    "- Weather Timestamp\n",
    "\n",
    "We'll also use this an an opportunity to clean up the multiple captures of sunrise/sunset features. We'll pair this down to just the sunrise/sunset feature and add the others to out list of columns to remove."
   ]
  },
  {
   "cell_type": "code",
   "execution_count": 12,
   "metadata": {},
   "outputs": [
    {
     "name": "stdout",
     "output_type": "stream",
     "text": [
      "['MapQuest' 'MapQuest-Bing' 'Bing']\n"
     ]
    },
    {
     "data": {
      "text/plain": [
       "['TMC',\n",
       " 'End_Lat',\n",
       " 'End_Lng',\n",
       " 'Number',\n",
       " 'Source',\n",
       " 'Description',\n",
       " 'Weather_Timestamp',\n",
       " 'Street',\n",
       " 'Civil_Twilight',\n",
       " 'Nautical_Twilight',\n",
       " 'Astronomical_Twilight']"
      ]
     },
     "execution_count": 12,
     "metadata": {},
     "output_type": "execute_result"
    }
   ],
   "source": [
    "#Add items to the remove list\n",
    "#Look at the sources\n",
    "print(df.Source.unique())\n",
    "\n",
    "#There are only three sources and they more than likely have no bearing on analysis. Add them to the remove list\n",
    "removelist.append('Source')\n",
    "\n",
    "#The description field is largely text descriptors of the accidents. \n",
    "removelist.append('Description')\n",
    "\n",
    "#The weather timestamp is just timing for when the weather report was used.\n",
    "removelist.append('Weather_Timestamp')\n",
    "\n",
    "#The street field is another field for removal. Focus is more at city/county/state level\n",
    "removelist.append('Street')\n",
    "\n",
    "#There are multiple versions of the different sunrise/sunset features. Filter down to just sunrise/sunset for analysis\n",
    "removelist.append('Civil_Twilight')\n",
    "removelist.append('Nautical_Twilight')\n",
    "removelist.append('Astronomical_Twilight')\n",
    "\n",
    "#verify fields were added to the list\n",
    "removelist"
   ]
  },
  {
   "cell_type": "code",
   "execution_count": 13,
   "metadata": {},
   "outputs": [
    {
     "name": "stdout",
     "output_type": "stream",
     "text": [
      "['Calm' 'SW' 'SSW' 'WSW' 'WNW' 'NW' 'West' 'NNW' 'NNE' 'South' 'North'\n",
      " 'Variable' 'SE' 'SSE' 'ESE' 'East' 'NE' 'ENE' 'E' 'W' nan 'S' 'VAR'\n",
      " 'CALM' 'N']\n",
      "['Calm' 'SW' 'SSW' 'WSW' 'WNW' 'NW' 'W' 'NNW' 'NNE' 'S' 'N' 'VAR' 'SE'\n",
      " 'SSE' 'ESE' 'E' 'NE' 'ENE' nan 'CALM']\n"
     ]
    }
   ],
   "source": [
    "#clean up inconsistencies in the data. \n",
    "#Make the wind direction values consistent. Look at the values to determine uniqueness.\n",
    "print(df.Wind_Direction.unique())\n",
    "df.Wind_Direction = df.Wind_Direction.replace('South','S')\n",
    "df.Wind_Direction = df.Wind_Direction.replace('North','N')\n",
    "df.Wind_Direction = df.Wind_Direction.replace('West','W')\n",
    "df.Wind_Direction = df.Wind_Direction.replace('East','E')\n",
    "df.Wind_Direction = df.Wind_Direction.replace('Variable','VAR')\n",
    "(print(df.Wind_Direction.unique()))\n",
    "\n",
    "#Zipcodes are a mix of 5-digit and Zip+4 values. Go ahead and make them all 5-digit zipcodes to consistency\n",
    "df.Zipcode = df.Zipcode.str.slice(0,5,1)"
   ]
  },
  {
   "cell_type": "markdown",
   "metadata": {},
   "source": [
    "Wind Direction and Zipcode values are now constent. We will still need to address the missing values, but will come back to those as we make more decisions"
   ]
  },
  {
   "cell_type": "markdown",
   "metadata": {},
   "source": [
    "For better data understanding we also want to rename some columns that may be confusing specifically:\n",
    "\n",
    "- Amenity - this will be renamed PointOfInterest to better reflect what it is\n",
    "- Give_Way - this will be renamed to Yield"
   ]
  },
  {
   "cell_type": "code",
   "execution_count": 14,
   "metadata": {},
   "outputs": [
    {
     "data": {
      "text/plain": [
       "ID                        object\n",
       "Source                    object\n",
       "TMC                      float64\n",
       "Severity                   int64\n",
       "Start_Time                object\n",
       "End_Time                  object\n",
       "Start_Lat                float64\n",
       "Start_Lng                float64\n",
       "End_Lat                  float64\n",
       "End_Lng                  float64\n",
       "Distance(mi)             float64\n",
       "Description               object\n",
       "Number                   float64\n",
       "Street                    object\n",
       "Side                      object\n",
       "City                      object\n",
       "County                    object\n",
       "State                     object\n",
       "Zipcode                   object\n",
       "Country                   object\n",
       "Timezone                  object\n",
       "Airport_Code              object\n",
       "Weather_Timestamp         object\n",
       "Temperature(F)           float64\n",
       "Wind_Chill(F)            float64\n",
       "Humidity(%)              float64\n",
       "Pressure(in)             float64\n",
       "Visibility(mi)           float64\n",
       "Wind_Direction            object\n",
       "Wind_Speed(mph)          float64\n",
       "Precipitation(in)        float64\n",
       "Weather_Condition         object\n",
       "PointOfInterest             bool\n",
       "Bump                        bool\n",
       "Crossing                    bool\n",
       "Yield                       bool\n",
       "Junction                    bool\n",
       "No_Exit                     bool\n",
       "Railway                     bool\n",
       "Roundabout                  bool\n",
       "Station                     bool\n",
       "Stop                        bool\n",
       "Traffic_Calming             bool\n",
       "Traffic_Signal              bool\n",
       "Turning_Loop                bool\n",
       "Sunrise_Sunset            object\n",
       "Civil_Twilight            object\n",
       "Nautical_Twilight         object\n",
       "Astronomical_Twilight     object\n",
       "dtype: object"
      ]
     },
     "execution_count": 14,
     "metadata": {},
     "output_type": "execute_result"
    }
   ],
   "source": [
    "#Convert column names as described above and verify\n",
    "df.rename(columns={'Amenity':'PointOfInterest'},inplace=True)\n",
    "df.rename(columns={'Give_Way':'Yield'},inplace=True)\n",
    "df.dtypes"
   ]
  },
  {
   "cell_type": "markdown",
   "metadata": {},
   "source": [
    "Now that the data is relatively clean, let's add a additional columns to help with further data visualizations. Perform the follwing tasks:\n",
    "\n",
    "- break the accident start time into component parts of year, month, day, hour, minute, second\n",
    "- break the accident end time into component parts of year, month, day, hous, minute, second\n",
    "- create a new feature for accident duration\n",
    "\n",
    "As part of the feature build out ensure we that we don't create any invalid values and clean up times when we do have invaid values"
   ]
  },
  {
   "cell_type": "code",
   "execution_count": 15,
   "metadata": {},
   "outputs": [],
   "source": [
    "#Add additional features for breaking apart time for EDA\n",
    "df['Start_Time'] = pd.to_datetime(df['Start_Time'], errors='coerce')\n",
    "df['End_Time'] = pd.to_datetime(df['End_Time'], errors='coerce')\n",
    "\n",
    "# Extract year, month, day, hour and weekday for Start values\n",
    "df['Start_Year']=df['Start_Time'].dt.year\n",
    "df['Start_Month']=df['Start_Time'].dt.strftime('%b')\n",
    "df['Start_Day']=df['Start_Time'].dt.day\n",
    "df['Start_Hour']=df['Start_Time'].dt.hour\n",
    "df['Start_Weekday']=df['Start_Time'].dt.strftime('%a')\n",
    "df['Start_Date']=df['Start_Time'].dt.date\n",
    "\n",
    "# Extract year, month, day, hour and weekday for End values\n",
    "df['End_Year']=df['End_Time'].dt.year\n",
    "df['End_Month']=df['End_Time'].dt.strftime('%b')\n",
    "df['End_Day']=df['End_Time'].dt.day\n",
    "df['End_Hour']=df['End_Time'].dt.hour\n",
    "df['End_Weekday']=df['End_Time'].dt.strftime('%a')\n",
    "df['End_Date']=df['Start_Time'].dt.date\n",
    "\n",
    "# Extract the amount of time in the unit of minutes for each accident, round to the nearest integer\n",
    "df['Time_Duration(min)']=round((df['End_Time']-df['Start_Time'])/np.timedelta64(1,'m'))"
   ]
  },
  {
   "cell_type": "code",
   "execution_count": 16,
   "metadata": {},
   "outputs": [
    {
     "data": {
      "text/plain": [
       "69719      -0.0\n",
       "69720      -0.0\n",
       "69721      -0.0\n",
       "69722      -1.0\n",
       "69723      -1.0\n",
       "309387    -30.0\n",
       "309388    -30.0\n",
       "628436    -12.0\n",
       "628472    -31.0\n",
       "628489     -0.0\n",
       "628923    -14.0\n",
       "628942     -0.0\n",
       "628943    -30.0\n",
       "1265261   -30.0\n",
       "1265262   -31.0\n",
       "2002026   -30.0\n",
       "2002111   -30.0\n",
       "2002112   -31.0\n",
       "2565229   -34.0\n",
       "2565705    -7.0\n",
       "2565708    -7.0\n",
       "2693474   -31.0\n",
       "Name: Time_Duration(min), dtype: float64"
      ]
     },
     "execution_count": 16,
     "metadata": {},
     "output_type": "execute_result"
    }
   ],
   "source": [
    "#Check for invalid time durations\n",
    "df['Time_Duration(min)'][df['Time_Duration(min)']<=0]"
   ]
  },
  {
   "cell_type": "code",
   "execution_count": 17,
   "metadata": {},
   "outputs": [
    {
     "name": "stdout",
     "output_type": "stream",
     "text": [
      "<class 'pandas.core.frame.DataFrame'>\n",
      "Int64Index: 2974313 entries, 0 to 2974334\n",
      "Data columns (total 62 columns):\n",
      " #   Column                 Dtype         \n",
      "---  ------                 -----         \n",
      " 0   ID                     object        \n",
      " 1   Source                 object        \n",
      " 2   TMC                    float64       \n",
      " 3   Severity               float64       \n",
      " 4   Start_Time             datetime64[ns]\n",
      " 5   End_Time               datetime64[ns]\n",
      " 6   Start_Lat              float64       \n",
      " 7   Start_Lng              float64       \n",
      " 8   End_Lat                float64       \n",
      " 9   End_Lng                float64       \n",
      " 10  Distance(mi)           float64       \n",
      " 11  Description            object        \n",
      " 12  Number                 float64       \n",
      " 13  Street                 object        \n",
      " 14  Side                   object        \n",
      " 15  City                   object        \n",
      " 16  County                 object        \n",
      " 17  State                  object        \n",
      " 18  Zipcode                object        \n",
      " 19  Country                object        \n",
      " 20  Timezone               object        \n",
      " 21  Airport_Code           object        \n",
      " 22  Weather_Timestamp      object        \n",
      " 23  Temperature(F)         float64       \n",
      " 24  Wind_Chill(F)          float64       \n",
      " 25  Humidity(%)            float64       \n",
      " 26  Pressure(in)           float64       \n",
      " 27  Visibility(mi)         float64       \n",
      " 28  Wind_Direction         object        \n",
      " 29  Wind_Speed(mph)        float64       \n",
      " 30  Precipitation(in)      float64       \n",
      " 31  Weather_Condition      object        \n",
      " 32  PointOfInterest        float64       \n",
      " 33  Bump                   float64       \n",
      " 34  Crossing               float64       \n",
      " 35  Yield                  float64       \n",
      " 36  Junction               float64       \n",
      " 37  No_Exit                float64       \n",
      " 38  Railway                float64       \n",
      " 39  Roundabout             float64       \n",
      " 40  Station                float64       \n",
      " 41  Stop                   float64       \n",
      " 42  Traffic_Calming        float64       \n",
      " 43  Traffic_Signal         float64       \n",
      " 44  Turning_Loop           float64       \n",
      " 45  Sunrise_Sunset         object        \n",
      " 46  Civil_Twilight         object        \n",
      " 47  Nautical_Twilight      object        \n",
      " 48  Astronomical_Twilight  object        \n",
      " 49  Start_Year             float64       \n",
      " 50  Start_Month            object        \n",
      " 51  Start_Day              float64       \n",
      " 52  Start_Hour             float64       \n",
      " 53  Start_Weekday          object        \n",
      " 54  Start_Date             object        \n",
      " 55  End_Year               float64       \n",
      " 56  End_Month              object        \n",
      " 57  End_Day                float64       \n",
      " 58  End_Hour               float64       \n",
      " 59  End_Weekday            object        \n",
      " 60  End_Date               object        \n",
      " 61  Time_Duration(min)     float64       \n",
      "dtypes: datetime64[ns](2), float64(35), object(25)\n",
      "memory usage: 1.4+ GB\n"
     ]
    }
   ],
   "source": [
    "# Drop the rows with td<0\n",
    "\n",
    "neg_outliers=df['Time_Duration(min)']<=0\n",
    "\n",
    "# Set outliers to NAN\n",
    "df[neg_outliers] = np.nan\n",
    "\n",
    "# Drop rows with negative time durations\n",
    "df.dropna(subset=['Time_Duration(min)'],axis=0,inplace=True)\n",
    "df.info()"
   ]
  },
  {
   "cell_type": "code",
   "execution_count": 18,
   "metadata": {},
   "outputs": [],
   "source": [
    "# Remove outliers for Time_Duration(min): n * standard_deviation (n=3), backfill with median\n",
    "n=3\n",
    "\n",
    "median = df['Time_Duration(min)'].median()\n",
    "std = df['Time_Duration(min)'].std()\n",
    "outliers = (df['Time_Duration(min)'] - median).abs() > std*n\n",
    "\n",
    "# Set outliers to NAN\n",
    "df[outliers] = np.nan\n",
    "\n",
    "# Fill NAN with median\n",
    "df['Time_Duration(min)'].fillna(median, inplace=True)"
   ]
  },
  {
   "cell_type": "markdown",
   "metadata": {},
   "source": [
    "In reviewing the Weather Condition column there seems to be a lot of different categorization for the same types of weather conditions. For example, Thunderstorms are listed as \"Thunderstorms\", \"T-Storm\", \"Heavy T-Storm\", etc. To make the analysis easier we've build out a dictionary that collapses these weather condition into common values for easier analysis"
   ]
  },
  {
   "cell_type": "code",
   "execution_count": 19,
   "metadata": {},
   "outputs": [
    {
     "name": "stdout",
     "output_type": "stream",
     "text": [
      "['Light Rain' 'Overcast' 'Mostly Cloudy' 'Rain' 'Light Snow' 'Haze'\n",
      " 'Scattered Clouds' 'Partly Cloudy' 'Clear' 'Snow'\n",
      " 'Light Freezing Drizzle' 'Light Drizzle' 'Fog' 'Shallow Fog' 'Heavy Rain'\n",
      " 'Light Freezing Rain' 'Cloudy' 'Drizzle' nan 'Light Rain Showers' 'Mist'\n",
      " 'Smoke' 'Patches of Fog' 'Light Freezing Fog' 'Light Haze'\n",
      " 'Light Thunderstorms and Rain' 'Thunderstorms and Rain' 'Fair'\n",
      " 'Volcanic Ash' 'Blowing Sand' 'Blowing Dust / Windy' 'Widespread Dust'\n",
      " 'Fair / Windy' 'Rain Showers' 'Mostly Cloudy / Windy'\n",
      " 'Light Rain / Windy' 'Hail' 'Heavy Drizzle' 'Showers in the Vicinity'\n",
      " 'Thunderstorm' 'Light Rain Shower' 'Light Rain with Thunder'\n",
      " 'Partly Cloudy / Windy' 'Thunder in the Vicinity' 'T-Storm'\n",
      " 'Heavy Thunderstorms and Rain' 'Thunder' 'Heavy T-Storm' 'Funnel Cloud'\n",
      " 'Heavy T-Storm / Windy' 'Blowing Snow' 'Light Thunderstorms and Snow'\n",
      " 'Heavy Snow' 'Low Drifting Snow' 'Light Ice Pellets' 'Ice Pellets'\n",
      " 'Squalls' 'N/A Precipitation' 'Cloudy / Windy' 'Light Fog' 'Sand'\n",
      " 'Snow Grains' 'Snow Showers' 'Heavy Thunderstorms and Snow'\n",
      " 'Rain / Windy' 'Heavy Rain / Windy' 'Heavy Ice Pellets'\n",
      " 'Light Snow / Windy' 'Heavy Freezing Rain' 'Small Hail'\n",
      " 'Heavy Rain Showers' 'Wintry Mix' 'Freezing Rain' 'Snow / Windy'\n",
      " 'Snow and Sleet' 'Sleet' 'Light Drizzle / Windy'\n",
      " 'Light Freezing Rain / Windy' 'Light Sleet' 'Heavy Sleet'\n",
      " 'Wintry Mix / Windy' 'Light Snow Shower' 'Drizzle and Fog'\n",
      " 'T-Storm / Windy' 'Heavy Snow / Windy' 'Fog / Windy'\n",
      " 'Light Snow and Sleet' 'Light Snow Grains' 'Thunder / Windy'\n",
      " 'Haze / Windy' 'Sand / Dust Whirlwinds' 'Blowing Dust'\n",
      " 'Light Rain Shower / Windy' 'Squalls / Windy' 'Drizzle / Windy'\n",
      " 'Partial Fog / Windy' 'Light Snow with Thunder' 'Blowing Snow / Windy'\n",
      " 'Partial Fog' 'Rain Shower' 'Widespread Dust / Windy'\n",
      " 'Sand / Dust Whirlwinds / Windy' 'Tornado' 'Snow and Thunder'\n",
      " 'Light Snow and Sleet / Windy' 'Snow and Sleet / Windy'\n",
      " 'Heavy Snow with Thunder' 'Thunder / Wintry Mix / Windy'\n",
      " 'Light Snow Showers' 'Heavy Blowing Snow' 'Light Hail' 'Heavy Smoke'\n",
      " 'Heavy Thunderstorms with Small Hail' 'Light Thunderstorm'\n",
      " 'Heavy Freezing Drizzle' 'Light Blowing Snow' 'Thunderstorms and Snow'\n",
      " 'Smoke / Windy' 'Freezing Rain / Windy' 'Dust Whirls'\n",
      " 'Thunder and Hail / Windy']\n",
      "{'Clear': 'Clear', 'Mostly Cloudy': 'Cloudy', 'Overcast': 'Cloudy', 'Fair': 'Clear', 'Partly Cloudy': 'Cloudy', 'Scattered Clouds': 'Cloudy', 'Light Rain': 'Rainy', 'Cloudy': 'Cloudy', 'Light Snow': 'Snowy', 'Haze': 'Fog', 'Rain': 'Rainy', 'Fog': 'Fog', 'Heavy Rain': 'Rainy', 'Light Drizzle': 'Rainy', 'Light Thunderstorms and Rain': 'Rainy', 'Snow': 'Snowy', 'Thunderstorm': 'Rainy', 'Fair / Windy': 'Clear/Windy', 'Smoke': 'Smoke', 'Heavy Thunderstorms and Rain': 'Rainy', 'Patches of Fog': 'Fog', 'Thunderstorms and Rain': 'Rainy', 'Mist': 'Rainy', 'Thunder in the Vicinity': 'Rainy', 'T-Storm': 'Rainy', 'Light Freezing Rain': 'Icy', 'Cloudy / Windy': 'Cloudy/Windy', 'Drizzle': 'Rainy', 'Mostly Cloudy / Windy': 'Cloudy/Windy', 'Light Rain with Thunder': 'Rainy', 'Thunder': 'Rainy', 'Partly Cloudy / Windy': 'Cloudy/Windy', 'Heavy T-Storm': 'Rainy', 'Heavy Snow': 'Snowy', 'Shallow Fog': 'Fog', 'Light Rain / Windy': 'Rain/Windy', 'Light Freezing Fog': 'Fog', 'Wintry Mix': 'Icy', 'Light Freezing Drizzle': 'Icy', 'Light Snow / Windy': 'Snow/Windy', 'Rain / Windy': 'Rain/Windy', 'Blowing Snow': 'Snowy', 'Showers in the Vicinity': 'Rainy', 'Light Ice Pellets': 'Icy', 'Heavy Drizzle': 'Rainy', 'N/A Precipitation': 'Clear', 'Heavy Rain / Windy': 'Rain/Windy', 'Light Rain Showers': 'Rainy', 'Heavy T-Storm / Windy': 'Rain/Windy', 'Widespread Dust': 'Dust', 'T-Storm / Windy': 'Rainy', 'Rain Showers': 'Rainy', 'Ice Pellets': 'Icy', 'Thunder / Windy': 'Rainy', 'Haze / Windy': 'Fog', 'Drizzle and Fog': 'Fog', 'Blowing Dust / Windy': 'Dust/Windy', 'Fog / Windy': 'Fog/Windy', 'Light Rain Shower': 'Rainy', 'Snow / Windy': 'Snow/Windy', 'Blowing Dust': 'Dust', 'Small Hail': 'Icy', 'Light Drizzle / Windy': 'Rain/Windy', 'Sand / Dust Whirlwinds': 'Dust/Windy', 'Squalls': 'Rain/Windy', 'Light Snow Showers': 'Snowy', 'Heavy Snow / Windy': 'Snow/Windy', 'Light Thunderstorms and Snow': 'Rain/Snow', 'Volcanic Ash': 'Ash', 'Wintry Mix / Windy': 'Icy/Windy', 'Funnel Cloud': 'Tornado', 'Sand': 'Sand', 'Freezing Rain': 'Icy', 'Blowing Snow / Windy': 'Snow/Windy', 'Partial Fog': 'Fog', 'Light Haze': 'Fog', 'Snow and Sleet / Windy': 'Icy/Windy', 'Light Snow with Thunder': 'Snow', 'Light Snow and Sleet': 'Icy/Snow', 'Snow and Sleet': 'Icy/Snow', 'Heavy Rain Showers': 'Rain', 'Heavy Thunderstorms with Small Hail': 'Rain', 'Smoke / Windy': 'Smoke/Windy', 'Heavy Sleet': 'Icy', 'Light Snow Grains': 'Snow', 'Rain Shower': 'Rain', 'Light Freezing Rain / Windy': 'Icy/Windy', 'Heavy Snow with Thunder': 'Snow', 'Squalls / Windy': 'Rain/Windy', 'Low Drifting Snow': 'Snow', 'Heavy Thunderstorms and Snow': 'Snow', 'Light Sleet': 'Icy', 'Drizzle / Windy': 'Rain/Windy', 'Snow Grains': 'Snow', 'Heavy Ice Pellets': 'Icy', 'Heavy Blowing Snow': 'Snow/Windy', 'Light Snow and Sleet / Windy': 'Snow/Windy', 'Light Fog': 'Fog', 'Thunderstorms and Snow': 'Snow', 'Light Thunderstorm': 'Rain', 'Light Hail': 'Icy', 'Tornado': 'Tornado', 'Light Blowing Snow': 'Snow', 'Sleet': 'Icy', 'Heavy Freezing Drizzle': 'Icy', 'Heavy Freezing Rain': 'Icy', 'Hail': 'Icy', 'Sand / Dust Whirlwinds / Windy': 'Dust/Windy', 'Snow Showers': 'Snow', 'Freezing Rain / Windy': 'Icy/Windy', 'Dust Whirls': 'Dust', 'Blowing Sand': 'Sand/Windy', 'Thunder / Wintry Mix / Windy': 'Icy/Windy', 'Widespread Dust / Windy': 'Dust/Windy', 'Partial Fog / Windy': 'Fog/Windy', 'Light Rain Shower / Windy': 'Rain/Windy', 'Heavy Smoke': 'Smoke', 'Snow and Thunder': 'Snowy', 'Light Snow Shower': 'Snowy', 'Thunder and Hail / Windy': 'Rain/Windy'}\n",
      "['Rainy' 'Cloudy' 'Snowy' 'Fog' 'Clear' 'Icy' nan 'Smoke' 'Ash'\n",
      " 'Sand/Windy' 'Dust/Windy' 'Dust' 'Clear/Windy' 'Cloudy/Windy'\n",
      " 'Rain/Windy' 'Tornado' 'Rain/Snow' 'Snow' 'Sand' 'Snow/Windy' 'Rain'\n",
      " 'Icy/Snow' 'Icy/Windy' 'Fog/Windy' 'Smoke/Windy']\n"
     ]
    }
   ],
   "source": [
    "df['Weather_Condition_Collapsed'] = df['Weather_Condition']\n",
    "print(df['Weather_Condition_Collapsed'].unique())\n",
    "\n",
    "WeatherDic = {}\n",
    "\n",
    "with open(weatherDic) as f:\n",
    "    for line in f:\n",
    "        (key, val) = line.split(\",\")\n",
    "        WeatherDic[key] = val.strip()\n",
    "\n",
    "print (WeatherDic)\n",
    "\n",
    "df.Weather_Condition_Collapsed.replace(WeatherDic,inplace=True)\n",
    "\n",
    "#add the original weather condition value to the list of columns to remove.\n",
    "removelist.append('Weather_Condition')\n",
    "\n",
    "(print(df['Weather_Condition_Collapsed'].unique()))"
   ]
  },
  {
   "cell_type": "markdown",
   "metadata": {},
   "source": [
    "We've also selected the state of Texas as our primary state of interest for this analysis. We chose a single state because we felt that traffic accidents and patterns can vary heavily from state to state; some states have longer streches of rural driving vs others that may have more city driving. As a result, the potential features related to accident severity and backups created from those accidents could vary widely. We chose Texas to focus our analysis on because we felt it has a good mix of rural and urban driving conditions. \n",
    "\n",
    "With this in mind filter the data set down to just TX data. Also, now that we've filtered down to one state, we can add the state column to our list of columns to remove."
   ]
  },
  {
   "cell_type": "code",
   "execution_count": 20,
   "metadata": {},
   "outputs": [
    {
     "data": {
      "text/plain": [
       "(298058, 63)"
      ]
     },
     "execution_count": 20,
     "metadata": {},
     "output_type": "execute_result"
    }
   ],
   "source": [
    "df = df[df['State'] == 'TX']\n",
    "removelist.append('State')\n",
    "df.shape"
   ]
  },
  {
   "cell_type": "markdown",
   "metadata": {},
   "source": [
    "As noted above some fields have missing values. Those fields are:\n",
    "\n",
    "- Wind Chill\n",
    "- Precipitation\n",
    "- Visibility\n",
    "- Humidity\n",
    "- Temperature\n",
    "- Pressure\n",
    "- Wind_Speed\n",
    "\n",
    "Since this is weather information that is missing we'll use the median values for imputation of missing values. To help with making this imputation as accurate as possible we'll need to look at the state and month. We've already filtered by state so we won't need to take this into account. We will need to manage the values by month. This will allow for to to get monthly averages that should be more accurate."
   ]
  },
  {
   "cell_type": "code",
   "execution_count": 22,
   "metadata": {},
   "outputs": [
    {
     "name": "stderr",
     "output_type": "stream",
     "text": [
      "/home/jbcroom/anaconda3/lib/python3.7/site-packages/tqdm/std.py:658: FutureWarning: The Panel class is removed from pandas. Accessing it from the top-level namespace will also be removed in the next version\n",
      "  from pandas import Panel\n"
     ]
    },
    {
     "data": {
      "application/vnd.jupyter.widget-view+json": {
       "model_id": "edc9112928e74891a7a4f1db3daea076",
       "version_major": 2,
       "version_minor": 0
      },
      "text/plain": [
       "HBox(children=(FloatProgress(value=0.0, description='Pandas Apply', max=298058.0, style=ProgressStyle(descript…"
      ]
     },
     "metadata": {},
     "output_type": "display_data"
    },
    {
     "name": "stdout",
     "output_type": "stream",
     "text": [
      "\n"
     ]
    },
    {
     "data": {
      "application/vnd.jupyter.widget-view+json": {
       "model_id": "2ae564fa5f01429d9b53668c8bfb7113",
       "version_major": 2,
       "version_minor": 0
      },
      "text/plain": [
       "HBox(children=(FloatProgress(value=0.0, description='Pandas Apply', max=298058.0, style=ProgressStyle(descript…"
      ]
     },
     "metadata": {},
     "output_type": "display_data"
    },
    {
     "name": "stdout",
     "output_type": "stream",
     "text": [
      "\n"
     ]
    },
    {
     "data": {
      "application/vnd.jupyter.widget-view+json": {
       "model_id": "561ba170287c4da5904ec9a70e825686",
       "version_major": 2,
       "version_minor": 0
      },
      "text/plain": [
       "HBox(children=(FloatProgress(value=0.0, description='Pandas Apply', max=298058.0, style=ProgressStyle(descript…"
      ]
     },
     "metadata": {},
     "output_type": "display_data"
    },
    {
     "name": "stdout",
     "output_type": "stream",
     "text": [
      "\n"
     ]
    },
    {
     "data": {
      "application/vnd.jupyter.widget-view+json": {
       "model_id": "d1b91d042f86490b8ab889f44bf263df",
       "version_major": 2,
       "version_minor": 0
      },
      "text/plain": [
       "HBox(children=(FloatProgress(value=0.0, description='Pandas Apply', max=298058.0, style=ProgressStyle(descript…"
      ]
     },
     "metadata": {},
     "output_type": "display_data"
    },
    {
     "name": "stdout",
     "output_type": "stream",
     "text": [
      "\n"
     ]
    }
   ],
   "source": [
    "medianTempByMonth = df.groupby(['Start_Month'])['Temperature(F)'].median()\n",
    "medianPrecipByMonth  = df.groupby(['Start_Month'])['Precipitation(in)'].median()\n",
    "medianPressureByMonth  = df.groupby(['Start_Month'])['Pressure(in)'].median()\n",
    "medianWindChillByMonth  = df.groupby(['Start_Month'])['Wind_Chill(F)'].median() \n",
    "medianVisByMonth  = df.groupby(['Start_Month'])['Visibility(mi)'].median()\n",
    "medianWindSpeedByMonth  = df.groupby(['Start_Month'])['Wind_Speed(mph)'].median()\n",
    "medianHumidityByMonth  = df.groupby(['Start_Month'])['Humidity(%)'].median()\n",
    "\n",
    "df.loc[pd.isnull(df['Temperature(F)']),'Temperature(F)'] = df.swifter.apply(getMedianTemp, axis=1)\n",
    "df.loc[pd.isnull(df['Precipitation(in)']),'Precipitation(in)'] = df.swifter.apply(getMedianPrecip,axis=1)\n",
    "df.loc[pd.isnull(df['Pressure(in)']),'Pressure(in)'] = df.apply(getMedianPressure,axis=1)\n",
    "df.loc[pd.isnull(df['Wind_Chill(F)']),'Wind_Chill(F)'] = df.apply(getMedianWindChill,axis=1)\n",
    "df.loc[pd.isnull(df['Visibility(mi)']),'Visibility(mi)'] = df.apply(getMedianVis,axis=1)\n",
    "df.loc[pd.isnull(df['Wind_Speed(mph)']),'Wind_Speed(mph)'] = df.swifter.apply(getMedianWindSpeed,axis=1)\n",
    "df.loc[pd.isnull(df['Humidity(%)']),'Humidity(%)'] = df.swifter.apply(getMedianHumidity,axis=1)\n",
    "  "
   ]
  },
  {
   "cell_type": "markdown",
   "metadata": {},
   "source": [
    "Double check for any additional missing items that we need to address."
   ]
  },
  {
   "cell_type": "code",
   "execution_count": 23,
   "metadata": {},
   "outputs": [
    {
     "data": {
      "text/html": [
       "<div>\n",
       "<style scoped>\n",
       "    .dataframe tbody tr th:only-of-type {\n",
       "        vertical-align: middle;\n",
       "    }\n",
       "\n",
       "    .dataframe tbody tr th {\n",
       "        vertical-align: top;\n",
       "    }\n",
       "\n",
       "    .dataframe thead th {\n",
       "        text-align: right;\n",
       "    }\n",
       "</style>\n",
       "<table border=\"1\" class=\"dataframe\">\n",
       "  <thead>\n",
       "    <tr style=\"text-align: right;\">\n",
       "      <th></th>\n",
       "      <th>columns_name</th>\n",
       "      <th>missing_count</th>\n",
       "      <th>missing_ratio</th>\n",
       "    </tr>\n",
       "  </thead>\n",
       "  <tbody>\n",
       "    <tr>\n",
       "      <th>2</th>\n",
       "      <td>TMC</td>\n",
       "      <td>39697</td>\n",
       "      <td>0.133185</td>\n",
       "    </tr>\n",
       "    <tr>\n",
       "      <th>8</th>\n",
       "      <td>End_Lat</td>\n",
       "      <td>258361</td>\n",
       "      <td>0.866815</td>\n",
       "    </tr>\n",
       "    <tr>\n",
       "      <th>9</th>\n",
       "      <td>End_Lng</td>\n",
       "      <td>258361</td>\n",
       "      <td>0.866815</td>\n",
       "    </tr>\n",
       "    <tr>\n",
       "      <th>11</th>\n",
       "      <td>Description</td>\n",
       "      <td>1</td>\n",
       "      <td>0.000003</td>\n",
       "    </tr>\n",
       "    <tr>\n",
       "      <th>12</th>\n",
       "      <td>Number</td>\n",
       "      <td>175967</td>\n",
       "      <td>0.590378</td>\n",
       "    </tr>\n",
       "    <tr>\n",
       "      <th>20</th>\n",
       "      <td>Timezone</td>\n",
       "      <td>25</td>\n",
       "      <td>0.000084</td>\n",
       "    </tr>\n",
       "    <tr>\n",
       "      <th>21</th>\n",
       "      <td>Airport_Code</td>\n",
       "      <td>25</td>\n",
       "      <td>0.000084</td>\n",
       "    </tr>\n",
       "    <tr>\n",
       "      <th>22</th>\n",
       "      <td>Weather_Timestamp</td>\n",
       "      <td>4791</td>\n",
       "      <td>0.016074</td>\n",
       "    </tr>\n",
       "    <tr>\n",
       "      <th>28</th>\n",
       "      <td>Wind_Direction</td>\n",
       "      <td>5117</td>\n",
       "      <td>0.017168</td>\n",
       "    </tr>\n",
       "    <tr>\n",
       "      <th>31</th>\n",
       "      <td>Weather_Condition</td>\n",
       "      <td>6763</td>\n",
       "      <td>0.022690</td>\n",
       "    </tr>\n",
       "    <tr>\n",
       "      <th>62</th>\n",
       "      <td>Weather_Condition_Collapsed</td>\n",
       "      <td>6763</td>\n",
       "      <td>0.022690</td>\n",
       "    </tr>\n",
       "  </tbody>\n",
       "</table>\n",
       "</div>"
      ],
      "text/plain": [
       "                   columns_name  missing_count  missing_ratio\n",
       "2                           TMC          39697       0.133185\n",
       "8                       End_Lat         258361       0.866815\n",
       "9                       End_Lng         258361       0.866815\n",
       "11                  Description              1       0.000003\n",
       "12                       Number         175967       0.590378\n",
       "20                     Timezone             25       0.000084\n",
       "21                 Airport_Code             25       0.000084\n",
       "22            Weather_Timestamp           4791       0.016074\n",
       "28               Wind_Direction           5117       0.017168\n",
       "31            Weather_Condition           6763       0.022690\n",
       "62  Weather_Condition_Collapsed           6763       0.022690"
      ]
     },
     "execution_count": 23,
     "metadata": {},
     "output_type": "execute_result"
    }
   ],
   "source": [
    "#Get table listing of missing values\n",
    "checkMissingValues(df,0.00)"
   ]
  },
  {
   "cell_type": "markdown",
   "metadata": {},
   "source": [
    "Now that all fields have been corrected and columns also identified for removal, proceed with removal of the data fields and verify the shape to show they were dropped"
   ]
  },
  {
   "cell_type": "code",
   "execution_count": 24,
   "metadata": {},
   "outputs": [
    {
     "name": "stdout",
     "output_type": "stream",
     "text": [
      "(298058, 50)\n",
      "ID                                     object\n",
      "Severity                              float64\n",
      "Start_Time                     datetime64[ns]\n",
      "End_Time                       datetime64[ns]\n",
      "Start_Lat                             float64\n",
      "Start_Lng                             float64\n",
      "Distance(mi)                          float64\n",
      "Side                                   object\n",
      "City                                   object\n",
      "County                                 object\n",
      "Zipcode                                object\n",
      "Country                                object\n",
      "Timezone                               object\n",
      "Airport_Code                           object\n",
      "Temperature(F)                        float64\n",
      "Wind_Chill(F)                         float64\n",
      "Humidity(%)                           float64\n",
      "Pressure(in)                          float64\n",
      "Visibility(mi)                        float64\n",
      "Wind_Direction                         object\n",
      "Wind_Speed(mph)                       float64\n",
      "Precipitation(in)                     float64\n",
      "PointOfInterest                       float64\n",
      "Bump                                  float64\n",
      "Crossing                              float64\n",
      "Yield                                 float64\n",
      "Junction                              float64\n",
      "No_Exit                               float64\n",
      "Railway                               float64\n",
      "Roundabout                            float64\n",
      "Station                               float64\n",
      "Stop                                  float64\n",
      "Traffic_Calming                       float64\n",
      "Traffic_Signal                        float64\n",
      "Turning_Loop                          float64\n",
      "Sunrise_Sunset                         object\n",
      "Start_Year                            float64\n",
      "Start_Month                            object\n",
      "Start_Day                             float64\n",
      "Start_Hour                            float64\n",
      "Start_Weekday                          object\n",
      "Start_Date                             object\n",
      "End_Year                              float64\n",
      "End_Month                              object\n",
      "End_Day                               float64\n",
      "End_Hour                              float64\n",
      "End_Weekday                            object\n",
      "End_Date                               object\n",
      "Time_Duration(min)                    float64\n",
      "Weather_Condition_Collapsed            object\n",
      "dtype: object\n"
     ]
    }
   ],
   "source": [
    "#drop the columns identified with limited data\n",
    "df.drop(removelist,1,inplace=True)\n",
    "\n",
    "#check the data shape\n",
    "print(df.shape)\n",
    "print(df.dtypes)"
   ]
  },
  {
   "cell_type": "markdown",
   "metadata": {},
   "source": [
    "Check to see what other values are missing. Go ahead and clean these up. We'll then verify our shape. "
   ]
  },
  {
   "cell_type": "code",
   "execution_count": 25,
   "metadata": {},
   "outputs": [
    {
     "data": {
      "text/html": [
       "<div>\n",
       "<style scoped>\n",
       "    .dataframe tbody tr th:only-of-type {\n",
       "        vertical-align: middle;\n",
       "    }\n",
       "\n",
       "    .dataframe tbody tr th {\n",
       "        vertical-align: top;\n",
       "    }\n",
       "\n",
       "    .dataframe thead th {\n",
       "        text-align: right;\n",
       "    }\n",
       "</style>\n",
       "<table border=\"1\" class=\"dataframe\">\n",
       "  <thead>\n",
       "    <tr style=\"text-align: right;\">\n",
       "      <th></th>\n",
       "      <th>columns_name</th>\n",
       "      <th>missing_count</th>\n",
       "      <th>missing_ratio</th>\n",
       "    </tr>\n",
       "  </thead>\n",
       "  <tbody>\n",
       "    <tr>\n",
       "      <th>12</th>\n",
       "      <td>Timezone</td>\n",
       "      <td>25</td>\n",
       "      <td>0.000084</td>\n",
       "    </tr>\n",
       "    <tr>\n",
       "      <th>13</th>\n",
       "      <td>Airport_Code</td>\n",
       "      <td>25</td>\n",
       "      <td>0.000084</td>\n",
       "    </tr>\n",
       "    <tr>\n",
       "      <th>19</th>\n",
       "      <td>Wind_Direction</td>\n",
       "      <td>5117</td>\n",
       "      <td>0.017168</td>\n",
       "    </tr>\n",
       "    <tr>\n",
       "      <th>49</th>\n",
       "      <td>Weather_Condition_Collapsed</td>\n",
       "      <td>6763</td>\n",
       "      <td>0.022690</td>\n",
       "    </tr>\n",
       "  </tbody>\n",
       "</table>\n",
       "</div>"
      ],
      "text/plain": [
       "                   columns_name  missing_count  missing_ratio\n",
       "12                     Timezone             25       0.000084\n",
       "13                 Airport_Code             25       0.000084\n",
       "19               Wind_Direction           5117       0.017168\n",
       "49  Weather_Condition_Collapsed           6763       0.022690"
      ]
     },
     "execution_count": 25,
     "metadata": {},
     "output_type": "execute_result"
    }
   ],
   "source": [
    "#Get table listing of missing values\n",
    "checkMissingValues(df,0.00)"
   ]
  },
  {
   "cell_type": "code",
   "execution_count": 26,
   "metadata": {},
   "outputs": [],
   "source": [
    "df.dropna(inplace=True)"
   ]
  },
  {
   "cell_type": "code",
   "execution_count": 27,
   "metadata": {},
   "outputs": [
    {
     "data": {
      "text/html": [
       "<div>\n",
       "<style scoped>\n",
       "    .dataframe tbody tr th:only-of-type {\n",
       "        vertical-align: middle;\n",
       "    }\n",
       "\n",
       "    .dataframe tbody tr th {\n",
       "        vertical-align: top;\n",
       "    }\n",
       "\n",
       "    .dataframe thead th {\n",
       "        text-align: right;\n",
       "    }\n",
       "</style>\n",
       "<table border=\"1\" class=\"dataframe\">\n",
       "  <thead>\n",
       "    <tr style=\"text-align: right;\">\n",
       "      <th></th>\n",
       "      <th>columns_name</th>\n",
       "      <th>missing_count</th>\n",
       "      <th>missing_ratio</th>\n",
       "    </tr>\n",
       "  </thead>\n",
       "  <tbody>\n",
       "  </tbody>\n",
       "</table>\n",
       "</div>"
      ],
      "text/plain": [
       "Empty DataFrame\n",
       "Columns: [columns_name, missing_count, missing_ratio]\n",
       "Index: []"
      ]
     },
     "execution_count": 27,
     "metadata": {},
     "output_type": "execute_result"
    }
   ],
   "source": [
    "#Get table listing of missing values\n",
    "checkMissingValues(df,0.00)"
   ]
  },
  {
   "cell_type": "code",
   "execution_count": 28,
   "metadata": {},
   "outputs": [
    {
     "data": {
      "text/plain": [
       "(290989, 50)"
      ]
     },
     "execution_count": 28,
     "metadata": {},
     "output_type": "execute_result"
    }
   ],
   "source": [
    "df.shape"
   ]
  },
  {
   "cell_type": "markdown",
   "metadata": {},
   "source": [
    "Now that all data is cleaned up, lets move forward with building out the necessary features for analysis and one-hot encoding the categorical variables."
   ]
  },
  {
   "cell_type": "code",
   "execution_count": 29,
   "metadata": {},
   "outputs": [],
   "source": [
    "#Take an initial pass at the features we want to run through logistic regression\n",
    "featuresList = ['Severity','Start_Lat','Start_Lng','Distance(mi)','Side','Temperature(F)','Wind_Chill(F)',\n",
    "                'Humidity(%)','Pressure(in)','Visibility(mi)','Wind_Speed(mph)','Precipitation(in)',\n",
    "                'PointOfInterest','Bump','Crossing','Yield','Junction','No_Exit','Railway',\n",
    "                'Roundabout','Station','Stop','Traffic_Calming','Traffic_Signal','Turning_Loop','Sunrise_Sunset',\n",
    "                'Start_Month','Start_Hour','Start_Weekday','Time_Duration(min)',\n",
    "                'Timezone','Start_Time','Weather_Condition_Collapsed']\n",
    "\n",
    "\n",
    "#filter down the dataframe to just the features needed. We'll create a new dataframe just to be safe\n",
    "df2 = df[featuresList]"
   ]
  },
  {
   "cell_type": "code",
   "execution_count": 30,
   "metadata": {},
   "outputs": [
    {
     "data": {
      "text/plain": [
       "Severity                                  float64\n",
       "Start_Lat                                 float64\n",
       "Start_Lng                                 float64\n",
       "Distance(mi)                              float64\n",
       "Temperature(F)                            float64\n",
       "                                           ...   \n",
       "Weather_Condition_Collapsed_Sand            uint8\n",
       "Weather_Condition_Collapsed_Smoke           uint8\n",
       "Weather_Condition_Collapsed_Snow            uint8\n",
       "Weather_Condition_Collapsed_Snow/Windy      uint8\n",
       "Weather_Condition_Collapsed_Snowy           uint8\n",
       "Length: 67, dtype: object"
      ]
     },
     "execution_count": 30,
     "metadata": {},
     "output_type": "execute_result"
    }
   ],
   "source": [
    "# transform categories into dummy numerics\n",
    "cols_to_transform = ['Side','Sunrise_Sunset','Start_Weekday','Start_Month','Weather_Condition_Collapsed']\n",
    "\n",
    "df2 = pd.get_dummies(df2, columns = cols_to_transform)\n",
    "\n",
    "#check to make sure everything transformed\n",
    "df2.dtypes"
   ]
  },
  {
   "cell_type": "code",
   "execution_count": 32,
   "metadata": {},
   "outputs": [],
   "source": [
    "df_groupedSev = df2.copy()\n",
    "df_ungroupedSev = df2.copy()\n",
    "\n",
    "# replace severity to binary\n",
    "df_groupedSev.replace([0, 1, 2, 3, 4], [0, 0, 0, 1, 1], inplace=True)"
   ]
  },
  {
   "cell_type": "code",
   "execution_count": null,
   "metadata": {},
   "outputs": [],
   "source": []
  },
  {
   "cell_type": "code",
   "execution_count": null,
   "metadata": {},
   "outputs": [],
   "source": []
  },
  {
   "cell_type": "code",
   "execution_count": null,
   "metadata": {},
   "outputs": [],
   "source": []
  },
  {
   "cell_type": "markdown",
   "metadata": {},
   "source": [
    "## Modeling and Evaluation - 50pts"
   ]
  },
  {
   "cell_type": "code",
   "execution_count": null,
   "metadata": {},
   "outputs": [],
   "source": []
  },
  {
   "cell_type": "code",
   "execution_count": null,
   "metadata": {},
   "outputs": [],
   "source": []
  },
  {
   "cell_type": "code",
   "execution_count": null,
   "metadata": {},
   "outputs": [],
   "source": []
  },
  {
   "cell_type": "markdown",
   "metadata": {},
   "source": [
    "## Deployment - 10pts"
   ]
  },
  {
   "cell_type": "code",
   "execution_count": null,
   "metadata": {},
   "outputs": [],
   "source": []
  },
  {
   "cell_type": "code",
   "execution_count": null,
   "metadata": {},
   "outputs": [],
   "source": []
  },
  {
   "cell_type": "markdown",
   "metadata": {},
   "source": [
    "## Exceptional Work - 10pts"
   ]
  },
  {
   "cell_type": "code",
   "execution_count": null,
   "metadata": {},
   "outputs": [],
   "source": []
  },
  {
   "cell_type": "code",
   "execution_count": null,
   "metadata": {},
   "outputs": [],
   "source": []
  }
 ],
 "metadata": {
  "kernelspec": {
   "display_name": "Python 3",
   "language": "python",
   "name": "python3"
  },
  "language_info": {
   "codemirror_mode": {
    "name": "ipython",
    "version": 3
   },
   "file_extension": ".py",
   "mimetype": "text/x-python",
   "name": "python",
   "nbconvert_exporter": "python",
   "pygments_lexer": "ipython3",
   "version": "3.7.6"
  }
 },
 "nbformat": 4,
 "nbformat_minor": 4
}
