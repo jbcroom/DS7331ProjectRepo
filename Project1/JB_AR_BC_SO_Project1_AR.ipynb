{
 "cells": [
  {
   "cell_type": "markdown",
   "metadata": {},
   "source": [
    "# DS 7331 - Machine Learning - Course Project\n",
    "Team: Allison Roderick, Jayson Barker, Sandesh Ojha, Brandon Croom\n",
    "Lab Number: 1"
   ]
  },
  {
   "cell_type": "markdown",
   "metadata": {},
   "source": [
    "# Business Understanding - 10 pts\n",
    "<Describe Data Here>"
   ]
  },
  {
   "cell_type": "markdown",
   "metadata": {},
   "source": [
    "# Data Understanding - 80 pts\n",
    "<Use Subsections as defined below>"
   ]
  },
  {
   "cell_type": "code",
   "execution_count": 1,
   "metadata": {
    "scrolled": true
   },
   "outputs": [],
   "source": [
    "# Import libraries for data analysis\n",
    "import numpy as np \n",
    "import pandas as pd \n",
    "import pandas_profiling\n",
    "import seaborn as sns\n",
    "import matplotlib.pyplot as plt\n",
    "import matplotlib.mlab as mlab\n",
    "from sklearn.model_selection import train_test_split\n",
    "sns.set(style=\"darkgrid\")"
   ]
  },
  {
   "cell_type": "code",
   "execution_count": 109,
   "metadata": {},
   "outputs": [],
   "source": [
    "# Load data into dataframe\n",
    "df = pd.read_csv('C:/Users/Allison/JupyterNotebook/Data/us-accidents/EDA_Dataset.csv')\n",
    "df.columns = df.columns.str.strip().str.replace(' ','_').str.replace('(','').str.replace(')','').str.replace('%','')"
   ]
  },
  {
   "cell_type": "code",
   "execution_count": 97,
   "metadata": {},
   "outputs": [
    {
     "data": {
      "text/plain": [
       "Index(['ID', 'Severity', 'Start_Date', 'Start_Time', 'End_Date', 'End_Time',\n",
       "       'Start_Lat', 'Start_Lng', 'Distancemi', 'Side', 'City', 'County',\n",
       "       'State', 'Zipcode', 'Country', 'AirportCode', 'TemperatureF',\n",
       "       'Humidity', 'Pressurein', 'Visibilitymi', 'Wind_Speedmph',\n",
       "       'Precipitationin', 'Weather_Condition', 'PointofInterest', 'Bump',\n",
       "       'Crossing', 'Yield', 'Junction', 'No_Exit', 'Railway', 'Roundabout',\n",
       "       'Station', 'Stop', 'Traffic_Calming', 'Traffic_Signal', 'Turning_Loop',\n",
       "       'Sunrise_Sunset'],\n",
       "      dtype='object')"
      ]
     },
     "execution_count": 97,
     "metadata": {},
     "output_type": "execute_result"
    }
   ],
   "source": [
    "df.columns"
   ]
  },
  {
   "cell_type": "markdown",
   "metadata": {},
   "source": [
    "## Statistics\n",
    "Below is a table of standard statistics on our non-categorical data. We also show plots plots of some of these data.\n",
    "* Higher severity accidents tend to have higher ranges for some weather data such as Temperature. This may be an issue of outliers."
   ]
  },
  {
   "cell_type": "code",
   "execution_count": 119,
   "metadata": {},
   "outputs": [
    {
     "data": {
      "text/html": [
       "<div>\n",
       "<style scoped>\n",
       "    .dataframe tbody tr th:only-of-type {\n",
       "        vertical-align: middle;\n",
       "    }\n",
       "\n",
       "    .dataframe tbody tr th {\n",
       "        vertical-align: top;\n",
       "    }\n",
       "\n",
       "    .dataframe thead th {\n",
       "        text-align: right;\n",
       "    }\n",
       "</style>\n",
       "<table border=\"1\" class=\"dataframe\">\n",
       "  <thead>\n",
       "    <tr style=\"text-align: right;\">\n",
       "      <th></th>\n",
       "      <th>count</th>\n",
       "      <th>mean</th>\n",
       "      <th>std</th>\n",
       "      <th>min</th>\n",
       "      <th>25%</th>\n",
       "      <th>50%</th>\n",
       "      <th>75%</th>\n",
       "      <th>max</th>\n",
       "    </tr>\n",
       "  </thead>\n",
       "  <tbody>\n",
       "    <tr>\n",
       "      <th>Severity</th>\n",
       "      <td>2261739.0</td>\n",
       "      <td>2.347158</td>\n",
       "      <td>0.482177</td>\n",
       "      <td>1.000000</td>\n",
       "      <td>2.000000</td>\n",
       "      <td>2.00000</td>\n",
       "      <td>3.000000</td>\n",
       "      <td>4.000000</td>\n",
       "    </tr>\n",
       "    <tr>\n",
       "      <th>Start_Lat</th>\n",
       "      <td>2261739.0</td>\n",
       "      <td>36.139166</td>\n",
       "      <td>4.829643</td>\n",
       "      <td>24.555269</td>\n",
       "      <td>33.286381</td>\n",
       "      <td>35.41317</td>\n",
       "      <td>40.002516</td>\n",
       "      <td>49.002201</td>\n",
       "    </tr>\n",
       "    <tr>\n",
       "      <th>Start_Lng</th>\n",
       "      <td>2261739.0</td>\n",
       "      <td>-94.074256</td>\n",
       "      <td>16.587856</td>\n",
       "      <td>-124.623833</td>\n",
       "      <td>-111.939392</td>\n",
       "      <td>-88.01226</td>\n",
       "      <td>-80.843864</td>\n",
       "      <td>-67.839745</td>\n",
       "    </tr>\n",
       "    <tr>\n",
       "      <th>Distancemi</th>\n",
       "      <td>2261739.0</td>\n",
       "      <td>0.182763</td>\n",
       "      <td>1.486276</td>\n",
       "      <td>0.000000</td>\n",
       "      <td>0.000000</td>\n",
       "      <td>0.00000</td>\n",
       "      <td>0.000000</td>\n",
       "      <td>333.630005</td>\n",
       "    </tr>\n",
       "    <tr>\n",
       "      <th>Zipcode</th>\n",
       "      <td>2261465.0</td>\n",
       "      <td>55399.331241</td>\n",
       "      <td>29869.825852</td>\n",
       "      <td>1001.000000</td>\n",
       "      <td>29485.000000</td>\n",
       "      <td>53713.00000</td>\n",
       "      <td>85051.000000</td>\n",
       "      <td>99371.000000</td>\n",
       "    </tr>\n",
       "    <tr>\n",
       "      <th>TemperatureF</th>\n",
       "      <td>2223462.0</td>\n",
       "      <td>62.686766</td>\n",
       "      <td>18.682833</td>\n",
       "      <td>-77.800000</td>\n",
       "      <td>51.000000</td>\n",
       "      <td>64.90000</td>\n",
       "      <td>77.000000</td>\n",
       "      <td>167.000000</td>\n",
       "    </tr>\n",
       "    <tr>\n",
       "      <th>Humidity</th>\n",
       "      <td>2221126.0</td>\n",
       "      <td>66.009578</td>\n",
       "      <td>22.289397</td>\n",
       "      <td>1.000000</td>\n",
       "      <td>50.000000</td>\n",
       "      <td>68.00000</td>\n",
       "      <td>85.000000</td>\n",
       "      <td>100.000000</td>\n",
       "    </tr>\n",
       "    <tr>\n",
       "      <th>Pressurein</th>\n",
       "      <td>2228673.0</td>\n",
       "      <td>29.861838</td>\n",
       "      <td>0.638054</td>\n",
       "      <td>0.000000</td>\n",
       "      <td>29.830000</td>\n",
       "      <td>29.98000</td>\n",
       "      <td>30.120000</td>\n",
       "      <td>33.040000</td>\n",
       "    </tr>\n",
       "    <tr>\n",
       "      <th>Visibilitymi</th>\n",
       "      <td>2215462.0</td>\n",
       "      <td>9.134368</td>\n",
       "      <td>2.791282</td>\n",
       "      <td>0.000000</td>\n",
       "      <td>10.000000</td>\n",
       "      <td>10.00000</td>\n",
       "      <td>10.000000</td>\n",
       "      <td>140.000000</td>\n",
       "    </tr>\n",
       "    <tr>\n",
       "      <th>Wind_Speedmph</th>\n",
       "      <td>2261739.0</td>\n",
       "      <td>7.035737</td>\n",
       "      <td>5.587857</td>\n",
       "      <td>0.000000</td>\n",
       "      <td>3.500000</td>\n",
       "      <td>6.90000</td>\n",
       "      <td>10.400000</td>\n",
       "      <td>822.800000</td>\n",
       "    </tr>\n",
       "    <tr>\n",
       "      <th>Precipitationin</th>\n",
       "      <td>2261739.0</td>\n",
       "      <td>0.006685</td>\n",
       "      <td>0.133502</td>\n",
       "      <td>0.000000</td>\n",
       "      <td>0.000000</td>\n",
       "      <td>0.00000</td>\n",
       "      <td>0.000000</td>\n",
       "      <td>25.000000</td>\n",
       "    </tr>\n",
       "    <tr>\n",
       "      <th>Month</th>\n",
       "      <td>2261739.0</td>\n",
       "      <td>6.993065</td>\n",
       "      <td>3.432916</td>\n",
       "      <td>1.000000</td>\n",
       "      <td>4.000000</td>\n",
       "      <td>7.00000</td>\n",
       "      <td>10.000000</td>\n",
       "      <td>12.000000</td>\n",
       "    </tr>\n",
       "  </tbody>\n",
       "</table>\n",
       "</div>"
      ],
      "text/plain": [
       "                     count          mean           std          min  \\\n",
       "Severity         2261739.0      2.347158      0.482177     1.000000   \n",
       "Start_Lat        2261739.0     36.139166      4.829643    24.555269   \n",
       "Start_Lng        2261739.0    -94.074256     16.587856  -124.623833   \n",
       "Distancemi       2261739.0      0.182763      1.486276     0.000000   \n",
       "Zipcode          2261465.0  55399.331241  29869.825852  1001.000000   \n",
       "TemperatureF     2223462.0     62.686766     18.682833   -77.800000   \n",
       "Humidity         2221126.0     66.009578     22.289397     1.000000   \n",
       "Pressurein       2228673.0     29.861838      0.638054     0.000000   \n",
       "Visibilitymi     2215462.0      9.134368      2.791282     0.000000   \n",
       "Wind_Speedmph    2261739.0      7.035737      5.587857     0.000000   \n",
       "Precipitationin  2261739.0      0.006685      0.133502     0.000000   \n",
       "Month            2261739.0      6.993065      3.432916     1.000000   \n",
       "\n",
       "                          25%          50%           75%           max  \n",
       "Severity             2.000000      2.00000      3.000000      4.000000  \n",
       "Start_Lat           33.286381     35.41317     40.002516     49.002201  \n",
       "Start_Lng         -111.939392    -88.01226    -80.843864    -67.839745  \n",
       "Distancemi           0.000000      0.00000      0.000000    333.630005  \n",
       "Zipcode          29485.000000  53713.00000  85051.000000  99371.000000  \n",
       "TemperatureF        51.000000     64.90000     77.000000    167.000000  \n",
       "Humidity            50.000000     68.00000     85.000000    100.000000  \n",
       "Pressurein          29.830000     29.98000     30.120000     33.040000  \n",
       "Visibilitymi        10.000000     10.00000     10.000000    140.000000  \n",
       "Wind_Speedmph        3.500000      6.90000     10.400000    822.800000  \n",
       "Precipitationin      0.000000      0.00000      0.000000     25.000000  \n",
       "Month                4.000000      7.00000     10.000000     12.000000  "
      ]
     },
     "execution_count": 119,
     "metadata": {},
     "output_type": "execute_result"
    }
   ],
   "source": [
    "#do a quick data description to show quick statistics\n",
    "df.describe().T"
   ]
  },
  {
   "cell_type": "code",
   "execution_count": 123,
   "metadata": {},
   "outputs": [
    {
     "data": {
      "text/plain": [
       "<matplotlib.axes._subplots.AxesSubplot at 0x28423476b00>"
      ]
     },
     "execution_count": 123,
     "metadata": {},
     "output_type": "execute_result"
    },
    {
     "data": {
      "image/png": "[encoded data removed]",
      "text/plain": [
       "<Figure size 432x288 with 1 Axes>"
      ]
     },
     "metadata": {
      "needs_background": "light"
     },
     "output_type": "display_data"
    }
   ],
   "source": [
    "sns.violinplot(x=\"Severity\",y=\"TemperatureF\",data=df)"
   ]
  },
  {
   "cell_type": "code",
   "execution_count": 137,
   "metadata": {},
   "outputs": [
    {
     "data": {
      "text/plain": [
       "<matplotlib.axes._subplots.AxesSubplot at 0x284233549b0>"
      ]
     },
     "execution_count": 137,
     "metadata": {},
     "output_type": "execute_result"
    },
    {
     "data": {
      "image/png": "[encoded data removed]",
      "text/plain": [
       "<Figure size 432x288 with 1 Axes>"
      ]
     },
     "metadata": {
      "needs_background": "light"
     },
     "output_type": "display_data"
    }
   ],
   "source": [
    "temp=df[df[\"Pressurein\"]>0]\n",
    "sns.boxplot(x=\"Severity\",y=\"Pressurein\",data=temp)"
   ]
  },
  {
   "cell_type": "code",
   "execution_count": 138,
   "metadata": {},
   "outputs": [
    {
     "data": {
      "text/plain": [
       "<matplotlib.axes._subplots.AxesSubplot at 0x28422f61400>"
      ]
     },
     "execution_count": 138,
     "metadata": {},
     "output_type": "execute_result"
    },
    {
     "data": {
      "image/png": "[encoded data removed]",
      "text/plain": [
       "<Figure size 432x288 with 1 Axes>"
      ]
     },
     "metadata": {
      "needs_background": "light"
     },
     "output_type": "display_data"
    }
   ],
   "source": [
    "sns.boxplot(x=\"Severity\",y=\"Visibilitymi\",data=df)"
   ]
  },
  {
   "cell_type": "markdown",
   "metadata": {},
   "source": [
    "Another interesting fact to explore is location of accidents. The states below have more highly severe accidents (3-4) than less severe (1-2)."
   ]
  },
  {
   "cell_type": "code",
   "execution_count": null,
   "metadata": {},
   "outputs": [],
   "source": [
    "#state=df.groupby(\"State\").mode().Severity\n",
    "state=df.groupby('State')['Severity'].agg(lambda x: x.value_counts().index[0])"
   ]
  },
  {
   "cell_type": "code",
   "execution_count": 160,
   "metadata": {},
   "outputs": [
    {
     "data": {
      "text/html": [
       "<div>\n",
       "<style scoped>\n",
       "    .dataframe tbody tr th:only-of-type {\n",
       "        vertical-align: middle;\n",
       "    }\n",
       "\n",
       "    .dataframe tbody tr th {\n",
       "        vertical-align: top;\n",
       "    }\n",
       "\n",
       "    .dataframe thead th {\n",
       "        text-align: right;\n",
       "    }\n",
       "</style>\n",
       "<table border=\"1\" class=\"dataframe\">\n",
       "  <thead>\n",
       "    <tr style=\"text-align: right;\">\n",
       "      <th></th>\n",
       "      <th>Severity</th>\n",
       "    </tr>\n",
       "    <tr>\n",
       "      <th>State</th>\n",
       "      <th></th>\n",
       "    </tr>\n",
       "  </thead>\n",
       "  <tbody>\n",
       "    <tr>\n",
       "      <th>CT</th>\n",
       "      <td>3.0</td>\n",
       "    </tr>\n",
       "    <tr>\n",
       "      <th>GA</th>\n",
       "      <td>3.0</td>\n",
       "    </tr>\n",
       "    <tr>\n",
       "      <th>IA</th>\n",
       "      <td>3.0</td>\n",
       "    </tr>\n",
       "    <tr>\n",
       "      <th>ID</th>\n",
       "      <td>3.0</td>\n",
       "    </tr>\n",
       "    <tr>\n",
       "      <th>KS</th>\n",
       "      <td>3.0</td>\n",
       "    </tr>\n",
       "    <tr>\n",
       "      <th>KY</th>\n",
       "      <td>3.0</td>\n",
       "    </tr>\n",
       "    <tr>\n",
       "      <th>MD</th>\n",
       "      <td>3.0</td>\n",
       "    </tr>\n",
       "    <tr>\n",
       "      <th>ME</th>\n",
       "      <td>3.0</td>\n",
       "    </tr>\n",
       "    <tr>\n",
       "      <th>MN</th>\n",
       "      <td>3.0</td>\n",
       "    </tr>\n",
       "    <tr>\n",
       "      <th>MO</th>\n",
       "      <td>3.0</td>\n",
       "    </tr>\n",
       "    <tr>\n",
       "      <th>MS</th>\n",
       "      <td>3.0</td>\n",
       "    </tr>\n",
       "    <tr>\n",
       "      <th>MT</th>\n",
       "      <td>3.0</td>\n",
       "    </tr>\n",
       "    <tr>\n",
       "      <th>ND</th>\n",
       "      <td>3.0</td>\n",
       "    </tr>\n",
       "    <tr>\n",
       "      <th>RI</th>\n",
       "      <td>3.0</td>\n",
       "    </tr>\n",
       "    <tr>\n",
       "      <th>WI</th>\n",
       "      <td>3.0</td>\n",
       "    </tr>\n",
       "    <tr>\n",
       "      <th>WV</th>\n",
       "      <td>3.0</td>\n",
       "    </tr>\n",
       "    <tr>\n",
       "      <th>WY</th>\n",
       "      <td>3.0</td>\n",
       "    </tr>\n",
       "  </tbody>\n",
       "</table>\n",
       "</div>"
      ],
      "text/plain": [
       "       Severity\n",
       "State          \n",
       "CT          3.0\n",
       "GA          3.0\n",
       "IA          3.0\n",
       "ID          3.0\n",
       "KS          3.0\n",
       "KY          3.0\n",
       "MD          3.0\n",
       "ME          3.0\n",
       "MN          3.0\n",
       "MO          3.0\n",
       "MS          3.0\n",
       "MT          3.0\n",
       "ND          3.0\n",
       "RI          3.0\n",
       "WI          3.0\n",
       "WV          3.0\n",
       "WY          3.0"
      ]
     },
     "execution_count": 160,
     "metadata": {},
     "output_type": "execute_result"
    }
   ],
   "source": [
    "state1=state.to_frame()\n",
    "state1[state1['Severity']>2]"
   ]
  },
  {
   "cell_type": "code",
   "execution_count": 88,
   "metadata": {},
   "outputs": [],
   "source": [
    "df1 = df.sample(n=1000)"
   ]
  },
  {
   "cell_type": "code",
   "execution_count": 89,
   "metadata": {},
   "outputs": [
    {
     "data": {
      "application/vnd.jupyter.widget-view+json": {
       "model_id": "3c68ea1e2cfc4de98511934a509a1063",
       "version_major": 2,
       "version_minor": 0
      },
      "text/plain": [
       "Tab(children=(HTML(value='<div id=\"overview-content\" class=\"row variable spacing\">\\n    <div class=\"row\">\\n   …"
      ]
     },
     "metadata": {},
     "output_type": "display_data"
    },
    {
     "data": {
      "text/html": [
       "Report generated with <a href=\"https://github.com/pandas-profiling/pandas-profiling\">pandas-profiling</a>."
      ],
      "text/plain": [
       "<IPython.core.display.HTML object>"
      ]
     },
     "metadata": {},
     "output_type": "display_data"
    },
    {
     "data": {
      "text/plain": []
     },
     "execution_count": 89,
     "metadata": {},
     "output_type": "execute_result"
    }
   ],
   "source": [
    "pandas_profiling.ProfileReport(df1)"
   ]
  },
  {
   "cell_type": "markdown",
   "metadata": {},
   "source": [
    "## Relationship Exploration - Severity\n",
    "\n",
    "In our dataset, Severity is an ordinal variable that describes the severity of the accident. We may wish use machine learning methods to classify accidents into the four levels -- 1/light to 4/extreme severity -- to be able to provide civic institutions information on when, where, and during what weather do the most severe accidents occur.\n",
    "\n",
    "As we would hope, level 4 accidents don't occur often, at a rate of 0.2% as shown in the table below. An interesting aspect of this data is that almost all of the accidents are concentrated in the 2's and 3's. Less than 1% of accidents are classified as a level 1."
   ]
  },
  {
   "cell_type": "code",
   "execution_count": 87,
   "metadata": {},
   "outputs": [
    {
     "data": {
      "text/html": [
       "<style  type=\"text/css\" >\n",
       "</style><table id=\"T_06317db8_3fca_11ea_b32f_606dc7c63212\" ><thead>    <tr>        <th class=\"blank level0\" ></th>        <th class=\"col_heading level0 col0\" >Count</th>        <th class=\"col_heading level0 col1\" >Pct</th>    </tr>    <tr>        <th class=\"index_name level0\" >Severity</th>        <th class=\"blank\" ></th>        <th class=\"blank\" ></th>    </tr></thead><tbody>\n",
       "                <tr>\n",
       "                        <th id=\"T_06317db8_3fca_11ea_b32f_606dc7c63212level0_row0\" class=\"row_heading level0 row0\" >1.0</th>\n",
       "                        <td id=\"T_06317db8_3fca_11ea_b32f_606dc7c63212row0_col0\" class=\"data row0 col0\" >968</td>\n",
       "                        <td id=\"T_06317db8_3fca_11ea_b32f_606dc7c63212row0_col1\" class=\"data row0 col1\" >0.0%</td>\n",
       "            </tr>\n",
       "            <tr>\n",
       "                        <th id=\"T_06317db8_3fca_11ea_b32f_606dc7c63212level0_row1\" class=\"row_heading level0 row1\" >2.0</th>\n",
       "                        <td id=\"T_06317db8_3fca_11ea_b32f_606dc7c63212row1_col0\" class=\"data row1 col0\" >1,480,276</td>\n",
       "                        <td id=\"T_06317db8_3fca_11ea_b32f_606dc7c63212row1_col1\" class=\"data row1 col1\" >65.4%</td>\n",
       "            </tr>\n",
       "            <tr>\n",
       "                        <th id=\"T_06317db8_3fca_11ea_b32f_606dc7c63212level0_row2\" class=\"row_heading level0 row2\" >3.0</th>\n",
       "                        <td id=\"T_06317db8_3fca_11ea_b32f_606dc7c63212row2_col0\" class=\"data row2 col0\" >774,841</td>\n",
       "                        <td id=\"T_06317db8_3fca_11ea_b32f_606dc7c63212row2_col1\" class=\"data row2 col1\" >34.3%</td>\n",
       "            </tr>\n",
       "            <tr>\n",
       "                        <th id=\"T_06317db8_3fca_11ea_b32f_606dc7c63212level0_row3\" class=\"row_heading level0 row3\" >4.0</th>\n",
       "                        <td id=\"T_06317db8_3fca_11ea_b32f_606dc7c63212row3_col0\" class=\"data row3 col0\" >5,654</td>\n",
       "                        <td id=\"T_06317db8_3fca_11ea_b32f_606dc7c63212row3_col1\" class=\"data row3 col1\" >0.2%</td>\n",
       "            </tr>\n",
       "    </tbody></table>"
      ],
      "text/plain": [
       "<pandas.io.formats.style.Styler at 0x284209c0358>"
      ]
     },
     "execution_count": 87,
     "metadata": {},
     "output_type": "execute_result"
    }
   ],
   "source": [
    "sev0=df.groupby(\"Severity\").count().ID\n",
    "sev0=sev0.to_frame()\n",
    "sev1=df.groupby(\"Severity\").count().ID / df.count().ID\n",
    "sev1=sev1.to_frame()\n",
    "\n",
    "sev2=sev0.merge(sev1, on=\"Severity\").rename(columns={\"ID_x\": \"Count\", \"ID_y\": \"Pct\"})\n",
    "sev2.style.format({\n",
    "    'Severity': '{:.0}',\n",
    "    'Count': '{:,d}',\n",
    "    'Pct': '{:,.1%}'.format,\n",
    "})"
   ]
  },
  {
   "cell_type": "markdown",
   "metadata": {},
   "source": [
    "We looked at how various weather elements were associated with severity, as shown in the table below. Our preliminary findings were:\n",
    "* As visibility decreases, the severity of the accident increases\n",
    "* As temperature decreases, the severity of the accident increases\n",
    "    - As a next step, we would like to layer on month or season to see if this is always the case or if accidents are worse in cold seasons\n",
    "* More severe accidents affect larger stretches of road\n",
    "* As the wind speed increases, the severity of the accident increases\n",
    "* The effects of precipitation, pressure, and humidity on accident severity are inconclusive"
   ]
  },
  {
   "cell_type": "code",
   "execution_count": 94,
   "metadata": {},
   "outputs": [
    {
     "data": {
      "text/html": [
       "<style  type=\"text/css\" >\n",
       "</style><table id=\"T_7435dbe2_3fcc_11ea_8624_606dc7c63212\" ><thead>    <tr>        <th class=\"blank level0\" ></th>        <th class=\"col_heading level0 col0\" >Visibilitymi</th>        <th class=\"col_heading level0 col1\" >TemperatureF</th>        <th class=\"col_heading level0 col2\" >Distancemi</th>        <th class=\"col_heading level0 col3\" >Precipitationin</th>        <th class=\"col_heading level0 col4\" >Wind_Speedmph</th>        <th class=\"col_heading level0 col5\" >Pressurein</th>        <th class=\"col_heading level0 col6\" >Humidity</th>    </tr>    <tr>        <th class=\"index_name level0\" >Severity</th>        <th class=\"blank\" ></th>        <th class=\"blank\" ></th>        <th class=\"blank\" ></th>        <th class=\"blank\" ></th>        <th class=\"blank\" ></th>        <th class=\"blank\" ></th>        <th class=\"blank\" ></th>    </tr></thead><tbody>\n",
       "                <tr>\n",
       "                        <th id=\"T_7435dbe2_3fcc_11ea_8624_606dc7c63212level0_row0\" class=\"row_heading level0 row0\" >1.0</th>\n",
       "                        <td id=\"T_7435dbe2_3fcc_11ea_8624_606dc7c63212row0_col0\" class=\"data row0 col0\" >9.29</td>\n",
       "                        <td id=\"T_7435dbe2_3fcc_11ea_8624_606dc7c63212row0_col1\" class=\"data row0 col1\" >64.62</td>\n",
       "                        <td id=\"T_7435dbe2_3fcc_11ea_8624_606dc7c63212row0_col2\" class=\"data row0 col2\" >0.02</td>\n",
       "                        <td id=\"T_7435dbe2_3fcc_11ea_8624_606dc7c63212row0_col3\" class=\"data row0 col3\" >0.07</td>\n",
       "                        <td id=\"T_7435dbe2_3fcc_11ea_8624_606dc7c63212row0_col4\" class=\"data row0 col4\" >6.95</td>\n",
       "                        <td id=\"T_7435dbe2_3fcc_11ea_8624_606dc7c63212row0_col5\" class=\"data row0 col5\" >29.93</td>\n",
       "                        <td id=\"T_7435dbe2_3fcc_11ea_8624_606dc7c63212row0_col6\" class=\"data row0 col6\" >65.52</td>\n",
       "            </tr>\n",
       "            <tr>\n",
       "                        <th id=\"T_7435dbe2_3fcc_11ea_8624_606dc7c63212level0_row1\" class=\"row_heading level0 row1\" >2.0</th>\n",
       "                        <td id=\"T_7435dbe2_3fcc_11ea_8624_606dc7c63212row1_col0\" class=\"data row1 col0\" >9.16</td>\n",
       "                        <td id=\"T_7435dbe2_3fcc_11ea_8624_606dc7c63212row1_col1\" class=\"data row1 col1\" >62.93</td>\n",
       "                        <td id=\"T_7435dbe2_3fcc_11ea_8624_606dc7c63212row1_col2\" class=\"data row1 col2\" >0.07</td>\n",
       "                        <td id=\"T_7435dbe2_3fcc_11ea_8624_606dc7c63212row1_col3\" class=\"data row1 col3\" >0.09</td>\n",
       "                        <td id=\"T_7435dbe2_3fcc_11ea_8624_606dc7c63212row1_col4\" class=\"data row1 col4\" >6.98</td>\n",
       "                        <td id=\"T_7435dbe2_3fcc_11ea_8624_606dc7c63212row1_col5\" class=\"data row1 col5\" >29.85</td>\n",
       "                        <td id=\"T_7435dbe2_3fcc_11ea_8624_606dc7c63212row1_col6\" class=\"data row1 col6\" >66.04</td>\n",
       "            </tr>\n",
       "            <tr>\n",
       "                        <th id=\"T_7435dbe2_3fcc_11ea_8624_606dc7c63212level0_row2\" class=\"row_heading level0 row2\" >3.0</th>\n",
       "                        <td id=\"T_7435dbe2_3fcc_11ea_8624_606dc7c63212row2_col0\" class=\"data row2 col0\" >9.08</td>\n",
       "                        <td id=\"T_7435dbe2_3fcc_11ea_8624_606dc7c63212row2_col1\" class=\"data row2 col1\" >62.22</td>\n",
       "                        <td id=\"T_7435dbe2_3fcc_11ea_8624_606dc7c63212row2_col2\" class=\"data row2 col2\" >0.36</td>\n",
       "                        <td id=\"T_7435dbe2_3fcc_11ea_8624_606dc7c63212row2_col3\" class=\"data row2 col3\" >0.11</td>\n",
       "                        <td id=\"T_7435dbe2_3fcc_11ea_8624_606dc7c63212row2_col4\" class=\"data row2 col4\" >7.14</td>\n",
       "                        <td id=\"T_7435dbe2_3fcc_11ea_8624_606dc7c63212row2_col5\" class=\"data row2 col5\" >29.88</td>\n",
       "                        <td id=\"T_7435dbe2_3fcc_11ea_8624_606dc7c63212row2_col6\" class=\"data row2 col6\" >65.94</td>\n",
       "            </tr>\n",
       "            <tr>\n",
       "                        <th id=\"T_7435dbe2_3fcc_11ea_8624_606dc7c63212level0_row3\" class=\"row_heading level0 row3\" >4.0</th>\n",
       "                        <td id=\"T_7435dbe2_3fcc_11ea_8624_606dc7c63212row3_col0\" class=\"data row3 col0\" >9.01</td>\n",
       "                        <td id=\"T_7435dbe2_3fcc_11ea_8624_606dc7c63212row3_col1\" class=\"data row3 col1\" >61.83</td>\n",
       "                        <td id=\"T_7435dbe2_3fcc_11ea_8624_606dc7c63212row3_col2\" class=\"data row3 col2\" >3.91</td>\n",
       "                        <td id=\"T_7435dbe2_3fcc_11ea_8624_606dc7c63212row3_col3\" class=\"data row3 col3\" >0.08</td>\n",
       "                        <td id=\"T_7435dbe2_3fcc_11ea_8624_606dc7c63212row3_col4\" class=\"data row3 col4\" >7.14</td>\n",
       "                        <td id=\"T_7435dbe2_3fcc_11ea_8624_606dc7c63212row3_col5\" class=\"data row3 col5\" >29.47</td>\n",
       "                        <td id=\"T_7435dbe2_3fcc_11ea_8624_606dc7c63212row3_col6\" class=\"data row3 col6\" >68.76</td>\n",
       "            </tr>\n",
       "    </tbody></table>"
      ],
      "text/plain": [
       "<pandas.io.formats.style.Styler at 0x284611ba7f0>"
      ]
     },
     "execution_count": 94,
     "metadata": {},
     "output_type": "execute_result"
    }
   ],
   "source": [
    "vis=df.groupby(\"Severity\").mean().Visibilitymi\n",
    "vis=vis.to_frame()\n",
    "# Visiblity is lower when the severity is higher\n",
    "\n",
    "temp=df.groupby(\"Severity\").mean().TemperatureF\n",
    "temp=temp.to_frame()\n",
    "# Temperature is lower when the severity is higher\n",
    "\n",
    "dist=df.groupby(\"Severity\").mean().Distancemi\n",
    "dist=dist.to_frame()\n",
    "# More severe accidents affect larger areas\n",
    "\n",
    "precip=df[df[\"Precipitationin\"]>0]\n",
    "precip=precip.groupby(\"Severity\").mean().Precipitationin\n",
    "precip=precip.to_frame()\n",
    "# When there is precipitation, the amount does not appear to be correlated with severity\n",
    "\n",
    "wind=df.groupby(\"Severity\").mean().Wind_Speedmph\n",
    "wind=wind.to_frame()\n",
    "# Higher severity may be linked to higher wind speeds\n",
    "\n",
    "pres=df.groupby(\"Severity\").mean().Pressurein\n",
    "pres=pres.to_frame()\n",
    "# Effect of pressure less clear\n",
    "\n",
    "hum=df.groupby(\"Severity\").mean().Humidity\n",
    "hum=hum.to_frame()\n",
    "# Effect of humidity less clear\n",
    "\n",
    "by_severity = pd.concat([vis, temp, dist, wind, precip, pres, hum], axis=1)\n",
    "by_severity.style.format({\n",
    "    'Visibilitymi': '{:,.2f}',\n",
    "    'TemperatureF': '{:,.2f}',\n",
    "    'Distancemi': '{:,.2f}',\n",
    "    'Wind_Speedmph': '{:,.2f}',\n",
    "    'Precipitationin': '{:,.2f}',\n",
    "    'Pressurein': '{:,.2f}',    \n",
    "    'Humidity': '{:,.2f}',\n",
    "})"
   ]
  },
  {
   "cell_type": "markdown",
   "metadata": {},
   "source": [
    "From the information above, we can see that certain aspects of the weather may be important to how severe a traffic accident is. Below, we show the count and frequency of accidents by severity and season. We see that the more severe accidents occur in the fall, while the least severe accidents occur in the summer. Because in this dataset \"severe\" means \"impact to traffic\", the least severe accidents occuring in the summer may be due to reduced traffic in the summer."
   ]
  },
  {
   "cell_type": "code",
   "execution_count": 98,
   "metadata": {},
   "outputs": [],
   "source": [
    "def getSeason(date):\n",
    "    month=pd.to_datetime(date).month\n",
    "    if month <= 3:\n",
    "        return 'Winter'\n",
    "    elif month <= 6:\n",
    "        return 'Spring'\n",
    "    elif month <= 9:\n",
    "        return 'Summer'\n",
    "    else:\n",
    "        return 'Fall'"
   ]
  },
  {
   "cell_type": "code",
   "execution_count": 100,
   "metadata": {},
   "outputs": [],
   "source": [
    "season =df['Start_Date'].apply(getSeason)"
   ]
  },
  {
   "cell_type": "code",
   "execution_count": 101,
   "metadata": {},
   "outputs": [],
   "source": [
    "df['Season']=season"
   ]
  },
  {
   "cell_type": "code",
   "execution_count": 102,
   "metadata": {},
   "outputs": [
    {
     "data": {
      "text/html": [
       "<style  type=\"text/css\" >\n",
       "</style><table id=\"T_4e9b9618_3fd3_11ea_8148_606dc7c63212\" ><thead>    <tr>        <th class=\"index_name level0\" >Season</th>        <th class=\"col_heading level0 col0\" >Fall</th>        <th class=\"col_heading level0 col1\" >Spring</th>        <th class=\"col_heading level0 col2\" >Summer</th>        <th class=\"col_heading level0 col3\" >Winter</th>        <th class=\"col_heading level0 col4\" >All Seasons</th>    </tr>    <tr>        <th class=\"index_name level0\" >Severity</th>        <th class=\"blank\" ></th>        <th class=\"blank\" ></th>        <th class=\"blank\" ></th>        <th class=\"blank\" ></th>        <th class=\"blank\" ></th>    </tr></thead><tbody>\n",
       "                <tr>\n",
       "                        <th id=\"T_4e9b9618_3fd3_11ea_8148_606dc7c63212level0_row0\" class=\"row_heading level0 row0\" >1.0</th>\n",
       "                        <td id=\"T_4e9b9618_3fd3_11ea_8148_606dc7c63212row0_col0\" class=\"data row0 col0\" >269</td>\n",
       "                        <td id=\"T_4e9b9618_3fd3_11ea_8148_606dc7c63212row0_col1\" class=\"data row0 col1\" >219</td>\n",
       "                        <td id=\"T_4e9b9618_3fd3_11ea_8148_606dc7c63212row0_col2\" class=\"data row0 col2\" >281</td>\n",
       "                        <td id=\"T_4e9b9618_3fd3_11ea_8148_606dc7c63212row0_col3\" class=\"data row0 col3\" >199</td>\n",
       "                        <td id=\"T_4e9b9618_3fd3_11ea_8148_606dc7c63212row0_col4\" class=\"data row0 col4\" >968</td>\n",
       "            </tr>\n",
       "            <tr>\n",
       "                        <th id=\"T_4e9b9618_3fd3_11ea_8148_606dc7c63212level0_row1\" class=\"row_heading level0 row1\" >2.0</th>\n",
       "                        <td id=\"T_4e9b9618_3fd3_11ea_8148_606dc7c63212row1_col0\" class=\"data row1 col0\" >454,007</td>\n",
       "                        <td id=\"T_4e9b9618_3fd3_11ea_8148_606dc7c63212row1_col1\" class=\"data row1 col1\" >321,705</td>\n",
       "                        <td id=\"T_4e9b9618_3fd3_11ea_8148_606dc7c63212row1_col2\" class=\"data row1 col2\" >400,064</td>\n",
       "                        <td id=\"T_4e9b9618_3fd3_11ea_8148_606dc7c63212row1_col3\" class=\"data row1 col3\" >304,500</td>\n",
       "                        <td id=\"T_4e9b9618_3fd3_11ea_8148_606dc7c63212row1_col4\" class=\"data row1 col4\" >1,480,276</td>\n",
       "            </tr>\n",
       "            <tr>\n",
       "                        <th id=\"T_4e9b9618_3fd3_11ea_8148_606dc7c63212level0_row2\" class=\"row_heading level0 row2\" >3.0</th>\n",
       "                        <td id=\"T_4e9b9618_3fd3_11ea_8148_606dc7c63212row2_col0\" class=\"data row2 col0\" >221,932</td>\n",
       "                        <td id=\"T_4e9b9618_3fd3_11ea_8148_606dc7c63212row2_col1\" class=\"data row2 col1\" >173,576</td>\n",
       "                        <td id=\"T_4e9b9618_3fd3_11ea_8148_606dc7c63212row2_col2\" class=\"data row2 col2\" >211,872</td>\n",
       "                        <td id=\"T_4e9b9618_3fd3_11ea_8148_606dc7c63212row2_col3\" class=\"data row2 col3\" >167,461</td>\n",
       "                        <td id=\"T_4e9b9618_3fd3_11ea_8148_606dc7c63212row2_col4\" class=\"data row2 col4\" >774,841</td>\n",
       "            </tr>\n",
       "            <tr>\n",
       "                        <th id=\"T_4e9b9618_3fd3_11ea_8148_606dc7c63212level0_row3\" class=\"row_heading level0 row3\" >4.0</th>\n",
       "                        <td id=\"T_4e9b9618_3fd3_11ea_8148_606dc7c63212row3_col0\" class=\"data row3 col0\" >1,914</td>\n",
       "                        <td id=\"T_4e9b9618_3fd3_11ea_8148_606dc7c63212row3_col1\" class=\"data row3 col1\" >1,488</td>\n",
       "                        <td id=\"T_4e9b9618_3fd3_11ea_8148_606dc7c63212row3_col2\" class=\"data row3 col2\" >1,432</td>\n",
       "                        <td id=\"T_4e9b9618_3fd3_11ea_8148_606dc7c63212row3_col3\" class=\"data row3 col3\" >820</td>\n",
       "                        <td id=\"T_4e9b9618_3fd3_11ea_8148_606dc7c63212row3_col4\" class=\"data row3 col4\" >5,654</td>\n",
       "            </tr>\n",
       "            <tr>\n",
       "                        <th id=\"T_4e9b9618_3fd3_11ea_8148_606dc7c63212level0_row4\" class=\"row_heading level0 row4\" >All Sev</th>\n",
       "                        <td id=\"T_4e9b9618_3fd3_11ea_8148_606dc7c63212row4_col0\" class=\"data row4 col0\" >678,122</td>\n",
       "                        <td id=\"T_4e9b9618_3fd3_11ea_8148_606dc7c63212row4_col1\" class=\"data row4 col1\" >496,988</td>\n",
       "                        <td id=\"T_4e9b9618_3fd3_11ea_8148_606dc7c63212row4_col2\" class=\"data row4 col2\" >613,649</td>\n",
       "                        <td id=\"T_4e9b9618_3fd3_11ea_8148_606dc7c63212row4_col3\" class=\"data row4 col3\" >472,980</td>\n",
       "                        <td id=\"T_4e9b9618_3fd3_11ea_8148_606dc7c63212row4_col4\" class=\"data row4 col4\" >2,261,739</td>\n",
       "            </tr>\n",
       "    </tbody></table>"
      ],
      "text/plain": [
       "<pandas.io.formats.style.Styler at 0x28462e194e0>"
      ]
     },
     "execution_count": 102,
     "metadata": {},
     "output_type": "execute_result"
    }
   ],
   "source": [
    "freq_table = pd.crosstab(index=df[\"Severity\"], columns=df[\"Season\"], margins=True)\n",
    "freq_table.columns.values[4]='All Seasons'\n",
    "freq_table.index.values[4]='All Sev'\n",
    "freq_table.style.format({\n",
    "    'Fall': '{:,.0f}',\n",
    "    'Spring': '{:,.0f}',\n",
    "    'Summer': '{:,.0f}',\n",
    "    'Winter': '{:,.0f}',\n",
    "    'All Seasons': '{:,.0f}'\n",
    "})"
   ]
  },
  {
   "cell_type": "code",
   "execution_count": 103,
   "metadata": {},
   "outputs": [
    {
     "data": {
      "text/html": [
       "<style  type=\"text/css\" >\n",
       "</style><table id=\"T_51ce73c0_3fd3_11ea_88a4_606dc7c63212\" ><thead>    <tr>        <th class=\"index_name level0\" >Season</th>        <th class=\"col_heading level0 col0\" >Fall</th>        <th class=\"col_heading level0 col1\" >Spring</th>        <th class=\"col_heading level0 col2\" >Summer</th>        <th class=\"col_heading level0 col3\" >Winter</th>        <th class=\"col_heading level0 col4\" >All Seasons</th>    </tr>    <tr>        <th class=\"index_name level0\" >Severity</th>        <th class=\"blank\" ></th>        <th class=\"blank\" ></th>        <th class=\"blank\" ></th>        <th class=\"blank\" ></th>        <th class=\"blank\" ></th>    </tr></thead><tbody>\n",
       "                <tr>\n",
       "                        <th id=\"T_51ce73c0_3fd3_11ea_88a4_606dc7c63212level0_row0\" class=\"row_heading level0 row0\" >1.0</th>\n",
       "                        <td id=\"T_51ce73c0_3fd3_11ea_88a4_606dc7c63212row0_col0\" class=\"data row0 col0\" >27.8%</td>\n",
       "                        <td id=\"T_51ce73c0_3fd3_11ea_88a4_606dc7c63212row0_col1\" class=\"data row0 col1\" >22.6%</td>\n",
       "                        <td id=\"T_51ce73c0_3fd3_11ea_88a4_606dc7c63212row0_col2\" class=\"data row0 col2\" >29.0%</td>\n",
       "                        <td id=\"T_51ce73c0_3fd3_11ea_88a4_606dc7c63212row0_col3\" class=\"data row0 col3\" >20.6%</td>\n",
       "                        <td id=\"T_51ce73c0_3fd3_11ea_88a4_606dc7c63212row0_col4\" class=\"data row0 col4\" >100%</td>\n",
       "            </tr>\n",
       "            <tr>\n",
       "                        <th id=\"T_51ce73c0_3fd3_11ea_88a4_606dc7c63212level0_row1\" class=\"row_heading level0 row1\" >2.0</th>\n",
       "                        <td id=\"T_51ce73c0_3fd3_11ea_88a4_606dc7c63212row1_col0\" class=\"data row1 col0\" >30.7%</td>\n",
       "                        <td id=\"T_51ce73c0_3fd3_11ea_88a4_606dc7c63212row1_col1\" class=\"data row1 col1\" >21.7%</td>\n",
       "                        <td id=\"T_51ce73c0_3fd3_11ea_88a4_606dc7c63212row1_col2\" class=\"data row1 col2\" >27.0%</td>\n",
       "                        <td id=\"T_51ce73c0_3fd3_11ea_88a4_606dc7c63212row1_col3\" class=\"data row1 col3\" >20.6%</td>\n",
       "                        <td id=\"T_51ce73c0_3fd3_11ea_88a4_606dc7c63212row1_col4\" class=\"data row1 col4\" >100%</td>\n",
       "            </tr>\n",
       "            <tr>\n",
       "                        <th id=\"T_51ce73c0_3fd3_11ea_88a4_606dc7c63212level0_row2\" class=\"row_heading level0 row2\" >3.0</th>\n",
       "                        <td id=\"T_51ce73c0_3fd3_11ea_88a4_606dc7c63212row2_col0\" class=\"data row2 col0\" >28.6%</td>\n",
       "                        <td id=\"T_51ce73c0_3fd3_11ea_88a4_606dc7c63212row2_col1\" class=\"data row2 col1\" >22.4%</td>\n",
       "                        <td id=\"T_51ce73c0_3fd3_11ea_88a4_606dc7c63212row2_col2\" class=\"data row2 col2\" >27.3%</td>\n",
       "                        <td id=\"T_51ce73c0_3fd3_11ea_88a4_606dc7c63212row2_col3\" class=\"data row2 col3\" >21.6%</td>\n",
       "                        <td id=\"T_51ce73c0_3fd3_11ea_88a4_606dc7c63212row2_col4\" class=\"data row2 col4\" >100%</td>\n",
       "            </tr>\n",
       "            <tr>\n",
       "                        <th id=\"T_51ce73c0_3fd3_11ea_88a4_606dc7c63212level0_row3\" class=\"row_heading level0 row3\" >4.0</th>\n",
       "                        <td id=\"T_51ce73c0_3fd3_11ea_88a4_606dc7c63212row3_col0\" class=\"data row3 col0\" >33.9%</td>\n",
       "                        <td id=\"T_51ce73c0_3fd3_11ea_88a4_606dc7c63212row3_col1\" class=\"data row3 col1\" >26.3%</td>\n",
       "                        <td id=\"T_51ce73c0_3fd3_11ea_88a4_606dc7c63212row3_col2\" class=\"data row3 col2\" >25.3%</td>\n",
       "                        <td id=\"T_51ce73c0_3fd3_11ea_88a4_606dc7c63212row3_col3\" class=\"data row3 col3\" >14.5%</td>\n",
       "                        <td id=\"T_51ce73c0_3fd3_11ea_88a4_606dc7c63212row3_col4\" class=\"data row3 col4\" >100%</td>\n",
       "            </tr>\n",
       "            <tr>\n",
       "                        <th id=\"T_51ce73c0_3fd3_11ea_88a4_606dc7c63212level0_row4\" class=\"row_heading level0 row4\" >All Sev</th>\n",
       "                        <td id=\"T_51ce73c0_3fd3_11ea_88a4_606dc7c63212row4_col0\" class=\"data row4 col0\" >30.0%</td>\n",
       "                        <td id=\"T_51ce73c0_3fd3_11ea_88a4_606dc7c63212row4_col1\" class=\"data row4 col1\" >22.0%</td>\n",
       "                        <td id=\"T_51ce73c0_3fd3_11ea_88a4_606dc7c63212row4_col2\" class=\"data row4 col2\" >27.1%</td>\n",
       "                        <td id=\"T_51ce73c0_3fd3_11ea_88a4_606dc7c63212row4_col3\" class=\"data row4 col3\" >20.9%</td>\n",
       "                        <td id=\"T_51ce73c0_3fd3_11ea_88a4_606dc7c63212row4_col4\" class=\"data row4 col4\" >100%</td>\n",
       "            </tr>\n",
       "    </tbody></table>"
      ],
      "text/plain": [
       "<pandas.io.formats.style.Styler at 0x2845e257860>"
      ]
     },
     "execution_count": 103,
     "metadata": {},
     "output_type": "execute_result"
    }
   ],
   "source": [
    "freq_table.div(freq_table[\"All Seasons\"],axis=0).style.format({\n",
    "    'Fall': '{:,.1%}',\n",
    "    'Spring': '{:,.1%}',\n",
    "    'Summer': '{:,.1%}',\n",
    "    'Winter': '{:,.1%}',\n",
    "    'All Seasons': '{:,.0%}'\n",
    "})"
   ]
  },
  {
   "cell_type": "markdown",
   "metadata": {},
   "source": [
    "Overall, most accidents occur in the Fall months, as shown graphically in the histogram below."
   ]
  },
  {
   "cell_type": "code",
   "execution_count": 118,
   "metadata": {},
   "outputs": [
    {
     "data": {
      "image/png": "[encoded data removed]",
      "text/plain": [
       "<Figure size 432x288 with 1 Axes>"
      ]
     },
     "metadata": {
      "needs_background": "light"
     },
     "output_type": "display_data"
    }
   ],
   "source": [
    "df['Month'] = pd.DatetimeIndex(df['Start_Date']).month\n",
    "num_bins = 12\n",
    "# the histogram of the data\n",
    "n, bins, patches = plt.hist(df['Month'], num_bins, density=1, facecolor='blue', alpha=0.5)"
   ]
  },
  {
   "cell_type": "markdown",
   "metadata": {},
   "source": [
    "## Data Meaning - 10 pts"
   ]
  },
  {
   "cell_type": "code",
   "execution_count": null,
   "metadata": {},
   "outputs": [],
   "source": []
  },
  {
   "cell_type": "markdown",
   "metadata": {},
   "source": [
    "## Data Quality - 15 pts"
   ]
  },
  {
   "cell_type": "markdown",
   "metadata": {},
   "source": [
    "## Sample Statistics - 10 pts"
   ]
  },
  {
   "cell_type": "markdown",
   "metadata": {},
   "source": [
    "## Visualizations - 15 pts"
   ]
  },
  {
   "cell_type": "markdown",
   "metadata": {},
   "source": [
    "## Attribute Relationships - 15 pts"
   ]
  },
  {
   "cell_type": "markdown",
   "metadata": {},
   "source": [
    "## Relationship Exploration - 10 pts"
   ]
  },
  {
   "cell_type": "markdown",
   "metadata": {},
   "source": [
    "## Other Features - 5 pts"
   ]
  },
  {
   "cell_type": "markdown",
   "metadata": {},
   "source": [
    "## Exceptional Work - 10 pts"
   ]
  }
 ],
 "metadata": {
  "kernelspec": {
   "display_name": "Python 3",
   "language": "python",
   "name": "python3"
  },
  "language_info": {
   "codemirror_mode": {
    "name": "ipython",
    "version": 3
   },
   "file_extension": ".py",
   "mimetype": "text/x-python",
   "name": "python",
   "nbconvert_exporter": "python",
   "pygments_lexer": "ipython3",
   "version": "3.7.3"
  }
 },
 "nbformat": 4,
 "nbformat_minor": 2
}
