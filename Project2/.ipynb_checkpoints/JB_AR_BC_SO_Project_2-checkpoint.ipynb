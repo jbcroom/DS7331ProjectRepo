{
 "cells": [
  {
   "cell_type": "markdown",
   "metadata": {},
   "source": [
    "# DS 7331 - Machine Learning - Course Project\n",
    "Team: Allison Roderick, Jayson Barker, Sandesh Ojha, Brandon Croom\n",
    "\n",
    "Lab Number: 2"
   ]
  },
  {
   "cell_type": "markdown",
   "metadata": {},
   "source": [
    "## Data Preparation - 15pts\n",
    "The following cells setup the notebook for use and analysis"
   ]
  },
  {
   "cell_type": "code",
   "execution_count": 3,
   "metadata": {},
   "outputs": [],
   "source": [
    "# Import libraries for data analysis\n",
    "import numpy as np \n",
    "import pandas as pd \n",
    "import pandas_profiling as pp\n",
    "import seaborn as sns\n",
    "import matplotlib.pyplot as plt\n",
    "from sklearn.model_selection import train_test_split\n",
    "from IPython.display import display,HTML\n",
    "from sklearn import ensemble\n",
    "from sklearn.model_selection import ShuffleSplit\n",
    "from sklearn.linear_model import LogisticRegression\n",
    "from sklearn import metrics as mt\n",
    "from sklearn.preprocessing import StandardScaler\n",
    "from sklearn.linear_model import SGDClassifier\n",
    "from sklearn.ensemble import RandomForestRegressor\n",
    "import warnings\n",
    "from sklearn.tree import DecisionTreeClassifier\n",
    "import math\n",
    "from sklearn import tree, metrics\n",
    "from sklearn.metrics import explained_variance_score\n",
    "from sklearn.metrics import mean_absolute_error\n",
    "from sklearn.metrics import mean_squared_error\n",
    "from sklearn.tree import DecisionTreeRegressor\n",
    "from sklearn.model_selection import cross_val_score\n",
    "from sklearn.metrics import recall_score\n",
    "from IPython.display import Image  \n",
    "from sklearn.ensemble import AdaBoostRegressor\n",
    "import pydotplus\n",
    "warnings.simplefilter('ignore')\n",
    "\n",
    "# show all columns\n",
    "pd.set_option('display.max_columns', None) \n",
    "\n",
    "#Set the seaborn plotting style\n",
    "sns.set(style=\"darkgrid\")"
   ]
  },
  {
   "cell_type": "markdown",
   "metadata": {},
   "source": [
    "## Continuous Decision Tree"
   ]
  },
  {
   "cell_type": "code",
   "execution_count": 10,
   "metadata": {
    "scrolled": false
   },
   "outputs": [],
   "source": [
    "#Read in the train/test files that have been created from the prior projects. This is an 80/20 split\n",
    "train_file = 'train.csv'\n",
    "test_file = 'test.csv'\n",
    "test_filepath_BC = ''\n",
    "train_filepath_BC = ''\n",
    "test_filepath_BC2 = ''\n",
    "train_filepath_BC2 = ''\n",
    "\n",
    "testfilepath_AR = ''\n",
    "train_filepath_AR = ''\n",
    "\n",
    "test_filepath_JB = 'F:/SMU/DS7331/Train_Test_Files/'\n",
    "train_filepath_JB = 'F:/SMU/DS7331/Train_Test_Files/'\n",
    "\n",
    "test_filepath_SO = ''\n",
    "train_filepath_SO = ''\n",
    "\n",
    "df_test = pd.read_csv(test_filepath_JB + test_file,index_col=0)\n",
    "df_train = pd.read_csv(train_filepath_JB + train_file,index_col=0)\n",
    "\n",
    "# Round the distance to one decimal place\n",
    "df_train = df_train.round({'Distance(mi)': 1})\n",
    "\n",
    "# Filter data set for TX records\n",
    "df_train = df_train[df_train['State'] == 'TX']"
   ]
  },
  {
   "cell_type": "markdown",
   "metadata": {},
   "source": [
    "#### In this cell, the data set is split into test, train, and the test and train continuous predictors (in this case, Distance(mi))."
   ]
  },
  {
   "cell_type": "code",
   "execution_count": 12,
   "metadata": {
    "scrolled": true
   },
   "outputs": [],
   "source": [
    "# Get validation set off of last 20% of train data\n",
    "df_train=df_train.sort_values(\"Start_Time\")\n",
    "train_size = int(len(df_train) * 0.8)\n",
    "X_train, X_val = df_train[0:train_size], df_train[train_size:len(df_train)]\n",
    "y = df_train['Distance(mi)']\n",
    "y_train, y_val = y[0:train_size], y[train_size:len(y)]\n",
    "\n",
    "#Build training/validation set for distance\n",
    "df_X_train = X_train.copy()\n",
    "df_X_test = X_val.copy()\n",
    "df_Y_train = y_train.copy()\n",
    "df_Y_test = y_val.copy()\n",
    "\n",
    "#list columns to remove:\n",
    "removeList = {'Distance(mi)','Weather_Condition','SM_Interim','State','Timezone','Start_Time','TMC_200.0',\n",
    "              'TMC_201.0','TMC_202.0','TMC_203.0',\n",
    "              'TMC_206.0','TMC_222.0','TMC_229.0',\n",
    "              'TMC_236.0','TMC_239.0','TMC_241.0',\n",
    "              'TMC_244.0','TMC_245.0','TMC_246.0',\n",
    "              'TMC_247.0','TMC_248.0','TMC_336.0',\n",
    "              'TMC_339.0','TMC_341.0','TMC_343.0',\n",
    "              'TMC_351.0','TMC_406.0','ST_AL','ST_AR','ST_AZ','ST_CA','ST_CO','ST_CT','ST_DC','ST_DE',\n",
    "              'ST_FL','ST_GA','ST_IA','ST_ID','ST_IL','ST_IN','ST_KS','ST_KY','ST_LA','ST_MA','ST_MD',\n",
    "              'ST_ME','ST_MI','ST_MN','ST_MO','ST_MS','ST_MT','ST_NC','ST_ND','ST_NE','ST_NH','ST_NJ',\n",
    "              'ST_NM','ST_NV','ST_NY','ST_OH','ST_OK','ST_OR','ST_PA','ST_RI','ST_SC','ST_SD','ST_TN',\n",
    "              'ST_TX','ST_UT','ST_VA','ST_VT','ST_WA','ST_WI','ST_WV','ST_WY'} \n",
    "df_X_train.drop(removeList,1,inplace=True)\n",
    "df_X_test.drop(removeList,1,inplace=True)"
   ]
  },
  {
   "cell_type": "code",
   "execution_count": 13,
   "metadata": {},
   "outputs": [
    {
     "name": "stdout",
     "output_type": "stream",
     "text": [
      "X-train:  (163692, 73)\n",
      "X-test:  (40923, 73)\n",
      "Y-train:  (163692,)\n",
      "Y-test:  (40923,)\n"
     ]
    }
   ],
   "source": [
    "#Convert dataframes to numpy arrays\n",
    "X_train = df_X_train.to_numpy()\n",
    "X_test = df_X_test.to_numpy()\n",
    "Y_train = df_Y_train.to_numpy()\n",
    "Y_test = df_Y_test.to_numpy()\n",
    "\n",
    "print(\"X-train: \",df_X_train.shape)\n",
    "print(\"X-test: \",df_X_test.shape)\n",
    "print(\"Y-train: \",df_Y_train.shape)\n",
    "print(\"Y-test: \",df_Y_test.shape)"
   ]
  },
  {
   "cell_type": "markdown",
   "metadata": {},
   "source": [
    "#### In this cell, the test and train features are standardized"
   ]
  },
  {
   "cell_type": "code",
   "execution_count": 14,
   "metadata": {},
   "outputs": [],
   "source": [
    "scl_obj = StandardScaler()\n",
    "scl_obj.fit(X_train) # find scalings for each column that make this zero mean and unit std\n",
    "\n",
    "X_train_scaled = scl_obj.transform(X_train) # apply to training\n",
    "X_test_scaled = scl_obj.transform(X_test) # apply those means and std to the test set"
   ]
  },
  {
   "cell_type": "markdown",
   "metadata": {},
   "source": [
    "#### In this cell, the decision tree is constructed and iterated through to identify the depth that produces the best R2 score. It's important to note that we've tuned the tree to use a min_split that produces the best R2 score without being too small of a value to cause overfitting. We also use the train data set here as a comparative to refer back to as the tree iterates."
   ]
  },
  {
   "cell_type": "code",
   "execution_count": 15,
   "metadata": {},
   "outputs": [
    {
     "name": "stdout",
     "output_type": "stream",
     "text": [
      "--------------------------------------\n",
      "Tree depth: 2\n",
      "Tree leaves: 4\n",
      "-------\n",
      "TEST\n",
      "Mean average error (test): 0.09311797745644314\n",
      "Mean squared error (test): 0.7141961548028364\n",
      "R2 score (test): -0.07037717234090213\n",
      "-------\n",
      "TRAIN\n",
      "Mean average error (train): 0.07459249879752854\n",
      "Mean squared error (train): 0.314615227507044\n",
      "R2 score (train): 0.016423338639321883\n",
      "--------------------------------------\n",
      "--------------------------------------\n",
      "Tree depth: 4\n",
      "Tree leaves: 11\n",
      "-------\n",
      "TEST\n",
      "Mean average error (test): 0.09146700681853119\n",
      "Mean squared error (test): 0.7133338574082906\n",
      "R2 score (test): -0.06908483347757444\n",
      "-------\n",
      "TRAIN\n",
      "Mean average error (train): 0.07430625502994367\n",
      "Mean squared error (train): 0.3141473298358048\n",
      "R2 score (train): 0.017886119805327394\n",
      "--------------------------------------\n",
      "--------------------------------------\n",
      "Tree depth: 6\n",
      "Tree leaves: 29\n",
      "-------\n",
      "TEST\n",
      "Mean average error (test): 0.1602318529270728\n",
      "Mean squared error (test): 1.3652001981390014\n",
      "R2 score (test): -1.0460473189843338\n",
      "-------\n",
      "TRAIN\n",
      "Mean average error (train): 0.07355184470058335\n",
      "Mean squared error (train): 0.30865911473675756\n",
      "R2 score (train): 0.035043840767289725\n",
      "--------------------------------------\n",
      "--------------------------------------\n",
      "Tree depth: 8\n",
      "Tree leaves: 57\n",
      "-------\n",
      "TEST\n",
      "Mean average error (test): 0.10255404661060942\n",
      "Mean squared error (test): 0.752571515681444\n",
      "R2 score (test): -0.12789093797598206\n",
      "-------\n",
      "TRAIN\n",
      "Mean average error (train): 0.07161031548204566\n",
      "Mean squared error (train): 0.30272862453083554\n",
      "R2 score (train): 0.053584239473332684\n",
      "--------------------------------------\n",
      "--------------------------------------\n",
      "Tree depth: 10\n",
      "Tree leaves: 137\n",
      "-------\n",
      "TEST\n",
      "Mean average error (test): 0.1278593989970504\n",
      "Mean squared error (test): 0.7834306200928823\n",
      "R2 score (test): -0.17413997012038873\n",
      "-------\n",
      "TRAIN\n",
      "Mean average error (train): 0.06870334098916188\n",
      "Mean squared error (train): 0.2858936239948462\n",
      "R2 score (train): 0.10621523814558509\n",
      "--------------------------------------\n",
      "--------------------------------------\n",
      "Tree depth: 12\n",
      "Tree leaves: 191\n",
      "-------\n",
      "TEST\n",
      "Mean average error (test): 0.16040213370970768\n",
      "Mean squared error (test): 0.8802800246029826\n",
      "R2 score (test): -0.3192897179106713\n",
      "-------\n",
      "TRAIN\n",
      "Mean average error (train): 0.06892691104613512\n",
      "Mean squared error (train): 0.2857182998512249\n",
      "R2 score (train): 0.1067633512715942\n",
      "--------------------------------------\n",
      "--------------------------------------\n",
      "Tree depth: 14\n",
      "Tree leaves: 362\n",
      "-------\n",
      "TEST\n",
      "Mean average error (test): 0.1247684136156924\n",
      "Mean squared error (test): 0.8144230814786932\n",
      "R2 score (test): -0.22058886649002396\n",
      "-------\n",
      "TRAIN\n",
      "Mean average error (train): 0.0676055940636422\n",
      "Mean squared error (train): 0.28898987949004606\n",
      "R2 score (train): 0.09653546305389726\n",
      "--------------------------------------\n",
      "--------------------------------------\n",
      "Tree depth: 16\n",
      "Tree leaves: 362\n",
      "-------\n",
      "TEST\n",
      "Mean average error (test): 0.14448682166247148\n",
      "Mean squared error (test): 0.8392953846743461\n",
      "R2 score (test): -0.25786538413176063\n",
      "-------\n",
      "TRAIN\n",
      "Mean average error (train): 0.06812166405844088\n",
      "Mean squared error (train): 0.29372066534027447\n",
      "R2 score (train): 0.08174568129714566\n",
      "--------------------------------------\n",
      "--------------------------------------\n",
      "Tree depth: 18\n",
      "Tree leaves: 595\n",
      "-------\n",
      "TEST\n",
      "Mean average error (test): 0.12466585778882966\n",
      "Mean squared error (test): 0.7583045018255995\n",
      "R2 score (test): -0.13648305578113162\n",
      "-------\n",
      "TRAIN\n",
      "Mean average error (train): 0.06531278672034366\n",
      "Mean squared error (train): 0.2824549828513891\n",
      "R2 score (train): 0.11696540813035883\n",
      "--------------------------------------\n",
      "--------------------------------------\n",
      "Tree depth: 20\n",
      "Tree leaves: 832\n",
      "-------\n",
      "TEST\n",
      "Mean average error (test): 0.11487711531012888\n",
      "Mean squared error (test): 0.7359053686746465\n",
      "R2 score (test): -0.10291311754529331\n",
      "-------\n",
      "TRAIN\n",
      "Mean average error (train): 0.06468810139157555\n",
      "Mean squared error (train): 0.2759410985387807\n",
      "R2 score (train): 0.13732966270078206\n",
      "--------------------------------------\n",
      "--------------------------------------\n",
      "Tree depth: 22\n",
      "Tree leaves: 918\n",
      "-------\n",
      "TEST\n",
      "Mean average error (test): 0.1539839620760859\n",
      "Mean squared error (test): 0.8528748772511001\n",
      "R2 score (test): -0.2782171863199745\n",
      "-------\n",
      "TRAIN\n",
      "Mean average error (train): 0.0647737679914035\n",
      "Mean squared error (train): 0.28178685886560667\n",
      "R2 score (train): 0.11905415368955508\n",
      "--------------------------------------\n",
      "--------------------------------------\n",
      "Tree depth: 24\n",
      "Tree leaves: 1349\n",
      "-------\n",
      "TEST\n",
      "Mean average error (test): 0.18689203249379588\n",
      "Mean squared error (test): 0.9199582177785786\n",
      "R2 score (test): -0.37875605909618937\n",
      "-------\n",
      "TRAIN\n",
      "Mean average error (train): 0.06370058772445295\n",
      "Mean squared error (train): 0.2832060727932518\n",
      "R2 score (train): 0.11461728740126176\n",
      "--------------------------------------\n",
      "--------------------------------------\n",
      "Tree depth: 26\n",
      "Tree leaves: 1381\n",
      "-------\n",
      "TEST\n",
      "Mean average error (test): 0.14801476329230925\n",
      "Mean squared error (test): 0.8798102110049814\n",
      "R2 score (test): -0.31858560077538\n",
      "-------\n",
      "TRAIN\n",
      "Mean average error (train): 0.06403983187987272\n",
      "Mean squared error (train): 0.2806518273825236\n",
      "R2 score (train): 0.12260258484947129\n",
      "--------------------------------------\n",
      "--------------------------------------\n",
      "Tree depth: 28\n",
      "Tree leaves: 1526\n",
      "-------\n",
      "TEST\n",
      "Mean average error (test): 0.15498891840768786\n",
      "Mean squared error (test): 0.9335342726459898\n",
      "R2 score (test): -0.3991027091345618\n",
      "-------\n",
      "TRAIN\n",
      "Mean average error (train): 0.06392697939856555\n",
      "Mean squared error (train): 0.26193702167449845\n",
      "R2 score (train): 0.18111038900812726\n",
      "--------------------------------------\n",
      "--------------------------------------\n",
      "Tree depth: 30\n",
      "Tree leaves: 1608\n",
      "-------\n",
      "TEST\n",
      "Mean average error (test): 0.147392530719861\n",
      "Mean squared error (test): 0.8716229465076846\n",
      "R2 score (test): -0.3063152168438914\n",
      "-------\n",
      "TRAIN\n",
      "Mean average error (train): 0.06349343375110793\n",
      "Mean squared error (train): 0.2700211255692093\n",
      "R2 score (train): 0.15583718153543902\n",
      "--------------------------------------\n",
      "--------------------------------------\n",
      "Tree depth: 32\n",
      "Tree leaves: 1616\n",
      "-------\n",
      "TEST\n",
      "Mean average error (test): 0.1537439935346384\n",
      "Mean squared error (test): 0.8690033918750357\n",
      "R2 score (test): -0.3023892485204396\n",
      "-------\n",
      "TRAIN\n",
      "Mean average error (train): 0.0630854679776316\n",
      "Mean squared error (train): 0.28223215682568403\n",
      "R2 score (train): 0.11766202564682127\n",
      "--------------------------------------\n",
      "--------------------------------------\n",
      "Tree depth: 34\n",
      "Tree leaves: 1616\n",
      "-------\n",
      "TEST\n",
      "Mean average error (test): 0.1509693271941155\n",
      "Mean squared error (test): 0.8867505826194942\n",
      "R2 score (test): -0.3289872464490231\n",
      "-------\n",
      "TRAIN\n",
      "Mean average error (train): 0.06367783460839449\n",
      "Mean squared error (train): 0.2825777861095028\n",
      "R2 score (train): 0.1165814902266491\n",
      "--------------------------------------\n",
      "--------------------------------------\n",
      "Tree depth: 36\n",
      "Tree leaves: 1622\n",
      "-------\n",
      "TEST\n",
      "Mean average error (test): 0.14854756712100212\n",
      "Mean squared error (test): 0.8605167786143615\n",
      "R2 score (test): -0.2896702258211097\n",
      "-------\n",
      "TRAIN\n",
      "Mean average error (train): 0.06362365692081835\n",
      "Mean squared error (train): 0.2773366670657634\n",
      "R2 score (train): 0.13296671865847898\n",
      "--------------------------------------\n",
      "--------------------------------------\n",
      "Tree depth: 38\n",
      "Tree leaves: 1641\n",
      "-------\n",
      "TEST\n",
      "Mean average error (test): 0.15154508198241698\n",
      "Mean squared error (test): 0.8674010405555129\n",
      "R2 score (test): -0.2999877790320451\n",
      "-------\n",
      "TRAIN\n",
      "Mean average error (train): 0.06409025017398112\n",
      "Mean squared error (train): 0.2750606030602986\n",
      "R2 score (train): 0.14008234193354163\n",
      "--------------------------------------\n",
      "--------------------------------------\n",
      "Tree depth: 39\n",
      "Tree leaves: 1619\n",
      "-------\n",
      "TEST\n",
      "Mean average error (test): 0.14997344400252216\n",
      "Mean squared error (test): 0.8781741696764329\n",
      "R2 score (test): -0.3161336395329284\n",
      "-------\n",
      "TRAIN\n",
      "Mean average error (train): 0.06351334712070576\n",
      "Mean squared error (train): 0.2769399211892528\n",
      "R2 score (train): 0.1342070590823008\n",
      "--------------------------------------\n",
      "--------------------------------------\n",
      "Tree depth: 39\n",
      "Tree leaves: 1619\n",
      "-------\n",
      "TEST\n",
      "Mean average error (test): 0.14997344400252216\n",
      "Mean squared error (test): 0.8781741696764329\n",
      "R2 score (test): -0.3161336395329284\n",
      "-------\n",
      "TRAIN\n",
      "Mean average error (train): 0.06351334712070576\n",
      "Mean squared error (train): 0.2769399211892528\n",
      "R2 score (train): 0.1342070590823008\n",
      "--------------------------------------\n"
     ]
    },
    {
     "name": "stdout",
     "output_type": "stream",
     "text": [
      "--------------------------------------\n",
      "Tree depth: 39\n",
      "Tree leaves: 1619\n",
      "-------\n",
      "TEST\n",
      "Mean average error (test): 0.14997344400252216\n",
      "Mean squared error (test): 0.8781741696764329\n",
      "R2 score (test): -0.3161336395329284\n",
      "-------\n",
      "TRAIN\n",
      "Mean average error (train): 0.06351334712070576\n",
      "Mean squared error (train): 0.2769399211892528\n",
      "R2 score (train): 0.1342070590823008\n",
      "--------------------------------------\n",
      "--------------------------------------\n",
      "Tree depth: 39\n",
      "Tree leaves: 1619\n",
      "-------\n",
      "TEST\n",
      "Mean average error (test): 0.14997344400252216\n",
      "Mean squared error (test): 0.8781741696764329\n",
      "R2 score (test): -0.3161336395329284\n",
      "-------\n",
      "TRAIN\n",
      "Mean average error (train): 0.06351334712070576\n",
      "Mean squared error (train): 0.2769399211892528\n",
      "R2 score (train): 0.1342070590823008\n",
      "--------------------------------------\n",
      "--------------------------------------\n",
      "Tree depth: 39\n",
      "Tree leaves: 1619\n",
      "-------\n",
      "TEST\n",
      "Mean average error (test): 0.14997344400252216\n",
      "Mean squared error (test): 0.8781741696764329\n",
      "R2 score (test): -0.3161336395329284\n",
      "-------\n",
      "TRAIN\n",
      "Mean average error (train): 0.06351334712070576\n",
      "Mean squared error (train): 0.2769399211892528\n",
      "R2 score (train): 0.1342070590823008\n",
      "--------------------------------------\n",
      "--------------------------------------\n",
      "Tree depth: 39\n",
      "Tree leaves: 1619\n",
      "-------\n",
      "TEST\n",
      "Mean average error (test): 0.14997344400252216\n",
      "Mean squared error (test): 0.8781741696764329\n",
      "R2 score (test): -0.3161336395329284\n",
      "-------\n",
      "TRAIN\n",
      "Mean average error (train): 0.06351334712070576\n",
      "Mean squared error (train): 0.2769399211892528\n",
      "R2 score (train): 0.1342070590823008\n",
      "--------------------------------------\n",
      "--------------------------------------\n",
      "Tree depth: 39\n",
      "Tree leaves: 1619\n",
      "-------\n",
      "TEST\n",
      "Mean average error (test): 0.14997344400252216\n",
      "Mean squared error (test): 0.8781741696764329\n",
      "R2 score (test): -0.3161336395329284\n",
      "-------\n",
      "TRAIN\n",
      "Mean average error (train): 0.06351334712070576\n",
      "Mean squared error (train): 0.2769399211892528\n",
      "R2 score (train): 0.1342070590823008\n",
      "--------------------------------------\n",
      "--------------------------------------\n",
      "Tree depth: 39\n",
      "Tree leaves: 1619\n",
      "-------\n",
      "TEST\n",
      "Mean average error (test): 0.14997344400252216\n",
      "Mean squared error (test): 0.8781741696764329\n",
      "R2 score (test): -0.3161336395329284\n",
      "-------\n",
      "TRAIN\n",
      "Mean average error (train): 0.06351334712070576\n",
      "Mean squared error (train): 0.2769399211892528\n",
      "R2 score (train): 0.1342070590823008\n",
      "--------------------------------------\n",
      "--------------------------------------\n",
      "Tree depth: 39\n",
      "Tree leaves: 1619\n",
      "-------\n",
      "TEST\n",
      "Mean average error (test): 0.14997344400252216\n",
      "Mean squared error (test): 0.8781741696764329\n",
      "R2 score (test): -0.3161336395329284\n",
      "-------\n",
      "TRAIN\n",
      "Mean average error (train): 0.06351334712070576\n",
      "Mean squared error (train): 0.2769399211892528\n",
      "R2 score (train): 0.1342070590823008\n",
      "--------------------------------------\n",
      "--------------------------------------\n",
      "Tree depth: 39\n",
      "Tree leaves: 1619\n",
      "-------\n",
      "TEST\n",
      "Mean average error (test): 0.14997344400252216\n",
      "Mean squared error (test): 0.8781741696764329\n",
      "R2 score (test): -0.3161336395329284\n",
      "-------\n",
      "TRAIN\n",
      "Mean average error (train): 0.06351334712070576\n",
      "Mean squared error (train): 0.2769399211892528\n",
      "R2 score (train): 0.1342070590823008\n",
      "--------------------------------------\n"
     ]
    }
   ],
   "source": [
    "r2_results=[]\n",
    "train_r2_results=[]\n",
    "\n",
    "MSE_results=[]\n",
    "train_MSE_results=[]\n",
    "\n",
    "MAE_results=[]\n",
    "train_MAE_results=[]\n",
    "\n",
    "max_depths = np.arange(2,60,step=2)\n",
    "\n",
    "for max_depth in max_depths:\n",
    "    \n",
    "    min_split = math.ceil(len(X_train_scaled) * .001)\n",
    "    #min_split = 2\n",
    "\n",
    "    clf = tree.DecisionTreeRegressor(criterion='mse', max_depth=max_depth, \n",
    "                                    min_samples_split=min_split, min_samples_leaf=2, \n",
    "                                    max_features=20,\n",
    "                                    max_leaf_nodes=None,\n",
    "                                    random_state=123)\n",
    "    \n",
    "    # fit - training\n",
    "    clf = clf.fit(X_train_scaled, Y_train)\n",
    "\n",
    "    \n",
    "    # build yhat using the train features to test accuracy metrics\n",
    "    yhat = clf.predict(X_test_scaled)\n",
    "    train_yhat = clf.predict(X_train_scaled)\n",
    "\n",
    "    # MAE - higher = worse performing | lower = better\n",
    "    predict_mae = mean_absolute_error(Y_test, yhat)\n",
    "    train_mae = mean_absolute_error(Y_train, train_yhat)\n",
    "\n",
    "    # MSE - higher = worse performing | lower = better\n",
    "    predict_mse = mean_squared_error(Y_test, yhat)  \n",
    "    train_mse = mean_squared_error(Y_train, train_yhat)\n",
    "\n",
    "    # r2 score\n",
    "    predict_score2 = mt.r2_score(Y_test, yhat)\n",
    "    train_score2 = mt.r2_score(Y_train, train_yhat)\n",
    "\n",
    "\n",
    "    # graphing variables\n",
    "    r2_results.append(predict_score2)\n",
    "    train_r2_results.append(train_score2)\n",
    "    \n",
    "    MSE_results.append(predict_mse)\n",
    "    train_MSE_results.append(train_mse)\n",
    "    \n",
    "    MAE_results.append(predict_mae)\n",
    "    train_MAE_results.append(train_mae)\n",
    "\n",
    "    # depth of tree\n",
    "    depth = clf.get_depth()\n",
    "    leaves = clf.get_n_leaves()\n",
    "    \n",
    "    print ('--------------------------------------')\n",
    "    print ('Tree depth:', depth)\n",
    "    print ('Tree leaves:', leaves)\n",
    "    print ('-------')\n",
    "    print ('TEST')\n",
    "    print ('Mean average error (test):', predict_mae)\n",
    "    print ('Mean squared error (test):', predict_mse)\n",
    "    print ('R2 score (test):', predict_score2)\n",
    "    print ('-------')\n",
    "    print ('TRAIN')\n",
    "    print ('Mean average error (train):', train_mae)\n",
    "    print ('Mean squared error (train):', train_mse)\n",
    "    print ('R2 score (train):', train_score2)\n",
    "    print ('--------------------------------------')"
   ]
  },
  {
   "cell_type": "markdown",
   "metadata": {},
   "source": [
    "#### From the iterated results, a series of visualizations is produced to evaluate the various metrics we've identified to evaluate the effectiveness of the model (and to identify the ideal tree depth). The metrics visualized below include: 1) R2, 2) MSE, and 3) MAE\n",
    "\n",
    "#### The results from the R2 metric are low, across both the test and train data sets. We suspect this may be due in part to outliers in the data. Evaluating the MAE and MSE metrics will be revealing."
   ]
  },
  {
   "cell_type": "code",
   "execution_count": 16,
   "metadata": {},
   "outputs": [
    {
     "data": {
      "image/png": "[encoded data removed]",
      "text/plain": [
       "<Figure size 576x396 with 1 Axes>"
      ]
     },
     "metadata": {},
     "output_type": "display_data"
    }
   ],
   "source": [
    "plt.plot(max_depths, r2_results, 'g', label=\"Test\")\n",
    "plt.plot(max_depths, train_r2_results, 'p', label=\"Train\")\n",
    "\n",
    "plt.legend()\n",
    "plt.ylabel(\"R2\")\n",
    "plt.xlabel(\"Max Depth\")\n",
    "plt.show()"
   ]
  },
  {
   "cell_type": "markdown",
   "metadata": {},
   "source": [
    "#### The results from the MSE metric for the train set are lower than the test set, but not by a substantial margin. Seeing as how both the test and train scores are relatively close, this is a good indicator that the model is performing equally well on both data sets."
   ]
  },
  {
   "cell_type": "code",
   "execution_count": 17,
   "metadata": {
    "scrolled": true
   },
   "outputs": [
    {
     "data": {
      "image/png": "[encoded data removed]",
      "text/plain": [
       "<Figure size 576x396 with 1 Axes>"
      ]
     },
     "metadata": {},
     "output_type": "display_data"
    }
   ],
   "source": [
    "plt.plot(max_depths, MSE_results, 'g', label=\"Test\")\n",
    "plt.plot(max_depths, train_MSE_results, 'p', label=\"Train\")\n",
    "\n",
    "plt.legend()\n",
    "plt.ylabel(\"MSE\")\n",
    "plt.xlabel(\"Max Depth\")\n",
    "plt.show()"
   ]
  },
  {
   "cell_type": "markdown",
   "metadata": {},
   "source": [
    "#### The MAE plot indicates that the model is accurate to within about 0.10 - 0.18 of a mile of the distance of the extent and effect of the accident. This is also relatively close to the distance predicated using the train data set indicating the model is performing about equally well between the two data sets. Moreover, comparing MSE to MAE, we can see a wide differential between the two values. This further illustrates that there is likely an influence of outliers within the data sets. We will explore this via box plots below."
   ]
  },
  {
   "cell_type": "code",
   "execution_count": 21,
   "metadata": {
    "scrolled": false
   },
   "outputs": [
    {
     "data": {
      "image/png": "[encoded data removed]",
      "text/plain": [
       "<Figure size 576x396 with 1 Axes>"
      ]
     },
     "metadata": {},
     "output_type": "display_data"
    }
   ],
   "source": [
    "plt.plot(max_depths, MAE_results, 'g', label=\"Test\")\n",
    "plt.plot(max_depths, train_MAE_results, 'p', label=\"Train\")\n",
    "\n",
    "plt.legend()\n",
    "plt.ylabel(\"MAE\")\n",
    "plt.xlabel(\"Max Depth\")\n",
    "plt.show()"
   ]
  },
  {
   "cell_type": "markdown",
   "metadata": {},
   "source": [
    "#### Boxplot for yhat which are the predicted test values for distance compared to the actual y test values (second box plot below). We can see that there are subtantially larger outliers in the y Test target variable compared to the predicted values using the train data set explaining why the R2 score is likely not the best measure of the effectiveness of this model."
   ]
  },
  {
   "cell_type": "code",
   "execution_count": 22,
   "metadata": {},
   "outputs": [
    {
     "data": {
      "image/png": "[encoded data removed]",
      "text/plain": [
       "<Figure size 576x396 with 1 Axes>"
      ]
     },
     "metadata": {},
     "output_type": "display_data"
    }
   ],
   "source": [
    "ax = sns.boxplot(yhat)"
   ]
  },
  {
   "cell_type": "code",
   "execution_count": 23,
   "metadata": {},
   "outputs": [
    {
     "data": {
      "image/png": "[encoded data removed]",
      "text/plain": [
       "<Figure size 576x396 with 1 Axes>"
      ]
     },
     "metadata": {},
     "output_type": "display_data"
    }
   ],
   "source": [
    "ax = sns.boxplot(x=Y_test)"
   ]
  },
  {
   "cell_type": "markdown",
   "metadata": {},
   "source": [
    "#### Conclusion: the depth that produces the highest R2 score and lowest MAE is a tree depth of 10 with 156 leaves. Evaluating the MAE score indicates that our model can predict the length of the road extent affected by the accident within an accuracy of approximately 0.10 - 0.18 miles generally. Outliers of course may result in wildly different distances but across most accidents (at least modelled from this data set), the extent of the affect is predicted within less than 1/4 of a mile. This may be useful for first responders and others trying to get to the scene quickly since they can anticipate the potential affect on traffic that the accident might cause."
   ]
  },
  {
   "cell_type": "markdown",
   "metadata": {},
   "source": [
    "## Modeling and Evaluation - 70pts"
   ]
  },
  {
   "cell_type": "markdown",
   "metadata": {},
   "source": [
    "### Categorical Variable Modeling"
   ]
  },
  {
   "cell_type": "code",
   "execution_count": 5,
   "metadata": {},
   "outputs": [],
   "source": [
    "#Convert dataframes to numpy arrays\n",
    "\n",
    "X_train = df_X_train.to_numpy()\n",
    "X_test = df_X_test.to_numpy()\n",
    "\n",
    "Y_train = df_Y_train.to_numpy()\n",
    "Y_test = df_Y_test.to_numpy()"
   ]
  },
  {
   "cell_type": "code",
   "execution_count": 30,
   "metadata": {},
   "outputs": [
    {
     "name": "stdout",
     "output_type": "stream",
     "text": [
      "X-train:  (1760176, 143)\n",
      "X-test:  (440044, 143)\n",
      "Y-train:  (1760176,)\n",
      "Y-test:  (440044,)\n"
     ]
    }
   ],
   "source": [
    "print(\"X-train: \",X_train.shape)\n",
    "print(\"X-test: \",X_test.shape)\n",
    "print(\"Y-train: \",Y_train.shape)\n",
    "print(\"Y-test: \",Y_test.shape)"
   ]
  },
  {
   "cell_type": "markdown",
   "metadata": {},
   "source": [
    "### Logistic Regression Model"
   ]
  },
  {
   "cell_type": "code",
   "execution_count": 6,
   "metadata": {},
   "outputs": [
    {
     "name": "stdout",
     "output_type": "stream",
     "text": [
      "Wall time: 5.99 ms\n"
     ]
    }
   ],
   "source": [
    "#logistic regression - Severity\n",
    "%time\n",
    "logistic_regression= LogisticRegression(penalty='l2', C=1.0, class_weight=None, solver='liblinear')\n",
    "logistic_regression.fit(X_train,Y_train)\n",
    "Y_pred=logistic_regression.predict(X_test)"
   ]
  },
  {
   "cell_type": "code",
   "execution_count": 7,
   "metadata": {},
   "outputs": [
    {
     "name": "stdout",
     "output_type": "stream",
     "text": [
      "              precision    recall  f1-score   support\n",
      "\n",
      "         0.0       0.81      0.83      0.82    309416\n",
      "         1.0       0.57      0.53      0.55    130628\n",
      "\n",
      "    accuracy                           0.74    440044\n",
      "   macro avg       0.69      0.68      0.69    440044\n",
      "weighted avg       0.74      0.74      0.74    440044\n",
      "\n"
     ]
    }
   ],
   "source": [
    "# Accuracy | Accuracy = (TP+TN)/Total\n",
    "print(mt.classification_report(Y_test,Y_pred))"
   ]
  },
  {
   "cell_type": "markdown",
   "metadata": {},
   "source": [
    "### SVM Model"
   ]
  },
  {
   "cell_type": "code",
   "execution_count": 8,
   "metadata": {},
   "outputs": [],
   "source": [
    "#NOTE: Code below adapted from the course lectures\n",
    "# we want to normalize the features based upon the mean and standard deviation of each column. \n",
    "\n",
    "# scale attributes by the training set\n",
    "scl_obj = StandardScaler()\n",
    "scl_obj.fit(X_train) # find scalings for each column that make this zero mean and unit std\n",
    "\n",
    "X_train_scaled = scl_obj.transform(X_train) # apply to training\n",
    "X_test_scaled = scl_obj.transform(X_test) # apply those means and std to the test set "
   ]
  },
  {
   "cell_type": "code",
   "execution_count": 10,
   "metadata": {},
   "outputs": [
    {
     "name": "stdout",
     "output_type": "stream",
     "text": [
      "SVM: 0.738455699884557\n",
      "Wall time: 15.6 s\n"
     ]
    }
   ],
   "source": [
    "%%time\n",
    "regularize_const = 0.1\n",
    "iterations = 5\n",
    "svm_sgd = SGDClassifier(alpha=regularize_const,\n",
    "        fit_intercept=True, l1_ratio=0.0, learning_rate='optimal',\n",
    "        loss='hinge', n_iter_no_change=iterations, n_jobs=-1, penalty='l2', shuffle=True)\n",
    "\n",
    "svm_sgd.fit(X_train_scaled,Y_train)\n",
    "yhat = svm_sgd.predict(X_test_scaled)\n",
    "    \n",
    "conf = mt.confusion_matrix(Y_test,yhat)\n",
    "acc = mt.accuracy_score(Y_test,yhat)\n",
    "\n",
    "print('SVM:', acc)"
   ]
  },
  {
   "cell_type": "markdown",
   "metadata": {},
   "source": [
    "### Categorical Variable Modeling"
   ]
  },
  {
   "cell_type": "code",
   "execution_count": 11,
   "metadata": {},
   "outputs": [],
   "source": [
    "#build two training/test sets for distance\n",
    "#Build the Distance dataframes\n",
    "df_X_train = df_train.copy()\n",
    "df_X_test = df_test.copy()\n",
    "\n",
    "\n",
    "df_Y_train = df_X_train['Distance(mi)'].copy()\n",
    "df_Y_test = df_X_test['Distance(mi)'].copy()\n",
    "\n",
    "#list columns to remove:\n",
    "removeList = {'Distance(mi)', 'Weather_Condition','SM_Interim','State','Timezone','Start_Time','Unnamed: 0'} \n",
    "\n",
    "df_X_train.drop(removeList,1,inplace=True)\n",
    "df_X_test.drop(removeList,1,inplace=True)"
   ]
  },
  {
   "cell_type": "code",
   "execution_count": 12,
   "metadata": {},
   "outputs": [],
   "source": [
    "#Convert dataframes to numpy arrays\n",
    "X_train = df_X_train.values\n",
    "X_test = df_X_test.values\n",
    "\n",
    "Y_train = df_Y_train.values\n",
    "Y_test = df_Y_test.values"
   ]
  },
  {
   "cell_type": "code",
   "execution_count": null,
   "metadata": {},
   "outputs": [],
   "source": [
    "### SVM Model"
   ]
  },
  {
   "cell_type": "code",
   "execution_count": 13,
   "metadata": {},
   "outputs": [],
   "source": [
    "#NOTE: Code below adapted from the course lectures\n",
    "# we want to normalize the features based upon the mean and standard deviation of each column. \n",
    "\n",
    "# scale attributes by the training set\n",
    "scl_obj = StandardScaler()\n",
    "scl_obj.fit(X_train) # find scalings for each column that make this zero mean and unit std\n",
    "\n",
    "X_train_scaled = scl_obj.transform(X_train) # apply to training\n",
    "X_test_scaled = scl_obj.transform(X_test) # apply those means and std to the test set "
   ]
  },
  {
   "cell_type": "code",
   "execution_count": 14,
   "metadata": {
    "scrolled": true
   },
   "outputs": [
    {
     "ename": "ValueError",
     "evalue": "Unknown label type: (array([0.00000000e+00, 9.99999978e-03, 1.00000000e-02, ...,\n       2.27210007e+02, 2.54399994e+02, 3.33630005e+02]),)",
     "output_type": "error",
     "traceback": [
      "\u001b[1;31m---------------------------------------------------------------------------\u001b[0m",
      "\u001b[1;31mValueError\u001b[0m                                Traceback (most recent call last)",
      "\u001b[1;32m<timed exec>\u001b[0m in \u001b[0;36m<module>\u001b[1;34m\u001b[0m\n",
      "\u001b[1;32m~\\AppData\\Local\\Continuum\\anaconda3\\lib\\site-packages\\sklearn\\linear_model\\_stochastic_gradient.py\u001b[0m in \u001b[0;36mfit\u001b[1;34m(self, X, y, coef_init, intercept_init, sample_weight)\u001b[0m\n\u001b[0;32m    709\u001b[0m                          \u001b[0mloss\u001b[0m\u001b[1;33m=\u001b[0m\u001b[0mself\u001b[0m\u001b[1;33m.\u001b[0m\u001b[0mloss\u001b[0m\u001b[1;33m,\u001b[0m \u001b[0mlearning_rate\u001b[0m\u001b[1;33m=\u001b[0m\u001b[0mself\u001b[0m\u001b[1;33m.\u001b[0m\u001b[0mlearning_rate\u001b[0m\u001b[1;33m,\u001b[0m\u001b[1;33m\u001b[0m\u001b[1;33m\u001b[0m\u001b[0m\n\u001b[0;32m    710\u001b[0m                          \u001b[0mcoef_init\u001b[0m\u001b[1;33m=\u001b[0m\u001b[0mcoef_init\u001b[0m\u001b[1;33m,\u001b[0m \u001b[0mintercept_init\u001b[0m\u001b[1;33m=\u001b[0m\u001b[0mintercept_init\u001b[0m\u001b[1;33m,\u001b[0m\u001b[1;33m\u001b[0m\u001b[1;33m\u001b[0m\u001b[0m\n\u001b[1;32m--> 711\u001b[1;33m                          sample_weight=sample_weight)\n\u001b[0m\u001b[0;32m    712\u001b[0m \u001b[1;33m\u001b[0m\u001b[0m\n\u001b[0;32m    713\u001b[0m \u001b[1;33m\u001b[0m\u001b[0m\n",
      "\u001b[1;32m~\\AppData\\Local\\Continuum\\anaconda3\\lib\\site-packages\\sklearn\\linear_model\\_stochastic_gradient.py\u001b[0m in \u001b[0;36m_fit\u001b[1;34m(self, X, y, alpha, C, loss, learning_rate, coef_init, intercept_init, sample_weight)\u001b[0m\n\u001b[0;32m    548\u001b[0m \u001b[1;33m\u001b[0m\u001b[0m\n\u001b[0;32m    549\u001b[0m         self._partial_fit(X, y, alpha, C, loss, learning_rate, self.max_iter,\n\u001b[1;32m--> 550\u001b[1;33m                           classes, sample_weight, coef_init, intercept_init)\n\u001b[0m\u001b[0;32m    551\u001b[0m \u001b[1;33m\u001b[0m\u001b[0m\n\u001b[0;32m    552\u001b[0m         if (self.tol is not None and self.tol > -np.inf\n",
      "\u001b[1;32m~\\AppData\\Local\\Continuum\\anaconda3\\lib\\site-packages\\sklearn\\linear_model\\_stochastic_gradient.py\u001b[0m in \u001b[0;36m_partial_fit\u001b[1;34m(self, X, y, alpha, C, loss, learning_rate, max_iter, classes, sample_weight, coef_init, intercept_init)\u001b[0m\n\u001b[0;32m    478\u001b[0m         \u001b[0mn_samples\u001b[0m\u001b[1;33m,\u001b[0m \u001b[0mn_features\u001b[0m \u001b[1;33m=\u001b[0m \u001b[0mX\u001b[0m\u001b[1;33m.\u001b[0m\u001b[0mshape\u001b[0m\u001b[1;33m\u001b[0m\u001b[1;33m\u001b[0m\u001b[0m\n\u001b[0;32m    479\u001b[0m \u001b[1;33m\u001b[0m\u001b[0m\n\u001b[1;32m--> 480\u001b[1;33m         \u001b[0m_check_partial_fit_first_call\u001b[0m\u001b[1;33m(\u001b[0m\u001b[0mself\u001b[0m\u001b[1;33m,\u001b[0m \u001b[0mclasses\u001b[0m\u001b[1;33m)\u001b[0m\u001b[1;33m\u001b[0m\u001b[1;33m\u001b[0m\u001b[0m\n\u001b[0m\u001b[0;32m    481\u001b[0m \u001b[1;33m\u001b[0m\u001b[0m\n\u001b[0;32m    482\u001b[0m         \u001b[0mn_classes\u001b[0m \u001b[1;33m=\u001b[0m \u001b[0mself\u001b[0m\u001b[1;33m.\u001b[0m\u001b[0mclasses_\u001b[0m\u001b[1;33m.\u001b[0m\u001b[0mshape\u001b[0m\u001b[1;33m[\u001b[0m\u001b[1;36m0\u001b[0m\u001b[1;33m]\u001b[0m\u001b[1;33m\u001b[0m\u001b[1;33m\u001b[0m\u001b[0m\n",
      "\u001b[1;32m~\\AppData\\Local\\Continuum\\anaconda3\\lib\\site-packages\\sklearn\\utils\\multiclass.py\u001b[0m in \u001b[0;36m_check_partial_fit_first_call\u001b[1;34m(clf, classes)\u001b[0m\n\u001b[0;32m    318\u001b[0m         \u001b[1;32melse\u001b[0m\u001b[1;33m:\u001b[0m\u001b[1;33m\u001b[0m\u001b[1;33m\u001b[0m\u001b[0m\n\u001b[0;32m    319\u001b[0m             \u001b[1;31m# This is the first call to partial_fit\u001b[0m\u001b[1;33m\u001b[0m\u001b[1;33m\u001b[0m\u001b[1;33m\u001b[0m\u001b[0m\n\u001b[1;32m--> 320\u001b[1;33m             \u001b[0mclf\u001b[0m\u001b[1;33m.\u001b[0m\u001b[0mclasses_\u001b[0m \u001b[1;33m=\u001b[0m \u001b[0munique_labels\u001b[0m\u001b[1;33m(\u001b[0m\u001b[0mclasses\u001b[0m\u001b[1;33m)\u001b[0m\u001b[1;33m\u001b[0m\u001b[1;33m\u001b[0m\u001b[0m\n\u001b[0m\u001b[0;32m    321\u001b[0m             \u001b[1;32mreturn\u001b[0m \u001b[1;32mTrue\u001b[0m\u001b[1;33m\u001b[0m\u001b[1;33m\u001b[0m\u001b[0m\n\u001b[0;32m    322\u001b[0m \u001b[1;33m\u001b[0m\u001b[0m\n",
      "\u001b[1;32m~\\AppData\\Local\\Continuum\\anaconda3\\lib\\site-packages\\sklearn\\utils\\multiclass.py\u001b[0m in \u001b[0;36munique_labels\u001b[1;34m(*ys)\u001b[0m\n\u001b[0;32m     92\u001b[0m     \u001b[0m_unique_labels\u001b[0m \u001b[1;33m=\u001b[0m \u001b[0m_FN_UNIQUE_LABELS\u001b[0m\u001b[1;33m.\u001b[0m\u001b[0mget\u001b[0m\u001b[1;33m(\u001b[0m\u001b[0mlabel_type\u001b[0m\u001b[1;33m,\u001b[0m \u001b[1;32mNone\u001b[0m\u001b[1;33m)\u001b[0m\u001b[1;33m\u001b[0m\u001b[1;33m\u001b[0m\u001b[0m\n\u001b[0;32m     93\u001b[0m     \u001b[1;32mif\u001b[0m \u001b[1;32mnot\u001b[0m \u001b[0m_unique_labels\u001b[0m\u001b[1;33m:\u001b[0m\u001b[1;33m\u001b[0m\u001b[1;33m\u001b[0m\u001b[0m\n\u001b[1;32m---> 94\u001b[1;33m         \u001b[1;32mraise\u001b[0m \u001b[0mValueError\u001b[0m\u001b[1;33m(\u001b[0m\u001b[1;34m\"Unknown label type: %s\"\u001b[0m \u001b[1;33m%\u001b[0m \u001b[0mrepr\u001b[0m\u001b[1;33m(\u001b[0m\u001b[0mys\u001b[0m\u001b[1;33m)\u001b[0m\u001b[1;33m)\u001b[0m\u001b[1;33m\u001b[0m\u001b[1;33m\u001b[0m\u001b[0m\n\u001b[0m\u001b[0;32m     95\u001b[0m \u001b[1;33m\u001b[0m\u001b[0m\n\u001b[0;32m     96\u001b[0m     \u001b[0mys_labels\u001b[0m \u001b[1;33m=\u001b[0m \u001b[0mset\u001b[0m\u001b[1;33m(\u001b[0m\u001b[0mchain\u001b[0m\u001b[1;33m.\u001b[0m\u001b[0mfrom_iterable\u001b[0m\u001b[1;33m(\u001b[0m\u001b[0m_unique_labels\u001b[0m\u001b[1;33m(\u001b[0m\u001b[0my\u001b[0m\u001b[1;33m)\u001b[0m \u001b[1;32mfor\u001b[0m \u001b[0my\u001b[0m \u001b[1;32min\u001b[0m \u001b[0mys\u001b[0m\u001b[1;33m)\u001b[0m\u001b[1;33m)\u001b[0m\u001b[1;33m\u001b[0m\u001b[1;33m\u001b[0m\u001b[0m\n",
      "\u001b[1;31mValueError\u001b[0m: Unknown label type: (array([0.00000000e+00, 9.99999978e-03, 1.00000000e-02, ...,\n       2.27210007e+02, 2.54399994e+02, 3.33630005e+02]),)"
     ]
    }
   ],
   "source": [
    "%%time\n",
    "regularize_const = 0.1\n",
    "iterations = 5\n",
    "svm_sgd = SGDClassifier(alpha=regularize_const,\n",
    "        fit_intercept=True, l1_ratio=0.0, learning_rate='optimal',\n",
    "        loss='hinge', n_iter_no_change=iterations, n_jobs=-1, penalty='l2', shuffle=True)\n",
    "\n",
    "svm_sgd.fit(X_train_scaled,Y_train)\n",
    "yhat = svm_sgd.predict(X_test_scaled)\n",
    "    \n",
    "conf = mt.confusion_matrix(Y_test,yhat)\n",
    "acc = mt.accuracy_score(Y_test,yhat)\n",
    "\n",
    "print('SVM:', acc)"
   ]
  },
  {
   "cell_type": "markdown",
   "metadata": {},
   "source": [
    "## Model Deployment - 5pts"
   ]
  },
  {
   "cell_type": "markdown",
   "metadata": {},
   "source": [
    "## Exceptional Work - 10pts"
   ]
  }
 ],
 "metadata": {
  "kernelspec": {
   "display_name": "Python 3",
   "language": "python",
   "name": "python3"
  },
  "language_info": {
   "codemirror_mode": {
    "name": "ipython",
    "version": 3
   },
   "file_extension": ".py",
   "mimetype": "text/x-python",
   "name": "python",
   "nbconvert_exporter": "python",
   "pygments_lexer": "ipython3",
   "version": "3.7.5"
  }
 },
 "nbformat": 4,
 "nbformat_minor": 2
}
