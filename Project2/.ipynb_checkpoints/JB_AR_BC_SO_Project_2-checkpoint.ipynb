{
 "cells": [
  {
   "cell_type": "markdown",
   "metadata": {},
   "source": [
    "# DS 7331 - Machine Learning - Course Project\n",
    "Team: Allison Roderick, Jayson Barker, Sandesh Ojha, Brandon Croom\n",
    "\n",
    "Lab Number: 2"
   ]
  },
  {
   "cell_type": "markdown",
   "metadata": {},
   "source": [
    "## Data Preparation - 15pts\n",
    "The following cells setup the notebook for use and analysis"
   ]
  },
  {
   "cell_type": "code",
   "execution_count": 165,
   "metadata": {},
   "outputs": [
    {
     "ename": "ImportError",
     "evalue": "cannot import name 'cross_validation' from 'sklearn' (F:\\Anaconda\\envs\\ML7331\\lib\\site-packages\\sklearn\\__init__.py)",
     "output_type": "error",
     "traceback": [
      "\u001b[1;31m---------------------------------------------------------------------------\u001b[0m",
      "\u001b[1;31mImportError\u001b[0m                               Traceback (most recent call last)",
      "\u001b[1;32m<ipython-input-165-d967d62b062e>\u001b[0m in \u001b[0;36m<module>\u001b[1;34m\u001b[0m\n\u001b[0;32m     25\u001b[0m \u001b[1;32mfrom\u001b[0m \u001b[0msklearn\u001b[0m\u001b[1;33m.\u001b[0m\u001b[0mmetrics\u001b[0m \u001b[1;32mimport\u001b[0m \u001b[0mrecall_score\u001b[0m\u001b[1;33m\u001b[0m\u001b[1;33m\u001b[0m\u001b[0m\n\u001b[0;32m     26\u001b[0m \u001b[1;32mfrom\u001b[0m \u001b[0mIPython\u001b[0m\u001b[1;33m.\u001b[0m\u001b[0mdisplay\u001b[0m \u001b[1;32mimport\u001b[0m \u001b[0mImage\u001b[0m\u001b[1;33m\u001b[0m\u001b[1;33m\u001b[0m\u001b[0m\n\u001b[1;32m---> 27\u001b[1;33m \u001b[1;32mfrom\u001b[0m \u001b[0msklearn\u001b[0m \u001b[1;32mimport\u001b[0m \u001b[0mcross_validation\u001b[0m\u001b[1;33m,\u001b[0m \u001b[0mdatasets\u001b[0m\u001b[1;33m\u001b[0m\u001b[1;33m\u001b[0m\u001b[0m\n\u001b[0m\u001b[0;32m     28\u001b[0m \u001b[1;32mfrom\u001b[0m \u001b[0msklearn\u001b[0m\u001b[1;33m.\u001b[0m\u001b[0mensemble\u001b[0m \u001b[1;32mimport\u001b[0m \u001b[0mAdaBoostRegressor\u001b[0m\u001b[1;33m\u001b[0m\u001b[1;33m\u001b[0m\u001b[0m\n\u001b[0;32m     29\u001b[0m \u001b[1;32mimport\u001b[0m \u001b[0mpydotplus\u001b[0m\u001b[1;33m\u001b[0m\u001b[1;33m\u001b[0m\u001b[0m\n",
      "\u001b[1;31mImportError\u001b[0m: cannot import name 'cross_validation' from 'sklearn' (F:\\Anaconda\\envs\\ML7331\\lib\\site-packages\\sklearn\\__init__.py)"
     ]
    }
   ],
   "source": [
    "# Import libraries for data analysis\n",
    "import numpy as np \n",
    "import pandas as pd \n",
    "import pandas_profiling as pp\n",
    "import seaborn as sns\n",
    "import matplotlib.pyplot as plt\n",
    "from sklearn.model_selection import train_test_split\n",
    "from IPython.display import display,HTML\n",
    "from sklearn import ensemble\n",
    "from sklearn.model_selection import ShuffleSplit\n",
    "from sklearn.linear_model import LogisticRegression\n",
    "from sklearn import metrics as mt\n",
    "from sklearn.preprocessing import StandardScaler\n",
    "from sklearn.linear_model import SGDClassifier\n",
    "from sklearn.ensemble import RandomForestRegressor\n",
    "import warnings\n",
    "from sklearn.tree import DecisionTreeClassifier\n",
    "import math\n",
    "from sklearn import tree, metrics\n",
    "from sklearn.metrics import explained_variance_score\n",
    "from sklearn.metrics import mean_absolute_error\n",
    "from sklearn.metrics import mean_squared_error\n",
    "from sklearn.tree import DecisionTreeRegressor\n",
    "from sklearn.model_selection import cross_val_score\n",
    "from sklearn.metrics import recall_score\n",
    "from IPython.display import Image  \n",
    "from sklearn import cross_validation, datasets \n",
    "from sklearn.ensemble import AdaBoostRegressor\n",
    "import pydotplus\n",
    "warnings.simplefilter('ignore')\n",
    "\n",
    "# show all columns\n",
    "pd.set_option('display.max_columns', None) \n",
    "\n",
    "#Set the seaborn plotting style\n",
    "sns.set(style=\"darkgrid\")"
   ]
  },
  {
   "cell_type": "markdown",
   "metadata": {},
   "source": [
    "## Continuous Decision Tree"
   ]
  },
  {
   "cell_type": "code",
   "execution_count": 171,
   "metadata": {
    "scrolled": false
   },
   "outputs": [],
   "source": [
    "#Read in the train/test files that have been created from the prior projects. This is an 80/20 split\n",
    "train_file = 'train.csv'\n",
    "test_file = 'test.csv'\n",
    "test_filepath_BC = 'F:/SMU/DS7331/Train_Test_Files/'\n",
    "train_filepath_BC = 'F:/SMU/DS7331/Train_Test_Files/'\n",
    "test_filepath_BC2 = ''\n",
    "train_filepath_BC2 = ''\n",
    "\n",
    "testfilepath_AR = ''\n",
    "train_filepath_AR = ''\n",
    "\n",
    "test_filepath_JB = ''\n",
    "train_filepath_JB = ''\n",
    "\n",
    "test_filepath_SO = ''\n",
    "train_filepath_SO = ''\n",
    "\n",
    "df_test = pd.read_csv(test_filepath_BC + test_file,index_col=0)\n",
    "df_train = pd.read_csv(train_filepath_BC + train_file,index_col=0)\n",
    "\n",
    "# Round the distance to one decimal place\n",
    "df_train = df_train.round({'Distance(mi)': 1})"
   ]
  },
  {
   "cell_type": "markdown",
   "metadata": {},
   "source": [
    "#### In this cell, the data set is split into test, train, and the test and train continuous predictors (in this case, Distance(mi))."
   ]
  },
  {
   "cell_type": "code",
   "execution_count": 173,
   "metadata": {
    "scrolled": true
   },
   "outputs": [],
   "source": [
    "# Get validation set off of last 20% of train data\n",
    "df_train=df_train.sort_values(\"Start_Time\")\n",
    "train_size = int(len(df_train) * 0.8)\n",
    "X_train, X_val = df_train[0:train_size], df_train[train_size:len(df_train)]\n",
    "y = df_train['Distance(mi)']\n",
    "y_train, y_val = y[0:train_size], y[train_size:len(y)]\n",
    "\n",
    "#Build training/validation set for distance\n",
    "df_X_train = X_train.copy()\n",
    "df_X_test = X_val.copy()\n",
    "df_Y_train = y_train.copy()\n",
    "df_Y_test = y_val.copy()\n",
    "\n",
    "#list columns to remove:\n",
    "removeList = {'Distance(mi)','Weather_Condition','State','SM_Interim','Timezone','Start_Time','TMC_200.0',\n",
    "    'TMC_201.0','TMC_202.0','TMC_203.0',\n",
    "    'TMC_206.0','TMC_222.0','TMC_229.0',\n",
    "    'TMC_236.0','TMC_239.0','TMC_241.0',\n",
    "    'TMC_244.0','TMC_245.0','TMC_246.0',\n",
    "    'TMC_247.0','TMC_248.0','TMC_336.0',\n",
    "    'TMC_339.0','TMC_341.0','TMC_343.0',\n",
    "    'TMC_351.0','TMC_406.0'} \n",
    "df_X_train.drop(removeList,1,inplace=True)\n",
    "df_X_test.drop(removeList,1,inplace=True)"
   ]
  },
  {
   "cell_type": "code",
   "execution_count": 174,
   "metadata": {},
   "outputs": [
    {
     "name": "stdout",
     "output_type": "stream",
     "text": [
      "X-train:  (1408140, 122)\n",
      "X-test:  (352036, 122)\n",
      "Y-train:  (1408140,)\n",
      "Y-test:  (352036,)\n"
     ]
    }
   ],
   "source": [
    "#Convert dataframes to numpy arrays\n",
    "X_train = df_X_train.to_numpy()\n",
    "X_test = df_X_test.to_numpy()\n",
    "Y_train = df_Y_train.to_numpy()\n",
    "Y_test = df_Y_test.to_numpy()\n",
    "\n",
    "print(\"X-train: \",df_X_train.shape)\n",
    "print(\"X-test: \",df_X_test.shape)\n",
    "print(\"Y-train: \",df_Y_train.shape)\n",
    "print(\"Y-test: \",df_Y_test.shape)"
   ]
  },
  {
   "cell_type": "markdown",
   "metadata": {},
   "source": [
    "#### In this cell, the test and train features are standardized"
   ]
  },
  {
   "cell_type": "code",
   "execution_count": 175,
   "metadata": {},
   "outputs": [],
   "source": [
    "scl_obj = StandardScaler()\n",
    "scl_obj.fit(X_train) # find scalings for each column that make this zero mean and unit std\n",
    "\n",
    "X_train_scaled = scl_obj.transform(X_train) # apply to training\n",
    "X_test_scaled = scl_obj.transform(X_test) # apply those means and std to the test set"
   ]
  },
  {
   "cell_type": "markdown",
   "metadata": {},
   "source": [
    "#### In this cell, the decision tree is constructed and iterated through to identify the depth that produces the best R2 score. It's important to note that we've tuned the tree to use a min_split that produces the best R2 score without being too small of a value to cause overfitting. We also use the train data set here as a comparative to refer back to as the tree iterates."
   ]
  },
  {
   "cell_type": "code",
   "execution_count": 176,
   "metadata": {},
   "outputs": [
    {
     "name": "stdout",
     "output_type": "stream",
     "text": [
      "--------------------------------------\n",
      "Tree depth: 2\n",
      "Tree leaves: 4\n",
      "-------\n",
      "TEST\n",
      "Mean average error (test): 0.34489253253937874\n",
      "Mean squared error (test): 2.810258334788369\n",
      "R2 score (test): 0.00720551020868887\n",
      "-------\n",
      "TRAIN\n",
      "Mean average error (train): 0.2625842077424377\n",
      "Mean squared error (train): 1.769106721608105\n",
      "R2 score (train): 0.008984269727897454\n",
      "--------------------------------------\n",
      "--------------------------------------\n",
      "Tree depth: 4\n",
      "Tree leaves: 16\n",
      "-------\n",
      "TEST\n",
      "Mean average error (test): 0.3424713168000889\n",
      "Mean squared error (test): 2.7762251092838435\n",
      "R2 score (test): 0.019228603720219284\n",
      "-------\n",
      "TRAIN\n",
      "Mean average error (train): 0.2563610470855199\n",
      "Mean squared error (train): 1.7419375757872593\n",
      "R2 score (train): 0.024203843854007756\n",
      "--------------------------------------\n",
      "--------------------------------------\n",
      "Tree depth: 6\n",
      "Tree leaves: 44\n",
      "-------\n",
      "TEST\n",
      "Mean average error (test): 0.3342386806463313\n",
      "Mean squared error (test): 2.9329758839743114\n",
      "R2 score (test): -0.03614755279065007\n",
      "-------\n",
      "TRAIN\n",
      "Mean average error (train): 0.25139037879137294\n",
      "Mean squared error (train): 1.7119641041264828\n",
      "R2 score (train): 0.04099434130895696\n",
      "--------------------------------------\n",
      "--------------------------------------\n",
      "Tree depth: 8\n",
      "Tree leaves: 93\n",
      "-------\n",
      "TEST\n",
      "Mean average error (test): 0.3391511695076903\n",
      "Mean squared error (test): 2.803245003665495\n",
      "R2 score (test): 0.009683145950456273\n",
      "-------\n",
      "TRAIN\n",
      "Mean average error (train): 0.24737822155214603\n",
      "Mean squared error (train): 1.6805563251284727\n",
      "R2 score (train): 0.0585883070430564\n",
      "--------------------------------------\n",
      "--------------------------------------\n",
      "Tree depth: 10\n",
      "Tree leaves: 156\n",
      "-------\n",
      "TEST\n",
      "Mean average error (test): 0.3317103399803926\n",
      "Mean squared error (test): 2.709973915417898\n",
      "R2 score (test): 0.04263350546821454\n",
      "-------\n",
      "TRAIN\n",
      "Mean average error (train): 0.2445741043033243\n",
      "Mean squared error (train): 1.6939518859190195\n",
      "R2 score (train): 0.05108440052509289\n",
      "--------------------------------------\n",
      "--------------------------------------\n",
      "Tree depth: 12\n",
      "Tree leaves: 323\n",
      "-------\n",
      "TEST\n",
      "Mean average error (test): 0.3437860244168006\n",
      "Mean squared error (test): 2.796571405659012\n",
      "R2 score (test): 0.01204076241791796\n",
      "-------\n",
      "TRAIN\n",
      "Mean average error (train): 0.24200177529575406\n",
      "Mean squared error (train): 1.6704535884369835\n",
      "R2 score (train): 0.06424764396025606\n",
      "--------------------------------------\n",
      "--------------------------------------\n",
      "Tree depth: 14\n",
      "Tree leaves: 423\n",
      "-------\n",
      "TEST\n",
      "Mean average error (test): 0.3428081720661907\n",
      "Mean squared error (test): 2.796221936554396\n",
      "R2 score (test): 0.012164221175114953\n",
      "-------\n",
      "TRAIN\n",
      "Mean average error (train): 0.23911911043371303\n",
      "Mean squared error (train): 1.651733195286691\n",
      "R2 score (train): 0.07473440762590666\n",
      "--------------------------------------\n",
      "--------------------------------------\n",
      "Tree depth: 16\n",
      "Tree leaves: 497\n",
      "-------\n",
      "TEST\n",
      "Mean average error (test): 0.35423337509708075\n",
      "Mean squared error (test): 2.757570702181018\n",
      "R2 score (test): 0.025818742552919716\n",
      "-------\n",
      "TRAIN\n",
      "Mean average error (train): 0.2367694378622893\n",
      "Mean squared error (train): 1.6330196594629318\n",
      "R2 score (train): 0.08521732996396558\n",
      "--------------------------------------\n",
      "--------------------------------------\n",
      "Tree depth: 18\n",
      "Tree leaves: 847\n",
      "-------\n",
      "TEST\n",
      "Mean average error (test): 0.3432447033245129\n",
      "Mean squared error (test): 2.752434651729982\n",
      "R2 score (test): 0.02763318164699069\n",
      "-------\n",
      "TRAIN\n",
      "Mean average error (train): 0.23309274611131958\n",
      "Mean squared error (train): 1.6125909614158476\n",
      "R2 score (train): 0.0966610494786575\n",
      "--------------------------------------\n",
      "--------------------------------------\n",
      "Tree depth: 20\n",
      "Tree leaves: 998\n",
      "-------\n",
      "TEST\n",
      "Mean average error (test): 0.34666374102779723\n",
      "Mean squared error (test): 2.707291333172769\n",
      "R2 score (test): 0.04358119516577996\n",
      "-------\n",
      "TRAIN\n",
      "Mean average error (train): 0.2367033422446251\n",
      "Mean squared error (train): 1.6425450867317306\n",
      "R2 score (train): 0.0798813894321464\n",
      "--------------------------------------\n",
      "--------------------------------------\n",
      "Tree depth: 22\n",
      "Tree leaves: 1193\n",
      "-------\n",
      "TEST\n",
      "Mean average error (test): 0.34282594241167497\n",
      "Mean squared error (test): 2.722816980648579\n",
      "R2 score (test): 0.03809636942089434\n",
      "-------\n",
      "TRAIN\n",
      "Mean average error (train): 0.23404752727811795\n",
      "Mean squared error (train): 1.625369418919343\n",
      "R2 score (train): 0.08950283101738443\n",
      "--------------------------------------\n",
      "--------------------------------------\n",
      "Tree depth: 24\n",
      "Tree leaves: 1461\n",
      "-------\n",
      "TEST\n",
      "Mean average error (test): 0.3438031530395573\n",
      "Mean squared error (test): 2.6950777770045296\n",
      "R2 score (test): 0.047895941292312894\n",
      "-------\n",
      "TRAIN\n",
      "Mean average error (train): 0.232475774363043\n",
      "Mean squared error (train): 1.6125209237271545\n",
      "R2 score (train): 0.09670028309320389\n",
      "--------------------------------------\n",
      "--------------------------------------\n",
      "Tree depth: 26\n",
      "Tree leaves: 1898\n",
      "-------\n",
      "TEST\n",
      "Mean average error (test): 0.34993256211612417\n",
      "Mean squared error (test): 2.767132847071418\n",
      "R2 score (test): 0.02244067419519702\n",
      "-------\n",
      "TRAIN\n",
      "Mean average error (train): 0.2338587154995301\n",
      "Mean squared error (train): 1.6230742126999391\n",
      "R2 score (train): 0.09078855642889605\n",
      "--------------------------------------\n",
      "--------------------------------------\n",
      "Tree depth: 28\n",
      "Tree leaves: 1862\n",
      "-------\n",
      "TEST\n",
      "Mean average error (test): 0.3570016449586889\n",
      "Mean squared error (test): 2.7402825243474553\n",
      "R2 score (test): 0.03192622650883381\n",
      "-------\n",
      "TRAIN\n",
      "Mean average error (train): 0.232964246607484\n",
      "Mean squared error (train): 1.6187189790439662\n",
      "R2 score (train): 0.09322826513010785\n",
      "--------------------------------------\n",
      "--------------------------------------\n",
      "Tree depth: 30\n",
      "Tree leaves: 2427\n",
      "-------\n",
      "TEST\n",
      "Mean average error (test): 0.35704893549385486\n",
      "Mean squared error (test): 2.777182873280462\n",
      "R2 score (test): 0.01889024948189444\n",
      "-------\n",
      "TRAIN\n",
      "Mean average error (train): 0.23424052819102922\n",
      "Mean squared error (train): 1.6296884689287812\n",
      "R2 score (train): 0.08708339162070722\n",
      "--------------------------------------\n",
      "--------------------------------------\n",
      "Tree depth: 32\n",
      "Tree leaves: 2404\n",
      "-------\n",
      "TEST\n",
      "Mean average error (test): 0.3502969846934789\n",
      "Mean squared error (test): 2.692327589249082\n",
      "R2 score (test): 0.04886751433800063\n",
      "-------\n",
      "TRAIN\n",
      "Mean average error (train): 0.23169924693589397\n",
      "Mean squared error (train): 1.620270488283763\n",
      "R2 score (train): 0.09235914285301683\n",
      "--------------------------------------\n",
      "--------------------------------------\n",
      "Tree depth: 34\n",
      "Tree leaves: 2703\n",
      "-------\n",
      "TEST\n",
      "Mean average error (test): 0.3562900316018745\n",
      "Mean squared error (test): 2.7208017692088227\n",
      "R2 score (test): 0.03880829358401772\n",
      "-------\n",
      "TRAIN\n",
      "Mean average error (train): 0.2347735093412706\n",
      "Mean squared error (train): 1.6335742104298672\n",
      "R2 score (train): 0.08490668237851584\n",
      "--------------------------------------\n",
      "--------------------------------------\n",
      "Tree depth: 36\n",
      "Tree leaves: 2576\n",
      "-------\n",
      "TEST\n",
      "Mean average error (test): 0.3529246338228823\n",
      "Mean squared error (test): 2.7590818471064225\n",
      "R2 score (test): 0.02528489257313471\n",
      "-------\n",
      "TRAIN\n",
      "Mean average error (train): 0.2323891419707456\n",
      "Mean squared error (train): 1.6160617821608414\n",
      "R2 score (train): 0.0947167699655952\n",
      "--------------------------------------\n",
      "--------------------------------------\n",
      "Tree depth: 38\n",
      "Tree leaves: 2609\n",
      "-------\n",
      "TEST\n",
      "Mean average error (test): 0.35457218994470674\n",
      "Mean squared error (test): 2.7054290210539618\n",
      "R2 score (test): 0.044239103795366\n",
      "-------\n",
      "TRAIN\n",
      "Mean average error (train): 0.23170430022764524\n",
      "Mean squared error (train): 1.615461476991171\n",
      "R2 score (train): 0.09505304807637316\n",
      "--------------------------------------\n",
      "--------------------------------------\n",
      "Tree depth: 40\n",
      "Tree leaves: 2633\n",
      "-------\n",
      "TEST\n",
      "Mean average error (test): 0.3518458812504599\n",
      "Mean squared error (test): 2.7197902358226926\n",
      "R2 score (test): 0.03916564321254046\n",
      "-------\n",
      "TRAIN\n",
      "Mean average error (train): 0.23304649633379249\n",
      "Mean squared error (train): 1.6299182992090964\n",
      "R2 score (train): 0.08695464561556054\n",
      "--------------------------------------\n",
      "--------------------------------------\n",
      "Tree depth: 42\n",
      "Tree leaves: 2914\n",
      "-------\n",
      "TEST\n",
      "Mean average error (test): 0.3622795463020268\n",
      "Mean squared error (test): 2.895248615257194\n",
      "R2 score (test): -0.02281944553674853\n",
      "-------\n",
      "TRAIN\n",
      "Mean average error (train): 0.2321581115051109\n",
      "Mean squared error (train): 1.5996312243656359\n",
      "R2 score (train): 0.10392081686299914\n",
      "--------------------------------------\n"
     ]
    },
    {
     "name": "stdout",
     "output_type": "stream",
     "text": [
      "--------------------------------------\n",
      "Tree depth: 44\n",
      "Tree leaves: 2878\n",
      "-------\n",
      "TEST\n",
      "Mean average error (test): 0.35459597735399323\n",
      "Mean squared error (test): 2.7601947272647647\n",
      "R2 score (test): 0.024891739646471955\n",
      "-------\n",
      "TRAIN\n",
      "Mean average error (train): 0.23362516525228189\n",
      "Mean squared error (train): 1.6320451892267174\n",
      "R2 score (train): 0.08576320733867404\n",
      "--------------------------------------\n",
      "--------------------------------------\n",
      "Tree depth: 46\n",
      "Tree leaves: 2810\n",
      "-------\n",
      "TEST\n",
      "Mean average error (test): 0.3578961897681903\n",
      "Mean squared error (test): 2.7303349967360027\n",
      "R2 score (test): 0.03544044101269028\n",
      "-------\n",
      "TRAIN\n",
      "Mean average error (train): 0.2318945897590097\n",
      "Mean squared error (train): 1.606923916729807\n",
      "R2 score (train): 0.099835606648909\n",
      "--------------------------------------\n",
      "--------------------------------------\n",
      "Tree depth: 48\n",
      "Tree leaves: 2811\n",
      "-------\n",
      "TEST\n",
      "Mean average error (test): 0.358330528332984\n",
      "Mean squared error (test): 2.7890817427428334\n",
      "R2 score (test): 0.014686674354742246\n",
      "-------\n",
      "TRAIN\n",
      "Mean average error (train): 0.2334898188652018\n",
      "Mean squared error (train): 1.6274456439762746\n",
      "R2 score (train): 0.08833977416735217\n",
      "--------------------------------------\n",
      "--------------------------------------\n",
      "Tree depth: 50\n",
      "Tree leaves: 2919\n",
      "-------\n",
      "TEST\n",
      "Mean average error (test): 0.3532201095081733\n",
      "Mean squared error (test): 2.717760933667682\n",
      "R2 score (test): 0.03988254527548474\n",
      "-------\n",
      "TRAIN\n",
      "Mean average error (train): 0.23176525730051503\n",
      "Mean squared error (train): 1.6063129756397685\n",
      "R2 score (train): 0.10017784277469088\n",
      "--------------------------------------\n",
      "--------------------------------------\n",
      "Tree depth: 52\n",
      "Tree leaves: 2876\n",
      "-------\n",
      "TEST\n",
      "Mean average error (test): 0.34684795197032636\n",
      "Mean squared error (test): 2.7146140579272116\n",
      "R2 score (test): 0.04099425833635262\n",
      "-------\n",
      "TRAIN\n",
      "Mean average error (train): 0.23222346114933223\n",
      "Mean squared error (train): 1.6127915509919462\n",
      "R2 score (train): 0.0965486834903233\n",
      "--------------------------------------\n",
      "--------------------------------------\n",
      "Tree depth: 54\n",
      "Tree leaves: 2857\n",
      "-------\n",
      "TEST\n",
      "Mean average error (test): 0.3538005023156172\n",
      "Mean squared error (test): 2.7700639365784947\n",
      "R2 score (test): 0.02140519305252475\n",
      "-------\n",
      "TRAIN\n",
      "Mean average error (train): 0.2325641784806442\n",
      "Mean squared error (train): 1.6130353233883823\n",
      "R2 score (train): 0.09641212741005767\n",
      "--------------------------------------\n",
      "--------------------------------------\n",
      "Tree depth: 54\n",
      "Tree leaves: 2857\n",
      "-------\n",
      "TEST\n",
      "Mean average error (test): 0.3538005023156172\n",
      "Mean squared error (test): 2.7700639365784947\n",
      "R2 score (test): 0.02140519305252475\n",
      "-------\n",
      "TRAIN\n",
      "Mean average error (train): 0.2325641784806442\n",
      "Mean squared error (train): 1.6130353233883823\n",
      "R2 score (train): 0.09641212741005767\n",
      "--------------------------------------\n",
      "--------------------------------------\n",
      "Tree depth: 54\n",
      "Tree leaves: 2857\n",
      "-------\n",
      "TEST\n",
      "Mean average error (test): 0.3538005023156172\n",
      "Mean squared error (test): 2.7700639365784947\n",
      "R2 score (test): 0.02140519305252475\n",
      "-------\n",
      "TRAIN\n",
      "Mean average error (train): 0.2325641784806442\n",
      "Mean squared error (train): 1.6130353233883823\n",
      "R2 score (train): 0.09641212741005767\n",
      "--------------------------------------\n"
     ]
    }
   ],
   "source": [
    "r2_results=[]\n",
    "train_r2_results=[]\n",
    "\n",
    "MSE_results=[]\n",
    "train_MSE_results=[]\n",
    "\n",
    "MAE_results=[]\n",
    "train_MAE_results=[]\n",
    "\n",
    "max_depths = np.arange(2,60,step=2)\n",
    "\n",
    "for max_depth in max_depths:\n",
    "    \n",
    "    min_split = math.ceil(len(X_train_scaled) * .001)\n",
    "    #min_split = 2\n",
    "\n",
    "    clf = tree.DecisionTreeRegressor(criterion='mse', max_depth=max_depth, \n",
    "                                    min_samples_split=min_split, min_samples_leaf=2, \n",
    "                                    max_features=20,\n",
    "                                    max_leaf_nodes=None,\n",
    "                                    random_state=123)\n",
    "    \n",
    "    # fit - training\n",
    "    clf = clf.fit(X_train_scaled, Y_train)\n",
    "\n",
    "    \n",
    "    # build yhat using the train features to test accuracy metrics\n",
    "    yhat = clf.predict(X_test_scaled)\n",
    "    train_yhat = clf.predict(X_train_scaled)\n",
    "\n",
    "    # MAE - higher = worse performing | lower = better\n",
    "    predict_mae = mean_absolute_error(Y_test, yhat)\n",
    "    train_mae = mean_absolute_error(Y_train, train_yhat)\n",
    "\n",
    "    # MSE - higher = worse performing | lower = better\n",
    "    predict_mse = mean_squared_error(Y_test, yhat)  \n",
    "    train_mse = mean_squared_error(Y_train, train_yhat)\n",
    "\n",
    "    # r2 score\n",
    "    predict_score2 = mt.r2_score(Y_test, yhat)\n",
    "    train_score2 = mt.r2_score(Y_train, train_yhat)\n",
    "\n",
    "\n",
    "    # graphing variables\n",
    "    r2_results.append(predict_score2)\n",
    "    train_r2_results.append(train_score2)\n",
    "    \n",
    "    MSE_results.append(predict_mse)\n",
    "    train_MSE_results.append(train_mse)\n",
    "    \n",
    "    MAE_results.append(predict_mae)\n",
    "    train_MAE_results.append(train_mae)\n",
    "\n",
    "    # depth of tree\n",
    "    depth = clf.get_depth()\n",
    "    leaves = clf.get_n_leaves()\n",
    "    \n",
    "    print ('--------------------------------------')\n",
    "    print ('Tree depth:', depth)\n",
    "    print ('Tree leaves:', leaves)\n",
    "    print ('-------')\n",
    "    print ('TEST')\n",
    "    print ('Mean average error (test):', predict_mae)\n",
    "    print ('Mean squared error (test):', predict_mse)\n",
    "    print ('R2 score (test):', predict_score2)\n",
    "    print ('-------')\n",
    "    print ('TRAIN')\n",
    "    print ('Mean average error (train):', train_mae)\n",
    "    print ('Mean squared error (train):', train_mse)\n",
    "    print ('R2 score (train):', train_score2)\n",
    "    print ('--------------------------------------')"
   ]
  },
  {
   "cell_type": "markdown",
   "metadata": {},
   "source": [
    "#### From the iterated results, a series of visualizations is produced to evaluate the various metrics we've identified to evaluate the effectiveness of the model (and to identify the ideal tree depth). The metrics visualized below include: 1) R2, 2) MSE, and 3) MAE\n",
    "\n",
    "#### The results from the R2 metric are low, across both the test and train data sets. We suspect this may be due in part to outliers in the data. Evaluating the MAE and MSE metrics will be revealing."
   ]
  },
  {
   "cell_type": "code",
   "execution_count": 177,
   "metadata": {},
   "outputs": [
    {
     "data": {
      "image/png": "[encoded data removed]",
      "text/plain": [
       "<Figure size 576x396 with 1 Axes>"
      ]
     },
     "metadata": {},
     "output_type": "display_data"
    }
   ],
   "source": [
    "plt.plot(max_depths, r2_results, 'g', label=\"Test\")\n",
    "plt.plot(max_depths, train_r2_results, 'p', label=\"Train\")\n",
    "\n",
    "plt.legend()\n",
    "plt.ylabel(\"R2\")\n",
    "plt.xlabel(\"Max Depth\")\n",
    "plt.show()"
   ]
  },
  {
   "cell_type": "markdown",
   "metadata": {},
   "source": [
    "#### The results from the MSE metric for the train set are lower than the test set, but not by a substantial margin. Seeing as how both the test and train scores are relatively close, this is a good indicator that the model is performing equally well on both data sets."
   ]
  },
  {
   "cell_type": "code",
   "execution_count": 178,
   "metadata": {
    "scrolled": true
   },
   "outputs": [
    {
     "data": {
      "image/png": "[encoded data removed]",
      "text/plain": [
       "<Figure size 576x396 with 1 Axes>"
      ]
     },
     "metadata": {},
     "output_type": "display_data"
    }
   ],
   "source": [
    "plt.plot(max_depths, MSE_results, 'g', label=\"Test\")\n",
    "plt.plot(max_depths, train_MSE_results, 'p', label=\"Train\")\n",
    "\n",
    "plt.legend()\n",
    "plt.ylabel(\"MSE\")\n",
    "plt.xlabel(\"Max Depth\")\n",
    "plt.show()"
   ]
  },
  {
   "cell_type": "markdown",
   "metadata": {},
   "source": [
    "#### The MAE plot indicates that the model is accurate to within about 0.33 - 0.37 of a mile of the distance of the extent and effect of the accident. This is also relatively close to the distance predicated using the train data set indicating the model is performing about equally well between the two data sets. Moreover, comparing MSE to MAE, we can see a wide differential between the two values. This further illustrates that there is likely an influence of outliers within the data sets. We will explore this via box plots below."
   ]
  },
  {
   "cell_type": "code",
   "execution_count": 179,
   "metadata": {
    "scrolled": false
   },
   "outputs": [
    {
     "data": {
      "image/png": "[encoded data removed]",
      "text/plain": [
       "<Figure size 576x396 with 1 Axes>"
      ]
     },
     "metadata": {},
     "output_type": "display_data"
    }
   ],
   "source": [
    "plt.plot(max_depths, MAE_results, 'g', label=\"Test\")\n",
    "plt.plot(max_depths, train_MAE_results, 'p', label=\"Train\")\n",
    "\n",
    "plt.legend()\n",
    "plt.ylabel(\"MAE\")\n",
    "plt.xlabel(\"Max Depth\")\n",
    "plt.show()"
   ]
  },
  {
   "cell_type": "markdown",
   "metadata": {},
   "source": [
    "#### Boxplot for yhat which are the predicted test values for distance compared to the actual y test values (second box plot below). We can see that there are subtantially larger outliers in the y Test target variable compared to the predicted values using the train data set explaining why the R2 score is likely not the best measure of the effectiveness of this model."
   ]
  },
  {
   "cell_type": "code",
   "execution_count": 180,
   "metadata": {},
   "outputs": [
    {
     "data": {
      "image/png": "[encoded data removed]",
      "text/plain": [
       "<Figure size 576x396 with 1 Axes>"
      ]
     },
     "metadata": {},
     "output_type": "display_data"
    }
   ],
   "source": [
    "ax = sns.boxplot(yhat)"
   ]
  },
  {
   "cell_type": "code",
   "execution_count": 181,
   "metadata": {},
   "outputs": [
    {
     "data": {
      "image/png": "[encoded data removed]",
      "text/plain": [
       "<Figure size 576x396 with 1 Axes>"
      ]
     },
     "metadata": {},
     "output_type": "display_data"
    }
   ],
   "source": [
    "ax = sns.boxplot(x=Y_test)"
   ]
  },
  {
   "cell_type": "markdown",
   "metadata": {},
   "source": [
    "#### Conclusion: the depth that produces the highest R2 score and lowest MAE is a tree depth of 10 with 156 leaves. Evaluating the MAE score indicates that our model can predict the length of the road extent affected by the accident within an accuracy of approximately 0.32 miles generally. Outliers of course may result in wildly different distances but across most accidents (at least modelled from this data set), the extent of the affect is predicted within 1/4 of a mile. This may be useful for first responders and others trying to get to the scene quickly since they can anticipate the potential affect on traffic that the accident might cause."
   ]
  },
  {
   "cell_type": "code",
   "execution_count": null,
   "metadata": {},
   "outputs": [],
   "source": []
  },
  {
   "cell_type": "markdown",
   "metadata": {},
   "source": [
    "## Modeling and Evaluation - 70pts"
   ]
  },
  {
   "cell_type": "markdown",
   "metadata": {},
   "source": [
    "### Categorical Variable Modeling"
   ]
  },
  {
   "cell_type": "code",
   "execution_count": 5,
   "metadata": {},
   "outputs": [],
   "source": [
    "#Convert dataframes to numpy arrays\n",
    "\n",
    "X_train = df_X_train.to_numpy()\n",
    "X_test = df_X_test.to_numpy()\n",
    "\n",
    "Y_train = df_Y_train.to_numpy()\n",
    "Y_test = df_Y_test.to_numpy()"
   ]
  },
  {
   "cell_type": "code",
   "execution_count": 30,
   "metadata": {},
   "outputs": [
    {
     "name": "stdout",
     "output_type": "stream",
     "text": [
      "X-train:  (1760176, 143)\n",
      "X-test:  (440044, 143)\n",
      "Y-train:  (1760176,)\n",
      "Y-test:  (440044,)\n"
     ]
    }
   ],
   "source": [
    "print(\"X-train: \",X_train.shape)\n",
    "print(\"X-test: \",X_test.shape)\n",
    "print(\"Y-train: \",Y_train.shape)\n",
    "print(\"Y-test: \",Y_test.shape)"
   ]
  },
  {
   "cell_type": "markdown",
   "metadata": {},
   "source": [
    "### Logistic Regression Model"
   ]
  },
  {
   "cell_type": "code",
   "execution_count": 6,
   "metadata": {},
   "outputs": [
    {
     "name": "stdout",
     "output_type": "stream",
     "text": [
      "Wall time: 5.99 ms\n"
     ]
    }
   ],
   "source": [
    "#logistic regression - Severity\n",
    "%time\n",
    "logistic_regression= LogisticRegression(penalty='l2', C=1.0, class_weight=None, solver='liblinear')\n",
    "logistic_regression.fit(X_train,Y_train)\n",
    "Y_pred=logistic_regression.predict(X_test)"
   ]
  },
  {
   "cell_type": "code",
   "execution_count": 7,
   "metadata": {},
   "outputs": [
    {
     "name": "stdout",
     "output_type": "stream",
     "text": [
      "              precision    recall  f1-score   support\n",
      "\n",
      "         0.0       0.81      0.83      0.82    309416\n",
      "         1.0       0.57      0.53      0.55    130628\n",
      "\n",
      "    accuracy                           0.74    440044\n",
      "   macro avg       0.69      0.68      0.69    440044\n",
      "weighted avg       0.74      0.74      0.74    440044\n",
      "\n"
     ]
    }
   ],
   "source": [
    "# Accuracy | Accuracy = (TP+TN)/Total\n",
    "print(mt.classification_report(Y_test,Y_pred))"
   ]
  },
  {
   "cell_type": "markdown",
   "metadata": {},
   "source": [
    "### SVM Model"
   ]
  },
  {
   "cell_type": "code",
   "execution_count": 8,
   "metadata": {},
   "outputs": [],
   "source": [
    "#NOTE: Code below adapted from the course lectures\n",
    "# we want to normalize the features based upon the mean and standard deviation of each column. \n",
    "\n",
    "# scale attributes by the training set\n",
    "scl_obj = StandardScaler()\n",
    "scl_obj.fit(X_train) # find scalings for each column that make this zero mean and unit std\n",
    "\n",
    "X_train_scaled = scl_obj.transform(X_train) # apply to training\n",
    "X_test_scaled = scl_obj.transform(X_test) # apply those means and std to the test set "
   ]
  },
  {
   "cell_type": "code",
   "execution_count": 10,
   "metadata": {},
   "outputs": [
    {
     "name": "stdout",
     "output_type": "stream",
     "text": [
      "SVM: 0.738455699884557\n",
      "Wall time: 15.6 s\n"
     ]
    }
   ],
   "source": [
    "%%time\n",
    "regularize_const = 0.1\n",
    "iterations = 5\n",
    "svm_sgd = SGDClassifier(alpha=regularize_const,\n",
    "        fit_intercept=True, l1_ratio=0.0, learning_rate='optimal',\n",
    "        loss='hinge', n_iter_no_change=iterations, n_jobs=-1, penalty='l2', shuffle=True)\n",
    "\n",
    "svm_sgd.fit(X_train_scaled,Y_train)\n",
    "yhat = svm_sgd.predict(X_test_scaled)\n",
    "    \n",
    "conf = mt.confusion_matrix(Y_test,yhat)\n",
    "acc = mt.accuracy_score(Y_test,yhat)\n",
    "\n",
    "print('SVM:', acc)"
   ]
  },
  {
   "cell_type": "markdown",
   "metadata": {},
   "source": [
    "### Categorical Variable Modeling"
   ]
  },
  {
   "cell_type": "code",
   "execution_count": 11,
   "metadata": {},
   "outputs": [],
   "source": [
    "#build two training/test sets for distance\n",
    "#Build the Distance dataframes\n",
    "df_X_train = df_train.copy()\n",
    "df_X_test = df_test.copy()\n",
    "\n",
    "\n",
    "df_Y_train = df_X_train['Distance(mi)'].copy()\n",
    "df_Y_test = df_X_test['Distance(mi)'].copy()\n",
    "\n",
    "#list columns to remove:\n",
    "removeList = {'Distance(mi)', 'Weather_Condition','SM_Interim','State','Timezone','Start_Time','Unnamed: 0'} \n",
    "\n",
    "df_X_train.drop(removeList,1,inplace=True)\n",
    "df_X_test.drop(removeList,1,inplace=True)"
   ]
  },
  {
   "cell_type": "code",
   "execution_count": 12,
   "metadata": {},
   "outputs": [],
   "source": [
    "#Convert dataframes to numpy arrays\n",
    "X_train = df_X_train.values\n",
    "X_test = df_X_test.values\n",
    "\n",
    "Y_train = df_Y_train.values\n",
    "Y_test = df_Y_test.values"
   ]
  },
  {
   "cell_type": "code",
   "execution_count": null,
   "metadata": {},
   "outputs": [],
   "source": [
    "### SVM Model"
   ]
  },
  {
   "cell_type": "code",
   "execution_count": 13,
   "metadata": {},
   "outputs": [],
   "source": [
    "#NOTE: Code below adapted from the course lectures\n",
    "# we want to normalize the features based upon the mean and standard deviation of each column. \n",
    "\n",
    "# scale attributes by the training set\n",
    "scl_obj = StandardScaler()\n",
    "scl_obj.fit(X_train) # find scalings for each column that make this zero mean and unit std\n",
    "\n",
    "X_train_scaled = scl_obj.transform(X_train) # apply to training\n",
    "X_test_scaled = scl_obj.transform(X_test) # apply those means and std to the test set "
   ]
  },
  {
   "cell_type": "code",
   "execution_count": 14,
   "metadata": {
    "scrolled": true
   },
   "outputs": [
    {
     "ename": "ValueError",
     "evalue": "Unknown label type: (array([0.00000000e+00, 9.99999978e-03, 1.00000000e-02, ...,\n       2.27210007e+02, 2.54399994e+02, 3.33630005e+02]),)",
     "output_type": "error",
     "traceback": [
      "\u001b[1;31m---------------------------------------------------------------------------\u001b[0m",
      "\u001b[1;31mValueError\u001b[0m                                Traceback (most recent call last)",
      "\u001b[1;32m<timed exec>\u001b[0m in \u001b[0;36m<module>\u001b[1;34m\u001b[0m\n",
      "\u001b[1;32m~\\AppData\\Local\\Continuum\\anaconda3\\lib\\site-packages\\sklearn\\linear_model\\_stochastic_gradient.py\u001b[0m in \u001b[0;36mfit\u001b[1;34m(self, X, y, coef_init, intercept_init, sample_weight)\u001b[0m\n\u001b[0;32m    709\u001b[0m                          \u001b[0mloss\u001b[0m\u001b[1;33m=\u001b[0m\u001b[0mself\u001b[0m\u001b[1;33m.\u001b[0m\u001b[0mloss\u001b[0m\u001b[1;33m,\u001b[0m \u001b[0mlearning_rate\u001b[0m\u001b[1;33m=\u001b[0m\u001b[0mself\u001b[0m\u001b[1;33m.\u001b[0m\u001b[0mlearning_rate\u001b[0m\u001b[1;33m,\u001b[0m\u001b[1;33m\u001b[0m\u001b[1;33m\u001b[0m\u001b[0m\n\u001b[0;32m    710\u001b[0m                          \u001b[0mcoef_init\u001b[0m\u001b[1;33m=\u001b[0m\u001b[0mcoef_init\u001b[0m\u001b[1;33m,\u001b[0m \u001b[0mintercept_init\u001b[0m\u001b[1;33m=\u001b[0m\u001b[0mintercept_init\u001b[0m\u001b[1;33m,\u001b[0m\u001b[1;33m\u001b[0m\u001b[1;33m\u001b[0m\u001b[0m\n\u001b[1;32m--> 711\u001b[1;33m                          sample_weight=sample_weight)\n\u001b[0m\u001b[0;32m    712\u001b[0m \u001b[1;33m\u001b[0m\u001b[0m\n\u001b[0;32m    713\u001b[0m \u001b[1;33m\u001b[0m\u001b[0m\n",
      "\u001b[1;32m~\\AppData\\Local\\Continuum\\anaconda3\\lib\\site-packages\\sklearn\\linear_model\\_stochastic_gradient.py\u001b[0m in \u001b[0;36m_fit\u001b[1;34m(self, X, y, alpha, C, loss, learning_rate, coef_init, intercept_init, sample_weight)\u001b[0m\n\u001b[0;32m    548\u001b[0m \u001b[1;33m\u001b[0m\u001b[0m\n\u001b[0;32m    549\u001b[0m         self._partial_fit(X, y, alpha, C, loss, learning_rate, self.max_iter,\n\u001b[1;32m--> 550\u001b[1;33m                           classes, sample_weight, coef_init, intercept_init)\n\u001b[0m\u001b[0;32m    551\u001b[0m \u001b[1;33m\u001b[0m\u001b[0m\n\u001b[0;32m    552\u001b[0m         if (self.tol is not None and self.tol > -np.inf\n",
      "\u001b[1;32m~\\AppData\\Local\\Continuum\\anaconda3\\lib\\site-packages\\sklearn\\linear_model\\_stochastic_gradient.py\u001b[0m in \u001b[0;36m_partial_fit\u001b[1;34m(self, X, y, alpha, C, loss, learning_rate, max_iter, classes, sample_weight, coef_init, intercept_init)\u001b[0m\n\u001b[0;32m    478\u001b[0m         \u001b[0mn_samples\u001b[0m\u001b[1;33m,\u001b[0m \u001b[0mn_features\u001b[0m \u001b[1;33m=\u001b[0m \u001b[0mX\u001b[0m\u001b[1;33m.\u001b[0m\u001b[0mshape\u001b[0m\u001b[1;33m\u001b[0m\u001b[1;33m\u001b[0m\u001b[0m\n\u001b[0;32m    479\u001b[0m \u001b[1;33m\u001b[0m\u001b[0m\n\u001b[1;32m--> 480\u001b[1;33m         \u001b[0m_check_partial_fit_first_call\u001b[0m\u001b[1;33m(\u001b[0m\u001b[0mself\u001b[0m\u001b[1;33m,\u001b[0m \u001b[0mclasses\u001b[0m\u001b[1;33m)\u001b[0m\u001b[1;33m\u001b[0m\u001b[1;33m\u001b[0m\u001b[0m\n\u001b[0m\u001b[0;32m    481\u001b[0m \u001b[1;33m\u001b[0m\u001b[0m\n\u001b[0;32m    482\u001b[0m         \u001b[0mn_classes\u001b[0m \u001b[1;33m=\u001b[0m \u001b[0mself\u001b[0m\u001b[1;33m.\u001b[0m\u001b[0mclasses_\u001b[0m\u001b[1;33m.\u001b[0m\u001b[0mshape\u001b[0m\u001b[1;33m[\u001b[0m\u001b[1;36m0\u001b[0m\u001b[1;33m]\u001b[0m\u001b[1;33m\u001b[0m\u001b[1;33m\u001b[0m\u001b[0m\n",
      "\u001b[1;32m~\\AppData\\Local\\Continuum\\anaconda3\\lib\\site-packages\\sklearn\\utils\\multiclass.py\u001b[0m in \u001b[0;36m_check_partial_fit_first_call\u001b[1;34m(clf, classes)\u001b[0m\n\u001b[0;32m    318\u001b[0m         \u001b[1;32melse\u001b[0m\u001b[1;33m:\u001b[0m\u001b[1;33m\u001b[0m\u001b[1;33m\u001b[0m\u001b[0m\n\u001b[0;32m    319\u001b[0m             \u001b[1;31m# This is the first call to partial_fit\u001b[0m\u001b[1;33m\u001b[0m\u001b[1;33m\u001b[0m\u001b[1;33m\u001b[0m\u001b[0m\n\u001b[1;32m--> 320\u001b[1;33m             \u001b[0mclf\u001b[0m\u001b[1;33m.\u001b[0m\u001b[0mclasses_\u001b[0m \u001b[1;33m=\u001b[0m \u001b[0munique_labels\u001b[0m\u001b[1;33m(\u001b[0m\u001b[0mclasses\u001b[0m\u001b[1;33m)\u001b[0m\u001b[1;33m\u001b[0m\u001b[1;33m\u001b[0m\u001b[0m\n\u001b[0m\u001b[0;32m    321\u001b[0m             \u001b[1;32mreturn\u001b[0m \u001b[1;32mTrue\u001b[0m\u001b[1;33m\u001b[0m\u001b[1;33m\u001b[0m\u001b[0m\n\u001b[0;32m    322\u001b[0m \u001b[1;33m\u001b[0m\u001b[0m\n",
      "\u001b[1;32m~\\AppData\\Local\\Continuum\\anaconda3\\lib\\site-packages\\sklearn\\utils\\multiclass.py\u001b[0m in \u001b[0;36munique_labels\u001b[1;34m(*ys)\u001b[0m\n\u001b[0;32m     92\u001b[0m     \u001b[0m_unique_labels\u001b[0m \u001b[1;33m=\u001b[0m \u001b[0m_FN_UNIQUE_LABELS\u001b[0m\u001b[1;33m.\u001b[0m\u001b[0mget\u001b[0m\u001b[1;33m(\u001b[0m\u001b[0mlabel_type\u001b[0m\u001b[1;33m,\u001b[0m \u001b[1;32mNone\u001b[0m\u001b[1;33m)\u001b[0m\u001b[1;33m\u001b[0m\u001b[1;33m\u001b[0m\u001b[0m\n\u001b[0;32m     93\u001b[0m     \u001b[1;32mif\u001b[0m \u001b[1;32mnot\u001b[0m \u001b[0m_unique_labels\u001b[0m\u001b[1;33m:\u001b[0m\u001b[1;33m\u001b[0m\u001b[1;33m\u001b[0m\u001b[0m\n\u001b[1;32m---> 94\u001b[1;33m         \u001b[1;32mraise\u001b[0m \u001b[0mValueError\u001b[0m\u001b[1;33m(\u001b[0m\u001b[1;34m\"Unknown label type: %s\"\u001b[0m \u001b[1;33m%\u001b[0m \u001b[0mrepr\u001b[0m\u001b[1;33m(\u001b[0m\u001b[0mys\u001b[0m\u001b[1;33m)\u001b[0m\u001b[1;33m)\u001b[0m\u001b[1;33m\u001b[0m\u001b[1;33m\u001b[0m\u001b[0m\n\u001b[0m\u001b[0;32m     95\u001b[0m \u001b[1;33m\u001b[0m\u001b[0m\n\u001b[0;32m     96\u001b[0m     \u001b[0mys_labels\u001b[0m \u001b[1;33m=\u001b[0m \u001b[0mset\u001b[0m\u001b[1;33m(\u001b[0m\u001b[0mchain\u001b[0m\u001b[1;33m.\u001b[0m\u001b[0mfrom_iterable\u001b[0m\u001b[1;33m(\u001b[0m\u001b[0m_unique_labels\u001b[0m\u001b[1;33m(\u001b[0m\u001b[0my\u001b[0m\u001b[1;33m)\u001b[0m \u001b[1;32mfor\u001b[0m \u001b[0my\u001b[0m \u001b[1;32min\u001b[0m \u001b[0mys\u001b[0m\u001b[1;33m)\u001b[0m\u001b[1;33m)\u001b[0m\u001b[1;33m\u001b[0m\u001b[1;33m\u001b[0m\u001b[0m\n",
      "\u001b[1;31mValueError\u001b[0m: Unknown label type: (array([0.00000000e+00, 9.99999978e-03, 1.00000000e-02, ...,\n       2.27210007e+02, 2.54399994e+02, 3.33630005e+02]),)"
     ]
    }
   ],
   "source": [
    "%%time\n",
    "regularize_const = 0.1\n",
    "iterations = 5\n",
    "svm_sgd = SGDClassifier(alpha=regularize_const,\n",
    "        fit_intercept=True, l1_ratio=0.0, learning_rate='optimal',\n",
    "        loss='hinge', n_iter_no_change=iterations, n_jobs=-1, penalty='l2', shuffle=True)\n",
    "\n",
    "svm_sgd.fit(X_train_scaled,Y_train)\n",
    "yhat = svm_sgd.predict(X_test_scaled)\n",
    "    \n",
    "conf = mt.confusion_matrix(Y_test,yhat)\n",
    "acc = mt.accuracy_score(Y_test,yhat)\n",
    "\n",
    "print('SVM:', acc)"
   ]
  },
  {
   "cell_type": "markdown",
   "metadata": {},
   "source": [
    "## Model Deployment - 5pts"
   ]
  },
  {
   "cell_type": "markdown",
   "metadata": {},
   "source": [
    "## Exceptional Work - 10pts"
   ]
  }
 ],
 "metadata": {
  "kernelspec": {
   "display_name": "Python 3",
   "language": "python",
   "name": "python3"
  },
  "language_info": {
   "codemirror_mode": {
    "name": "ipython",
    "version": 3
   },
   "file_extension": ".py",
   "mimetype": "text/x-python",
   "name": "python",
   "nbconvert_exporter": "python",
   "pygments_lexer": "ipython3",
   "version": "3.7.5"
  }
 },
 "nbformat": 4,
 "nbformat_minor": 2
}
