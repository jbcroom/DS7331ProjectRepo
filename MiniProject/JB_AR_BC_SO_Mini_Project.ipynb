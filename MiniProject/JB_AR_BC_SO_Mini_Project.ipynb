{
 "cells": [
  {
   "cell_type": "markdown",
   "metadata": {},
   "source": [
    "# DS 7331 - Machine Learning - Course Project\n",
    "Team: Allison Roderick, Jayson Barker, Sandesh Ojha, Brandon Croom\n",
    "\n",
    "Lab Number: Mini Project"
   ]
  },
  {
   "cell_type": "markdown",
   "metadata": {},
   "source": [
    "## Model Creation/Parameters - 50pts"
   ]
  },
  {
   "cell_type": "markdown",
   "metadata": {},
   "source": [
    "### US Focused Model"
   ]
  },
  {
   "cell_type": "markdown",
   "metadata": {},
   "source": [
    "The code below represent the build out of the logistical regression model for the US Accidents data set for the entire US."
   ]
  },
  {
   "cell_type": "markdown",
   "metadata": {},
   "source": [
    "Perfom the initial setup in the three code blocks below. We'll import the necessary libraries required for this analysis. We'll then define helper functions that will be leveraged later in the analysis. Finally we'll import the  EDA that has already been performed. This will allow us to leverage the existing work and prevent duplication. It should be noted that for this specific analysis we have commented out the graphs that were built in the initial EDA. This is simply to assist in speeding up the logistic regression analysis. "
   ]
  },
  {
   "cell_type": "code",
   "execution_count": 32,
   "metadata": {},
   "outputs": [],
   "source": [
    "# Import libraries for data analysis\n",
    "from sklearn.model_selection import ShuffleSplit\n",
    "from sklearn.linear_model import LogisticRegression\n",
    "from sklearn import metrics as mt\n",
    "from sklearn.preprocessing import StandardScaler\n",
    "from sklearn.linear_model import SGDClassifier"
   ]
  },
  {
   "cell_type": "code",
   "execution_count": 2,
   "metadata": {},
   "outputs": [],
   "source": [
    "#Define helper functions\n",
    "def getMedianTemp(row):\n",
    "    month = row['SM_Interim']\n",
    "    state = row['State']\n",
    "    \n",
    "    try:\n",
    "        result = medianTempByStateMonth[state,month]\n",
    "    except:\n",
    "        result = medianTempByMonth[month]\n",
    "    finally:    \n",
    "        return result\n",
    "\n",
    "def getMedianPrecip(row):\n",
    "    month = row['SM_Interim']\n",
    "    state = row['State']\n",
    "    \n",
    "    try:\n",
    "        result = medianPrecipByStateMonth[state,month]\n",
    "    except:\n",
    "        result = medianPrecipByMonth[month]\n",
    "    finally:\n",
    "        return result\n",
    "\n",
    "def getMedianPressure(row):\n",
    "    month = row['SM_Interim']\n",
    "    state = row['State']\n",
    "    \n",
    "    try:\n",
    "        result = medianPressureByStateMonth[state,month]\n",
    "    except:\n",
    "        result = medianPrecipByMonth[month]\n",
    "    finally:\n",
    "        return result\n",
    "\n",
    "def getMedianWindChill(row):\n",
    "    month = row['SM_Interim']\n",
    "    state = row['State']\n",
    "    \n",
    "    try:\n",
    "        result = medianWindChillByStateMonth[state,month]\n",
    "    except:\n",
    "        result = medianWindChillByMonth[month]\n",
    "    finally:\n",
    "        return result\n",
    "\n",
    "def getMedianVis(row):\n",
    "    month = row['SM_Interim']\n",
    "    state = row['State']\n",
    "    \n",
    "    try:\n",
    "        result = medianVisByStateMonth[state,month]\n",
    "    except:\n",
    "        result = medianVisByMonth[month]\n",
    "    finally:\n",
    "        return result\n",
    "\n",
    "def getMedianWindSpeed(row):\n",
    "    month = row['SM_Interim']\n",
    "    state = row['State']\n",
    "    \n",
    "    try:\n",
    "        result = medianWindSpeedByStateMonth[state,month]\n",
    "    except:\n",
    "        result = medianWindSpeedByMonth[month]\n",
    "    finally:\n",
    "        return result\n",
    "\n",
    "def getMedianHumidity(row):\n",
    "    month = row['SM_Interim']\n",
    "    state = row['State']\n",
    "    \n",
    "    try:\n",
    "        result = medianHumidityByStateMonth[state,month]\n",
    "    except:\n",
    "        result = medianHumidityByMonth[month]\n",
    "    finally:\n",
    "        return result\n",
    "\n",
    "def checkMissingValues(df):\n",
    "    missing_df = df.isnull().sum(axis=0).reset_index()\n",
    "    missing_df.columns = ['columns_name','missing_count']\n",
    "    missing_df['missing_ratio'] = missing_df['missing_count'] /df.shape[0]\n",
    "    return missing_df.loc[missing_df['missing_ratio']>0.00]"
   ]
  },
  {
   "cell_type": "code",
   "execution_count": 3,
   "metadata": {},
   "outputs": [
    {
     "name": "stdout",
     "output_type": "stream",
     "text": [
      "Initial Shape:  (2974335, 49)\n",
      "Deduplication Shape:  (2974335, 49)\n",
      "No Duplicate Data Found\n",
      "['MapQuest' 'MapQuest-Bing' 'Bing']\n",
      "['Calm' 'SW' 'SSW' 'WSW' 'WNW' 'NW' 'West' 'NNW' 'NNE' 'South' 'North'\n",
      " 'Variable' 'SE' 'SSE' 'ESE' 'East' 'NE' 'ENE' 'E' 'W' nan 'S' 'VAR'\n",
      " 'CALM' 'N']\n",
      "['Calm' 'SW' 'SSW' 'WSW' 'WNW' 'NW' 'W' 'NNW' 'NNE' 'S' 'N' 'VAR' 'SE'\n",
      " 'SSE' 'ESE' 'E' 'NE' 'ENE' nan 'CALM']\n",
      "['Light Rain' 'Overcast' 'Mostly Cloudy' 'Rain' 'Light Snow' 'Haze'\n",
      " 'Scattered Clouds' 'Partly Cloudy' 'Clear' 'Snow'\n",
      " 'Light Freezing Drizzle' 'Light Drizzle' 'Fog' 'Shallow Fog' 'Heavy Rain'\n",
      " 'Light Freezing Rain' 'Cloudy' 'Drizzle' nan 'Light Rain Showers' 'Mist'\n",
      " 'Smoke' 'Patches of Fog' 'Light Freezing Fog' 'Light Haze'\n",
      " 'Light Thunderstorms and Rain' 'Thunderstorms and Rain' 'Fair'\n",
      " 'Volcanic Ash' 'Blowing Sand' 'Blowing Dust / Windy' 'Widespread Dust'\n",
      " 'Fair / Windy' 'Rain Showers' 'Mostly Cloudy / Windy'\n",
      " 'Light Rain / Windy' 'Hail' 'Heavy Drizzle' 'Showers in the Vicinity'\n",
      " 'Thunderstorm' 'Light Rain Shower' 'Light Rain with Thunder'\n",
      " 'Partly Cloudy / Windy' 'Thunder in the Vicinity' 'T-Storm'\n",
      " 'Heavy Thunderstorms and Rain' 'Thunder' 'Heavy T-Storm' 'Funnel Cloud'\n",
      " 'Heavy T-Storm / Windy' 'Blowing Snow' 'Light Thunderstorms and Snow'\n",
      " 'Heavy Snow' 'Low Drifting Snow' 'Light Ice Pellets' 'Ice Pellets'\n",
      " 'Squalls' 'N/A Precipitation' 'Cloudy / Windy' 'Light Fog' 'Sand'\n",
      " 'Snow Grains' 'Snow Showers' 'Heavy Thunderstorms and Snow'\n",
      " 'Rain / Windy' 'Heavy Rain / Windy' 'Heavy Ice Pellets'\n",
      " 'Light Snow / Windy' 'Heavy Freezing Rain' 'Small Hail'\n",
      " 'Heavy Rain Showers' 'Wintry Mix' 'Freezing Rain' 'Snow / Windy'\n",
      " 'Snow and Sleet' 'Sleet' 'Light Drizzle / Windy'\n",
      " 'Light Freezing Rain / Windy' 'Light Sleet' 'Heavy Sleet'\n",
      " 'Wintry Mix / Windy' 'Light Snow Shower' 'Drizzle and Fog'\n",
      " 'T-Storm / Windy' 'Heavy Snow / Windy' 'Fog / Windy'\n",
      " 'Light Snow and Sleet' 'Light Snow Grains' 'Thunder / Windy'\n",
      " 'Haze / Windy' 'Sand / Dust Whirlwinds' 'Blowing Dust'\n",
      " 'Light Rain Shower / Windy' 'Squalls / Windy' 'Drizzle / Windy'\n",
      " 'Partial Fog / Windy' 'Light Snow with Thunder' 'Blowing Snow / Windy'\n",
      " 'Partial Fog' 'Rain Shower' 'Widespread Dust / Windy'\n",
      " 'Sand / Dust Whirlwinds / Windy' 'Tornado' 'Snow and Thunder'\n",
      " 'Light Snow and Sleet / Windy' 'Snow and Sleet / Windy'\n",
      " 'Heavy Snow with Thunder' 'Thunder / Wintry Mix / Windy'\n",
      " 'Light Snow Showers' 'Heavy Blowing Snow' 'Light Hail' 'Heavy Smoke'\n",
      " 'Heavy Thunderstorms with Small Hail' 'Light Thunderstorm'\n",
      " 'Heavy Freezing Drizzle' 'Light Blowing Snow' 'Thunderstorms and Snow'\n",
      " 'Smoke / Windy' 'Freezing Rain / Windy' 'Dust Whirls'\n",
      " 'Thunder and Hail / Windy']\n",
      "{'Clear': 'Clear', 'Mostly Cloudy': 'Cloudy', 'Overcast': 'Cloudy', 'Fair': 'Clear', 'Partly Cloudy': 'Cloudy', 'Scattered Clouds': 'Cloudy', 'Light Rain': 'Rainy', 'Cloudy': 'Cloudy', 'Light Snow': 'Snowy', 'Haze': 'Fog', 'Rain': 'Rainy', 'Fog': 'Fog', 'Heavy Rain': 'Rainy', 'Light Drizzle': 'Rainy', 'Light Thunderstorms and Rain': 'Rainy', 'Snow': 'Snowy', 'Thunderstorm': 'Rainy', 'Fair / Windy': 'Clear/Windy', 'Smoke': 'Smoke', 'Heavy Thunderstorms and Rain': 'Rainy', 'Patches of Fog': 'Fog', 'Thunderstorms and Rain': 'Rainy', 'Mist': 'Rainy', 'Thunder in the Vicinity': 'Rainy', 'T-Storm': 'Rainy', 'Light Freezing Rain': 'Icy', 'Cloudy / Windy': 'Cloudy/Windy', 'Drizzle': 'Rainy', 'Mostly Cloudy / Windy': 'Cloudy/Windy', 'Light Rain with Thunder': 'Rainy', 'Thunder': 'Rainy', 'Partly Cloudy / Windy': 'Cloudy/Windy', 'Heavy T-Storm': 'Rainy', 'Heavy Snow': 'Snowy', 'Shallow Fog': 'Fog', 'Light Rain / Windy': 'Rain/Windy', 'Light Freezing Fog': 'Fog', 'Wintry Mix': 'Icy', 'Light Freezing Drizzle': 'Icy', 'Light Snow / Windy': 'Snow/Windy', 'Rain / Windy': 'Rain/Windy', 'Blowing Snow': 'Snowy', 'Showers in the Vicinity': 'Rainy', 'Light Ice Pellets': 'Icy', 'Heavy Drizzle': 'Rainy', 'N/A Precipitation': 'Clear', 'Heavy Rain / Windy': 'Rain/Windy', 'Light Rain Showers': 'Rainy', 'Heavy T-Storm / Windy': 'Rain/Windy', 'Widespread Dust': 'Dust', 'T-Storm / Windy': 'Rainy', 'Rain Showers': 'Rainy', 'Ice Pellets': 'Icy', 'Thunder / Windy': 'Rainy', 'Haze / Windy': 'Fog', 'Drizzle and Fog': 'Fog', 'Blowing Dust / Windy': 'Dust/Windy', 'Fog / Windy': 'Fog/Windy', 'Light Rain Shower': 'Rainy', 'Snow / Windy': 'Snow/Windy', 'Blowing Dust': 'Dust', 'Small Hail': 'Icy', 'Light Drizzle / Windy': 'Rain/Windy', 'Sand / Dust Whirlwinds': 'Dust/Windy', 'Squalls': 'Rain/Windy', 'Light Snow Showers': 'Snowy', 'Heavy Snow / Windy': 'Snow/Windy', 'Light Thunderstorms and Snow': 'Rain/Snow', 'Volcanic Ash': 'Ash', 'Wintry Mix / Windy': 'Icy/Windy', 'Funnel Cloud': 'Tornado', 'Sand': 'Sand', 'Freezing Rain': 'Icy', 'Blowing Snow / Windy': 'Snow/Windy', 'Partial Fog': 'Fog', 'Light Haze': 'Fog', 'Snow and Sleet / Windy': 'Icy/Windy', 'Light Snow with Thunder': 'Snow', 'Light Snow and Sleet': 'Icy/Snow', 'Snow and Sleet': 'Icy/Snow', 'Heavy Rain Showers': 'Rain', 'Heavy Thunderstorms with Small Hail': 'Rain', 'Smoke / Windy': 'Smoke/Windy', 'Heavy Sleet': 'Icy', 'Light Snow Grains': 'Snow', 'Rain Shower': 'Rain', 'Light Freezing Rain / Windy': 'Icy/Windy', 'Heavy Snow with Thunder': 'Snow', 'Squalls / Windy': 'Rain/Windy', 'Low Drifting Snow': 'Snow', 'Heavy Thunderstorms and Snow': 'Snow', 'Light Sleet': 'Icy', 'Drizzle / Windy': 'Rain/Windy', 'Snow Grains': 'Snow', 'Heavy Ice Pellets': 'Icy', 'Heavy Blowing Snow': 'Snow/Windy', 'Light Snow and Sleet / Windy': 'Snow/Windy', 'Light Fog': 'Fog', 'Thunderstorms and Snow': 'Snow', 'Light Thunderstorm': 'Rain', 'Light Hail': 'Icy', 'Tornado': 'Tornado', 'Light Blowing Snow': 'Snow', 'Sleet': 'Icy', 'Heavy Freezing Drizzle': 'Icy', 'Heavy Freezing Rain': 'Icy', 'Hail': 'Icy', 'Sand / Dust Whirlwinds / Windy': 'Dust/Windy', 'Snow Showers': 'Snow', 'Freezing Rain / Windy': 'Icy/Windy', 'Dust Whirls': 'Dust', 'Blowing Sand': 'Sand/Windy', 'Thunder / Wintry Mix / Windy': 'Icy/Windy', 'Widespread Dust / Windy': 'Dust/Windy', 'Partial Fog / Windy': 'Fog/Windy', 'Light Rain Shower / Windy': 'Rain/Windy', 'Heavy Smoke': 'Smoke', 'Snow and Thunder': 'Snowy', 'Light Snow Shower': 'Snowy', 'Thunder and Hail / Windy': 'Rain/Windy'}\n",
      "['Rainy' 'Cloudy' 'Snowy' 'Fog' 'Clear' 'Icy' nan 'Smoke' 'Ash'\n",
      " 'Sand/Windy' 'Dust/Windy' 'Dust' 'Clear/Windy' 'Cloudy/Windy'\n",
      " 'Rain/Windy' 'Tornado' 'Rain/Snow' 'Snow' 'Sand' 'Snow/Windy' 'Rain'\n",
      " 'Icy/Snow' 'Icy/Windy' 'Fog/Windy' 'Smoke/Windy']\n",
      "(2974335, 43)\n",
      "ID                              object\n",
      "TMC                            float64\n",
      "Severity                         int64\n",
      "Start_Time                      object\n",
      "End_Time                        object\n",
      "Start_Lat                      float64\n",
      "Start_Lng                      float64\n",
      "Distance(mi)                   float64\n",
      "Side                            object\n",
      "City                            object\n",
      "County                          object\n",
      "State                           object\n",
      "Zipcode                         object\n",
      "Country                         object\n",
      "Timezone                        object\n",
      "Airport_Code                    object\n",
      "Temperature(F)                 float64\n",
      "Wind_Chill(F)                  float64\n",
      "Humidity(%)                    float64\n",
      "Pressure(in)                   float64\n",
      "Visibility(mi)                 float64\n",
      "Wind_Direction                  object\n",
      "Wind_Speed(mph)                float64\n",
      "Precipitation(in)              float64\n",
      "Weather_Condition               object\n",
      "PointOfInterest                   bool\n",
      "Bump                              bool\n",
      "Crossing                          bool\n",
      "Yield                             bool\n",
      "Junction                          bool\n",
      "No_Exit                           bool\n",
      "Railway                           bool\n",
      "Roundabout                        bool\n",
      "Station                           bool\n",
      "Stop                              bool\n",
      "Traffic_Calming                   bool\n",
      "Traffic_Signal                    bool\n",
      "Turning_Loop                      bool\n",
      "Sunrise_Sunset                  object\n",
      "Civil_Twilight                  object\n",
      "Nautical_Twilight               object\n",
      "Astronomical_Twilight           object\n",
      "Weather_Condition_Collapsed     object\n",
      "dtype: object\n",
      "<class 'pandas.core.frame.DataFrame'>\n",
      "Int64Index: 2974313 entries, 0 to 2974334\n",
      "Data columns (total 56 columns):\n",
      "ID                             object\n",
      "TMC                            float64\n",
      "Severity                       float64\n",
      "Start_Time                     datetime64[ns]\n",
      "End_Time                       datetime64[ns]\n",
      "Start_Lat                      float64\n",
      "Start_Lng                      float64\n",
      "Distance(mi)                   float64\n",
      "Side                           object\n",
      "City                           object\n",
      "County                         object\n",
      "State                          object\n",
      "Zipcode                        object\n",
      "Country                        object\n",
      "Timezone                       object\n",
      "Airport_Code                   object\n",
      "Temperature(F)                 float64\n",
      "Wind_Chill(F)                  float64\n",
      "Humidity(%)                    float64\n",
      "Pressure(in)                   float64\n",
      "Visibility(mi)                 float64\n",
      "Wind_Direction                 object\n",
      "Wind_Speed(mph)                float64\n",
      "Precipitation(in)              float64\n",
      "Weather_Condition              object\n",
      "PointOfInterest                float64\n",
      "Bump                           float64\n",
      "Crossing                       float64\n",
      "Yield                          float64\n",
      "Junction                       float64\n",
      "No_Exit                        float64\n",
      "Railway                        float64\n",
      "Roundabout                     float64\n",
      "Station                        float64\n",
      "Stop                           float64\n",
      "Traffic_Calming                float64\n",
      "Traffic_Signal                 float64\n",
      "Turning_Loop                   float64\n",
      "Sunrise_Sunset                 object\n",
      "Civil_Twilight                 object\n",
      "Nautical_Twilight              object\n",
      "Astronomical_Twilight          object\n",
      "Weather_Condition_Collapsed    object\n",
      "Start_Year                     float64\n",
      "Start_Month                    object\n",
      "Start_Day                      float64\n",
      "Start_Hour                     float64\n",
      "Start_Weekday                  object\n",
      "Start_Date                     object\n",
      "End_Year                       float64\n",
      "End_Month                      object\n",
      "End_Day                        float64\n",
      "End_Hour                       float64\n",
      "End_Weekday                    object\n",
      "End_Date                       object\n",
      "Time_Duration(min)             float64\n",
      "dtypes: datetime64[ns](2), float64(32), object(22)\n",
      "memory usage: 1.3+ GB\n"
     ]
    },
    {
     "name": "stderr",
     "output_type": "stream",
     "text": [
      "/home/jbcroom/anaconda3/lib/python3.7/site-packages/tqdm/std.py:648: FutureWarning: The Panel class is removed from pandas. Accessing it from the top-level namespace will also be removed in the next version\n",
      "  from pandas import Panel\n"
     ]
    },
    {
     "data": {
      "application/vnd.jupyter.widget-view+json": {
       "model_id": "a5c8c97cda19484a9462e757ece7a614",
       "version_major": 2,
       "version_minor": 0
      },
      "text/plain": [
       "HBox(children=(IntProgress(value=0, description='Pandas Apply', max=2974313, style=ProgressStyle(description_w…"
      ]
     },
     "metadata": {},
     "output_type": "display_data"
    },
    {
     "name": "stdout",
     "output_type": "stream",
     "text": [
      "\n"
     ]
    }
   ],
   "source": [
    "#Run the initial EDA from the first lab for the project. \n",
    "#NOTE: We've commented out the graphs and analysis portions from the EDA just to make things run faster, hence the \"Skinny\"\n",
    "#version of the filename\n",
    "%run ./JB_AR_BC_SO_Project1_Skinny.ipynb"
   ]
  },
  {
   "cell_type": "markdown",
   "metadata": {},
   "source": [
    "Now we'll copy the EDA ready dataframe into a secondary dataframe. This will allow us to get back to initial state if something goes awry."
   ]
  },
  {
   "cell_type": "code",
   "execution_count": 4,
   "metadata": {},
   "outputs": [],
   "source": [
    "# Copy the dataframe from the original as we'll be manipulating it for analysis\n",
    "df2 = df.copy()"
   ]
  },
  {
   "cell_type": "markdown",
   "metadata": {},
   "source": [
    "Let's determine what our model prediction accuracy should be based on just assigning all accidents \"Low Severity.\" This will give us a benchmark of comparison for our models"
   ]
  },
  {
   "cell_type": "code",
   "execution_count": 5,
   "metadata": {},
   "outputs": [
    {
     "name": "stdout",
     "output_type": "stream",
     "text": [
      "0.670529042626335\n"
     ]
    }
   ],
   "source": [
    "# We are searching for a model to predict better than just assigning all accidents \"low severity\"\n",
    "# Thus, we need a model prediction accuracy higher than below\n",
    "\n",
    "print(1994378/(1994378+979957))"
   ]
  },
  {
   "cell_type": "markdown",
   "metadata": {},
   "source": [
    "From the above calculation we can see that we need our model accuray to be greater than 67%. This will give us something to compare against for logistic regression and SVM."
   ]
  },
  {
   "cell_type": "markdown",
   "metadata": {},
   "source": [
    "Build out the initial list of features we want to put through the logistic regression model. We'll keep the majority of the features. City, Country, ZipCode and the accident End date values will be removed for this initial pass. We'll also create a temporary column for Start Month and State for assistance with a few future items that need to be addressed with this field. We will also collapse the severity values into two values O for low severity accidents and 1 for high severity accidents."
   ]
  },
  {
   "cell_type": "code",
   "execution_count": 6,
   "metadata": {},
   "outputs": [
    {
     "data": {
      "text/plain": [
       "0.0    1994178\n",
       "1.0     979553\n",
       "Name: Severity, dtype: int64"
      ]
     },
     "execution_count": 6,
     "metadata": {},
     "output_type": "execute_result"
    }
   ],
   "source": [
    "#Take an initial pass at the features we want to run through logistic regression\n",
    "featuresList = ['Severity','Start_Lat','Start_Lng','Distance(mi)','Side','Temperature(F)','Wind_Chill(F)',\n",
    "                'Humidity(%)','Pressure(in)','Visibility(mi)','Wind_Speed(mph)','Precipitation(in)',\n",
    "                'PointOfInterest','Bump','Crossing','Yield','Junction','No_Exit','Railway',\n",
    "                'Roundabout','Station','Stop','Traffic_Calming','Traffic_Signal','Turning_Loop','Sunrise_Sunset',\n",
    "                'Start_Month','Start_Hour','Start_Weekday','Time_Duration(min)','State',\n",
    "                'Timezone','Start_Time','Weather_Condition_Collapsed','TMC']\n",
    "\n",
    "#filter down the dataframe to just the features needed\n",
    "df2 = df2[featuresList]\n",
    "\n",
    "#duplicate the Start Month. This will help us later\n",
    "df2['SM_Interim'] = df2['Start_Month']\n",
    "\n",
    "#duplicate the Start Month. This will help us later\n",
    "df2['ST'] = df2['State']\n",
    "\n",
    "# replace severity to binary\n",
    "df2.Severity.replace([0, 1, 2, 3, 4], [0, 0, 0, 1, 1], inplace=True)\n",
    "\n",
    "# view recoded variable\n",
    "df2['Severity'].value_counts() "
   ]
  },
  {
   "cell_type": "markdown",
   "metadata": {},
   "source": [
    "Clean up missing values in the data set."
   ]
  },
  {
   "cell_type": "code",
   "execution_count": 7,
   "metadata": {},
   "outputs": [
    {
     "data": {
      "text/html": [
       "<div>\n",
       "<style scoped>\n",
       "    .dataframe tbody tr th:only-of-type {\n",
       "        vertical-align: middle;\n",
       "    }\n",
       "\n",
       "    .dataframe tbody tr th {\n",
       "        vertical-align: top;\n",
       "    }\n",
       "\n",
       "    .dataframe thead th {\n",
       "        text-align: right;\n",
       "    }\n",
       "</style>\n",
       "<table border=\"1\" class=\"dataframe\">\n",
       "  <thead>\n",
       "    <tr style=\"text-align: right;\">\n",
       "      <th></th>\n",
       "      <th>columns_name</th>\n",
       "      <th>missing_count</th>\n",
       "      <th>missing_ratio</th>\n",
       "    </tr>\n",
       "  </thead>\n",
       "  <tbody>\n",
       "    <tr>\n",
       "      <th>0</th>\n",
       "      <td>Severity</td>\n",
       "      <td>582</td>\n",
       "      <td>0.000196</td>\n",
       "    </tr>\n",
       "    <tr>\n",
       "      <th>1</th>\n",
       "      <td>Start_Lat</td>\n",
       "      <td>582</td>\n",
       "      <td>0.000196</td>\n",
       "    </tr>\n",
       "    <tr>\n",
       "      <th>2</th>\n",
       "      <td>Start_Lng</td>\n",
       "      <td>582</td>\n",
       "      <td>0.000196</td>\n",
       "    </tr>\n",
       "    <tr>\n",
       "      <th>3</th>\n",
       "      <td>Distance(mi)</td>\n",
       "      <td>582</td>\n",
       "      <td>0.000196</td>\n",
       "    </tr>\n",
       "    <tr>\n",
       "      <th>4</th>\n",
       "      <td>Side</td>\n",
       "      <td>582</td>\n",
       "      <td>0.000196</td>\n",
       "    </tr>\n",
       "    <tr>\n",
       "      <th>5</th>\n",
       "      <td>Temperature(F)</td>\n",
       "      <td>56611</td>\n",
       "      <td>0.019033</td>\n",
       "    </tr>\n",
       "    <tr>\n",
       "      <th>6</th>\n",
       "      <td>Wind_Chill(F)</td>\n",
       "      <td>1852794</td>\n",
       "      <td>0.622932</td>\n",
       "    </tr>\n",
       "    <tr>\n",
       "      <th>7</th>\n",
       "      <td>Humidity(%)</td>\n",
       "      <td>59721</td>\n",
       "      <td>0.020079</td>\n",
       "    </tr>\n",
       "    <tr>\n",
       "      <th>8</th>\n",
       "      <td>Pressure(in)</td>\n",
       "      <td>48696</td>\n",
       "      <td>0.016372</td>\n",
       "    </tr>\n",
       "    <tr>\n",
       "      <th>9</th>\n",
       "      <td>Visibility(mi)</td>\n",
       "      <td>66242</td>\n",
       "      <td>0.022271</td>\n",
       "    </tr>\n",
       "    <tr>\n",
       "      <th>10</th>\n",
       "      <td>Wind_Speed(mph)</td>\n",
       "      <td>441317</td>\n",
       "      <td>0.148376</td>\n",
       "    </tr>\n",
       "    <tr>\n",
       "      <th>11</th>\n",
       "      <td>Precipitation(in)</td>\n",
       "      <td>1998485</td>\n",
       "      <td>0.671915</td>\n",
       "    </tr>\n",
       "    <tr>\n",
       "      <th>12</th>\n",
       "      <td>PointOfInterest</td>\n",
       "      <td>582</td>\n",
       "      <td>0.000196</td>\n",
       "    </tr>\n",
       "    <tr>\n",
       "      <th>13</th>\n",
       "      <td>Bump</td>\n",
       "      <td>582</td>\n",
       "      <td>0.000196</td>\n",
       "    </tr>\n",
       "    <tr>\n",
       "      <th>14</th>\n",
       "      <td>Crossing</td>\n",
       "      <td>582</td>\n",
       "      <td>0.000196</td>\n",
       "    </tr>\n",
       "    <tr>\n",
       "      <th>15</th>\n",
       "      <td>Yield</td>\n",
       "      <td>582</td>\n",
       "      <td>0.000196</td>\n",
       "    </tr>\n",
       "    <tr>\n",
       "      <th>16</th>\n",
       "      <td>Junction</td>\n",
       "      <td>582</td>\n",
       "      <td>0.000196</td>\n",
       "    </tr>\n",
       "    <tr>\n",
       "      <th>17</th>\n",
       "      <td>No_Exit</td>\n",
       "      <td>582</td>\n",
       "      <td>0.000196</td>\n",
       "    </tr>\n",
       "    <tr>\n",
       "      <th>18</th>\n",
       "      <td>Railway</td>\n",
       "      <td>582</td>\n",
       "      <td>0.000196</td>\n",
       "    </tr>\n",
       "    <tr>\n",
       "      <th>19</th>\n",
       "      <td>Roundabout</td>\n",
       "      <td>582</td>\n",
       "      <td>0.000196</td>\n",
       "    </tr>\n",
       "    <tr>\n",
       "      <th>20</th>\n",
       "      <td>Station</td>\n",
       "      <td>582</td>\n",
       "      <td>0.000196</td>\n",
       "    </tr>\n",
       "    <tr>\n",
       "      <th>21</th>\n",
       "      <td>Stop</td>\n",
       "      <td>582</td>\n",
       "      <td>0.000196</td>\n",
       "    </tr>\n",
       "    <tr>\n",
       "      <th>22</th>\n",
       "      <td>Traffic_Calming</td>\n",
       "      <td>582</td>\n",
       "      <td>0.000196</td>\n",
       "    </tr>\n",
       "    <tr>\n",
       "      <th>23</th>\n",
       "      <td>Traffic_Signal</td>\n",
       "      <td>582</td>\n",
       "      <td>0.000196</td>\n",
       "    </tr>\n",
       "    <tr>\n",
       "      <th>24</th>\n",
       "      <td>Turning_Loop</td>\n",
       "      <td>582</td>\n",
       "      <td>0.000196</td>\n",
       "    </tr>\n",
       "    <tr>\n",
       "      <th>25</th>\n",
       "      <td>Sunrise_Sunset</td>\n",
       "      <td>674</td>\n",
       "      <td>0.000227</td>\n",
       "    </tr>\n",
       "    <tr>\n",
       "      <th>26</th>\n",
       "      <td>Start_Month</td>\n",
       "      <td>582</td>\n",
       "      <td>0.000196</td>\n",
       "    </tr>\n",
       "    <tr>\n",
       "      <th>27</th>\n",
       "      <td>Start_Hour</td>\n",
       "      <td>582</td>\n",
       "      <td>0.000196</td>\n",
       "    </tr>\n",
       "    <tr>\n",
       "      <th>28</th>\n",
       "      <td>Start_Weekday</td>\n",
       "      <td>582</td>\n",
       "      <td>0.000196</td>\n",
       "    </tr>\n",
       "    <tr>\n",
       "      <th>30</th>\n",
       "      <td>State</td>\n",
       "      <td>582</td>\n",
       "      <td>0.000196</td>\n",
       "    </tr>\n",
       "    <tr>\n",
       "      <th>31</th>\n",
       "      <td>Timezone</td>\n",
       "      <td>3745</td>\n",
       "      <td>0.001259</td>\n",
       "    </tr>\n",
       "    <tr>\n",
       "      <th>32</th>\n",
       "      <td>Start_Time</td>\n",
       "      <td>582</td>\n",
       "      <td>0.000196</td>\n",
       "    </tr>\n",
       "    <tr>\n",
       "      <th>33</th>\n",
       "      <td>Weather_Condition_Collapsed</td>\n",
       "      <td>66484</td>\n",
       "      <td>0.022353</td>\n",
       "    </tr>\n",
       "    <tr>\n",
       "      <th>34</th>\n",
       "      <td>TMC</td>\n",
       "      <td>728110</td>\n",
       "      <td>0.244799</td>\n",
       "    </tr>\n",
       "    <tr>\n",
       "      <th>35</th>\n",
       "      <td>SM_Interim</td>\n",
       "      <td>582</td>\n",
       "      <td>0.000196</td>\n",
       "    </tr>\n",
       "    <tr>\n",
       "      <th>36</th>\n",
       "      <td>ST</td>\n",
       "      <td>582</td>\n",
       "      <td>0.000196</td>\n",
       "    </tr>\n",
       "  </tbody>\n",
       "</table>\n",
       "</div>"
      ],
      "text/plain": [
       "                   columns_name  missing_count  missing_ratio\n",
       "0                      Severity            582       0.000196\n",
       "1                     Start_Lat            582       0.000196\n",
       "2                     Start_Lng            582       0.000196\n",
       "3                  Distance(mi)            582       0.000196\n",
       "4                          Side            582       0.000196\n",
       "5                Temperature(F)          56611       0.019033\n",
       "6                 Wind_Chill(F)        1852794       0.622932\n",
       "7                   Humidity(%)          59721       0.020079\n",
       "8                  Pressure(in)          48696       0.016372\n",
       "9                Visibility(mi)          66242       0.022271\n",
       "10              Wind_Speed(mph)         441317       0.148376\n",
       "11            Precipitation(in)        1998485       0.671915\n",
       "12              PointOfInterest            582       0.000196\n",
       "13                         Bump            582       0.000196\n",
       "14                     Crossing            582       0.000196\n",
       "15                        Yield            582       0.000196\n",
       "16                     Junction            582       0.000196\n",
       "17                      No_Exit            582       0.000196\n",
       "18                      Railway            582       0.000196\n",
       "19                   Roundabout            582       0.000196\n",
       "20                      Station            582       0.000196\n",
       "21                         Stop            582       0.000196\n",
       "22              Traffic_Calming            582       0.000196\n",
       "23               Traffic_Signal            582       0.000196\n",
       "24                 Turning_Loop            582       0.000196\n",
       "25               Sunrise_Sunset            674       0.000227\n",
       "26                  Start_Month            582       0.000196\n",
       "27                   Start_Hour            582       0.000196\n",
       "28                Start_Weekday            582       0.000196\n",
       "30                        State            582       0.000196\n",
       "31                     Timezone           3745       0.001259\n",
       "32                   Start_Time            582       0.000196\n",
       "33  Weather_Condition_Collapsed          66484       0.022353\n",
       "34                          TMC         728110       0.244799\n",
       "35                   SM_Interim            582       0.000196\n",
       "36                           ST            582       0.000196"
      ]
     },
     "execution_count": 7,
     "metadata": {},
     "output_type": "execute_result"
    }
   ],
   "source": [
    "#Let's look to see what missing data has been created by the dummy numerics\n",
    "checkMissingValues(df2)"
   ]
  },
  {
   "cell_type": "code",
   "execution_count": 8,
   "metadata": {},
   "outputs": [
    {
     "data": {
      "text/html": [
       "<div>\n",
       "<style scoped>\n",
       "    .dataframe tbody tr th:only-of-type {\n",
       "        vertical-align: middle;\n",
       "    }\n",
       "\n",
       "    .dataframe tbody tr th {\n",
       "        vertical-align: top;\n",
       "    }\n",
       "\n",
       "    .dataframe thead th {\n",
       "        text-align: right;\n",
       "    }\n",
       "</style>\n",
       "<table border=\"1\" class=\"dataframe\">\n",
       "  <thead>\n",
       "    <tr style=\"text-align: right;\">\n",
       "      <th></th>\n",
       "      <th>columns_name</th>\n",
       "      <th>missing_count</th>\n",
       "      <th>missing_ratio</th>\n",
       "    </tr>\n",
       "  </thead>\n",
       "  <tbody>\n",
       "    <tr>\n",
       "      <th>5</th>\n",
       "      <td>Temperature(F)</td>\n",
       "      <td>6665</td>\n",
       "      <td>0.003029</td>\n",
       "    </tr>\n",
       "    <tr>\n",
       "      <th>6</th>\n",
       "      <td>Wind_Chill(F)</td>\n",
       "      <td>1391570</td>\n",
       "      <td>0.632469</td>\n",
       "    </tr>\n",
       "    <tr>\n",
       "      <th>7</th>\n",
       "      <td>Humidity(%)</td>\n",
       "      <td>8940</td>\n",
       "      <td>0.004063</td>\n",
       "    </tr>\n",
       "    <tr>\n",
       "      <th>8</th>\n",
       "      <td>Pressure(in)</td>\n",
       "      <td>2517</td>\n",
       "      <td>0.001144</td>\n",
       "    </tr>\n",
       "    <tr>\n",
       "      <th>9</th>\n",
       "      <td>Visibility(mi)</td>\n",
       "      <td>5267</td>\n",
       "      <td>0.002394</td>\n",
       "    </tr>\n",
       "    <tr>\n",
       "      <th>10</th>\n",
       "      <td>Wind_Speed(mph)</td>\n",
       "      <td>301374</td>\n",
       "      <td>0.136974</td>\n",
       "    </tr>\n",
       "    <tr>\n",
       "      <th>11</th>\n",
       "      <td>Precipitation(in)</td>\n",
       "      <td>1493869</td>\n",
       "      <td>0.678963</td>\n",
       "    </tr>\n",
       "  </tbody>\n",
       "</table>\n",
       "</div>"
      ],
      "text/plain": [
       "         columns_name  missing_count  missing_ratio\n",
       "5      Temperature(F)           6665       0.003029\n",
       "6       Wind_Chill(F)        1391570       0.632469\n",
       "7         Humidity(%)           8940       0.004063\n",
       "8        Pressure(in)           2517       0.001144\n",
       "9      Visibility(mi)           5267       0.002394\n",
       "10    Wind_Speed(mph)         301374       0.136974\n",
       "11  Precipitation(in)        1493869       0.678963"
      ]
     },
     "execution_count": 8,
     "metadata": {},
     "output_type": "execute_result"
    }
   ],
   "source": [
    "cleanList = ['SM_Interim','State','Turning_Loop','Traffic_Signal','Traffic_Calming','Stop','Station',\n",
    "             'Roundabout','Railway','No_Exit','Junction','Yield','Crossing','Bump','PointOfInterest',\n",
    "             'Distance(mi)','Start_Lng','Start_Lat','Severity','Timezone','TMC',\n",
    "             'Weather_Condition_Collapsed','Sunrise_Sunset']\n",
    "\n",
    "df2.dropna(axis=0,how='any',subset=cleanList,inplace=True)\n",
    "checkMissingValues(df2)"
   ]
  },
  {
   "cell_type": "markdown",
   "metadata": {},
   "source": [
    "From the table above we're left with missing values in weather related data. We'll impute this data after we do our test train split to ensure we properly push the data to the correct areas.\n",
    "\n",
    "Now let's split our categorical variables into dummy columns for the logistic regression"
   ]
  },
  {
   "cell_type": "code",
   "execution_count": 9,
   "metadata": {},
   "outputs": [
    {
     "data": {
      "text/plain": [
       "Severity          float64\n",
       "Start_Lat         float64\n",
       "Start_Lng         float64\n",
       "Distance(mi)      float64\n",
       "Temperature(F)    float64\n",
       "                   ...   \n",
       "TMC_339.0           uint8\n",
       "TMC_341.0           uint8\n",
       "TMC_343.0           uint8\n",
       "TMC_351.0           uint8\n",
       "TMC_406.0           uint8\n",
       "Length: 148, dtype: object"
      ]
     },
     "execution_count": 9,
     "metadata": {},
     "output_type": "execute_result"
    }
   ],
   "source": [
    "# transform categories into dummy numerics\n",
    "cols_to_transform = ['Side','Sunrise_Sunset','Start_Weekday','Start_Month','ST','Weather_Condition_Collapsed','TMC']\n",
    "\n",
    "df2 = pd.get_dummies(df2, columns = cols_to_transform)\n",
    "\n",
    "#check to make sure everything transformed\n",
    "df2.dtypes"
   ]
  },
  {
   "cell_type": "markdown",
   "metadata": {},
   "source": [
    "We'll proceed to build out our test and training datasets using an 80/20 split. Since our data is temporal we'll need to break by Start_Time."
   ]
  },
  {
   "cell_type": "code",
   "execution_count": 10,
   "metadata": {},
   "outputs": [],
   "source": [
    "df2=df2.sort_values(\"Start_Time\")\n",
    "#Build the test/train split. Use a split of 80/20\n",
    "#Get the values for Y\n",
    "y = df2['Severity'].values\n",
    "\n",
    "#Delete off the values for Y so they don't get duplicated in the split\n",
    "del df2['Severity']\n",
    "\n",
    "#get everything else that we want to predict off of\n",
    "x = df2.values\n",
    "\n",
    "train_size = int(len(x) * 0.80)\n",
    "X_train, X_test = x[0:train_size], x[train_size:len(x)]\n",
    "\n",
    "y_train, y_test = y[0:train_size], y[train_size:len(x)]"
   ]
  },
  {
   "cell_type": "markdown",
   "metadata": {},
   "source": [
    "Now that we have our test/train splits convert the numpy arrays back to dataframes while we continue data manipulation"
   ]
  },
  {
   "cell_type": "code",
   "execution_count": 11,
   "metadata": {},
   "outputs": [],
   "source": [
    "#Convert the train/test splits back to dataframes so we can impute missing data. \n",
    "df_X_train = pd.DataFrame.from_records(X_train)\n",
    "df_X_test = pd.DataFrame.from_records(X_test)\n",
    "df_X_train.columns = df2.columns\n",
    "df_X_test.columns = df2.columns"
   ]
  },
  {
   "cell_type": "code",
   "execution_count": 12,
   "metadata": {},
   "outputs": [
    {
     "name": "stdout",
     "output_type": "stream",
     "text": [
      "2016-02-08 05:46:00\n",
      "2019-05-08 07:38:42\n",
      "2019-05-08 07:38:53\n",
      "2019-12-31 23:50:02\n"
     ]
    }
   ],
   "source": [
    "print(df_X_train[\"Start_Time\"].min())\n",
    "print(df_X_train[\"Start_Time\"].max())\n",
    "print(df_X_test[\"Start_Time\"].min())\n",
    "print(df_X_test[\"Start_Time\"].max())"
   ]
  },
  {
   "cell_type": "markdown",
   "metadata": {},
   "source": [
    "As shown above, we are splitting the training data from the testing data by using the first 80% of the data, sorted by time, to test on. This equates to approximately 50 months for training and 7 months to test on."
   ]
  },
  {
   "cell_type": "markdown",
   "metadata": {},
   "source": [
    "Let's check to make sure we're maintaining a consistent shape between our test and train dataframes. This is more of a sanity check for future items than anyting"
   ]
  },
  {
   "cell_type": "code",
   "execution_count": 13,
   "metadata": {},
   "outputs": [
    {
     "name": "stdout",
     "output_type": "stream",
     "text": [
      "(1760176, 147)\n",
      "(440044, 147)\n"
     ]
    }
   ],
   "source": [
    "#Check the dataframe shapes for sanity\n",
    "print(df_X_train.shape)\n",
    "print(df_X_test.shape)"
   ]
  },
  {
   "cell_type": "markdown",
   "metadata": {},
   "source": [
    "Since we know our weather data is what's missing in both the training and test sets let's try to fix it. We'll start by finding the median for each weather value by state and month. This should provide us the most accurate value for imputing the missing value. We'll also calculate the median value by month. This is simply a precaution in the event we can't find a state/month combination. Finally we'll apply these values to the dataframes."
   ]
  },
  {
   "cell_type": "code",
   "execution_count": 14,
   "metadata": {},
   "outputs": [],
   "source": [
    "#Given that we're looking at weather based conditions take median values for each of the features. Initially start by\n",
    "#determining median by state and start month. To also cover any missing values that may not be present with this \n",
    "#combination calculate the overall median by month. \n",
    "medianTempByStateMonth = df_X_train.groupby(['State','SM_Interim'])['Temperature(F)'].median(skipna=True)\n",
    "medianPrecipByStateMonth  = df_X_train.groupby(['State','SM_Interim'])['Precipitation(in)'].median(skipna=True)\n",
    "medianPressureByStateMonth  = df_X_train.groupby(['State','SM_Interim'])['Pressure(in)'].median(skipna=True)\n",
    "medianWindChillByStateMonth  = df_X_train.groupby(['State','SM_Interim'])['Wind_Chill(F)'].median(skipna=True)\n",
    "medianVisByStateMonth  = df_X_train.groupby(['State','SM_Interim'])['Visibility(mi)'].median(skipna=True)\n",
    "medianWindSpeedByStateMonth  = df_X_train.groupby(['State','SM_Interim'])['Wind_Speed(mph)'].median(skipna=True)\n",
    "medianHumidityByStateMonth  = df_X_train.groupby(['State','SM_Interim'])['Humidity(%)'].median(skipna=True)\n",
    "\n",
    "medianTempByMonth = df_X_train.groupby(['SM_Interim'])['Temperature(F)'].median(skipna=True)\n",
    "medianPrecipByMonth  = df_X_train.groupby(['SM_Interim'])['Precipitation(in)'].median(skipna=True)\n",
    "medianPressureByMonth  = df_X_train.groupby(['SM_Interim'])['Pressure(in)'].median(skipna=True)\n",
    "medianWindChillByMonth  = df_X_train.groupby(['SM_Interim'])['Wind_Chill(F)'].median(skipna=True)\n",
    "medianVisByMonth  = df_X_train.groupby(['SM_Interim'])['Visibility(mi)'].median(skipna=True)\n",
    "medianWindSpeedByMonth  = df_X_train.groupby(['SM_Interim'])['Wind_Speed(mph)'].median(skipna=True)\n",
    "medianHumidityByMonth  = df_X_train.groupby(['SM_Interim'])['Humidity(%)'].median(skipna=True)"
   ]
  },
  {
   "cell_type": "code",
   "execution_count": 15,
   "metadata": {},
   "outputs": [
    {
     "data": {
      "application/vnd.jupyter.widget-view+json": {
       "model_id": "b06b6b21c0df45ccac7b5fd767798046",
       "version_major": 2,
       "version_minor": 0
      },
      "text/plain": [
       "HBox(children=(IntProgress(value=0, description='Pandas Apply', max=1760176, style=ProgressStyle(description_w…"
      ]
     },
     "metadata": {},
     "output_type": "display_data"
    },
    {
     "name": "stdout",
     "output_type": "stream",
     "text": [
      "\n"
     ]
    },
    {
     "data": {
      "application/vnd.jupyter.widget-view+json": {
       "model_id": "9ec97d39d2254f5cbe95f409ccceb5c4",
       "version_major": 2,
       "version_minor": 0
      },
      "text/plain": [
       "HBox(children=(IntProgress(value=0, description='Pandas Apply', max=1760176, style=ProgressStyle(description_w…"
      ]
     },
     "metadata": {},
     "output_type": "display_data"
    },
    {
     "name": "stdout",
     "output_type": "stream",
     "text": [
      "\n"
     ]
    },
    {
     "data": {
      "application/vnd.jupyter.widget-view+json": {
       "model_id": "d523c792ecd1414d9ff88f0fce6440ad",
       "version_major": 2,
       "version_minor": 0
      },
      "text/plain": [
       "HBox(children=(IntProgress(value=0, description='Pandas Apply', max=1760176, style=ProgressStyle(description_w…"
      ]
     },
     "metadata": {},
     "output_type": "display_data"
    },
    {
     "name": "stdout",
     "output_type": "stream",
     "text": [
      "\n"
     ]
    },
    {
     "data": {
      "application/vnd.jupyter.widget-view+json": {
       "model_id": "72fd0bb33a5d4124ba33824c1990dff0",
       "version_major": 2,
       "version_minor": 0
      },
      "text/plain": [
       "HBox(children=(IntProgress(value=0, description='Pandas Apply', max=1760176, style=ProgressStyle(description_w…"
      ]
     },
     "metadata": {},
     "output_type": "display_data"
    },
    {
     "name": "stdout",
     "output_type": "stream",
     "text": [
      "\n"
     ]
    },
    {
     "data": {
      "application/vnd.jupyter.widget-view+json": {
       "model_id": "3b027d24cf1c4a19af6248ddc6a87a54",
       "version_major": 2,
       "version_minor": 0
      },
      "text/plain": [
       "HBox(children=(IntProgress(value=0, description='Pandas Apply', max=1760176, style=ProgressStyle(description_w…"
      ]
     },
     "metadata": {},
     "output_type": "display_data"
    },
    {
     "name": "stdout",
     "output_type": "stream",
     "text": [
      "\n"
     ]
    },
    {
     "data": {
      "application/vnd.jupyter.widget-view+json": {
       "model_id": "b83e6253c6874df896972d82b5ce70bc",
       "version_major": 2,
       "version_minor": 0
      },
      "text/plain": [
       "HBox(children=(IntProgress(value=0, description='Pandas Apply', max=1760176, style=ProgressStyle(description_w…"
      ]
     },
     "metadata": {},
     "output_type": "display_data"
    },
    {
     "name": "stdout",
     "output_type": "stream",
     "text": [
      "\n"
     ]
    },
    {
     "data": {
      "application/vnd.jupyter.widget-view+json": {
       "model_id": "6ec07a2ca08e4eca85899fd9670899d8",
       "version_major": 2,
       "version_minor": 0
      },
      "text/plain": [
       "HBox(children=(IntProgress(value=0, description='Pandas Apply', max=1760176, style=ProgressStyle(description_w…"
      ]
     },
     "metadata": {},
     "output_type": "display_data"
    },
    {
     "name": "stdout",
     "output_type": "stream",
     "text": [
      "\n"
     ]
    }
   ],
   "source": [
    "df_X_train.loc[pd.isnull(df_X_train['Temperature(F)']),'Temperature(F)'] = df_X_train.swifter.apply(getMedianTemp, axis=1)\n",
    "df_X_train.loc[pd.isnull(df_X_train['Precipitation(in)']),'Precipitation(in)'] = df_X_train.swifter.apply(getMedianPrecip,axis=1)\n",
    "df_X_train.loc[pd.isnull(df_X_train['Pressure(in)']),'Pressure(in)'] = df_X_train.swifter.apply(getMedianPressure,axis=1)\n",
    "df_X_train.loc[pd.isnull(df_X_train['Wind_Chill(F)']),'Wind_Chill(F)'] = df_X_train.swifter.apply(getMedianWindChill,axis=1)\n",
    "df_X_train.loc[pd.isnull(df_X_train['Visibility(mi)']),'Visibility(mi)'] = df_X_train.swifter.apply(getMedianVis,axis=1)\n",
    "df_X_train.loc[pd.isnull(df_X_train['Wind_Speed(mph)']),'Wind_Speed(mph)'] = df_X_train.swifter.apply(getMedianWindSpeed,axis=1)\n",
    "df_X_train.loc[pd.isnull(df_X_train['Humidity(%)']),'Humidity(%)'] = df_X_train.swifter.apply(getMedianHumidity,axis=1)\n",
    "    \n",
    "#if anything else remains we'll zero it out\n",
    "df_X_train['Precipitation(in)'].fillna(0,inplace=True)\n",
    "df_X_train['Wind_Chill(F)'].fillna(0,inplace=True)\n",
    "df_X_train['Wind_Speed(mph)'].fillna(0,inplace=True)\n",
    "df_X_train['Temperature(F)'].fillna(0,inplace=True)\n",
    "df_X_train['Precipitation(in)'].fillna(0,inplace=True)\n",
    "df_X_train['Visibility(mi)'].fillna(0,inplace=True)\n",
    "df_X_train['Humidity(%)'].fillna(0,inplace=True)"
   ]
  },
  {
   "cell_type": "code",
   "execution_count": 16,
   "metadata": {},
   "outputs": [
    {
     "data": {
      "application/vnd.jupyter.widget-view+json": {
       "model_id": "605f3abb3f8d45709a4ef3591aab9cb3",
       "version_major": 2,
       "version_minor": 0
      },
      "text/plain": [
       "HBox(children=(IntProgress(value=0, description='Pandas Apply', max=440044, style=ProgressStyle(description_wi…"
      ]
     },
     "metadata": {},
     "output_type": "display_data"
    },
    {
     "name": "stdout",
     "output_type": "stream",
     "text": [
      "\n"
     ]
    },
    {
     "data": {
      "application/vnd.jupyter.widget-view+json": {
       "model_id": "f6bf291628af4375baa454949aeb7888",
       "version_major": 2,
       "version_minor": 0
      },
      "text/plain": [
       "HBox(children=(IntProgress(value=0, description='Pandas Apply', max=440044, style=ProgressStyle(description_wi…"
      ]
     },
     "metadata": {},
     "output_type": "display_data"
    },
    {
     "name": "stdout",
     "output_type": "stream",
     "text": [
      "\n"
     ]
    },
    {
     "data": {
      "application/vnd.jupyter.widget-view+json": {
       "model_id": "6026906c93884b259ac97609fb08227e",
       "version_major": 2,
       "version_minor": 0
      },
      "text/plain": [
       "HBox(children=(IntProgress(value=0, description='Pandas Apply', max=440044, style=ProgressStyle(description_wi…"
      ]
     },
     "metadata": {},
     "output_type": "display_data"
    },
    {
     "name": "stdout",
     "output_type": "stream",
     "text": [
      "\n"
     ]
    },
    {
     "data": {
      "application/vnd.jupyter.widget-view+json": {
       "model_id": "ea6ed88bb3594e238945298ed245ce29",
       "version_major": 2,
       "version_minor": 0
      },
      "text/plain": [
       "HBox(children=(IntProgress(value=0, description='Pandas Apply', max=440044, style=ProgressStyle(description_wi…"
      ]
     },
     "metadata": {},
     "output_type": "display_data"
    },
    {
     "name": "stdout",
     "output_type": "stream",
     "text": [
      "\n"
     ]
    },
    {
     "data": {
      "application/vnd.jupyter.widget-view+json": {
       "model_id": "c724b6174724412a9ddf4ab3255ae8bd",
       "version_major": 2,
       "version_minor": 0
      },
      "text/plain": [
       "HBox(children=(IntProgress(value=0, description='Pandas Apply', max=440044, style=ProgressStyle(description_wi…"
      ]
     },
     "metadata": {},
     "output_type": "display_data"
    },
    {
     "name": "stdout",
     "output_type": "stream",
     "text": [
      "\n"
     ]
    },
    {
     "data": {
      "application/vnd.jupyter.widget-view+json": {
       "model_id": "609345f84e064e2299a8744566f5ac04",
       "version_major": 2,
       "version_minor": 0
      },
      "text/plain": [
       "HBox(children=(IntProgress(value=0, description='Pandas Apply', max=440044, style=ProgressStyle(description_wi…"
      ]
     },
     "metadata": {},
     "output_type": "display_data"
    },
    {
     "name": "stdout",
     "output_type": "stream",
     "text": [
      "\n"
     ]
    },
    {
     "data": {
      "application/vnd.jupyter.widget-view+json": {
       "model_id": "8d8178917c554872b59a0c421e8311b7",
       "version_major": 2,
       "version_minor": 0
      },
      "text/plain": [
       "HBox(children=(IntProgress(value=0, description='Pandas Apply', max=440044, style=ProgressStyle(description_wi…"
      ]
     },
     "metadata": {},
     "output_type": "display_data"
    },
    {
     "name": "stdout",
     "output_type": "stream",
     "text": [
      "\n"
     ]
    }
   ],
   "source": [
    "df_X_test.loc[pd.isnull(df_X_test['Temperature(F)']),'Temperature(F)'] = df_X_test.swifter.apply(getMedianTemp, axis=1)\n",
    "df_X_test.loc[pd.isnull(df_X_test['Precipitation(in)']),'Precipitation(in)'] = df_X_test.swifter.apply(getMedianPrecip,axis=1)\n",
    "df_X_test.loc[pd.isnull(df_X_test['Pressure(in)']),'Pressure(in)'] = df_X_test.swifter.apply(getMedianPressure,axis=1)\n",
    "df_X_test.loc[pd.isnull(df_X_test['Wind_Chill(F)']),'Wind_Chill(F)'] = df_X_test.swifter.apply(getMedianWindChill,axis=1)\n",
    "df_X_test.loc[pd.isnull(df_X_test['Visibility(mi)']),'Visibility(mi)'] = df_X_test.swifter.apply(getMedianVis,axis=1)\n",
    "df_X_test.loc[pd.isnull(df_X_test['Wind_Speed(mph)']),'Wind_Speed(mph)'] = df_X_test.swifter.apply(getMedianWindSpeed,axis=1)\n",
    "df_X_test.loc[pd.isnull(df_X_test['Humidity(%)']),'Humidity(%)'] = df_X_test.swifter.apply(getMedianHumidity,axis=1)\n",
    "    \n",
    "#if anything else remains we'll zero it out\n",
    "df_X_test['Precipitation(in)'].fillna(0,inplace=True)\n",
    "df_X_test['Wind_Chill(F)'].fillna(0,inplace=True)\n",
    "df_X_test['Wind_Speed(mph)'].fillna(0,inplace=True)\n",
    "df_X_test['Temperature(F)'].fillna(0,inplace=True)\n",
    "df_X_test['Precipitation(in)'].fillna(0,inplace=True)\n",
    "df_X_test['Visibility(mi)'].fillna(0,inplace=True)\n",
    "df_X_test['Humidity(%)'].fillna(0,inplace=True)"
   ]
  },
  {
   "cell_type": "markdown",
   "metadata": {},
   "source": [
    "Let's verify that we've imputed all the missing values and now have a clean data set."
   ]
  },
  {
   "cell_type": "code",
   "execution_count": 17,
   "metadata": {},
   "outputs": [
    {
     "data": {
      "text/html": [
       "<div>\n",
       "<style scoped>\n",
       "    .dataframe tbody tr th:only-of-type {\n",
       "        vertical-align: middle;\n",
       "    }\n",
       "\n",
       "    .dataframe tbody tr th {\n",
       "        vertical-align: top;\n",
       "    }\n",
       "\n",
       "    .dataframe thead th {\n",
       "        text-align: right;\n",
       "    }\n",
       "</style>\n",
       "<table border=\"1\" class=\"dataframe\">\n",
       "  <thead>\n",
       "    <tr style=\"text-align: right;\">\n",
       "      <th></th>\n",
       "      <th>columns_name</th>\n",
       "      <th>missing_count</th>\n",
       "      <th>missing_ratio</th>\n",
       "    </tr>\n",
       "  </thead>\n",
       "  <tbody>\n",
       "  </tbody>\n",
       "</table>\n",
       "</div>"
      ],
      "text/plain": [
       "Empty DataFrame\n",
       "Columns: [columns_name, missing_count, missing_ratio]\n",
       "Index: []"
      ]
     },
     "execution_count": 17,
     "metadata": {},
     "output_type": "execute_result"
    }
   ],
   "source": [
    "#Let's make sure we have everthing accounted for\n",
    "checkMissingValues(df_X_test)"
   ]
  },
  {
   "cell_type": "code",
   "execution_count": 18,
   "metadata": {},
   "outputs": [
    {
     "data": {
      "text/html": [
       "<div>\n",
       "<style scoped>\n",
       "    .dataframe tbody tr th:only-of-type {\n",
       "        vertical-align: middle;\n",
       "    }\n",
       "\n",
       "    .dataframe tbody tr th {\n",
       "        vertical-align: top;\n",
       "    }\n",
       "\n",
       "    .dataframe thead th {\n",
       "        text-align: right;\n",
       "    }\n",
       "</style>\n",
       "<table border=\"1\" class=\"dataframe\">\n",
       "  <thead>\n",
       "    <tr style=\"text-align: right;\">\n",
       "      <th></th>\n",
       "      <th>columns_name</th>\n",
       "      <th>missing_count</th>\n",
       "      <th>missing_ratio</th>\n",
       "    </tr>\n",
       "  </thead>\n",
       "  <tbody>\n",
       "  </tbody>\n",
       "</table>\n",
       "</div>"
      ],
      "text/plain": [
       "Empty DataFrame\n",
       "Columns: [columns_name, missing_count, missing_ratio]\n",
       "Index: []"
      ]
     },
     "execution_count": 18,
     "metadata": {},
     "output_type": "execute_result"
    }
   ],
   "source": [
    "#Let's make sure we have everthing accounted for\n",
    "checkMissingValues(df_X_train)"
   ]
  },
  {
   "cell_type": "markdown",
   "metadata": {},
   "source": [
    "Now that we've confirmed out data is clean. We have one final clean up item to address. We need to remove th SM_Interim column from both dataframes as is duplicative."
   ]
  },
  {
   "cell_type": "code",
   "execution_count": 19,
   "metadata": {},
   "outputs": [],
   "source": [
    "#drop the interim columns for Start Month  and State that was used for imputing\n",
    "df_X_train.drop(['SM_Interim'],axis=1,inplace=True)\n",
    "df_X_test.drop(['SM_Interim'],axis=1,inplace=True)\n",
    "\n",
    "df_X_train.drop(['Timezone'],axis=1,inplace=True)\n",
    "df_X_test.drop(['Timezone'],axis=1,inplace=True)\n",
    "\n",
    "df_X_train.drop(['State'],axis=1,inplace=True)\n",
    "df_X_test.drop(['State'],axis=1,inplace=True)\n",
    "\n",
    "df_X_train.drop(['Start_Time'],axis=1,inplace=True)\n",
    "df_X_test.drop(['Start_Time'],axis=1,inplace=True)"
   ]
  },
  {
   "cell_type": "markdown",
   "metadata": {},
   "source": [
    "Check to make sure our dataframes are shaped the same."
   ]
  },
  {
   "cell_type": "code",
   "execution_count": 20,
   "metadata": {},
   "outputs": [
    {
     "name": "stdout",
     "output_type": "stream",
     "text": [
      "(1760176, 143)\n",
      "(440044, 143)\n"
     ]
    }
   ],
   "source": [
    "#Check the dataframe shapes for sanity\n",
    "print(df_X_train.shape)\n",
    "print(df_X_test.shape)"
   ]
  },
  {
   "cell_type": "code",
   "execution_count": 21,
   "metadata": {},
   "outputs": [],
   "source": [
    "#convert our test/train dataframes to numpy arrays\n",
    "X_train = df_X_train.to_numpy()\n",
    "X_test = df_X_test.to_numpy()"
   ]
  },
  {
   "cell_type": "markdown",
   "metadata": {},
   "source": [
    "Execute out logistic regression analysis on the data."
   ]
  },
  {
   "cell_type": "code",
   "execution_count": 50,
   "metadata": {},
   "outputs": [
    {
     "name": "stdout",
     "output_type": "stream",
     "text": [
      "CPU times: user 4 µs, sys: 0 ns, total: 4 µs\n",
      "Wall time: 9.06 µs\n"
     ]
    }
   ],
   "source": [
    "# logistic regression\n",
    "%time\n",
    "logistic_regression= LogisticRegression(penalty='l2', C=1.0, class_weight=None, solver='liblinear')\n",
    "logistic_regression.fit(X_train,y_train)\n",
    "y_pred=logistic_regression.predict(X_test)"
   ]
  },
  {
   "cell_type": "code",
   "execution_count": 23,
   "metadata": {},
   "outputs": [
    {
     "name": "stdout",
     "output_type": "stream",
     "text": [
      "              precision    recall  f1-score   support\n",
      "\n",
      "         0.0       0.81      0.83      0.82    309416\n",
      "         1.0       0.57      0.54      0.55    130628\n",
      "\n",
      "    accuracy                           0.74    440044\n",
      "   macro avg       0.69      0.68      0.69    440044\n",
      "weighted avg       0.74      0.74      0.74    440044\n",
      "\n"
     ]
    }
   ],
   "source": [
    "# Accuracy | Accuracy = (TP+TN)/Total\n",
    "print(mt.classification_report(y_test,y_pred))"
   ]
  },
  {
   "cell_type": "markdown",
   "metadata": {},
   "source": [
    "Based on the accurracy calculation we're at 74% accuracy with this model. This is higher than our worst case scenario of 67% initially calculated. Below we'll visually represent the confusion matrix above."
   ]
  },
  {
   "cell_type": "code",
   "execution_count": 24,
   "metadata": {},
   "outputs": [
    {
     "data": {
      "image/png": "[encoded data removed]",
      "text/plain": [
       "<Figure size 576x576 with 2 Axes>"
      ]
     },
     "metadata": {
      "needs_background": "light"
     },
     "output_type": "display_data"
    }
   ],
   "source": [
    "# Confusion matrix\n",
    "\n",
    "fig, ax = plt.subplots(figsize=(8, 8))\n",
    "\n",
    "confusion_matrix = pd.crosstab(y_test, y_pred, rownames=['Actual'], colnames=['Predicted'])\n",
    "\n",
    "\n",
    "annot_kws = {\"ha\": 'center',\"va\": 'top'}\n",
    "ax = sns.heatmap(confusion_matrix, annot=True, annot_kws=annot_kws, cmap ='RdBu_r', center=0)"
   ]
  },
  {
   "cell_type": "markdown",
   "metadata": {},
   "source": [
    "Now let's determine what the logistic regression coefficients look like"
   ]
  },
  {
   "cell_type": "code",
   "execution_count": 25,
   "metadata": {},
   "outputs": [
    {
     "name": "stdout",
     "output_type": "stream",
     "text": [
      "Start_Lat has weight of -0.050836047716004716\n",
      "Start_Lng has weight of 0.015438555842302368\n",
      "Distance(mi) has weight of 0.20366084209989124\n",
      "Temperature(F) has weight of 0.0012907069692894933\n",
      "Wind_Chill(F) has weight of -0.0003991723171144219\n",
      "Humidity(%) has weight of -0.002042896474221387\n",
      "Pressure(in) has weight of 0.11271273393530087\n",
      "Visibility(mi) has weight of -0.0028331212901687914\n",
      "Wind_Speed(mph) has weight of 0.005050410811337742\n",
      "Precipitation(in) has weight of 0.09469190393696361\n",
      "PointOfInterest has weight of -1.3464964909490562\n",
      "Bump has weight of -0.1277402451301119\n",
      "Crossing has weight of -0.9453597551384139\n",
      "Yield has weight of 0.3542176781828267\n",
      "Junction has weight of 0.5552744659083063\n",
      "No_Exit has weight of 0.10816945570239331\n",
      "Railway has weight of 0.4649976734439463\n",
      "Roundabout has weight of -0.16012537290337886\n",
      "Station has weight of -0.7757724698720527\n",
      "Stop has weight of -2.390763345584338\n",
      "Traffic_Calming has weight of -0.29557836189362635\n",
      "Traffic_Signal has weight of -1.523182577693646\n",
      "Turning_Loop has weight of 0.0\n",
      "Start_Hour has weight of 0.014937088139029574\n",
      "Time_Duration(min) has weight of -0.001868466041954613\n",
      "State has weight of -0.0003984260373813696\n",
      "Timezone has weight of -1.2742039974658776\n",
      "Start_Time has weight of 1.1240391777823335\n",
      "SM_Interim has weight of -0.1525472025711505\n",
      "Side_  has weight of 0.0019839568696711444\n",
      "Side_L has weight of -0.1582094046218593\n",
      "Side_R has weight of -0.23029381362621376\n",
      "Sunrise_Sunset_Day has weight of 0.4096600301056761\n",
      "Sunrise_Sunset_Night has weight of 0.45693805945955723\n",
      "Start_Weekday_Fri has weight of -0.1845267137303707\n",
      "Start_Weekday_Mon has weight of -0.2223749217195264\n",
      "Start_Weekday_Sat has weight of -0.22175648156346117\n",
      "Start_Weekday_Sun has weight of -0.03878563422581407\n",
      "Start_Weekday_Thu has weight of 0.04656697208774596\n",
      "Start_Weekday_Tue has weight of -0.017339358580161637\n",
      "Start_Weekday_Wed has weight of -0.09528388763796473\n",
      "Start_Month_Apr has weight of -0.07510874502111302\n",
      "Start_Month_Aug has weight of 0.10560004800412304\n",
      "Start_Month_Dec has weight of 0.15145004518513128\n",
      "Start_Month_Feb has weight of -0.0907366371421316\n",
      "Start_Month_Jan has weight of 0.04396861782555037\n",
      "Start_Month_Jul has weight of -0.0924525661853033\n",
      "Start_Month_Jun has weight of -0.10663710852277027\n",
      "Start_Month_Mar has weight of 0.01819500852577805\n",
      "Start_Month_May has weight of -0.38566336704094434\n",
      "Start_Month_Nov has weight of 0.04472344118938548\n",
      "Start_Month_Oct has weight of -0.440108404384838\n",
      "Start_Month_Sep has weight of 0.19011993824331716\n",
      "ST_AL has weight of 0.360807905927075\n",
      "ST_AR has weight of 0.40863334027031806\n",
      "ST_AZ has weight of 0.021686648552072297\n",
      "ST_CA has weight of -1.1170543885665953\n",
      "ST_CO has weight of -0.6633254896215475\n",
      "ST_CT has weight of 0.397625875892672\n",
      "ST_DC has weight of 0.5081648061543913\n",
      "ST_DE has weight of 0.03816204037380775\n",
      "ST_FL has weight of -0.6880171697928993\n",
      "ST_GA has weight of -0.2507379871851984\n",
      "ST_IA has weight of 0.6856047604159377\n",
      "ST_ID has weight of 0.9293299156345399\n",
      "ST_IL has weight of -1.3051145119883718\n",
      "ST_IN has weight of 0.036779588533904804\n",
      "ST_KS has weight of 0.142356244894982\n",
      "ST_KY has weight of 0.022746664297209642\n",
      "ST_LA has weight of 0.22309601165797208\n",
      "ST_MA has weight of 0.8161512253185691\n",
      "ST_MD has weight of 1.374808280042987\n",
      "ST_ME has weight of 0.2935373156160912\n",
      "ST_MI has weight of 0.06412841538414517\n",
      "ST_MN has weight of -1.3603157615684305\n",
      "ST_MO has weight of 0.016361919579211147\n",
      "ST_MS has weight of -0.510980363011543\n",
      "ST_MT has weight of -0.5893453126718791\n",
      "ST_NC has weight of -0.767811944656336\n",
      "ST_ND has weight of 0.25526445432830225\n",
      "ST_NE has weight of 1.0012035885156427\n",
      "ST_NH has weight of -0.12668490292492673\n",
      "ST_NJ has weight of 0.018594790398998518\n",
      "ST_NM has weight of -1.333130186045797\n",
      "ST_NV has weight of 0.4072458015362873\n",
      "ST_NY has weight of -1.0282641271169297\n",
      "ST_OH has weight of 0.9025880334650142\n",
      "ST_OK has weight of -0.941219935478618\n",
      "ST_OR has weight of -0.002721445711316295\n",
      "ST_PA has weight of -0.37273989626639176\n",
      "ST_RI has weight of -0.8254045586224812\n",
      "ST_SC has weight of 1.2500969956542536\n",
      "ST_SD has weight of 0.15782575565173398\n",
      "ST_TN has weight of -0.10780886730611831\n",
      "ST_TX has weight of 1.0385314479505676\n",
      "ST_UT has weight of 0.7938336178075742\n",
      "ST_VA has weight of 0.14177053440507673\n",
      "ST_VT has weight of 0.12410601657576997\n",
      "ST_WA has weight of -0.008928514996348716\n",
      "ST_WI has weight of -0.22546180928068743\n",
      "ST_WV has weight of -0.12621574862079665\n",
      "ST_WY has weight of -0.029756835408626885\n",
      "Weather_Condition_Collapsed_Ash has weight of 0.004058573597467454\n",
      "Weather_Condition_Collapsed_Clear has weight of -0.05256373818364963\n",
      "Weather_Condition_Collapsed_Clear/Windy has weight of -0.005478749887376559\n",
      "Weather_Condition_Collapsed_Cloudy has weight of -0.12242118219631591\n",
      "Weather_Condition_Collapsed_Cloudy/Windy has weight of -0.0005933329979200374\n",
      "Weather_Condition_Collapsed_Dust has weight of 0.4359794316082743\n",
      "Weather_Condition_Collapsed_Dust/Windy has weight of -0.0006707992892823164\n",
      "Weather_Condition_Collapsed_Fog has weight of 0.006800118002036406\n",
      "Weather_Condition_Collapsed_Fog/Windy has weight of 0.005777930760301024\n",
      "Weather_Condition_Collapsed_Icy has weight of 0.01817007134075509\n",
      "Weather_Condition_Collapsed_Icy/Snow has weight of 0.00024079201663779095\n",
      "Weather_Condition_Collapsed_Icy/Windy has weight of 0.1306774729529298\n",
      "Weather_Condition_Collapsed_Rain has weight of -0.008757745996879326\n",
      "Weather_Condition_Collapsed_Rain/Snow has weight of 0.000881870126228941\n",
      "Weather_Condition_Collapsed_Rain/Windy has weight of -0.32583856146855855\n",
      "Weather_Condition_Collapsed_Rainy has weight of -0.0009834710338577676\n",
      "Weather_Condition_Collapsed_Sand has weight of 0.007786454217916812\n",
      "Weather_Condition_Collapsed_Sand/Windy has weight of -0.03871163785677315\n",
      "Weather_Condition_Collapsed_Smoke has weight of 0.19589529413832596\n",
      "Weather_Condition_Collapsed_Smoke/Windy has weight of -0.010449127227160593\n",
      "Weather_Condition_Collapsed_Snow has weight of -0.013858058826044425\n",
      "Weather_Condition_Collapsed_Snow/Windy has weight of -0.7259850363770309\n",
      "Weather_Condition_Collapsed_Snowy has weight of -1.4838256886745311\n",
      "Weather_Condition_Collapsed_Tornado has weight of 0.0337677542070086\n",
      "TMC_200.0 has weight of -0.43253490723396293\n",
      "TMC_201.0 has weight of 0.0635786645678339\n",
      "TMC_202.0 has weight of -0.2753596826062444\n",
      "TMC_203.0 has weight of 0.014881042973892457\n",
      "TMC_206.0 has weight of -0.016332486444124963\n",
      "TMC_222.0 has weight of 0.010870055643425748\n",
      "TMC_229.0 has weight of 0.1804358820281845\n",
      "TMC_236.0 has weight of 0.6297438352267989\n",
      "TMC_239.0 has weight of 1.1297417364900195\n",
      "TMC_241.0 has weight of -0.2062654794812883\n",
      "TMC_244.0 has weight of -0.32127572040671054\n",
      "TMC_245.0 has weight of -0.00905643073368659\n",
      "TMC_246.0 has weight of 0.0408257329735148\n",
      "TMC_247.0 has weight of -0.012026888681471394\n",
      "TMC_248.0 has weight of 0.1147214295645856\n",
      "TMC_336.0 has weight of 0.0035794484044060814\n",
      "TMC_339.0 has weight of 1.1238115516947986\n"
     ]
    }
   ],
   "source": [
    "#Coefficients\n",
    "weights = logistic_regression.coef_.T # take transpose to make a column vector\n",
    "variable_names = df2.columns\n",
    "for coef, name in zip(weights,variable_names):\n",
    "    print(name, 'has weight of', coef[0])"
   ]
  },
  {
   "cell_type": "markdown",
   "metadata": {},
   "source": [
    "The table above lists the non-normalized coefficients for the model. We'll normalize them next to make it more interpretable"
   ]
  },
  {
   "cell_type": "code",
   "execution_count": 26,
   "metadata": {},
   "outputs": [],
   "source": [
    "#NOTE: Code below adapted from the course lectures\n",
    "# we want to normalize the features based upon the mean and standard deviation of each column. \n",
    "\n",
    "# scale attributes by the training set\n",
    "scl_obj = StandardScaler()\n",
    "scl_obj.fit(X_train) # find scalings for each column that make this zero mean and unit std\n",
    "\n",
    "X_train_scaled = scl_obj.transform(X_train) # apply to training\n",
    "X_test_scaled = scl_obj.transform(X_test) # apply those means and std to the test set \n",
    "\n",
    "# train the model just as before\n",
    "lr_clf = LogisticRegression(penalty='l2', C=0.05, solver='liblinear') \n",
    "lr_clf.fit(X_train_scaled,y_train)  # train object\n",
    "\n",
    "y_hat = lr_clf.predict(X_test_scaled) # get test set predictions"
   ]
  },
  {
   "cell_type": "markdown",
   "metadata": {},
   "source": [
    "The accuracy of the scaled model has not changed."
   ]
  },
  {
   "cell_type": "code",
   "execution_count": 27,
   "metadata": {},
   "outputs": [
    {
     "name": "stdout",
     "output_type": "stream",
     "text": [
      "              precision    recall  f1-score   support\n",
      "\n",
      "         0.0       0.81      0.83      0.82    309416\n",
      "         1.0       0.57      0.54      0.55    130628\n",
      "\n",
      "    accuracy                           0.74    440044\n",
      "   macro avg       0.69      0.68      0.69    440044\n",
      "weighted avg       0.74      0.74      0.74    440044\n",
      "\n"
     ]
    }
   ],
   "source": [
    "print(mt.classification_report(y_test,y_hat))"
   ]
  },
  {
   "cell_type": "markdown",
   "metadata": {},
   "source": [
    "The table below lists the normalized coefficients for the model. We'll interpret these coefficients in the interpretation section below."
   ]
  },
  {
   "cell_type": "code",
   "execution_count": 28,
   "metadata": {},
   "outputs": [
    {
     "name": "stdout",
     "output_type": "stream",
     "text": [
      "Start_Lat has weight of 0.0030645775211284353\n",
      "Start_Lng has weight of 1.3300833166462789\n",
      "Distance(mi) has weight of 0.28947118600983895\n",
      "Temperature(F) has weight of 0.022546741374188984\n",
      "Wind_Chill(F) has weight of -0.015326068411069675\n",
      "Humidity(%) has weight of -0.04432174307734469\n",
      "Pressure(in) has weight of 0.0430712360375494\n",
      "Visibility(mi) has weight of -0.007148715987908389\n",
      "Wind_Speed(mph) has weight of 0.02468523668473469\n",
      "Precipitation(in) has weight of 0.013863293985950882\n",
      "PointOfInterest has weight of -0.15379597294360398\n",
      "Bump has weight of -0.0069250266924642985\n",
      "Crossing has weight of -0.2670890972848689\n",
      "Yield has weight of 0.017618784334852255\n",
      "Junction has weight of 0.12247304765734122\n",
      "No_Exit has weight of 0.00742489863425348\n",
      "Railway has weight of 0.04382188844126999\n",
      "Roundabout has weight of -0.03535160102253797\n",
      "Station has weight of -0.11286289060014025\n",
      "Stop has weight of -0.28805150901207766\n",
      "Traffic_Calming has weight of -0.02228558949836985\n",
      "Traffic_Signal has weight of -0.6027169853688484\n",
      "Turning_Loop has weight of 0.0\n",
      "Start_Hour has weight of 0.07490871486313486\n",
      "Time_Duration(min) has weight of -0.051190409076880584\n",
      "Side_  has weight of -0.007285742475983872\n",
      "Side_L has weight of -0.47474742846242696\n",
      "Side_R has weight of 0.47476070524108355\n",
      "Sunrise_Sunset_Day has weight of -0.03333849795294024\n",
      "Sunrise_Sunset_Night has weight of 0.03333849795294024\n",
      "Start_Weekday_Fri has weight of -0.008532686972403657\n",
      "Start_Weekday_Mon has weight of -0.03604402507733286\n",
      "Start_Weekday_Sat has weight of 0.12213344132256129\n",
      "Start_Weekday_Sun has weight of 0.12361665348379507\n",
      "Start_Weekday_Thu has weight of -0.02474200361859166\n",
      "Start_Weekday_Tue has weight of -0.03531454912547738\n",
      "Start_Weekday_Wed has weight of -0.03600966872726948\n",
      "Start_Month_Apr has weight of -0.004021960374887958\n",
      "Start_Month_Aug has weight of 0.021684371378006793\n",
      "Start_Month_Dec has weight of -0.0013446974962814122\n",
      "Start_Month_Feb has weight of -0.022504396298566452\n",
      "Start_Month_Jan has weight of -0.017635256684584478\n",
      "Start_Month_Jul has weight of 0.0326769103129563\n",
      "Start_Month_Jun has weight of 0.04186163488267358\n",
      "Start_Month_Mar has weight of -0.020800514555060635\n",
      "Start_Month_May has weight of 0.01682210583524947\n",
      "Start_Month_Nov has weight of -0.021543304624380234\n",
      "Start_Month_Oct has weight of -0.02428463320472308\n",
      "Start_Month_Sep has weight of 0.013192493046592077\n",
      "ST_AL has weight of -0.034604645705488976\n",
      "ST_AR has weight of 0.004275212877358606\n",
      "ST_AZ has weight of 0.1678154324921833\n",
      "ST_CA has weight of 0.9061582462434126\n",
      "ST_CO has weight of 0.1278116930901377\n",
      "ST_CT has weight of -0.07440855793544607\n",
      "ST_DC has weight of -0.02470539291016539\n",
      "ST_DE has weight of -0.10520261871038095\n",
      "ST_FL has weight of -0.1836780163480362\n",
      "ST_GA has weight of 0.04197594298447176\n",
      "ST_IA has weight of 0.030544930831533142\n",
      "ST_ID has weight of 0.017458693212267482\n",
      "ST_IL has weight of -0.16809726081461565\n",
      "ST_IN has weight of -0.0627654908080423\n",
      "ST_KS has weight of 0.03324693069141465\n",
      "ST_KY has weight of 0.049937730191094674\n",
      "ST_LA has weight of -0.12185458910971453\n",
      "ST_MA has weight of -0.1569897663849835\n",
      "ST_MD has weight of -0.07946635251865605\n",
      "ST_ME has weight of -0.004159504007019428\n",
      "ST_MI has weight of -0.07733381512464732\n",
      "ST_MN has weight of 0.08878596802511621\n",
      "ST_MO has weight of 0.12818982070335694\n",
      "ST_MS has weight of 0.020287714780332127\n",
      "ST_MT has weight of 0.016264547130144517\n",
      "ST_NC has weight of -0.42333267603275565\n",
      "ST_ND has weight of 0.00615020033796372\n",
      "ST_NE has weight of -0.034852710116222436\n",
      "ST_NH has weight of -0.08570690794823575\n",
      "ST_NJ has weight of -0.23454844625046387\n",
      "ST_NM has weight of 0.06440647936155344\n",
      "ST_NV has weight of 0.14371766295689684\n",
      "ST_NY has weight of -0.2850972605691208\n",
      "ST_OH has weight of -0.06988575313445473\n",
      "ST_OK has weight of -0.1101789223045601\n",
      "ST_OR has weight of 0.18415534236002537\n",
      "ST_PA has weight of -0.3872904685976665\n",
      "ST_RI has weight of -0.03350689702000284\n",
      "ST_SC has weight of -0.30260170930100516\n",
      "ST_SD has weight of -0.0006455731145101144\n",
      "ST_TN has weight of -0.06973043442090483\n",
      "ST_TX has weight of -0.006140155883251247\n",
      "ST_UT has weight of 0.2110490868600361\n",
      "ST_VA has weight of -0.10409297845539836\n",
      "ST_VT has weight of -0.025249895399414503\n",
      "ST_WA has weight of 0.37388037884737224\n",
      "ST_WI has weight of 0.024057270154700747\n",
      "ST_WV has weight of 0.0015304868570716213\n",
      "ST_WY has weight of 0.024427114975881535\n",
      "Weather_Condition_Collapsed_Ash has weight of -0.003521260056224087\n",
      "Weather_Condition_Collapsed_Clear has weight of -0.07004826126962409\n",
      "Weather_Condition_Collapsed_Clear/Windy has weight of -0.004252301673518998\n",
      "Weather_Condition_Collapsed_Cloudy has weight of 0.027790532813624893\n",
      "Weather_Condition_Collapsed_Cloudy/Windy has weight of 0.003201941899641551\n",
      "Weather_Condition_Collapsed_Dust has weight of -0.006095557359346637\n",
      "Weather_Condition_Collapsed_Dust/Windy has weight of -0.0006129945863179322\n",
      "Weather_Condition_Collapsed_Fog has weight of -0.0065363559598966125\n",
      "Weather_Condition_Collapsed_Fog/Windy has weight of -0.0002732211043575851\n",
      "Weather_Condition_Collapsed_Icy has weight of 0.02106222673570526\n",
      "Weather_Condition_Collapsed_Icy/Snow has weight of -0.00014834094870207442\n",
      "Weather_Condition_Collapsed_Icy/Windy has weight of 0.00203057043424597\n",
      "Weather_Condition_Collapsed_Rain has weight of 0.0023506897247294483\n",
      "Weather_Condition_Collapsed_Rain/Snow has weight of 0.00625951725698203\n",
      "Weather_Condition_Collapsed_Rain/Windy has weight of 0.0011619747119875976\n",
      "Weather_Condition_Collapsed_Rainy has weight of 0.05828681897550837\n",
      "Weather_Condition_Collapsed_Sand has weight of -0.004493428185949091\n",
      "Weather_Condition_Collapsed_Sand/Windy has weight of 0.008216566622532397\n",
      "Weather_Condition_Collapsed_Smoke has weight of -0.009001177729980651\n",
      "Weather_Condition_Collapsed_Smoke/Windy has weight of -0.0004505841919307635\n",
      "Weather_Condition_Collapsed_Snow has weight of 0.0020279913469303922\n",
      "Weather_Condition_Collapsed_Snow/Windy has weight of -0.0035822176171685783\n",
      "Weather_Condition_Collapsed_Snowy has weight of 0.03917976987222632\n",
      "Weather_Condition_Collapsed_Tornado has weight of -0.00341082473221343\n",
      "TMC_200.0 has weight of 0.00021428967280509963\n",
      "TMC_201.0 has weight of -0.15186417824274023\n",
      "TMC_202.0 has weight of -0.05606453472373945\n",
      "TMC_203.0 has weight of 0.03203176963606991\n",
      "TMC_206.0 has weight of -0.0150895531638306\n",
      "TMC_222.0 has weight of 0.030913484182342868\n",
      "TMC_229.0 has weight of 0.004401081859048767\n",
      "TMC_236.0 has weight of 0.01171424489229829\n",
      "TMC_239.0 has weight of -0.0008136770128040126\n",
      "TMC_241.0 has weight of 0.08690363523740106\n",
      "TMC_244.0 has weight of 0.03447618574675202\n",
      "TMC_245.0 has weight of 0.11591037924132666\n",
      "TMC_246.0 has weight of 0.07213323195025924\n",
      "TMC_247.0 has weight of 0.007273716046760062\n",
      "TMC_248.0 has weight of -0.005966429746674223\n",
      "TMC_336.0 has weight of 0.0007962318140405924\n",
      "TMC_339.0 has weight of 0.008753673112656806\n",
      "TMC_341.0 has weight of 0.003832313252922706\n",
      "TMC_343.0 has weight of 0.019279622697667517\n",
      "TMC_351.0 has weight of 0.002525255885578352\n",
      "TMC_406.0 has weight of 0.08386376975090186\n"
     ]
    }
   ],
   "source": [
    "# output the coefficients\n",
    "weights = lr_clf.coef_.T # take transpose to make a column vector\n",
    "variable_names = df_X_train.columns\n",
    "zip_vars = zip(weights,variable_names)\n",
    "\n",
    "for coef, name in zip_vars:\n",
    "    print(name, 'has weight of', coef[0])"
   ]
  },
  {
   "cell_type": "markdown",
   "metadata": {},
   "source": [
    "Let's plot the coefficients of the variables to see which ones have the most pull and which ones we may be able to use to reduce the model."
   ]
  },
  {
   "cell_type": "code",
   "execution_count": 29,
   "metadata": {},
   "outputs": [
    {
     "data": {
      "image/png": "[encoded data removed]",
      "text/plain": [
       "<Figure size 1080x504 with 1 Axes>"
      ]
     },
     "metadata": {
      "needs_background": "light"
     },
     "output_type": "display_data"
    }
   ],
   "source": [
    "# now let's make a pandas Series with the names and values, and plot them\n",
    "from matplotlib import pyplot as plt\n",
    "%matplotlib inline\n",
    "plt.figure(figsize=(15,7))\n",
    "plt.style.use('ggplot')\n",
    "\n",
    "variable_names = df_X_train.columns\n",
    "\n",
    "weights = pd.Series(lr_clf.coef_[0],index=variable_names)\n",
    "weights.plot(kind='bar')\n",
    "plt.show()"
   ]
  },
  {
   "cell_type": "markdown",
   "metadata": {},
   "source": [
    "Looking at the graph it seems coefficients greater than 0.5 and less than -0.25 have the greatest influence. Let's determine what those are and see if just using them helps the model accuracy."
   ]
  },
  {
   "cell_type": "code",
   "execution_count": 30,
   "metadata": {},
   "outputs": [
    {
     "name": "stdout",
     "output_type": "stream",
     "text": [
      "Start_Lng has weight of 1.3300833166462789\n",
      "Crossing has weight of -0.2670890972848689\n",
      "Stop has weight of -0.28805150901207766\n",
      "Traffic_Signal has weight of -0.6027169853688484\n",
      "Side_L has weight of -0.47474742846242696\n",
      "ST_CA has weight of 0.9061582462434126\n",
      "ST_NC has weight of -0.42333267603275565\n",
      "ST_NY has weight of -0.2850972605691208\n",
      "ST_PA has weight of -0.3872904685976665\n",
      "ST_SC has weight of -0.30260170930100516\n"
     ]
    }
   ],
   "source": [
    "# output the coefficients\n",
    "coefToKeep = []\n",
    "weights = lr_clf.coef_.T # take transpose to make a column vector\n",
    "variable_names = df_X_train.columns\n",
    "for coef, name in zip(weights,variable_names):\n",
    "    if coef[0] < -0.25 or coef[0] > 0.50:\n",
    "        print(name, 'has weight of', coef[0])\n",
    "        coefToKeep.append(name)"
   ]
  },
  {
   "cell_type": "markdown",
   "metadata": {},
   "source": [
    "### SVM Model"
   ]
  },
  {
   "cell_type": "markdown",
   "metadata": {},
   "source": [
    "Below is the code to run a Support Vector Machine (SVM) model using a stochastic gradient descent (SGD). We decided that using this method would be optimal due to the large number of both features and observations in our dataset."
   ]
  },
  {
   "cell_type": "code",
   "execution_count": 49,
   "metadata": {},
   "outputs": [
    {
     "name": "stdout",
     "output_type": "stream",
     "text": [
      "SVM: 0.7384375198843752\n",
      "CPU times: user 11.9 s, sys: 700 ms, total: 12.6 s\n",
      "Wall time: 8.86 s\n"
     ]
    }
   ],
   "source": [
    "%%time\n",
    "regularize_const = 0.1\n",
    "iterations = 5\n",
    "svm_sgd = SGDClassifier(alpha=regularize_const,\n",
    "        fit_intercept=True, l1_ratio=0.0, learning_rate='optimal',\n",
    "        loss='hinge', n_iter_no_change=iterations, n_jobs=-1, penalty='l2', shuffle=True)\n",
    "\n",
    "svm_sgd.fit(X_train_scaled,y_train)\n",
    "yhat = svm_sgd.predict(X_test_scaled)\n",
    "    \n",
    "conf = mt.confusion_matrix(y_test,yhat)\n",
    "acc = mt.accuracy_score(y_test,yhat)\n",
    "\n",
    "print('SVM:', acc)"
   ]
  },
  {
   "cell_type": "code",
   "execution_count": 42,
   "metadata": {},
   "outputs": [
    {
     "data": {
      "text/plain": [
       "<matplotlib.axes._subplots.AxesSubplot at 0x7ff524efff50>"
      ]
     },
     "execution_count": 42,
     "metadata": {},
     "output_type": "execute_result"
    },
    {
     "data": {
      "image/png": "[encoded data removed]",
      "text/plain": [
       "<Figure size 1080x504 with 1 Axes>"
      ]
     },
     "metadata": {},
     "output_type": "display_data"
    }
   ],
   "source": [
    "# if using linear kernel, these make sense to look at (not otherwise, why?)\n",
    "#print(svm_sgd.coef_)\n",
    "df3 = pd.concat([df_X_train, df_X_test],axis=0)\n",
    "weights = pd.Series(svm_sgd.coef_[0],index=df3.columns)\n",
    "fig= plt.figure(figsize=(15,7))\n",
    "weights.plot(kind='bar')"
   ]
  },
  {
   "cell_type": "code",
   "execution_count": 43,
   "metadata": {},
   "outputs": [
    {
     "name": "stdout",
     "output_type": "stream",
     "text": [
      "              Features  Coefficients  Abs Coefficients\n",
      "21      Traffic_Signal     -0.237733          0.237733\n",
      "26              Side_L     -0.181069          0.181069\n",
      "27              Side_R      0.181069          0.181069\n",
      "14            Junction      0.177033          0.177033\n",
      "123          TMC_201.0     -0.169140          0.169140\n",
      "2         Distance(mi)      0.167862          0.167862\n",
      "71               ST_MO      0.123636          0.123636\n",
      "58               ST_GA      0.123492          0.123492\n",
      "32   Start_Weekday_Sat      0.120067          0.120067\n",
      "33   Start_Weekday_Sun      0.118702          0.118702\n"
     ]
    }
   ],
   "source": [
    "features = df3.columns.to_numpy()\n",
    "coefficients = svm_sgd.coef_.T.squeeze()\n",
    "\n",
    "svm_coef = pd.DataFrame({\"Features\":features, \"Coefficients\":coefficients, \"Abs Coefficients\":np.absolute(coefficients)})\n",
    "print(svm_coef.sort_values(\"Abs Coefficients\",ascending=False).head(10))"
   ]
  },
  {
   "cell_type": "code",
   "execution_count": 44,
   "metadata": {},
   "outputs": [
    {
     "name": "stdout",
     "output_type": "stream",
     "text": [
      "[[265234  44182]\n",
      " [ 70879  59749]]\n"
     ]
    }
   ],
   "source": [
    "print(conf)"
   ]
  },
  {
   "cell_type": "code",
   "execution_count": 45,
   "metadata": {},
   "outputs": [
    {
     "data": {
      "image/png": "[encoded data removed]",
      "text/plain": [
       "<Figure size 576x576 with 2 Axes>"
      ]
     },
     "metadata": {},
     "output_type": "display_data"
    }
   ],
   "source": [
    "fig, ax = plt.subplots(figsize=(8, 8))\n",
    "\n",
    "confusion_matrix = pd.crosstab(y_test, yhat, rownames=['Actual'], colnames=['Predicted'])\n",
    "\n",
    "\n",
    "annot_kws = {\"ha\": 'center',\"va\": 'top'}\n",
    "ax = sns.heatmap(confusion_matrix, annot=True, annot_kws=annot_kws, cmap ='RdBu_r', center=0)"
   ]
  },
  {
   "cell_type": "code",
   "execution_count": 46,
   "metadata": {},
   "outputs": [
    {
     "name": "stdout",
     "output_type": "stream",
     "text": [
      "              precision    recall  f1-score   support\n",
      "\n",
      "         0.0       0.79      0.86      0.82    309416\n",
      "         1.0       0.57      0.46      0.51    130628\n",
      "\n",
      "    accuracy                           0.74    440044\n",
      "   macro avg       0.68      0.66      0.67    440044\n",
      "weighted avg       0.73      0.74      0.73    440044\n",
      "\n"
     ]
    }
   ],
   "source": [
    "print(mt.classification_report(y_test,yhat))"
   ]
  },
  {
   "cell_type": "markdown",
   "metadata": {},
   "source": [
    "## Model Advantages - 10pts"
   ]
  },
  {
   "cell_type": "markdown",
   "metadata": {},
   "source": [
    "Looking at the two models we can see that accuracy on both models wes respectively the same at 74%. Based on this alone there isn't a major superiority of one over another. There is a slight edge with the SVM model in training time. This model ran in seconds where as the logistic regression model took minutes to execute. All in all based on the way the data is being looked at there doesn't seem to be a superiority of one model over the other except in training time. As models get more complex this would provide the SVM model an edge as it executes faster. "
   ]
  },
  {
   "cell_type": "markdown",
   "metadata": {},
   "source": [
    "## Interpretation - 30pts"
   ]
  },
  {
   "cell_type": "markdown",
   "metadata": {},
   "source": [
    "The graph below shows all of the coefficient values for the logistic regression model. Given the size of the model we see a good amount of variables that do not have a large influence on the model. Most everything between the -0.25 to 0.25 range have very little input into the overall model."
   ]
  },
  {
   "cell_type": "code",
   "execution_count": 51,
   "metadata": {},
   "outputs": [
    {
     "data": {
      "image/png": "[encoded data removed]",
      "text/plain": [
       "<Figure size 1080x504 with 1 Axes>"
      ]
     },
     "metadata": {
      "needs_background": "light"
     },
     "output_type": "display_data"
    }
   ],
   "source": [
    "# now let's make a pandas Series with the names and values, and plot them\n",
    "from matplotlib import pyplot as plt\n",
    "%matplotlib inline\n",
    "plt.figure(figsize=(15,7))\n",
    "plt.style.use('ggplot')\n",
    "\n",
    "variable_names = df_X_train.columns\n",
    "\n",
    "weights = pd.Series(lr_clf.coef_[0],index=variable_names)\n",
    "weights.plot(kind='bar')\n",
    "plt.show()"
   ]
  },
  {
   "cell_type": "markdown",
   "metadata": {},
   "source": [
    "Let's take a closer look at those coefficients that are outside the -0.25 to 0.25 range. This would provide us with a more detailed view of what is influencing the model. "
   ]
  },
  {
   "cell_type": "code",
   "execution_count": 52,
   "metadata": {},
   "outputs": [
    {
     "name": "stdout",
     "output_type": "stream",
     "text": [
      "Start_Lng has weight of 1.3300833166462789\n",
      "Distance(mi) has weight of 0.28947118600983895\n",
      "Crossing has weight of -0.2670890972848689\n",
      "Stop has weight of -0.28805150901207766\n",
      "Traffic_Signal has weight of -0.6027169853688484\n",
      "Side_L has weight of -0.47474742846242696\n",
      "Side_R has weight of 0.47476070524108355\n",
      "ST_CA has weight of 0.9061582462434126\n",
      "ST_NC has weight of -0.42333267603275565\n",
      "ST_NY has weight of -0.2850972605691208\n",
      "ST_PA has weight of -0.3872904685976665\n",
      "ST_SC has weight of -0.30260170930100516\n",
      "ST_WA has weight of 0.37388037884737224\n"
     ]
    }
   ],
   "source": [
    "# output the coefficients\n",
    "coefToKeep = []\n",
    "weights = lr_clf.coef_.T # take transpose to make a column vector\n",
    "variable_names = df_X_train.columns\n",
    "for coef, name in zip(weights,variable_names):\n",
    "    if coef[0] < -0.25 or coef[0] > 0.25:\n",
    "        print(name, 'has weight of', coef[0])\n",
    "        coefToKeep.append(name)"
   ]
  },
  {
   "cell_type": "markdown",
   "metadata": {},
   "source": [
    "From the list above of normalized coefficients, we see that we go down to approximately 13 factors that are influencing the model. Details that arise from this are as follows with logical commentary:\n",
    "\n",
    "- Positive Impacts on Accident Severity:\n",
    "    - Start_Lng - Location of the accident is key to determining severity\n",
    "    - Distance - Distance the accident spans could indicate severity. \n",
    "    - Side_R - The side of the vehicle the accident occurs is most frequently the right side. \n",
    "    - ST_CA - As the most populated state, being in CA would be more prone to accidents\n",
    "    - ST_WA - Interesting value in that WA is the 13th most populated state\n",
    "    \n",
    "\n",
    "- Negative Impacts on Accident Severity:\n",
    "    - Crossing - being close to a railroad crossing may mean drivers are paying more attention and thus less severe accidents occur\n",
    "    - Stop - being close to a stop sign may mean drivers are paying more attention and thus less severe accidents occur\n",
    "    - Traffic_Signal - being close to a traffic signal may mean drivers are paying more attention and thus less severe accidents occur\n",
    "    - Side_L - An accident that occurs on the left side of the car is likey less severe\n",
    "    - ST_NC - Less severe accidents occur in NC\n",
    "    - ST_NY - Less severe accidents occur in NY\n",
    "    - ST_PA - Less severe accidents occur in PA\n",
    "    - ST_SC - Less severe accidents occur in SC\n"
   ]
  },
  {
   "cell_type": "markdown",
   "metadata": {},
   "source": [
    "## SVM Insight - 10pts"
   ]
  },
  {
   "cell_type": "markdown",
   "metadata": {},
   "source": [
    "The SVM model performs at an accuracy rate of 74%. As show in the confusion matrix above, we still are fighting the issue of low specificity at only 26%. That is, this model does not correctly identify the high severity accidents well, which is one of our goals in a model.\n",
    "\n",
    "In this model, we see that the TMC variables are highly important. The TMC variables are codes that specifically describe the type of accident. These codes can be highly important in our final implementation of the model. If first responders can be trained to differentiate between low and high severity accidents based on the code and type of accident, resouces can be more efficiently allocated. Additionally we see that weekend days are important as well. This may also provide a first responder staffind indication."
   ]
  }
 ],
 "metadata": {
  "kernelspec": {
   "display_name": "Python 3",
   "language": "python",
   "name": "python3"
  },
  "language_info": {
   "codemirror_mode": {
    "name": "ipython",
    "version": 3
   },
   "file_extension": ".py",
   "mimetype": "text/x-python",
   "name": "python",
   "nbconvert_exporter": "python",
   "pygments_lexer": "ipython3",
   "version": "3.7.4"
  }
 },
 "nbformat": 4,
 "nbformat_minor": 2
}
