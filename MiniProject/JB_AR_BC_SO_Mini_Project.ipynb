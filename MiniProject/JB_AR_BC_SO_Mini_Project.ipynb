{
 "cells": [
  {
   "cell_type": "markdown",
   "metadata": {},
   "source": [
    "# DS 7331 - Machine Learning - Course Project\n",
    "Team: Allison Roderick, Jayson Barker, Sandesh Ojha, Brandon Croom\n",
    "\n",
    "Lab Number: Mini Project"
   ]
  },
  {
   "cell_type": "markdown",
   "metadata": {},
   "source": [
    "## Model Creation/Parameters - 50pts"
   ]
  },
  {
   "cell_type": "code",
   "execution_count": null,
   "metadata": {},
   "outputs": [],
   "source": [
    "##TO DO:\n",
    "# - Add Zip, City, State fill in to EDA\n",
    "# - Add Time Duration cleanup to EDA\n",
    "# - Determine issue with Weather Data fill in\n",
    "# - Add SVM item to Mini Project"
   ]
  },
  {
   "cell_type": "code",
   "execution_count": 1,
   "metadata": {},
   "outputs": [],
   "source": [
    "# Import libraries for data analysis\n",
    "from sklearn.model_selection import ShuffleSplit\n",
    "from sklearn.linear_model import LogisticRegression\n",
    "from sklearn import metrics as mt"
   ]
  },
  {
   "cell_type": "code",
   "execution_count": null,
   "metadata": {},
   "outputs": [
    {
     "name": "stdout",
     "output_type": "stream",
     "text": [
      "Initial Shape:  (2974335, 49)\n",
      "Deduplication Shape:  (2974335, 49)\n",
      "No Duplicate Data Found\n",
      "['MapQuest' 'MapQuest-Bing' 'Bing']\n",
      "['Calm' 'SW' 'SSW' 'WSW' 'WNW' 'NW' 'West' 'NNW' 'NNE' 'South' 'North'\n",
      " 'Variable' 'SE' 'SSE' 'ESE' 'East' 'NE' 'ENE' 'E' 'W' nan 'S' 'VAR'\n",
      " 'CALM' 'N']\n",
      "['Calm' 'SW' 'SSW' 'WSW' 'WNW' 'NW' 'W' 'NNW' 'NNE' 'S' 'N' 'VAR' 'SE'\n",
      " 'SSE' 'ESE' 'E' 'NE' 'ENE' nan 'CALM']\n",
      "(2974335, 41)\n",
      "ID                        object\n",
      "Severity                   int64\n",
      "Start_Time                object\n",
      "End_Time                  object\n",
      "Start_Lat                float64\n",
      "Start_Lng                float64\n",
      "Distance(mi)             float64\n",
      "Side                      object\n",
      "City                      object\n",
      "County                    object\n",
      "State                     object\n",
      "Zipcode                   object\n",
      "Country                   object\n",
      "Timezone                  object\n",
      "Airport_Code              object\n",
      "Temperature(F)           float64\n",
      "Wind_Chill(F)            float64\n",
      "Humidity(%)              float64\n",
      "Pressure(in)             float64\n",
      "Visibility(mi)           float64\n",
      "Wind_Direction            object\n",
      "Wind_Speed(mph)          float64\n",
      "Precipitation(in)        float64\n",
      "Weather_Condition         object\n",
      "PointOfInterest             bool\n",
      "Bump                        bool\n",
      "Crossing                    bool\n",
      "Yield                       bool\n",
      "Junction                    bool\n",
      "No_Exit                     bool\n",
      "Railway                     bool\n",
      "Roundabout                  bool\n",
      "Station                     bool\n",
      "Stop                        bool\n",
      "Traffic_Calming             bool\n",
      "Traffic_Signal              bool\n",
      "Turning_Loop                bool\n",
      "Sunrise_Sunset            object\n",
      "Civil_Twilight            object\n",
      "Nautical_Twilight         object\n",
      "Astronomical_Twilight     object\n",
      "dtype: object\n"
     ]
    },
    {
     "name": "stderr",
     "output_type": "stream",
     "text": [
      "C:\\Users\\croomb\\AppData\\Local\\Continuum\\anaconda3\\lib\\site-packages\\tqdm\\std.py:648: FutureWarning: The Panel class is removed from pandas. Accessing it from the top-level namespace will also be removed in the next version\n",
      "  from pandas import Panel\n"
     ]
    },
    {
     "data": {
      "application/vnd.jupyter.widget-view+json": {
       "model_id": "15e1bf1726834a47b7442e11e00110d1",
       "version_major": 2,
       "version_minor": 0
      },
      "text/plain": [
       "HBox(children=(IntProgress(value=0, description='Pandas Apply', max=2974335, style=ProgressStyle(description_w…"
      ]
     },
     "metadata": {},
     "output_type": "display_data"
    }
   ],
   "source": [
    "#Run the initial EDA from the first lab for the project. \n",
    "#NOTE: We've commented out the graphs and analysis portions from the EDA just to make things run faster, hence the \"Skinny\"\n",
    "#version of the filename\n",
    "%run ./JB_AR_BC_SO_Project1_Skinny.ipynb"
   ]
  },
  {
   "cell_type": "code",
   "execution_count": 3,
   "metadata": {},
   "outputs": [],
   "source": [
    "#Define helper functions\n",
    "def getMedianTemp(row):\n",
    "    month = row['Start_Month']\n",
    "    state = row['State']\n",
    "    \n",
    "    result = medianTempByStateMonth[state,month]\n",
    "    \n",
    "    if not result:\n",
    "        result = medianTempByMonth[month]\n",
    "        \n",
    "    return result\n",
    "\n",
    "def getMedianPrecip(row):\n",
    "    month = row['Start_Month']\n",
    "    state = row['State']\n",
    "    \n",
    "    result = medianPrecipByStateMonth[state,month]\n",
    "    \n",
    "    if not result:\n",
    "        result = medianPrecipByMonth[month]\n",
    "    \n",
    "    return result\n",
    "\n",
    "def getMedianPressure(row):\n",
    "    month = row['Start_Month']\n",
    "    state = row['State']\n",
    "    \n",
    "    result = medianPressureByStateMonth[state,month]\n",
    "    \n",
    "    if not result:\n",
    "        result = medianPrecipByMonth[month]\n",
    "    \n",
    "    return result\n",
    "\n",
    "def getMedianWindChill(row):\n",
    "    month = row['Start_Month']\n",
    "    state = row['State']\n",
    "    \n",
    "    result = medianWindChillByStateMonth[state,month]\n",
    "    \n",
    "    if not result:\n",
    "        medianWindChillByMonth[month]\n",
    "    \n",
    "    return result\n",
    "\n",
    "def getMedianVis(row):\n",
    "    month = row['Start_Month']\n",
    "    state = row['State']\n",
    "    \n",
    "    result = medianVisByStateMonth[state,month]\n",
    "    \n",
    "    if not result:\n",
    "        result = meduanVisByMonth[month]\n",
    "    \n",
    "    return result\n",
    "\n",
    "def getMedianWindSpeed(row):\n",
    "    month = row['Start_Month']\n",
    "    state = row['State']\n",
    "    \n",
    "    result = medianWindSpeedByStateMonth[state,month]\n",
    "    \n",
    "    if not result:\n",
    "        result = medianWindSpeedByMonth[month]\n",
    "    \n",
    "    return result\n",
    "\n",
    "def getMedianHumidity(row):\n",
    "    month = row['Start_Month']\n",
    "    state = row['State']\n",
    "    \n",
    "    result = medianHumidityByStateMonth[state,month]\n",
    "    \n",
    "    if not result:\n",
    "        result = medianHumidityByMonth[month]\n",
    "    \n",
    "    return result"
   ]
  },
  {
   "cell_type": "code",
   "execution_count": 4,
   "metadata": {},
   "outputs": [],
   "source": [
    "# Copy the dataframe from the original as we'll be manipulating it for analysis\n",
    "df2 = df.copy()"
   ]
  },
  {
   "cell_type": "code",
   "execution_count": 5,
   "metadata": {},
   "outputs": [],
   "source": [
    "#Build the test/train split. Use a split of 80/20\n",
    "#Get the values for Y\n",
    "y = df2['Severity'].values\n",
    "\n",
    "#Delete off the values for Y so they don't get duplicated in the split\n",
    "del df2['Severity']\n",
    "\n",
    "#get everything else that we want to predict off of\n",
    "x = df2.values\n",
    "\n",
    "X_train,X_test,y_train,y_test = train_test_split(x,y,test_size=0.20,random_state=0)"
   ]
  },
  {
   "cell_type": "code",
   "execution_count": 6,
   "metadata": {},
   "outputs": [],
   "source": [
    "#Convert the train/test splits back to dataframes so we can impute missing data. \n",
    "df_X_train = pd.DataFrame.from_records(X_train)\n",
    "df_X_test = pd.DataFrame.from_records(X_test)\n",
    "df_X_train.columns = df2.columns\n",
    "df_X_test.columns = df2.columns"
   ]
  },
  {
   "cell_type": "code",
   "execution_count": 10,
   "metadata": {},
   "outputs": [
    {
     "data": {
      "text/html": [
       "<div>\n",
       "<style scoped>\n",
       "    .dataframe tbody tr th:only-of-type {\n",
       "        vertical-align: middle;\n",
       "    }\n",
       "\n",
       "    .dataframe tbody tr th {\n",
       "        vertical-align: top;\n",
       "    }\n",
       "\n",
       "    .dataframe thead th {\n",
       "        text-align: right;\n",
       "    }\n",
       "</style>\n",
       "<table border=\"1\" class=\"dataframe\">\n",
       "  <thead>\n",
       "    <tr style=\"text-align: right;\">\n",
       "      <th></th>\n",
       "      <th>ID</th>\n",
       "      <th>Start_Time</th>\n",
       "      <th>End_Time</th>\n",
       "      <th>Start_Lat</th>\n",
       "      <th>Start_Lng</th>\n",
       "      <th>Distance(mi)</th>\n",
       "      <th>Side</th>\n",
       "      <th>City</th>\n",
       "      <th>County</th>\n",
       "      <th>State</th>\n",
       "      <th>Zipcode</th>\n",
       "      <th>Country</th>\n",
       "      <th>Timezone</th>\n",
       "      <th>Airport_Code</th>\n",
       "      <th>Temperature(F)</th>\n",
       "      <th>Wind_Chill(F)</th>\n",
       "      <th>Humidity(%)</th>\n",
       "      <th>Pressure(in)</th>\n",
       "      <th>Visibility(mi)</th>\n",
       "      <th>Wind_Direction</th>\n",
       "      <th>Wind_Speed(mph)</th>\n",
       "      <th>Precipitation(in)</th>\n",
       "      <th>Weather_Condition</th>\n",
       "      <th>PointOfInterest</th>\n",
       "      <th>Bump</th>\n",
       "      <th>Crossing</th>\n",
       "      <th>Yield</th>\n",
       "      <th>Junction</th>\n",
       "      <th>No_Exit</th>\n",
       "      <th>Railway</th>\n",
       "      <th>Roundabout</th>\n",
       "      <th>Station</th>\n",
       "      <th>Stop</th>\n",
       "      <th>Traffic_Calming</th>\n",
       "      <th>Traffic_Signal</th>\n",
       "      <th>Turning_Loop</th>\n",
       "      <th>Sunrise_Sunset</th>\n",
       "      <th>Civil_Twilight</th>\n",
       "      <th>Nautical_Twilight</th>\n",
       "      <th>Astronomical_Twilight</th>\n",
       "      <th>Start_Year</th>\n",
       "      <th>Start_Month</th>\n",
       "      <th>Start_Day</th>\n",
       "      <th>Start_Hour</th>\n",
       "      <th>Start_Weekday</th>\n",
       "      <th>Start_Date</th>\n",
       "      <th>End_Year</th>\n",
       "      <th>End_Month</th>\n",
       "      <th>End_Day</th>\n",
       "      <th>End_Hour</th>\n",
       "      <th>End_Weekday</th>\n",
       "      <th>End_Date</th>\n",
       "      <th>Time_Duration(min)</th>\n",
       "      <th>Season</th>\n",
       "    </tr>\n",
       "  </thead>\n",
       "  <tbody>\n",
       "    <tr>\n",
       "      <th>0</th>\n",
       "      <td>A-1972838</td>\n",
       "      <td>2017-12-19 16:26:19</td>\n",
       "      <td>2017-12-19 16:56:05</td>\n",
       "      <td>32.839256</td>\n",
       "      <td>-97.264183</td>\n",
       "      <td>0.000</td>\n",
       "      <td>R</td>\n",
       "      <td>Haltom City</td>\n",
       "      <td>Tarrant</td>\n",
       "      <td>TX</td>\n",
       "      <td>76117</td>\n",
       "      <td>US</td>\n",
       "      <td>US/Central</td>\n",
       "      <td>KFWD</td>\n",
       "      <td>NaN</td>\n",
       "      <td>NaN</td>\n",
       "      <td>NaN</td>\n",
       "      <td>NaN</td>\n",
       "      <td>NaN</td>\n",
       "      <td>NaN</td>\n",
       "      <td>NaN</td>\n",
       "      <td>NaN</td>\n",
       "      <td>NaN</td>\n",
       "      <td>False</td>\n",
       "      <td>False</td>\n",
       "      <td>False</td>\n",
       "      <td>False</td>\n",
       "      <td>False</td>\n",
       "      <td>False</td>\n",
       "      <td>False</td>\n",
       "      <td>False</td>\n",
       "      <td>False</td>\n",
       "      <td>False</td>\n",
       "      <td>False</td>\n",
       "      <td>False</td>\n",
       "      <td>False</td>\n",
       "      <td>Day</td>\n",
       "      <td>Day</td>\n",
       "      <td>Day</td>\n",
       "      <td>Day</td>\n",
       "      <td>2017</td>\n",
       "      <td>Dec</td>\n",
       "      <td>19</td>\n",
       "      <td>16</td>\n",
       "      <td>Tue</td>\n",
       "      <td>2017-12-19</td>\n",
       "      <td>2017</td>\n",
       "      <td>Dec</td>\n",
       "      <td>19</td>\n",
       "      <td>16</td>\n",
       "      <td>Tue</td>\n",
       "      <td>2017-12-19</td>\n",
       "      <td>30.0</td>\n",
       "      <td>Fall</td>\n",
       "    </tr>\n",
       "    <tr>\n",
       "      <th>1</th>\n",
       "      <td>A-327130</td>\n",
       "      <td>2017-02-03 17:42:15</td>\n",
       "      <td>2017-02-03 18:12:15</td>\n",
       "      <td>41.513672</td>\n",
       "      <td>-72.770172</td>\n",
       "      <td>0.010</td>\n",
       "      <td>R</td>\n",
       "      <td>Meriden</td>\n",
       "      <td>New Haven</td>\n",
       "      <td>CT</td>\n",
       "      <td>06450</td>\n",
       "      <td>US</td>\n",
       "      <td>US/Eastern</td>\n",
       "      <td>KMMK</td>\n",
       "      <td>32.0</td>\n",
       "      <td>26.4</td>\n",
       "      <td>38.0</td>\n",
       "      <td>30.09</td>\n",
       "      <td>10.0</td>\n",
       "      <td>WNW</td>\n",
       "      <td>5.8</td>\n",
       "      <td>NaN</td>\n",
       "      <td>Partly Cloudy</td>\n",
       "      <td>False</td>\n",
       "      <td>False</td>\n",
       "      <td>False</td>\n",
       "      <td>False</td>\n",
       "      <td>False</td>\n",
       "      <td>False</td>\n",
       "      <td>False</td>\n",
       "      <td>False</td>\n",
       "      <td>False</td>\n",
       "      <td>False</td>\n",
       "      <td>False</td>\n",
       "      <td>False</td>\n",
       "      <td>False</td>\n",
       "      <td>Night</td>\n",
       "      <td>Night</td>\n",
       "      <td>Day</td>\n",
       "      <td>Day</td>\n",
       "      <td>2017</td>\n",
       "      <td>Feb</td>\n",
       "      <td>3</td>\n",
       "      <td>17</td>\n",
       "      <td>Fri</td>\n",
       "      <td>2017-02-03</td>\n",
       "      <td>2017</td>\n",
       "      <td>Feb</td>\n",
       "      <td>3</td>\n",
       "      <td>18</td>\n",
       "      <td>Fri</td>\n",
       "      <td>2017-02-03</td>\n",
       "      <td>30.0</td>\n",
       "      <td>Winter</td>\n",
       "    </tr>\n",
       "    <tr>\n",
       "      <th>2</th>\n",
       "      <td>A-2180962</td>\n",
       "      <td>2017-07-27 23:13:11</td>\n",
       "      <td>2017-07-27 23:42:17</td>\n",
       "      <td>34.186272</td>\n",
       "      <td>-118.399971</td>\n",
       "      <td>0.640</td>\n",
       "      <td>R</td>\n",
       "      <td>North Hollywood</td>\n",
       "      <td>Los Angeles</td>\n",
       "      <td>CA</td>\n",
       "      <td>91606</td>\n",
       "      <td>US</td>\n",
       "      <td>US/Pacific</td>\n",
       "      <td>KBUR</td>\n",
       "      <td>70.0</td>\n",
       "      <td>NaN</td>\n",
       "      <td>73.0</td>\n",
       "      <td>29.88</td>\n",
       "      <td>10.0</td>\n",
       "      <td>ESE</td>\n",
       "      <td>10.4</td>\n",
       "      <td>NaN</td>\n",
       "      <td>Clear</td>\n",
       "      <td>False</td>\n",
       "      <td>False</td>\n",
       "      <td>False</td>\n",
       "      <td>False</td>\n",
       "      <td>False</td>\n",
       "      <td>False</td>\n",
       "      <td>False</td>\n",
       "      <td>False</td>\n",
       "      <td>False</td>\n",
       "      <td>False</td>\n",
       "      <td>False</td>\n",
       "      <td>False</td>\n",
       "      <td>False</td>\n",
       "      <td>Night</td>\n",
       "      <td>Night</td>\n",
       "      <td>Night</td>\n",
       "      <td>Night</td>\n",
       "      <td>2017</td>\n",
       "      <td>Jul</td>\n",
       "      <td>27</td>\n",
       "      <td>23</td>\n",
       "      <td>Thu</td>\n",
       "      <td>2017-07-27</td>\n",
       "      <td>2017</td>\n",
       "      <td>Jul</td>\n",
       "      <td>27</td>\n",
       "      <td>23</td>\n",
       "      <td>Thu</td>\n",
       "      <td>2017-07-27</td>\n",
       "      <td>29.0</td>\n",
       "      <td>Summer</td>\n",
       "    </tr>\n",
       "    <tr>\n",
       "      <th>3</th>\n",
       "      <td>A-2071708</td>\n",
       "      <td>2017-10-11 18:37:27</td>\n",
       "      <td>2017-10-11 19:04:59</td>\n",
       "      <td>39.964279</td>\n",
       "      <td>-82.983139</td>\n",
       "      <td>0.480</td>\n",
       "      <td>R</td>\n",
       "      <td>Columbus</td>\n",
       "      <td>Franklin</td>\n",
       "      <td>OH</td>\n",
       "      <td>43215</td>\n",
       "      <td>US</td>\n",
       "      <td>US/Eastern</td>\n",
       "      <td>KCMH</td>\n",
       "      <td>66.0</td>\n",
       "      <td>NaN</td>\n",
       "      <td>78.0</td>\n",
       "      <td>30.02</td>\n",
       "      <td>10.0</td>\n",
       "      <td>WNW</td>\n",
       "      <td>13.8</td>\n",
       "      <td>NaN</td>\n",
       "      <td>Mostly Cloudy</td>\n",
       "      <td>False</td>\n",
       "      <td>False</td>\n",
       "      <td>False</td>\n",
       "      <td>False</td>\n",
       "      <td>False</td>\n",
       "      <td>False</td>\n",
       "      <td>False</td>\n",
       "      <td>False</td>\n",
       "      <td>False</td>\n",
       "      <td>False</td>\n",
       "      <td>False</td>\n",
       "      <td>False</td>\n",
       "      <td>False</td>\n",
       "      <td>Day</td>\n",
       "      <td>Day</td>\n",
       "      <td>Day</td>\n",
       "      <td>Day</td>\n",
       "      <td>2017</td>\n",
       "      <td>Oct</td>\n",
       "      <td>11</td>\n",
       "      <td>18</td>\n",
       "      <td>Wed</td>\n",
       "      <td>2017-10-11</td>\n",
       "      <td>2017</td>\n",
       "      <td>Oct</td>\n",
       "      <td>11</td>\n",
       "      <td>19</td>\n",
       "      <td>Wed</td>\n",
       "      <td>2017-10-11</td>\n",
       "      <td>28.0</td>\n",
       "      <td>Fall</td>\n",
       "    </tr>\n",
       "    <tr>\n",
       "      <th>4</th>\n",
       "      <td>A-2412608</td>\n",
       "      <td>2017-03-13 16:37:53</td>\n",
       "      <td>2017-03-13 22:37:53</td>\n",
       "      <td>36.035200</td>\n",
       "      <td>-79.794000</td>\n",
       "      <td>0.287</td>\n",
       "      <td>R</td>\n",
       "      <td>Greensboro</td>\n",
       "      <td>Guilford</td>\n",
       "      <td>NC</td>\n",
       "      <td>27406</td>\n",
       "      <td>US</td>\n",
       "      <td>US/Eastern</td>\n",
       "      <td>KGSO</td>\n",
       "      <td>37.9</td>\n",
       "      <td>30.9</td>\n",
       "      <td>86.0</td>\n",
       "      <td>30.13</td>\n",
       "      <td>2.0</td>\n",
       "      <td>ENE</td>\n",
       "      <td>10.4</td>\n",
       "      <td>0.0</td>\n",
       "      <td>Light Rain</td>\n",
       "      <td>False</td>\n",
       "      <td>False</td>\n",
       "      <td>False</td>\n",
       "      <td>False</td>\n",
       "      <td>False</td>\n",
       "      <td>False</td>\n",
       "      <td>False</td>\n",
       "      <td>False</td>\n",
       "      <td>False</td>\n",
       "      <td>False</td>\n",
       "      <td>False</td>\n",
       "      <td>False</td>\n",
       "      <td>False</td>\n",
       "      <td>Day</td>\n",
       "      <td>Day</td>\n",
       "      <td>Day</td>\n",
       "      <td>Day</td>\n",
       "      <td>2017</td>\n",
       "      <td>Mar</td>\n",
       "      <td>13</td>\n",
       "      <td>16</td>\n",
       "      <td>Mon</td>\n",
       "      <td>2017-03-13</td>\n",
       "      <td>2017</td>\n",
       "      <td>Mar</td>\n",
       "      <td>13</td>\n",
       "      <td>22</td>\n",
       "      <td>Mon</td>\n",
       "      <td>2017-03-13</td>\n",
       "      <td>360.0</td>\n",
       "      <td>Winter</td>\n",
       "    </tr>\n",
       "  </tbody>\n",
       "</table>\n",
       "</div>"
      ],
      "text/plain": [
       "          ID          Start_Time            End_Time  Start_Lat   Start_Lng  \\\n",
       "0  A-1972838 2017-12-19 16:26:19 2017-12-19 16:56:05  32.839256  -97.264183   \n",
       "1   A-327130 2017-02-03 17:42:15 2017-02-03 18:12:15  41.513672  -72.770172   \n",
       "2  A-2180962 2017-07-27 23:13:11 2017-07-27 23:42:17  34.186272 -118.399971   \n",
       "3  A-2071708 2017-10-11 18:37:27 2017-10-11 19:04:59  39.964279  -82.983139   \n",
       "4  A-2412608 2017-03-13 16:37:53 2017-03-13 22:37:53  36.035200  -79.794000   \n",
       "\n",
       "   Distance(mi) Side             City       County State Zipcode Country  \\\n",
       "0         0.000    R      Haltom City      Tarrant    TX   76117      US   \n",
       "1         0.010    R          Meriden    New Haven    CT   06450      US   \n",
       "2         0.640    R  North Hollywood  Los Angeles    CA   91606      US   \n",
       "3         0.480    R         Columbus     Franklin    OH   43215      US   \n",
       "4         0.287    R       Greensboro     Guilford    NC   27406      US   \n",
       "\n",
       "     Timezone Airport_Code  Temperature(F)  Wind_Chill(F)  Humidity(%)  \\\n",
       "0  US/Central         KFWD             NaN            NaN          NaN   \n",
       "1  US/Eastern         KMMK            32.0           26.4         38.0   \n",
       "2  US/Pacific         KBUR            70.0            NaN         73.0   \n",
       "3  US/Eastern         KCMH            66.0            NaN         78.0   \n",
       "4  US/Eastern         KGSO            37.9           30.9         86.0   \n",
       "\n",
       "   Pressure(in)  Visibility(mi) Wind_Direction  Wind_Speed(mph)  \\\n",
       "0           NaN             NaN            NaN              NaN   \n",
       "1         30.09            10.0            WNW              5.8   \n",
       "2         29.88            10.0            ESE             10.4   \n",
       "3         30.02            10.0            WNW             13.8   \n",
       "4         30.13             2.0            ENE             10.4   \n",
       "\n",
       "   Precipitation(in) Weather_Condition  PointOfInterest   Bump  Crossing  \\\n",
       "0                NaN               NaN            False  False     False   \n",
       "1                NaN     Partly Cloudy            False  False     False   \n",
       "2                NaN             Clear            False  False     False   \n",
       "3                NaN     Mostly Cloudy            False  False     False   \n",
       "4                0.0        Light Rain            False  False     False   \n",
       "\n",
       "   Yield  Junction  No_Exit  Railway  Roundabout  Station   Stop  \\\n",
       "0  False     False    False    False       False    False  False   \n",
       "1  False     False    False    False       False    False  False   \n",
       "2  False     False    False    False       False    False  False   \n",
       "3  False     False    False    False       False    False  False   \n",
       "4  False     False    False    False       False    False  False   \n",
       "\n",
       "   Traffic_Calming  Traffic_Signal  Turning_Loop Sunrise_Sunset  \\\n",
       "0            False           False         False            Day   \n",
       "1            False           False         False          Night   \n",
       "2            False           False         False          Night   \n",
       "3            False           False         False            Day   \n",
       "4            False           False         False            Day   \n",
       "\n",
       "  Civil_Twilight Nautical_Twilight Astronomical_Twilight  Start_Year  \\\n",
       "0            Day               Day                   Day        2017   \n",
       "1          Night               Day                   Day        2017   \n",
       "2          Night             Night                 Night        2017   \n",
       "3            Day               Day                   Day        2017   \n",
       "4            Day               Day                   Day        2017   \n",
       "\n",
       "  Start_Month  Start_Day  Start_Hour Start_Weekday  Start_Date  End_Year  \\\n",
       "0         Dec         19          16           Tue  2017-12-19      2017   \n",
       "1         Feb          3          17           Fri  2017-02-03      2017   \n",
       "2         Jul         27          23           Thu  2017-07-27      2017   \n",
       "3         Oct         11          18           Wed  2017-10-11      2017   \n",
       "4         Mar         13          16           Mon  2017-03-13      2017   \n",
       "\n",
       "  End_Month  End_Day  End_Hour End_Weekday    End_Date  Time_Duration(min)  \\\n",
       "0       Dec       19        16         Tue  2017-12-19                30.0   \n",
       "1       Feb        3        18         Fri  2017-02-03                30.0   \n",
       "2       Jul       27        23         Thu  2017-07-27                29.0   \n",
       "3       Oct       11        19         Wed  2017-10-11                28.0   \n",
       "4       Mar       13        22         Mon  2017-03-13               360.0   \n",
       "\n",
       "   Season  \n",
       "0    Fall  \n",
       "1  Winter  \n",
       "2  Summer  \n",
       "3    Fall  \n",
       "4  Winter  "
      ]
     },
     "execution_count": 10,
     "metadata": {},
     "output_type": "execute_result"
    }
   ],
   "source": [
    "df_X_train.head()"
   ]
  },
  {
   "cell_type": "code",
   "execution_count": 7,
   "metadata": {},
   "outputs": [
    {
     "name": "stdout",
     "output_type": "stream",
     "text": [
      "Temp:  44881\n",
      "Precip:  1599144\n",
      "Pressure:  38584\n",
      "Wind Chill:  1482737\n",
      "Viz:  52570\n",
      "Wind Speed:  352684\n",
      "Humidity:  47405\n"
     ]
    }
   ],
   "source": [
    "#Check the counts of our training dataset to see how many of the values are missing\n",
    "print(\"Temp: \",df_X_train['Temperature(F)'].isnull().sum())\n",
    "print(\"Precip: \",df_X_train['Precipitation(in)'].isnull().sum())\n",
    "print(\"Pressure: \",df_X_train['Pressure(in)'].isnull().sum())\n",
    "print(\"Wind Chill: \",df_X_train['Wind_Chill(F)'].isnull().sum())\n",
    "print(\"Viz: \", df_X_train['Visibility(mi)'].isnull().sum())\n",
    "print(\"Wind Speed: \", df_X_train['Wind_Speed(mph)'].isnull().sum())\n",
    "print(\"Humidity: \", df_X_train['Humidity(%)'].isnull().sum())"
   ]
  },
  {
   "cell_type": "code",
   "execution_count": 8,
   "metadata": {},
   "outputs": [
    {
     "name": "stdout",
     "output_type": "stream",
     "text": [
      "Temp:  11182\n",
      "Precip:  399214\n",
      "Pressure:  9558\n",
      "Wind Chill:  369886\n",
      "Viz:  13121\n",
      "Wind Speed:  88156\n",
      "Humidity:  11768\n"
     ]
    }
   ],
   "source": [
    "#Check the counts of our test dataset to see how many of the values are missing\n",
    "print(\"Temp: \",df_X_test['Temperature(F)'].isnull().sum())\n",
    "print(\"Precip: \",df_X_test['Precipitation(in)'].isnull().sum())\n",
    "print(\"Pressure: \",df_X_test['Pressure(in)'].isnull().sum())\n",
    "print(\"Wind Chill: \",df_X_test['Wind_Chill(F)'].isnull().sum())\n",
    "print(\"Viz: \", df_X_test['Visibility(mi)'].isnull().sum())\n",
    "print(\"Wind Speed: \", df_X_test['Wind_Speed(mph)'].isnull().sum())\n",
    "print(\"Humidity: \", df_X_test['Humidity(%)'].isnull().sum())"
   ]
  },
  {
   "cell_type": "code",
   "execution_count": 9,
   "metadata": {},
   "outputs": [],
   "source": [
    "#Given that we're looking at weather based conditions take median values for each of the features. Initially start by\n",
    "#determining median by state and start month. To also cover any missing values that may not be present with this \n",
    "#combination calculate the overall median by month. \n",
    "\n",
    "medianTempByStateMonth = df_X_train.groupby(['State','Start_Month'])['Temperature(F)'].median(skipna=True)\n",
    "medianPrecipByStateMonth  = df_X_train.groupby(['State','Start_Month'])['Precipitation(in)'].median(skipna=True)\n",
    "medianPressureByStateMonth  = df_X_train.groupby(['State','Start_Month'])['Pressure(in)'].median(skipna=True)\n",
    "medianWindChillByStateMonth  = df_X_train.groupby(['State','Start_Month'])['Wind_Chill(F)'].median(skipna=True)\n",
    "medianVisByStateMonth  = df_X_train.groupby(['State','Start_Month'])['Visibility(mi)'].median(skipna=True)\n",
    "medianWindSpeedByStateMonth  = df_X_train.groupby(['State','Start_Month'])['Wind_Speed(mph)'].median(skipna=True)\n",
    "medianHumidityByStateMonth  = df_X_train.groupby(['State','Start_Month'])['Humidity(%)'].median(skipna=True)\n",
    "\n",
    "medianTempByMonth = df_X_train.groupby(['Start_Month'])['Temperature(F)'].median(skipna=True)\n",
    "medianPrecipByMonth  = df_X_train.groupby(['Start_Month'])['Precipitation(in)'].median(skipna=True)\n",
    "medianPressureByMonth  = df_X_train.groupby(['Start_Month'])['Pressure(in)'].median(skipna=True)\n",
    "medianWindChillByMonth  = df_X_train.groupby(['Start_Month'])['Wind_Chill(F)'].median(skipna=True)\n",
    "medianVisByMonth  = df_X_train.groupby(['Start_Month'])['Visibility(mi)'].median(skipna=True)\n",
    "medianWindSpeedByMonth  = df_X_train.groupby(['Start_Month'])['Wind_Speed(mph)'].median(skipna=True)\n",
    "medianHumidityByMonth  = df_X_train.groupby(['Start_Month'])['Humidity(%)'].median(skipna=True)"
   ]
  },
  {
   "cell_type": "code",
   "execution_count": 10,
   "metadata": {},
   "outputs": [
    {
     "data": {
      "application/vnd.jupyter.widget-view+json": {
       "model_id": "a4cc535a9eaa462b9bcb971ea396ce62",
       "version_major": 2,
       "version_minor": 0
      },
      "text/plain": [
       "HBox(children=(IntProgress(value=0, description='Pandas Apply', max=2379468, style=ProgressStyle(description_w…"
      ]
     },
     "metadata": {},
     "output_type": "display_data"
    },
    {
     "name": "stdout",
     "output_type": "stream",
     "text": [
      "\n"
     ]
    },
    {
     "data": {
      "application/vnd.jupyter.widget-view+json": {
       "model_id": "3e71519b561340cf8bcf34beaa97d0ea",
       "version_major": 2,
       "version_minor": 0
      },
      "text/plain": [
       "HBox(children=(IntProgress(value=0, description='Pandas Apply', max=2379468, style=ProgressStyle(description_w…"
      ]
     },
     "metadata": {},
     "output_type": "display_data"
    },
    {
     "name": "stdout",
     "output_type": "stream",
     "text": [
      "\n"
     ]
    },
    {
     "data": {
      "application/vnd.jupyter.widget-view+json": {
       "model_id": "308b7b66952348f1a629d7efd6699369",
       "version_major": 2,
       "version_minor": 0
      },
      "text/plain": [
       "HBox(children=(IntProgress(value=0, description='Pandas Apply', max=2379468, style=ProgressStyle(description_w…"
      ]
     },
     "metadata": {},
     "output_type": "display_data"
    },
    {
     "name": "stdout",
     "output_type": "stream",
     "text": [
      "\n"
     ]
    },
    {
     "data": {
      "application/vnd.jupyter.widget-view+json": {
       "model_id": "a533f772e5874bd89033352e67d69593",
       "version_major": 2,
       "version_minor": 0
      },
      "text/plain": [
       "HBox(children=(IntProgress(value=0, description='Pandas Apply', max=2379468, style=ProgressStyle(description_w…"
      ]
     },
     "metadata": {},
     "output_type": "display_data"
    },
    {
     "name": "stdout",
     "output_type": "stream",
     "text": [
      "\n"
     ]
    },
    {
     "data": {
      "application/vnd.jupyter.widget-view+json": {
       "model_id": "486ae3be87ba42a0a269146aef74bca8",
       "version_major": 2,
       "version_minor": 0
      },
      "text/plain": [
       "HBox(children=(IntProgress(value=0, description='Pandas Apply', max=2379468, style=ProgressStyle(description_w…"
      ]
     },
     "metadata": {},
     "output_type": "display_data"
    },
    {
     "name": "stdout",
     "output_type": "stream",
     "text": [
      "\n"
     ]
    },
    {
     "data": {
      "application/vnd.jupyter.widget-view+json": {
       "model_id": "1ba981cf0da14c8eb9f6571d1c8373b7",
       "version_major": 2,
       "version_minor": 0
      },
      "text/plain": [
       "HBox(children=(IntProgress(value=0, description='Pandas Apply', max=2379468, style=ProgressStyle(description_w…"
      ]
     },
     "metadata": {},
     "output_type": "display_data"
    },
    {
     "name": "stdout",
     "output_type": "stream",
     "text": [
      "\n"
     ]
    },
    {
     "data": {
      "application/vnd.jupyter.widget-view+json": {
       "model_id": "d55008ea96d34b2381f894af04cd564b",
       "version_major": 2,
       "version_minor": 0
      },
      "text/plain": [
       "HBox(children=(IntProgress(value=0, description='Pandas Apply', max=2379468, style=ProgressStyle(description_w…"
      ]
     },
     "metadata": {},
     "output_type": "display_data"
    },
    {
     "name": "stdout",
     "output_type": "stream",
     "text": [
      "\n"
     ]
    }
   ],
   "source": [
    "#Apply the median values to the training and test data frames\n",
    "\n",
    "df_X_train.loc[pd.isnull(df_X_train['Temperature(F)']),'Temperature(F)'] = df_X_train.swifter.apply(getMedianTemp, axis=1)\n",
    "df_X_train.loc[pd.isnull(df_X_train['Precipitation(in)']),'Precipitation(in)'] = df_X_train.swifter.apply(getMedianPrecip,axis=1)\n",
    "df_X_train.loc[pd.isnull(df_X_train['Pressure(in)']),'Pressure(in)'] = df_X_train.swifter.apply(getMedianPressure,axis=1)\n",
    "df_X_train.loc[pd.isnull(df_X_train['Wind_Chill(F)']),'Wind_Chill(F)'] = df_X_train.swifter.apply(getMedianWindChill,axis=1)\n",
    "df_X_train.loc[pd.isnull(df_X_train['Visibility(mi)']),'Visibility(mi)'] = df_X_train.swifter.apply(getMedianVis,axis=1)\n",
    "df_X_train.loc[pd.isnull(df_X_train['Wind_Speed(mph)']),'Wind_Speed(mph)'] = df_X_train.swifter.apply(getMedianWindSpeed,axis=1)\n",
    "df_X_train.loc[pd.isnull(df_X_train['Humidity(%)']),'Humidity(%)'] = df_X_train.swifter.apply(getMedianHumidity,axis=1)"
   ]
  },
  {
   "cell_type": "code",
   "execution_count": 11,
   "metadata": {},
   "outputs": [
    {
     "data": {
      "application/vnd.jupyter.widget-view+json": {
       "model_id": "161ef2c88ba54da292f76171bce653f6",
       "version_major": 2,
       "version_minor": 0
      },
      "text/plain": [
       "HBox(children=(IntProgress(value=0, description='Pandas Apply', max=594867, style=ProgressStyle(description_wi…"
      ]
     },
     "metadata": {},
     "output_type": "display_data"
    },
    {
     "name": "stdout",
     "output_type": "stream",
     "text": [
      "\n"
     ]
    },
    {
     "data": {
      "application/vnd.jupyter.widget-view+json": {
       "model_id": "cb665e61f74842a098c88b31dc65f055",
       "version_major": 2,
       "version_minor": 0
      },
      "text/plain": [
       "HBox(children=(IntProgress(value=0, description='Pandas Apply', max=594867, style=ProgressStyle(description_wi…"
      ]
     },
     "metadata": {},
     "output_type": "display_data"
    },
    {
     "name": "stdout",
     "output_type": "stream",
     "text": [
      "\n"
     ]
    },
    {
     "data": {
      "application/vnd.jupyter.widget-view+json": {
       "model_id": "d7798069e5df424dae0ed0f45e8bc4d8",
       "version_major": 2,
       "version_minor": 0
      },
      "text/plain": [
       "HBox(children=(IntProgress(value=0, description='Pandas Apply', max=594867, style=ProgressStyle(description_wi…"
      ]
     },
     "metadata": {},
     "output_type": "display_data"
    },
    {
     "name": "stdout",
     "output_type": "stream",
     "text": [
      "\n"
     ]
    },
    {
     "data": {
      "application/vnd.jupyter.widget-view+json": {
       "model_id": "f7a4426755f24f8aa7ae36165730ae50",
       "version_major": 2,
       "version_minor": 0
      },
      "text/plain": [
       "HBox(children=(IntProgress(value=0, description='Pandas Apply', max=594867, style=ProgressStyle(description_wi…"
      ]
     },
     "metadata": {},
     "output_type": "display_data"
    },
    {
     "name": "stdout",
     "output_type": "stream",
     "text": [
      "\n"
     ]
    },
    {
     "data": {
      "application/vnd.jupyter.widget-view+json": {
       "model_id": "bfefb6d984964d13b8b64246ef401b23",
       "version_major": 2,
       "version_minor": 0
      },
      "text/plain": [
       "HBox(children=(IntProgress(value=0, description='Pandas Apply', max=594867, style=ProgressStyle(description_wi…"
      ]
     },
     "metadata": {},
     "output_type": "display_data"
    },
    {
     "name": "stdout",
     "output_type": "stream",
     "text": [
      "\n"
     ]
    },
    {
     "data": {
      "application/vnd.jupyter.widget-view+json": {
       "model_id": "dacbef297eee49408607ab57d6a144fc",
       "version_major": 2,
       "version_minor": 0
      },
      "text/plain": [
       "HBox(children=(IntProgress(value=0, description='Pandas Apply', max=594867, style=ProgressStyle(description_wi…"
      ]
     },
     "metadata": {},
     "output_type": "display_data"
    },
    {
     "name": "stdout",
     "output_type": "stream",
     "text": [
      "\n"
     ]
    },
    {
     "data": {
      "application/vnd.jupyter.widget-view+json": {
       "model_id": "518ce6d593814f9181009455c02f3e9d",
       "version_major": 2,
       "version_minor": 0
      },
      "text/plain": [
       "HBox(children=(IntProgress(value=0, description='Pandas Apply', max=594867, style=ProgressStyle(description_wi…"
      ]
     },
     "metadata": {},
     "output_type": "display_data"
    },
    {
     "name": "stdout",
     "output_type": "stream",
     "text": [
      "\n"
     ]
    }
   ],
   "source": [
    "df_X_test.loc[pd.isnull(df_X_test['Temperature(F)']),'Temperature(F)'] = df_X_test.swifter.apply(getMedianTemp,axis=1)\n",
    "df_X_test.loc[pd.isnull(df_X_test['Precipitation(in)']),'Precipitation(in)'] = df_X_test.swifter.apply(getMedianPrecip,axis=1)\n",
    "df_X_test.loc[pd.isnull(df_X_test['Pressure(in)']),'Pressure(in)'] = df_X_test.swifter.apply(getMedianPressure,axis=1)\n",
    "df_X_test.loc[pd.isnull(df_X_test['Wind_Chill(F)']),'Wind_Chill(F)'] = df_X_test.swifter.apply(getMedianWindChill,axis=1)\n",
    "df_X_test.loc[pd.isnull(df_X_test['Visibility(mi)']),'Visibility(mi)'] = df_X_test.swifter.apply(getMedianVis,axis=1)\n",
    "df_X_test.loc[pd.isnull(df_X_test['Wind_Speed(mph)']),'Wind_Speed(mph)'] = df_X_test.swifter.apply(getMedianWindSpeed,axis=1)\n",
    "df_X_test.loc[pd.isnull(df_X_test['Humidity(%)']),'Humidity(%)'] = df_X_test.swifter.apply(getMedianHumidity,axis=1)"
   ]
  },
  {
   "cell_type": "code",
   "execution_count": 12,
   "metadata": {},
   "outputs": [
    {
     "name": "stdout",
     "output_type": "stream",
     "text": [
      "Temp:  0\n",
      "Precip:  14\n",
      "Pressure:  0\n",
      "Wind Chill:  11\n",
      "Viz:  0\n",
      "Wind Speed:  1\n",
      "Humidity:  0\n"
     ]
    }
   ],
   "source": [
    "#Check the counts of our training dataset to ensure we cleared out all nulls\n",
    "print(\"Temp: \",df_X_train['Temperature(F)'].isnull().sum())\n",
    "print(\"Precip: \",df_X_train['Precipitation(in)'].isnull().sum())\n",
    "print(\"Pressure: \",df_X_train['Pressure(in)'].isnull().sum())\n",
    "print(\"Wind Chill: \",df_X_train['Wind_Chill(F)'].isnull().sum())\n",
    "print(\"Viz: \", df_X_train['Visibility(mi)'].isnull().sum())\n",
    "print(\"Wind Speed: \", df_X_train['Wind_Speed(mph)'].isnull().sum())\n",
    "print(\"Humidity: \", df_X_train['Humidity(%)'].isnull().sum())"
   ]
  },
  {
   "cell_type": "code",
   "execution_count": 13,
   "metadata": {},
   "outputs": [
    {
     "name": "stdout",
     "output_type": "stream",
     "text": [
      "Temp:  0\n",
      "Precip:  3\n",
      "Pressure:  0\n",
      "Wind Chill:  3\n",
      "Viz:  0\n",
      "Wind Speed:  0\n",
      "Humidity:  0\n"
     ]
    }
   ],
   "source": [
    "#Check the counts of our test dataset to ensure we cleared out all nulls\n",
    "print(\"Temp: \",df_X_test['Temperature(F)'].isnull().sum())\n",
    "print(\"Precip: \",df_X_test['Precipitation(in)'].isnull().sum())\n",
    "print(\"Pressure: \",df_X_test['Pressure(in)'].isnull().sum())\n",
    "print(\"Wind Chill: \",df_X_test['Wind_Chill(F)'].isnull().sum())\n",
    "print(\"Viz: \", df_X_test['Visibility(mi)'].isnull().sum())\n",
    "print(\"Wind Speed: \", df_X_test['Wind_Speed(mph)'].isnull().sum())\n",
    "print(\"Humidity: \", df_X_test['Humidity(%)'].isnull().sum())"
   ]
  },
  {
   "cell_type": "code",
   "execution_count": 57,
   "metadata": {},
   "outputs": [
    {
     "name": "stdout",
     "output_type": "stream",
     "text": [
      "               ID          Start_Time            End_Time  Start_Lat  \\\n",
      "299572  A-2183081 2017-08-01 08:02:16 2017-08-01 08:31:50  46.899204   \n",
      "415815  A-2274693 2016-09-06 00:26:23 2016-09-06 06:26:23  46.828960   \n",
      "430902  A-1401002 2018-09-06 08:08:20 2018-09-06 08:38:03  46.880718   \n",
      "\n",
      "         Start_Lng  Distance(mi) Side       City    County State Zipcode  \\\n",
      "299572  -98.708099         0.000    R  Jamestown  Stutsman    ND   58401   \n",
      "415815 -100.871150         0.462    R     Mandan    Morton    ND   58554   \n",
      "430902  -99.637260         0.000    R     Tappen    Kidder    ND   58487   \n",
      "\n",
      "       Country    Timezone Airport_Code  Temperature(F)  Wind_Chill(F)  \\\n",
      "299572      US  US/Central         KJMS            64.0            NaN   \n",
      "415815      US  US/Central         KY19            55.4            NaN   \n",
      "430902      US  US/Central         KJMS            53.1            NaN   \n",
      "\n",
      "        Humidity(%)  Pressure(in)  Visibility(mi) Wind_Direction  \\\n",
      "299572         84.0         30.12            10.0              N   \n",
      "415815        100.0         29.98            10.0             NE   \n",
      "430902         86.0         30.40            10.0            SSE   \n",
      "\n",
      "        Wind_Speed(mph)  Precipitation(in) Weather_Condition  PointOfInterest  \\\n",
      "299572              9.2                NaN             Clear            False   \n",
      "415815              3.5                NaN          Overcast            False   \n",
      "430902              3.5                NaN          Overcast            False   \n",
      "\n",
      "         Bump  Crossing  Yield  Junction  No_Exit  Railway  Roundabout  \\\n",
      "299572  False     False  False     False    False    False       False   \n",
      "415815  False     False  False     False    False    False       False   \n",
      "430902  False     False  False     False    False    False       False   \n",
      "\n",
      "        Station   Stop  Traffic_Calming  Traffic_Signal  Turning_Loop  \\\n",
      "299572    False  False            False           False         False   \n",
      "415815    False  False            False           False         False   \n",
      "430902    False  False            False           False         False   \n",
      "\n",
      "       Sunrise_Sunset Civil_Twilight Nautical_Twilight Astronomical_Twilight  \\\n",
      "299572            Day            Day               Day                   Day   \n",
      "415815          Night          Night             Night                 Night   \n",
      "430902            Day            Day               Day                   Day   \n",
      "\n",
      "        Start_Year Start_Month  Start_Day  Start_Hour Start_Weekday  \\\n",
      "299572        2017         Aug          1           8           Tue   \n",
      "415815        2016         Sep          6           0           Tue   \n",
      "430902        2018         Sep          6           8           Thu   \n",
      "\n",
      "        Start_Date  End_Year End_Month  End_Day  End_Hour End_Weekday  \\\n",
      "299572  2017-08-01      2017       Aug        1         8         Tue   \n",
      "415815  2016-09-06      2016       Sep        6         6         Tue   \n",
      "430902  2018-09-06      2018       Sep        6         8         Thu   \n",
      "\n",
      "          End_Date  Time_Duration(min)  Season  \n",
      "299572  2017-08-01                30.0  Summer  \n",
      "415815  2016-09-06               360.0  Summer  \n",
      "430902  2018-09-06                30.0  Summer  \n",
      "nan\n"
     ]
    }
   ],
   "source": [
    "print(df_X_test[df_X_test['Precipitation(in)'].isnull()])\n",
    "\n",
    "print(medianPrecipByStateMonth['ND','Aug'])"
   ]
  },
  {
   "cell_type": "code",
   "execution_count": 62,
   "metadata": {},
   "outputs": [
    {
     "data": {
      "text/plain": [
       "Start_Month\n",
       "Apr    0.00\n",
       "Aug    0.00\n",
       "Dec    0.00\n",
       "Feb    0.01\n",
       "Jan    0.01\n",
       "Jul    0.00\n",
       "Jun    0.00\n",
       "Mar    0.01\n",
       "May    0.00\n",
       "Nov    0.00\n",
       "Oct    0.00\n",
       "Sep    0.00\n",
       "Name: Precipitation(in), dtype: float64"
      ]
     },
     "execution_count": 62,
     "metadata": {},
     "output_type": "execute_result"
    }
   ],
   "source": [
    "medianPrecipByMonth"
   ]
  },
  {
   "cell_type": "code",
   "execution_count": 14,
   "metadata": {},
   "outputs": [],
   "source": [
    "featuresList = ['Start_Lat','Start_Lng','Distance(mi)','Side','Timezone','Temperature(F)','Wind_Chill(F)',\n",
    "                'Humidity(%)','Pressure(in)','Visibility(mi)','Wind_Direction','Wind_Speed(mph)','Precipitation(in)',\n",
    "                'Weather_Condition','PointOfInterest','Bump','Crossing','Yield','Junction','No_Exit','Railway',\n",
    "                'Roundabout','Station','Stop','Traffic_Calming','Traffic_Signal','Turning_Loop','Sunrise_Sunset',\n",
    "                'Start_Year','Start_Month','Start_Day','Start_Hour','Start_Weekday','End_Year','End_Month','End_Day',\n",
    "                'End_Hour','End_Weekday','Time_Duration(min)','Season']\n",
    "\n",
    "df_X_test = df_X_test[featuresList]\n",
    "df_X_train = df_X_train[featuresList]"
   ]
  },
  {
   "cell_type": "code",
   "execution_count": 18,
   "metadata": {},
   "outputs": [],
   "source": [
    "# transform categories into dummy numerics\n",
    "cols_to_transform = ['Side','Weather_Condition','Sunrise_Sunset','Season','Start_Weekday','End_Weekday','Timezone']\n",
    "\n",
    "df_X_test = pd.get_dummies(df_X_test, columns = cols_to_transform )\n",
    "df_X_train = pd.get_dummies(df_X_train, columns = cols_to_transform )"
   ]
  },
  {
   "cell_type": "code",
   "execution_count": 19,
   "metadata": {},
   "outputs": [],
   "source": [
    "X_train = df_X_train.to_numpy()\n",
    "X_test = df_X_test.to_numpy()"
   ]
  },
  {
   "cell_type": "code",
   "execution_count": 20,
   "metadata": {},
   "outputs": [
    {
     "name": "stderr",
     "output_type": "stream",
     "text": [
      "C:\\Users\\croomb\\AppData\\Local\\Continuum\\anaconda3\\lib\\site-packages\\sklearn\\linear_model\\logistic.py:432: FutureWarning: Default solver will be changed to 'lbfgs' in 0.22. Specify a solver to silence this warning.\n",
      "  FutureWarning)\n"
     ]
    },
    {
     "ename": "MemoryError",
     "evalue": "",
     "output_type": "error",
     "traceback": [
      "\u001b[1;31m---------------------------------------------------------------------------\u001b[0m",
      "\u001b[1;31mMemoryError\u001b[0m                               Traceback (most recent call last)",
      "\u001b[1;32m<ipython-input-20-26017a6c7ac7>\u001b[0m in \u001b[0;36m<module>\u001b[1;34m\u001b[0m\n\u001b[0;32m      1\u001b[0m \u001b[1;31m# logistic regression\u001b[0m\u001b[1;33m\u001b[0m\u001b[1;33m\u001b[0m\u001b[1;33m\u001b[0m\u001b[0m\n\u001b[0;32m      2\u001b[0m \u001b[0mlogistic_regression\u001b[0m\u001b[1;33m=\u001b[0m \u001b[0mLogisticRegression\u001b[0m\u001b[1;33m(\u001b[0m\u001b[0mmax_iter\u001b[0m \u001b[1;33m=\u001b[0m \u001b[1;36m4000\u001b[0m\u001b[1;33m)\u001b[0m\u001b[1;33m\u001b[0m\u001b[1;33m\u001b[0m\u001b[0m\n\u001b[1;32m----> 3\u001b[1;33m \u001b[0mlogistic_regression\u001b[0m\u001b[1;33m.\u001b[0m\u001b[0mfit\u001b[0m\u001b[1;33m(\u001b[0m\u001b[0mX_train\u001b[0m\u001b[1;33m,\u001b[0m\u001b[0my_train\u001b[0m\u001b[1;33m)\u001b[0m\u001b[1;33m\u001b[0m\u001b[1;33m\u001b[0m\u001b[0m\n\u001b[0m\u001b[0;32m      4\u001b[0m \u001b[0my_pred\u001b[0m\u001b[1;33m=\u001b[0m\u001b[0mlogistic_regression\u001b[0m\u001b[1;33m.\u001b[0m\u001b[0mpredict\u001b[0m\u001b[1;33m(\u001b[0m\u001b[0mX_test\u001b[0m\u001b[1;33m)\u001b[0m\u001b[1;33m\u001b[0m\u001b[1;33m\u001b[0m\u001b[0m\n",
      "\u001b[1;32m~\\AppData\\Local\\Continuum\\anaconda3\\lib\\site-packages\\sklearn\\linear_model\\logistic.py\u001b[0m in \u001b[0;36mfit\u001b[1;34m(self, X, y, sample_weight)\u001b[0m\n\u001b[0;32m   1530\u001b[0m \u001b[1;33m\u001b[0m\u001b[0m\n\u001b[0;32m   1531\u001b[0m         X, y = check_X_y(X, y, accept_sparse='csr', dtype=_dtype, order=\"C\",\n\u001b[1;32m-> 1532\u001b[1;33m                          accept_large_sparse=solver != 'liblinear')\n\u001b[0m\u001b[0;32m   1533\u001b[0m         \u001b[0mcheck_classification_targets\u001b[0m\u001b[1;33m(\u001b[0m\u001b[0my\u001b[0m\u001b[1;33m)\u001b[0m\u001b[1;33m\u001b[0m\u001b[1;33m\u001b[0m\u001b[0m\n\u001b[0;32m   1534\u001b[0m         \u001b[0mself\u001b[0m\u001b[1;33m.\u001b[0m\u001b[0mclasses_\u001b[0m \u001b[1;33m=\u001b[0m \u001b[0mnp\u001b[0m\u001b[1;33m.\u001b[0m\u001b[0munique\u001b[0m\u001b[1;33m(\u001b[0m\u001b[0my\u001b[0m\u001b[1;33m)\u001b[0m\u001b[1;33m\u001b[0m\u001b[1;33m\u001b[0m\u001b[0m\n",
      "\u001b[1;32m~\\AppData\\Local\\Continuum\\anaconda3\\lib\\site-packages\\sklearn\\utils\\validation.py\u001b[0m in \u001b[0;36mcheck_X_y\u001b[1;34m(X, y, accept_sparse, accept_large_sparse, dtype, order, copy, force_all_finite, ensure_2d, allow_nd, multi_output, ensure_min_samples, ensure_min_features, y_numeric, warn_on_dtype, estimator)\u001b[0m\n\u001b[0;32m    717\u001b[0m                     \u001b[0mensure_min_features\u001b[0m\u001b[1;33m=\u001b[0m\u001b[0mensure_min_features\u001b[0m\u001b[1;33m,\u001b[0m\u001b[1;33m\u001b[0m\u001b[1;33m\u001b[0m\u001b[0m\n\u001b[0;32m    718\u001b[0m                     \u001b[0mwarn_on_dtype\u001b[0m\u001b[1;33m=\u001b[0m\u001b[0mwarn_on_dtype\u001b[0m\u001b[1;33m,\u001b[0m\u001b[1;33m\u001b[0m\u001b[1;33m\u001b[0m\u001b[0m\n\u001b[1;32m--> 719\u001b[1;33m                     estimator=estimator)\n\u001b[0m\u001b[0;32m    720\u001b[0m     \u001b[1;32mif\u001b[0m \u001b[0mmulti_output\u001b[0m\u001b[1;33m:\u001b[0m\u001b[1;33m\u001b[0m\u001b[1;33m\u001b[0m\u001b[0m\n\u001b[0;32m    721\u001b[0m         y = check_array(y, 'csr', force_all_finite=True, ensure_2d=False,\n",
      "\u001b[1;32m~\\AppData\\Local\\Continuum\\anaconda3\\lib\\site-packages\\sklearn\\utils\\validation.py\u001b[0m in \u001b[0;36mcheck_array\u001b[1;34m(array, accept_sparse, accept_large_sparse, dtype, order, copy, force_all_finite, ensure_2d, allow_nd, ensure_min_samples, ensure_min_features, warn_on_dtype, estimator)\u001b[0m\n\u001b[0;32m    494\u001b[0m             \u001b[1;32mtry\u001b[0m\u001b[1;33m:\u001b[0m\u001b[1;33m\u001b[0m\u001b[1;33m\u001b[0m\u001b[0m\n\u001b[0;32m    495\u001b[0m                 \u001b[0mwarnings\u001b[0m\u001b[1;33m.\u001b[0m\u001b[0msimplefilter\u001b[0m\u001b[1;33m(\u001b[0m\u001b[1;34m'error'\u001b[0m\u001b[1;33m,\u001b[0m \u001b[0mComplexWarning\u001b[0m\u001b[1;33m)\u001b[0m\u001b[1;33m\u001b[0m\u001b[1;33m\u001b[0m\u001b[0m\n\u001b[1;32m--> 496\u001b[1;33m                 \u001b[0marray\u001b[0m \u001b[1;33m=\u001b[0m \u001b[0mnp\u001b[0m\u001b[1;33m.\u001b[0m\u001b[0masarray\u001b[0m\u001b[1;33m(\u001b[0m\u001b[0marray\u001b[0m\u001b[1;33m,\u001b[0m \u001b[0mdtype\u001b[0m\u001b[1;33m=\u001b[0m\u001b[0mdtype\u001b[0m\u001b[1;33m,\u001b[0m \u001b[0morder\u001b[0m\u001b[1;33m=\u001b[0m\u001b[0morder\u001b[0m\u001b[1;33m)\u001b[0m\u001b[1;33m\u001b[0m\u001b[1;33m\u001b[0m\u001b[0m\n\u001b[0m\u001b[0;32m    497\u001b[0m             \u001b[1;32mexcept\u001b[0m \u001b[0mComplexWarning\u001b[0m\u001b[1;33m:\u001b[0m\u001b[1;33m\u001b[0m\u001b[1;33m\u001b[0m\u001b[0m\n\u001b[0;32m    498\u001b[0m                 raise ValueError(\"Complex data not supported\\n\"\n",
      "\u001b[1;32m~\\AppData\\Local\\Continuum\\anaconda3\\lib\\site-packages\\numpy\\core\\numeric.py\u001b[0m in \u001b[0;36masarray\u001b[1;34m(a, dtype, order)\u001b[0m\n\u001b[0;32m    536\u001b[0m \u001b[1;33m\u001b[0m\u001b[0m\n\u001b[0;32m    537\u001b[0m     \"\"\"\n\u001b[1;32m--> 538\u001b[1;33m     \u001b[1;32mreturn\u001b[0m \u001b[0marray\u001b[0m\u001b[1;33m(\u001b[0m\u001b[0ma\u001b[0m\u001b[1;33m,\u001b[0m \u001b[0mdtype\u001b[0m\u001b[1;33m,\u001b[0m \u001b[0mcopy\u001b[0m\u001b[1;33m=\u001b[0m\u001b[1;32mFalse\u001b[0m\u001b[1;33m,\u001b[0m \u001b[0morder\u001b[0m\u001b[1;33m=\u001b[0m\u001b[0morder\u001b[0m\u001b[1;33m)\u001b[0m\u001b[1;33m\u001b[0m\u001b[1;33m\u001b[0m\u001b[0m\n\u001b[0m\u001b[0;32m    539\u001b[0m \u001b[1;33m\u001b[0m\u001b[0m\n\u001b[0;32m    540\u001b[0m \u001b[1;33m\u001b[0m\u001b[0m\n",
      "\u001b[1;31mMemoryError\u001b[0m: "
     ]
    }
   ],
   "source": [
    "# logistic regression\n",
    "logistic_regression= LogisticRegression(max_iter = 4000)\n",
    "logistic_regression.fit(X_train,y_train)\n",
    "y_pred=logistic_regression.predict(X_test)"
   ]
  },
  {
   "cell_type": "code",
   "execution_count": null,
   "metadata": {},
   "outputs": [],
   "source": [
    "# Accuracy | Accuracy = (TP+TN)/Total\n",
    "print('Accuracy: ',mt.accuracy_score(y_test, y_pred))"
   ]
  },
  {
   "cell_type": "markdown",
   "metadata": {},
   "source": [
    "## Model Advantages - 10pts"
   ]
  },
  {
   "cell_type": "markdown",
   "metadata": {},
   "source": [
    "## Interpretation - 30pts"
   ]
  },
  {
   "cell_type": "markdown",
   "metadata": {},
   "source": [
    "## SVM Insight - 10pts"
   ]
  },
  {
   "cell_type": "code",
   "execution_count": null,
   "metadata": {},
   "outputs": [],
   "source": []
  }
 ],
 "metadata": {
  "kernelspec": {
   "display_name": "Python 3",
   "language": "python",
   "name": "python3"
  },
  "language_info": {
   "codemirror_mode": {
    "name": "ipython",
    "version": 3
   },
   "file_extension": ".py",
   "mimetype": "text/x-python",
   "name": "python",
   "nbconvert_exporter": "python",
   "pygments_lexer": "ipython3",
   "version": "3.7.4"
  }
 },
 "nbformat": 4,
 "nbformat_minor": 2
}
