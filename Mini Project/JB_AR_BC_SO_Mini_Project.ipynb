{
 "cells": [
  {
   "cell_type": "markdown",
   "metadata": {},
   "source": [
    "# DS 7331 - Machine Learning - Course Project\n",
    "Team: Allison Roderick, Jayson Barker, Sandesh Ojha, Brandon Croom\n",
    "\n",
    "Lab Number: Mini Project"
   ]
  },
  {
   "cell_type": "markdown",
   "metadata": {},
   "source": [
    "## Model Creation/Parameters - 50pts"
   ]
  },
  {
   "cell_type": "markdown",
   "metadata": {},
   "source": [
    "### US Focused Model"
   ]
  },
  {
   "cell_type": "markdown",
   "metadata": {},
   "source": [
    "The code below represent the build out of the logistical regression model for the US Accidents data set for the entire US."
   ]
  },
  {
   "cell_type": "markdown",
   "metadata": {},
   "source": [
    "Perfom the initial setup in the three code blocks below. We'll import the necessary libraries required for this analysis. We'll then define helper functions that will be leveraged later in the analysis. Finally we'll import the  EDA that has already been performed. This will allow us to leverage the existing work and prevent duplication. It should be noted that for this specific analysis we have commented out the graphs that were built in the initial EDA. This is simply to assist in speeding up the logistic regression analysis. "
   ]
  },
  {
   "cell_type": "code",
   "execution_count": 1,
   "metadata": {},
   "outputs": [],
   "source": [
    "# Import libraries for data analysis\n",
    "from sklearn.model_selection import ShuffleSplit\n",
    "from sklearn.linear_model import LogisticRegression\n",
    "from sklearn import metrics as mt\n",
    "from sklearn.preprocessing import StandardScaler"
   ]
  },
  {
   "cell_type": "code",
   "execution_count": 21,
   "metadata": {},
   "outputs": [],
   "source": [
    "#Define helper functions\n",
    "def getMedianTemp(row):\n",
    "    month = row['SM_Interim']\n",
    "    state = row['State']\n",
    "    \n",
    "    try:\n",
    "        result = medianTempByStateMonth[state,month]\n",
    "    except:\n",
    "        result = medianTempByMonth[month]\n",
    "    finally:    \n",
    "        return result\n",
    "\n",
    "def getMedianPrecip(row):\n",
    "    month = row['SM_Interim']\n",
    "    state = row['State']\n",
    "    \n",
    "    try:\n",
    "        result = medianPrecipByStateMonth[state,month]\n",
    "    except:\n",
    "        result = medianPrecipByMonth[month]\n",
    "    finally:\n",
    "        return result\n",
    "\n",
    "def getMedianPressure(row):\n",
    "    month = row['SM_Interim']\n",
    "    state = row['State']\n",
    "    \n",
    "    try:\n",
    "        result = medianPressureByStateMonth[state,month]\n",
    "    except:\n",
    "        result = medianPrecipByMonth[month]\n",
    "    finally:\n",
    "        return result\n",
    "\n",
    "def getMedianWindChill(row):\n",
    "    month = row['SM_Interim']\n",
    "    state = row['State']\n",
    "    \n",
    "    try:\n",
    "        result = medianWindChillByStateMonth[state,month]\n",
    "    except:\n",
    "        result = medianWindChillByMonth[month]\n",
    "    finally:\n",
    "        return result\n",
    "\n",
    "def getMedianVis(row):\n",
    "    month = row['SM_Interim']\n",
    "    state = row['State']\n",
    "    \n",
    "    try:\n",
    "        result = medianVisByStateMonth[state,month]\n",
    "    except:\n",
    "        result = medianVisByMonth[month]\n",
    "    finally:\n",
    "        return result\n",
    "\n",
    "def getMedianWindSpeed(row):\n",
    "    month = row['SM_Interim']\n",
    "    state = row['State']\n",
    "    \n",
    "    try:\n",
    "        result = medianWindSpeedByStateMonth[state,month]\n",
    "    except:\n",
    "        result = medianWindSpeedByMonth[month]\n",
    "    finally:\n",
    "        return result\n",
    "\n",
    "def getMedianHumidity(row):\n",
    "    month = row['SM_Interim']\n",
    "    state = row['State']\n",
    "    \n",
    "    try:\n",
    "        result = medianHumidityByStateMonth[state,month]\n",
    "    except:\n",
    "        result = medianHumidityByMonth[month]\n",
    "    finally:\n",
    "        return result\n",
    "\n",
    "def checkMissingValues(df):\n",
    "    missing_df = df.isnull().sum(axis=0).reset_index()\n",
    "    missing_df.columns = ['columns_name','missing_count']\n",
    "    missing_df['missing_ratio'] = missing_df['missing_count'] /df.shape[0]\n",
    "    return missing_df.loc[missing_df['missing_ratio']>0.00]"
   ]
  },
  {
   "cell_type": "code",
   "execution_count": 3,
   "metadata": {},
   "outputs": [
    {
     "name": "stdout",
     "output_type": "stream",
     "text": [
      "Initial Shape:  (2974335, 49)\n",
      "Deduplication Shape:  (2974335, 49)\n",
      "No Duplicate Data Found\n",
      "['MapQuest' 'MapQuest-Bing' 'Bing']\n",
      "['Calm' 'SW' 'SSW' 'WSW' 'WNW' 'NW' 'West' 'NNW' 'NNE' 'South' 'North'\n",
      " 'Variable' 'SE' 'SSE' 'ESE' 'East' 'NE' 'ENE' 'E' 'W' nan 'S' 'VAR'\n",
      " 'CALM' 'N']\n",
      "['Calm' 'SW' 'SSW' 'WSW' 'WNW' 'NW' 'W' 'NNW' 'NNE' 'S' 'N' 'VAR' 'SE'\n",
      " 'SSE' 'ESE' 'E' 'NE' 'ENE' nan 'CALM']\n",
      "(2974335, 41)\n",
      "ID                        object\n",
      "Severity                   int64\n",
      "Start_Time                object\n",
      "End_Time                  object\n",
      "Start_Lat                float64\n",
      "Start_Lng                float64\n",
      "Distance(mi)             float64\n",
      "Side                      object\n",
      "City                      object\n",
      "County                    object\n",
      "State                     object\n",
      "Zipcode                   object\n",
      "Country                   object\n",
      "Timezone                  object\n",
      "Airport_Code              object\n",
      "Temperature(F)           float64\n",
      "Wind_Chill(F)            float64\n",
      "Humidity(%)              float64\n",
      "Pressure(in)             float64\n",
      "Visibility(mi)           float64\n",
      "Wind_Direction            object\n",
      "Wind_Speed(mph)          float64\n",
      "Precipitation(in)        float64\n",
      "Weather_Condition         object\n",
      "PointOfInterest             bool\n",
      "Bump                        bool\n",
      "Crossing                    bool\n",
      "Yield                       bool\n",
      "Junction                    bool\n",
      "No_Exit                     bool\n",
      "Railway                     bool\n",
      "Roundabout                  bool\n",
      "Station                     bool\n",
      "Stop                        bool\n",
      "Traffic_Calming             bool\n",
      "Traffic_Signal              bool\n",
      "Turning_Loop                bool\n",
      "Sunrise_Sunset            object\n",
      "Civil_Twilight            object\n",
      "Nautical_Twilight         object\n",
      "Astronomical_Twilight     object\n",
      "dtype: object\n",
      "<class 'pandas.core.frame.DataFrame'>\n",
      "Int64Index: 2974313 entries, 0 to 2974334\n",
      "Data columns (total 54 columns):\n",
      "ID                       object\n",
      "Severity                 float64\n",
      "Start_Time               datetime64[ns]\n",
      "End_Time                 datetime64[ns]\n",
      "Start_Lat                float64\n",
      "Start_Lng                float64\n",
      "Distance(mi)             float64\n",
      "Side                     object\n",
      "City                     object\n",
      "County                   object\n",
      "State                    object\n",
      "Zipcode                  object\n",
      "Country                  object\n",
      "Timezone                 object\n",
      "Airport_Code             object\n",
      "Temperature(F)           float64\n",
      "Wind_Chill(F)            float64\n",
      "Humidity(%)              float64\n",
      "Pressure(in)             float64\n",
      "Visibility(mi)           float64\n",
      "Wind_Direction           object\n",
      "Wind_Speed(mph)          float64\n",
      "Precipitation(in)        float64\n",
      "Weather_Condition        object\n",
      "PointOfInterest          float64\n",
      "Bump                     float64\n",
      "Crossing                 float64\n",
      "Yield                    float64\n",
      "Junction                 float64\n",
      "No_Exit                  float64\n",
      "Railway                  float64\n",
      "Roundabout               float64\n",
      "Station                  float64\n",
      "Stop                     float64\n",
      "Traffic_Calming          float64\n",
      "Traffic_Signal           float64\n",
      "Turning_Loop             float64\n",
      "Sunrise_Sunset           object\n",
      "Civil_Twilight           object\n",
      "Nautical_Twilight        object\n",
      "Astronomical_Twilight    object\n",
      "Start_Year               float64\n",
      "Start_Month              object\n",
      "Start_Day                float64\n",
      "Start_Hour               float64\n",
      "Start_Weekday            object\n",
      "Start_Date               object\n",
      "End_Year                 float64\n",
      "End_Month                object\n",
      "End_Day                  float64\n",
      "End_Hour                 float64\n",
      "End_Weekday              object\n",
      "End_Date                 object\n",
      "Time_Duration(min)       float64\n",
      "dtypes: datetime64[ns](2), float64(31), object(21)\n",
      "memory usage: 1.2+ GB\n"
     ]
    },
    {
     "name": "stderr",
     "output_type": "stream",
     "text": [
      "/home/jbcroom/anaconda3/lib/python3.7/site-packages/tqdm/std.py:648: FutureWarning: The Panel class is removed from pandas. Accessing it from the top-level namespace will also be removed in the next version\n",
      "  from pandas import Panel\n"
     ]
    },
    {
     "data": {
      "application/vnd.jupyter.widget-view+json": {
       "model_id": "ed1a90824de842bdb853f2f01e0a47a2",
       "version_major": 2,
       "version_minor": 0
      },
      "text/plain": [
       "HBox(children=(IntProgress(value=0, description='Pandas Apply', max=2974313, style=ProgressStyle(description_w…"
      ]
     },
     "metadata": {},
     "output_type": "display_data"
    },
    {
     "name": "stdout",
     "output_type": "stream",
     "text": [
      "\n"
     ]
    }
   ],
   "source": [
    "#Run the initial EDA from the first lab for the project. \n",
    "#NOTE: We've commented out the graphs and analysis portions from the EDA just to make things run faster, hence the \"Skinny\"\n",
    "#version of the filename\n",
    "%run ./JB_AR_BC_SO_Project1_Skinny.ipynb"
   ]
  },
  {
   "cell_type": "markdown",
   "metadata": {},
   "source": [
    "Now we'll copy the EDA ready dataframe into a secondary dataframe. This will allow us to get back to initial state if something goes awry."
   ]
  },
  {
   "cell_type": "code",
   "execution_count": 5,
   "metadata": {},
   "outputs": [],
   "source": [
    "# Copy the dataframe from the original as we'll be manipulating it for analysis\n",
    "df2 = df.sample(n=1000000).copy()"
   ]
  },
  {
   "cell_type": "markdown",
   "metadata": {},
   "source": [
    "Build out the initial list of features we want to put through the logistic regression model. We'll keep the majority of the features. City, Country, ZipCode and the accident End date values will be removed for this initial pass. We'll also create a temporary column for Start Month for assistance with a few future items that need to be addressed with this field"
   ]
  },
  {
   "cell_type": "code",
   "execution_count": 6,
   "metadata": {},
   "outputs": [],
   "source": [
    "#Take an initial pass at the features we want to run through logistic regression\n",
    "featuresList = ['Severity','Start_Lat','Start_Lng','Distance(mi)','Side','Temperature(F)','Wind_Chill(F)',\n",
    "                'Humidity(%)','Pressure(in)','Visibility(mi)','Wind_Speed(mph)','Precipitation(in)',\n",
    "                'PointOfInterest','Bump','Crossing','Yield','Junction','No_Exit','Railway',\n",
    "                'Roundabout','Station','Stop','Traffic_Calming','Traffic_Signal','Turning_Loop','Sunrise_Sunset',\n",
    "                'Start_Month','Start_Hour','Start_Weekday','Time_Duration(min)','State','Weather_Condition','Timezone']\n",
    "\n",
    "#filter down the dataframe to just the features needed\n",
    "df2 = df2[featuresList]\n",
    "\n",
    "#duplicate the Start Month. This will help us later\n",
    "df2['SM_Interim'] = df2['Start_Month']"
   ]
  },
  {
   "cell_type": "markdown",
   "metadata": {},
   "source": [
    "Break out our categorical variables into dummy numerics in order for the logistic regression to work correctly."
   ]
  },
  {
   "cell_type": "code",
   "execution_count": 7,
   "metadata": {},
   "outputs": [
    {
     "data": {
      "text/plain": [
       "Severity                                float64\n",
       "Start_Lat                               float64\n",
       "Start_Lng                               float64\n",
       "Distance(mi)                            float64\n",
       "Temperature(F)                          float64\n",
       "                                         ...   \n",
       "Weather_Condition_Tornado                 uint8\n",
       "Weather_Condition_Volcanic Ash            uint8\n",
       "Weather_Condition_Widespread Dust         uint8\n",
       "Weather_Condition_Wintry Mix              uint8\n",
       "Weather_Condition_Wintry Mix / Windy      uint8\n",
       "Length: 157, dtype: object"
      ]
     },
     "execution_count": 7,
     "metadata": {},
     "output_type": "execute_result"
    }
   ],
   "source": [
    "# transform categories into dummy numerics\n",
    "cols_to_transform = ['Side','Sunrise_Sunset','Start_Weekday','Start_Month','Weather_Condition']\n",
    "\n",
    "df2 = pd.get_dummies(df2, columns = cols_to_transform)\n",
    "\n",
    "#check to make sure everything transformed\n",
    "df2.dtypes"
   ]
  },
  {
   "cell_type": "markdown",
   "metadata": {},
   "source": [
    "Now that we've expanded out our categorical variables let's look for missing values and determine how we should handle these values if they exist."
   ]
  },
  {
   "cell_type": "code",
   "execution_count": 8,
   "metadata": {},
   "outputs": [
    {
     "data": {
      "text/html": [
       "<div>\n",
       "<style scoped>\n",
       "    .dataframe tbody tr th:only-of-type {\n",
       "        vertical-align: middle;\n",
       "    }\n",
       "\n",
       "    .dataframe tbody tr th {\n",
       "        vertical-align: top;\n",
       "    }\n",
       "\n",
       "    .dataframe thead th {\n",
       "        text-align: right;\n",
       "    }\n",
       "</style>\n",
       "<table border=\"1\" class=\"dataframe\">\n",
       "  <thead>\n",
       "    <tr style=\"text-align: right;\">\n",
       "      <th></th>\n",
       "      <th>columns_name</th>\n",
       "      <th>missing_count</th>\n",
       "      <th>missing_ratio</th>\n",
       "    </tr>\n",
       "  </thead>\n",
       "  <tbody>\n",
       "    <tr>\n",
       "      <th>0</th>\n",
       "      <td>Severity</td>\n",
       "      <td>197</td>\n",
       "      <td>0.000197</td>\n",
       "    </tr>\n",
       "    <tr>\n",
       "      <th>1</th>\n",
       "      <td>Start_Lat</td>\n",
       "      <td>197</td>\n",
       "      <td>0.000197</td>\n",
       "    </tr>\n",
       "    <tr>\n",
       "      <th>2</th>\n",
       "      <td>Start_Lng</td>\n",
       "      <td>197</td>\n",
       "      <td>0.000197</td>\n",
       "    </tr>\n",
       "    <tr>\n",
       "      <th>3</th>\n",
       "      <td>Distance(mi)</td>\n",
       "      <td>197</td>\n",
       "      <td>0.000197</td>\n",
       "    </tr>\n",
       "    <tr>\n",
       "      <th>4</th>\n",
       "      <td>Temperature(F)</td>\n",
       "      <td>19007</td>\n",
       "      <td>0.019007</td>\n",
       "    </tr>\n",
       "    <tr>\n",
       "      <th>5</th>\n",
       "      <td>Wind_Chill(F)</td>\n",
       "      <td>622850</td>\n",
       "      <td>0.622850</td>\n",
       "    </tr>\n",
       "    <tr>\n",
       "      <th>6</th>\n",
       "      <td>Humidity(%)</td>\n",
       "      <td>20065</td>\n",
       "      <td>0.020065</td>\n",
       "    </tr>\n",
       "    <tr>\n",
       "      <th>7</th>\n",
       "      <td>Pressure(in)</td>\n",
       "      <td>16410</td>\n",
       "      <td>0.016410</td>\n",
       "    </tr>\n",
       "    <tr>\n",
       "      <th>8</th>\n",
       "      <td>Visibility(mi)</td>\n",
       "      <td>22193</td>\n",
       "      <td>0.022193</td>\n",
       "    </tr>\n",
       "    <tr>\n",
       "      <th>9</th>\n",
       "      <td>Wind_Speed(mph)</td>\n",
       "      <td>148558</td>\n",
       "      <td>0.148558</td>\n",
       "    </tr>\n",
       "    <tr>\n",
       "      <th>10</th>\n",
       "      <td>Precipitation(in)</td>\n",
       "      <td>671731</td>\n",
       "      <td>0.671731</td>\n",
       "    </tr>\n",
       "    <tr>\n",
       "      <th>11</th>\n",
       "      <td>PointOfInterest</td>\n",
       "      <td>197</td>\n",
       "      <td>0.000197</td>\n",
       "    </tr>\n",
       "    <tr>\n",
       "      <th>12</th>\n",
       "      <td>Bump</td>\n",
       "      <td>197</td>\n",
       "      <td>0.000197</td>\n",
       "    </tr>\n",
       "    <tr>\n",
       "      <th>13</th>\n",
       "      <td>Crossing</td>\n",
       "      <td>197</td>\n",
       "      <td>0.000197</td>\n",
       "    </tr>\n",
       "    <tr>\n",
       "      <th>14</th>\n",
       "      <td>Yield</td>\n",
       "      <td>197</td>\n",
       "      <td>0.000197</td>\n",
       "    </tr>\n",
       "    <tr>\n",
       "      <th>15</th>\n",
       "      <td>Junction</td>\n",
       "      <td>197</td>\n",
       "      <td>0.000197</td>\n",
       "    </tr>\n",
       "    <tr>\n",
       "      <th>16</th>\n",
       "      <td>No_Exit</td>\n",
       "      <td>197</td>\n",
       "      <td>0.000197</td>\n",
       "    </tr>\n",
       "    <tr>\n",
       "      <th>17</th>\n",
       "      <td>Railway</td>\n",
       "      <td>197</td>\n",
       "      <td>0.000197</td>\n",
       "    </tr>\n",
       "    <tr>\n",
       "      <th>18</th>\n",
       "      <td>Roundabout</td>\n",
       "      <td>197</td>\n",
       "      <td>0.000197</td>\n",
       "    </tr>\n",
       "    <tr>\n",
       "      <th>19</th>\n",
       "      <td>Station</td>\n",
       "      <td>197</td>\n",
       "      <td>0.000197</td>\n",
       "    </tr>\n",
       "    <tr>\n",
       "      <th>20</th>\n",
       "      <td>Stop</td>\n",
       "      <td>197</td>\n",
       "      <td>0.000197</td>\n",
       "    </tr>\n",
       "    <tr>\n",
       "      <th>21</th>\n",
       "      <td>Traffic_Calming</td>\n",
       "      <td>197</td>\n",
       "      <td>0.000197</td>\n",
       "    </tr>\n",
       "    <tr>\n",
       "      <th>22</th>\n",
       "      <td>Traffic_Signal</td>\n",
       "      <td>197</td>\n",
       "      <td>0.000197</td>\n",
       "    </tr>\n",
       "    <tr>\n",
       "      <th>23</th>\n",
       "      <td>Turning_Loop</td>\n",
       "      <td>197</td>\n",
       "      <td>0.000197</td>\n",
       "    </tr>\n",
       "    <tr>\n",
       "      <th>25</th>\n",
       "      <td>State</td>\n",
       "      <td>197</td>\n",
       "      <td>0.000197</td>\n",
       "    </tr>\n",
       "    <tr>\n",
       "      <th>26</th>\n",
       "      <td>SM_Interim</td>\n",
       "      <td>197</td>\n",
       "      <td>0.000197</td>\n",
       "    </tr>\n",
       "  </tbody>\n",
       "</table>\n",
       "</div>"
      ],
      "text/plain": [
       "         columns_name  missing_count  missing_ratio\n",
       "0            Severity            197       0.000197\n",
       "1           Start_Lat            197       0.000197\n",
       "2           Start_Lng            197       0.000197\n",
       "3        Distance(mi)            197       0.000197\n",
       "4      Temperature(F)          19007       0.019007\n",
       "5       Wind_Chill(F)         622850       0.622850\n",
       "6         Humidity(%)          20065       0.020065\n",
       "7        Pressure(in)          16410       0.016410\n",
       "8      Visibility(mi)          22193       0.022193\n",
       "9     Wind_Speed(mph)         148558       0.148558\n",
       "10  Precipitation(in)         671731       0.671731\n",
       "11    PointOfInterest            197       0.000197\n",
       "12               Bump            197       0.000197\n",
       "13           Crossing            197       0.000197\n",
       "14              Yield            197       0.000197\n",
       "15           Junction            197       0.000197\n",
       "16            No_Exit            197       0.000197\n",
       "17            Railway            197       0.000197\n",
       "18         Roundabout            197       0.000197\n",
       "19            Station            197       0.000197\n",
       "20               Stop            197       0.000197\n",
       "21    Traffic_Calming            197       0.000197\n",
       "22     Traffic_Signal            197       0.000197\n",
       "23       Turning_Loop            197       0.000197\n",
       "25              State            197       0.000197\n",
       "26         SM_Interim            197       0.000197"
      ]
     },
     "execution_count": 8,
     "metadata": {},
     "output_type": "execute_result"
    }
   ],
   "source": [
    "#Let's look to see what missing data has been created by the dummy numerics\n",
    "checkMissingValues(df2)"
   ]
  },
  {
   "cell_type": "markdown",
   "metadata": {},
   "source": [
    "Go ahead and drop rows for all the items except those that are weather related. We'll impute those once we get our test/train splits built."
   ]
  },
  {
   "cell_type": "code",
   "execution_count": 9,
   "metadata": {},
   "outputs": [
    {
     "data": {
      "text/html": [
       "<div>\n",
       "<style scoped>\n",
       "    .dataframe tbody tr th:only-of-type {\n",
       "        vertical-align: middle;\n",
       "    }\n",
       "\n",
       "    .dataframe tbody tr th {\n",
       "        vertical-align: top;\n",
       "    }\n",
       "\n",
       "    .dataframe thead th {\n",
       "        text-align: right;\n",
       "    }\n",
       "</style>\n",
       "<table border=\"1\" class=\"dataframe\">\n",
       "  <thead>\n",
       "    <tr style=\"text-align: right;\">\n",
       "      <th></th>\n",
       "      <th>columns_name</th>\n",
       "      <th>missing_count</th>\n",
       "      <th>missing_ratio</th>\n",
       "    </tr>\n",
       "  </thead>\n",
       "  <tbody>\n",
       "    <tr>\n",
       "      <th>4</th>\n",
       "      <td>Temperature(F)</td>\n",
       "      <td>18810</td>\n",
       "      <td>0.018814</td>\n",
       "    </tr>\n",
       "    <tr>\n",
       "      <th>5</th>\n",
       "      <td>Wind_Chill(F)</td>\n",
       "      <td>622653</td>\n",
       "      <td>0.622776</td>\n",
       "    </tr>\n",
       "    <tr>\n",
       "      <th>6</th>\n",
       "      <td>Humidity(%)</td>\n",
       "      <td>19868</td>\n",
       "      <td>0.019872</td>\n",
       "    </tr>\n",
       "    <tr>\n",
       "      <th>7</th>\n",
       "      <td>Pressure(in)</td>\n",
       "      <td>16213</td>\n",
       "      <td>0.016216</td>\n",
       "    </tr>\n",
       "    <tr>\n",
       "      <th>8</th>\n",
       "      <td>Visibility(mi)</td>\n",
       "      <td>21996</td>\n",
       "      <td>0.022000</td>\n",
       "    </tr>\n",
       "    <tr>\n",
       "      <th>9</th>\n",
       "      <td>Wind_Speed(mph)</td>\n",
       "      <td>148361</td>\n",
       "      <td>0.148390</td>\n",
       "    </tr>\n",
       "    <tr>\n",
       "      <th>10</th>\n",
       "      <td>Precipitation(in)</td>\n",
       "      <td>671534</td>\n",
       "      <td>0.671666</td>\n",
       "    </tr>\n",
       "  </tbody>\n",
       "</table>\n",
       "</div>"
      ],
      "text/plain": [
       "         columns_name  missing_count  missing_ratio\n",
       "4      Temperature(F)          18810       0.018814\n",
       "5       Wind_Chill(F)         622653       0.622776\n",
       "6         Humidity(%)          19868       0.019872\n",
       "7        Pressure(in)          16213       0.016216\n",
       "8      Visibility(mi)          21996       0.022000\n",
       "9     Wind_Speed(mph)         148361       0.148390\n",
       "10  Precipitation(in)         671534       0.671666"
      ]
     },
     "execution_count": 9,
     "metadata": {},
     "output_type": "execute_result"
    }
   ],
   "source": [
    "cleanList = ['SM_Interim','State','Turning_Loop','Traffic_Signal','Traffic_Calming','Stop','Station',\n",
    "             'Roundabout','Railway','No_Exit','Junction','Yield','Crossing','Bump','PointOfInterest',\n",
    "             'Distance(mi)','Start_Lng','Start_Lat','Severity']\n",
    "\n",
    "df2.dropna(axis=0,how='any',subset=cleanList,inplace=True)\n",
    "checkMissingValues(df2)"
   ]
  },
  {
   "cell_type": "markdown",
   "metadata": {},
   "source": [
    "From the table above and based on the feature set we've chosen it looks like only weather realted values are missing. Knowing this we'll proceed to build out our test and training datasets using an 80/20 split. We will then determine the median values for these missing weather values in the training dataset and the push those to the test data set."
   ]
  },
  {
   "cell_type": "code",
   "execution_count": 10,
   "metadata": {},
   "outputs": [],
   "source": [
    "#Build the test/train split. Use a split of 80/20\n",
    "#Get the values for Y\n",
    "y = df2['Severity'].values\n",
    "\n",
    "#Delete off the values for Y so they don't get duplicated in the split\n",
    "del df2['Severity']\n",
    "\n",
    "#get everything else that we want to predict off of\n",
    "x = df2.values\n",
    "\n",
    "X_train,X_test,y_train,y_test = train_test_split(x,y,test_size=0.20,random_state=0)"
   ]
  },
  {
   "cell_type": "markdown",
   "metadata": {},
   "source": [
    "Now that we have our test/train splits convert the numpy arrays back to dataframes while we continue data manipulation"
   ]
  },
  {
   "cell_type": "code",
   "execution_count": 11,
   "metadata": {},
   "outputs": [],
   "source": [
    "#Convert the train/test splits back to dataframes so we can impute missing data. \n",
    "df_X_train = pd.DataFrame.from_records(X_train)\n",
    "df_X_test = pd.DataFrame.from_records(X_test)\n",
    "df_X_train.columns = df2.columns\n",
    "df_X_test.columns = df2.columns"
   ]
  },
  {
   "cell_type": "markdown",
   "metadata": {},
   "source": [
    "Let's check to make sure we're maintaining a consistent shape between our test and train dataframes. This is more of a sanity check for future items than anyting"
   ]
  },
  {
   "cell_type": "code",
   "execution_count": 12,
   "metadata": {},
   "outputs": [
    {
     "name": "stdout",
     "output_type": "stream",
     "text": [
      "(799842, 156)\n",
      "(199961, 156)\n"
     ]
    }
   ],
   "source": [
    "#Check the dataframe shapes for sanity\n",
    "print(df_X_train.shape)\n",
    "print(df_X_test.shape)"
   ]
  },
  {
   "cell_type": "markdown",
   "metadata": {},
   "source": [
    "Since we know our weather data is what's missing in both the training and test sets let's try to fix it. We'll start by finding the median for each weather value by state and month. This should provide us the most accurate value for imputing the missing value. We'll also calculate the median value by month. This is simply a precaution in the event we can't find a state/month combination. Finally we'll apply these values to the dataframes."
   ]
  },
  {
   "cell_type": "code",
   "execution_count": 13,
   "metadata": {},
   "outputs": [],
   "source": [
    "#Given that we're looking at weather based conditions take median values for each of the features. Initially start by\n",
    "#determining median by state and start month. To also cover any missing values that may not be present with this \n",
    "#combination calculate the overall median by month. \n",
    "medianTempByStateMonth = df_X_train.groupby(['State','SM_Interim'])['Temperature(F)'].median(skipna=True)\n",
    "medianPrecipByStateMonth  = df_X_train.groupby(['State','SM_Interim'])['Precipitation(in)'].median(skipna=True)\n",
    "medianPressureByStateMonth  = df_X_train.groupby(['State','SM_Interim'])['Pressure(in)'].median(skipna=True)\n",
    "medianWindChillByStateMonth  = df_X_train.groupby(['State','SM_Interim'])['Wind_Chill(F)'].median(skipna=True)\n",
    "medianVisByStateMonth  = df_X_train.groupby(['State','SM_Interim'])['Visibility(mi)'].median(skipna=True)\n",
    "medianWindSpeedByStateMonth  = df_X_train.groupby(['State','SM_Interim'])['Wind_Speed(mph)'].median(skipna=True)\n",
    "medianHumidityByStateMonth  = df_X_train.groupby(['State','SM_Interim'])['Humidity(%)'].median(skipna=True)\n",
    "\n",
    "medianTempByMonth = df_X_train.groupby(['SM_Interim'])['Temperature(F)'].median(skipna=True)\n",
    "medianPrecipByMonth  = df_X_train.groupby(['SM_Interim'])['Precipitation(in)'].median(skipna=True)\n",
    "medianPressureByMonth  = df_X_train.groupby(['SM_Interim'])['Pressure(in)'].median(skipna=True)\n",
    "medianWindChillByMonth  = df_X_train.groupby(['SM_Interim'])['Wind_Chill(F)'].median(skipna=True)\n",
    "medianVisByMonth  = df_X_train.groupby(['SM_Interim'])['Visibility(mi)'].median(skipna=True)\n",
    "medianWindSpeedByMonth  = df_X_train.groupby(['SM_Interim'])['Wind_Speed(mph)'].median(skipna=True)\n",
    "medianHumidityByMonth  = df_X_train.groupby(['SM_Interim'])['Humidity(%)'].median(skipna=True)"
   ]
  },
  {
   "cell_type": "code",
   "execution_count": 14,
   "metadata": {},
   "outputs": [
    {
     "data": {
      "application/vnd.jupyter.widget-view+json": {
       "model_id": "cf0eedce5f944a6a95df6b344823203c",
       "version_major": 2,
       "version_minor": 0
      },
      "text/plain": [
       "HBox(children=(IntProgress(value=0, description='Pandas Apply', max=799842, style=ProgressStyle(description_wi…"
      ]
     },
     "metadata": {},
     "output_type": "display_data"
    },
    {
     "name": "stdout",
     "output_type": "stream",
     "text": [
      "\n"
     ]
    },
    {
     "data": {
      "application/vnd.jupyter.widget-view+json": {
       "model_id": "740b93f0b86f4cb48a175241c2b1fd21",
       "version_major": 2,
       "version_minor": 0
      },
      "text/plain": [
       "HBox(children=(IntProgress(value=0, description='Pandas Apply', max=799842, style=ProgressStyle(description_wi…"
      ]
     },
     "metadata": {},
     "output_type": "display_data"
    },
    {
     "name": "stdout",
     "output_type": "stream",
     "text": [
      "\n"
     ]
    },
    {
     "data": {
      "application/vnd.jupyter.widget-view+json": {
       "model_id": "4b42f853434f410ea4a08e447ae1a818",
       "version_major": 2,
       "version_minor": 0
      },
      "text/plain": [
       "HBox(children=(IntProgress(value=0, description='Pandas Apply', max=799842, style=ProgressStyle(description_wi…"
      ]
     },
     "metadata": {},
     "output_type": "display_data"
    },
    {
     "name": "stdout",
     "output_type": "stream",
     "text": [
      "\n"
     ]
    },
    {
     "data": {
      "application/vnd.jupyter.widget-view+json": {
       "model_id": "859dc31db5fb4d9e939330cf48502b71",
       "version_major": 2,
       "version_minor": 0
      },
      "text/plain": [
       "HBox(children=(IntProgress(value=0, description='Pandas Apply', max=799842, style=ProgressStyle(description_wi…"
      ]
     },
     "metadata": {},
     "output_type": "display_data"
    },
    {
     "name": "stdout",
     "output_type": "stream",
     "text": [
      "\n"
     ]
    },
    {
     "data": {
      "application/vnd.jupyter.widget-view+json": {
       "model_id": "5ce3139ce16a4f19bcaacf69e3976f21",
       "version_major": 2,
       "version_minor": 0
      },
      "text/plain": [
       "HBox(children=(IntProgress(value=0, description='Pandas Apply', max=799842, style=ProgressStyle(description_wi…"
      ]
     },
     "metadata": {},
     "output_type": "display_data"
    },
    {
     "name": "stdout",
     "output_type": "stream",
     "text": [
      "\n"
     ]
    },
    {
     "data": {
      "application/vnd.jupyter.widget-view+json": {
       "model_id": "b94426ff0a1a40c39671cdaf4339fd2b",
       "version_major": 2,
       "version_minor": 0
      },
      "text/plain": [
       "HBox(children=(IntProgress(value=0, description='Pandas Apply', max=799842, style=ProgressStyle(description_wi…"
      ]
     },
     "metadata": {},
     "output_type": "display_data"
    },
    {
     "name": "stdout",
     "output_type": "stream",
     "text": [
      "\n"
     ]
    },
    {
     "data": {
      "application/vnd.jupyter.widget-view+json": {
       "model_id": "7954969aef7245b39b8a181b28fbbef4",
       "version_major": 2,
       "version_minor": 0
      },
      "text/plain": [
       "HBox(children=(IntProgress(value=0, description='Pandas Apply', max=799842, style=ProgressStyle(description_wi…"
      ]
     },
     "metadata": {},
     "output_type": "display_data"
    },
    {
     "name": "stdout",
     "output_type": "stream",
     "text": [
      "\n"
     ]
    }
   ],
   "source": [
    "df_X_train.loc[pd.isnull(df_X_train['Temperature(F)']),'Temperature(F)'] = df_X_train.swifter.apply(getMedianTemp, axis=1)\n",
    "df_X_train.loc[pd.isnull(df_X_train['Precipitation(in)']),'Precipitation(in)'] = df_X_train.swifter.apply(getMedianPrecip,axis=1)\n",
    "df_X_train.loc[pd.isnull(df_X_train['Pressure(in)']),'Pressure(in)'] = df_X_train.swifter.apply(getMedianPressure,axis=1)\n",
    "df_X_train.loc[pd.isnull(df_X_train['Wind_Chill(F)']),'Wind_Chill(F)'] = df_X_train.swifter.apply(getMedianWindChill,axis=1)\n",
    "df_X_train.loc[pd.isnull(df_X_train['Visibility(mi)']),'Visibility(mi)'] = df_X_train.swifter.apply(getMedianVis,axis=1)\n",
    "df_X_train.loc[pd.isnull(df_X_train['Wind_Speed(mph)']),'Wind_Speed(mph)'] = df_X_train.swifter.apply(getMedianWindSpeed,axis=1)\n",
    "df_X_train.loc[pd.isnull(df_X_train['Humidity(%)']),'Humidity(%)'] = df_X_train.swifter.apply(getMedianHumidity,axis=1)\n",
    "    \n",
    "#if anything else remains we'll zero it out\n",
    "df_X_train['Precipitation(in)'].fillna(0,inplace=True)\n",
    "df_X_train['Wind_Chill(F)'].fillna(0,inplace=True)\n",
    "df_X_train['Wind_Speed(mph)'].fillna(0,inplace=True)\n",
    "df_X_train['Temperature(F)'].fillna(0,inplace=True)\n",
    "df_X_train['Precipitation(in)'].fillna(0,inplace=True)\n",
    "df_X_train['Visibility(mi)'].fillna(0,inplace=True)\n",
    "df_X_train['Humidity(%)'].fillna(0,inplace=True)"
   ]
  },
  {
   "cell_type": "code",
   "execution_count": 22,
   "metadata": {},
   "outputs": [
    {
     "data": {
      "application/vnd.jupyter.widget-view+json": {
       "model_id": "ed8c7103693749b397c0995f30907b83",
       "version_major": 2,
       "version_minor": 0
      },
      "text/plain": [
       "HBox(children=(IntProgress(value=0, description='Pandas Apply', max=199961, style=ProgressStyle(description_wi…"
      ]
     },
     "metadata": {},
     "output_type": "display_data"
    },
    {
     "name": "stdout",
     "output_type": "stream",
     "text": [
      "\n"
     ]
    },
    {
     "data": {
      "application/vnd.jupyter.widget-view+json": {
       "model_id": "6709d7c0a519431891c7be56e186d5d0",
       "version_major": 2,
       "version_minor": 0
      },
      "text/plain": [
       "HBox(children=(IntProgress(value=0, description='Pandas Apply', max=199961, style=ProgressStyle(description_wi…"
      ]
     },
     "metadata": {},
     "output_type": "display_data"
    },
    {
     "name": "stdout",
     "output_type": "stream",
     "text": [
      "\n"
     ]
    },
    {
     "data": {
      "application/vnd.jupyter.widget-view+json": {
       "model_id": "0367f7763aa74ee9bfbb8e6c09d002c2",
       "version_major": 2,
       "version_minor": 0
      },
      "text/plain": [
       "HBox(children=(IntProgress(value=0, description='Pandas Apply', max=199961, style=ProgressStyle(description_wi…"
      ]
     },
     "metadata": {},
     "output_type": "display_data"
    },
    {
     "name": "stdout",
     "output_type": "stream",
     "text": [
      "\n"
     ]
    },
    {
     "data": {
      "application/vnd.jupyter.widget-view+json": {
       "model_id": "960d35edfed748989ed7089357d36df4",
       "version_major": 2,
       "version_minor": 0
      },
      "text/plain": [
       "HBox(children=(IntProgress(value=0, description='Pandas Apply', max=199961, style=ProgressStyle(description_wi…"
      ]
     },
     "metadata": {},
     "output_type": "display_data"
    },
    {
     "name": "stdout",
     "output_type": "stream",
     "text": [
      "\n"
     ]
    },
    {
     "data": {
      "application/vnd.jupyter.widget-view+json": {
       "model_id": "7e0ba4e49703485caae7d1a401a542db",
       "version_major": 2,
       "version_minor": 0
      },
      "text/plain": [
       "HBox(children=(IntProgress(value=0, description='Pandas Apply', max=199961, style=ProgressStyle(description_wi…"
      ]
     },
     "metadata": {},
     "output_type": "display_data"
    },
    {
     "name": "stdout",
     "output_type": "stream",
     "text": [
      "\n"
     ]
    },
    {
     "data": {
      "application/vnd.jupyter.widget-view+json": {
       "model_id": "629d5fb63f1f4384b5100e2541133cc7",
       "version_major": 2,
       "version_minor": 0
      },
      "text/plain": [
       "HBox(children=(IntProgress(value=0, description='Pandas Apply', max=199961, style=ProgressStyle(description_wi…"
      ]
     },
     "metadata": {},
     "output_type": "display_data"
    },
    {
     "name": "stdout",
     "output_type": "stream",
     "text": [
      "\n"
     ]
    },
    {
     "data": {
      "application/vnd.jupyter.widget-view+json": {
       "model_id": "bf513d82cf2741f0a0bcf36e6e45a424",
       "version_major": 2,
       "version_minor": 0
      },
      "text/plain": [
       "HBox(children=(IntProgress(value=0, description='Pandas Apply', max=199961, style=ProgressStyle(description_wi…"
      ]
     },
     "metadata": {},
     "output_type": "display_data"
    },
    {
     "name": "stdout",
     "output_type": "stream",
     "text": [
      "\n"
     ]
    }
   ],
   "source": [
    "df_X_test.loc[pd.isnull(df_X_test['Temperature(F)']),'Temperature(F)'] = df_X_test.swifter.apply(getMedianTemp, axis=1)\n",
    "df_X_test.loc[pd.isnull(df_X_test['Precipitation(in)']),'Precipitation(in)'] = df_X_test.swifter.apply(getMedianPrecip,axis=1)\n",
    "df_X_test.loc[pd.isnull(df_X_test['Pressure(in)']),'Pressure(in)'] = df_X_test.swifter.apply(getMedianPressure,axis=1)\n",
    "df_X_test.loc[pd.isnull(df_X_test['Wind_Chill(F)']),'Wind_Chill(F)'] = df_X_test.swifter.apply(getMedianWindChill,axis=1)\n",
    "df_X_test.loc[pd.isnull(df_X_test['Visibility(mi)']),'Visibility(mi)'] = df_X_test.swifter.apply(getMedianVis,axis=1)\n",
    "df_X_test.loc[pd.isnull(df_X_test['Wind_Speed(mph)']),'Wind_Speed(mph)'] = df_X_test.swifter.apply(getMedianWindSpeed,axis=1)\n",
    "df_X_test.loc[pd.isnull(df_X_test['Humidity(%)']),'Humidity(%)'] = df_X_test.swifter.apply(getMedianHumidity,axis=1)\n",
    "    \n",
    "#if anything else remains we'll zero it out\n",
    "df_X_test['Precipitation(in)'].fillna(0,inplace=True)\n",
    "df_X_test['Wind_Chill(F)'].fillna(0,inplace=True)\n",
    "df_X_test['Wind_Speed(mph)'].fillna(0,inplace=True)\n",
    "df_X_test['Temperature(F)'].fillna(0,inplace=True)\n",
    "df_X_test['Precipitation(in)'].fillna(0,inplace=True)\n",
    "df_X_test['Visibility(mi)'].fillna(0,inplace=True)\n",
    "df_X_test['Humidity(%)'].fillna(0,inplace=True)"
   ]
  },
  {
   "cell_type": "markdown",
   "metadata": {},
   "source": [
    "Let's verify that we've imputed all the missing values and now have a clean data set."
   ]
  },
  {
   "cell_type": "code",
   "execution_count": 23,
   "metadata": {},
   "outputs": [
    {
     "data": {
      "text/html": [
       "<div>\n",
       "<style scoped>\n",
       "    .dataframe tbody tr th:only-of-type {\n",
       "        vertical-align: middle;\n",
       "    }\n",
       "\n",
       "    .dataframe tbody tr th {\n",
       "        vertical-align: top;\n",
       "    }\n",
       "\n",
       "    .dataframe thead th {\n",
       "        text-align: right;\n",
       "    }\n",
       "</style>\n",
       "<table border=\"1\" class=\"dataframe\">\n",
       "  <thead>\n",
       "    <tr style=\"text-align: right;\">\n",
       "      <th></th>\n",
       "      <th>columns_name</th>\n",
       "      <th>missing_count</th>\n",
       "      <th>missing_ratio</th>\n",
       "    </tr>\n",
       "  </thead>\n",
       "  <tbody>\n",
       "  </tbody>\n",
       "</table>\n",
       "</div>"
      ],
      "text/plain": [
       "Empty DataFrame\n",
       "Columns: [columns_name, missing_count, missing_ratio]\n",
       "Index: []"
      ]
     },
     "execution_count": 23,
     "metadata": {},
     "output_type": "execute_result"
    }
   ],
   "source": [
    "#Let's make sure we have everthing accounted for\n",
    "checkMissingValues(df_X_test)"
   ]
  },
  {
   "cell_type": "code",
   "execution_count": 24,
   "metadata": {},
   "outputs": [
    {
     "data": {
      "text/html": [
       "<div>\n",
       "<style scoped>\n",
       "    .dataframe tbody tr th:only-of-type {\n",
       "        vertical-align: middle;\n",
       "    }\n",
       "\n",
       "    .dataframe tbody tr th {\n",
       "        vertical-align: top;\n",
       "    }\n",
       "\n",
       "    .dataframe thead th {\n",
       "        text-align: right;\n",
       "    }\n",
       "</style>\n",
       "<table border=\"1\" class=\"dataframe\">\n",
       "  <thead>\n",
       "    <tr style=\"text-align: right;\">\n",
       "      <th></th>\n",
       "      <th>columns_name</th>\n",
       "      <th>missing_count</th>\n",
       "      <th>missing_ratio</th>\n",
       "    </tr>\n",
       "  </thead>\n",
       "  <tbody>\n",
       "  </tbody>\n",
       "</table>\n",
       "</div>"
      ],
      "text/plain": [
       "Empty DataFrame\n",
       "Columns: [columns_name, missing_count, missing_ratio]\n",
       "Index: []"
      ]
     },
     "execution_count": 24,
     "metadata": {},
     "output_type": "execute_result"
    }
   ],
   "source": [
    "#Let's make sure we have everthing accounted for\n",
    "checkMissingValues(df_X_train)"
   ]
  },
  {
   "cell_type": "markdown",
   "metadata": {},
   "source": [
    "Now that we've confirmed out data is clean. We have one final clean up item to address. We need to remove th SM_Interim column from both dataframes as is duplicative."
   ]
  },
  {
   "cell_type": "code",
   "execution_count": 25,
   "metadata": {},
   "outputs": [],
   "source": [
    "#drop the interim columns for Start Month  and State that was used for imputing\n",
    "df_X_test.drop(['SM_Interim'],axis=1,inplace=True)\n",
    "df_X_train.drop(['SM_Interim'],axis=1,inplace=True)\n",
    "\n",
    "df_X_test.drop(['State'],axis=1,inplace=True)\n",
    "df_X_train.drop(['State'],axis=1,inplace=True)"
   ]
  },
  {
   "cell_type": "markdown",
   "metadata": {},
   "source": [
    "Check to make sure our dataframes are shaped the same."
   ]
  },
  {
   "cell_type": "code",
   "execution_count": 26,
   "metadata": {},
   "outputs": [
    {
     "name": "stdout",
     "output_type": "stream",
     "text": [
      "(799842, 154)\n",
      "(199961, 154)\n"
     ]
    }
   ],
   "source": [
    "#Check the dataframe shapes for sanity\n",
    "print(df_X_train.shape)\n",
    "print(df_X_test.shape)"
   ]
  },
  {
   "cell_type": "code",
   "execution_count": 27,
   "metadata": {},
   "outputs": [],
   "source": [
    "#convert our test/train dataframes to numpy arrays\n",
    "X_train = df_X_train.to_numpy()\n",
    "X_test = df_X_test.to_numpy()"
   ]
  },
  {
   "cell_type": "markdown",
   "metadata": {},
   "source": [
    "Execute out logistic regression analysis on the data."
   ]
  },
  {
   "cell_type": "code",
   "execution_count": 28,
   "metadata": {},
   "outputs": [
    {
     "name": "stderr",
     "output_type": "stream",
     "text": [
      "/home/jbcroom/anaconda3/lib/python3.7/site-packages/sklearn/linear_model/logistic.py:432: FutureWarning: Default solver will be changed to 'lbfgs' in 0.22. Specify a solver to silence this warning.\n",
      "  FutureWarning)\n",
      "/home/jbcroom/anaconda3/lib/python3.7/site-packages/sklearn/linear_model/logistic.py:469: FutureWarning: Default multi_class will be changed to 'auto' in 0.22. Specify the multi_class option to silence this warning.\n",
      "  \"this warning.\", FutureWarning)\n"
     ]
    }
   ],
   "source": [
    "# logistic regression\n",
    "logistic_regression= LogisticRegression(max_iter = 4000)\n",
    "logistic_regression.fit(X_train,y_train)\n",
    "y_pred=logistic_regression.predict(X_test)"
   ]
  },
  {
   "cell_type": "code",
   "execution_count": 29,
   "metadata": {},
   "outputs": [
    {
     "name": "stdout",
     "output_type": "stream",
     "text": [
      "Accuracy:  0.69330519451293\n"
     ]
    }
   ],
   "source": [
    "# Accuracy | Accuracy = (TP+TN)/Total\n",
    "print('Accuracy: ',mt.accuracy_score(y_test, y_pred))"
   ]
  },
  {
   "cell_type": "markdown",
   "metadata": {},
   "source": [
    "Based on the accurracy calculation we're at 69% accuracy with this model. Ideally we would like to model accuracy to be higher. The confusion matrix below also confirms that we're OK at predicting but not great."
   ]
  },
  {
   "cell_type": "code",
   "execution_count": 31,
   "metadata": {},
   "outputs": [
    {
     "name": "stdout",
     "output_type": "stream",
     "text": [
      "Confusion Matrix: \n",
      "[[     0     50      5      0]\n",
      " [     0 123602  10354    154]\n",
      " [     0  44831  14845    111]\n",
      " [     0   4855    967    187]]\n"
     ]
    }
   ],
   "source": [
    "conf = mt.confusion_matrix(y_test,y_pred)\n",
    "print('Confusion Matrix: ')\n",
    "print(conf)"
   ]
  },
  {
   "cell_type": "code",
   "execution_count": 32,
   "metadata": {},
   "outputs": [
    {
     "data": {
      "image/png": "[encoded data removed]",
      "text/plain": [
       "<Figure size 576x576 with 2 Axes>"
      ]
     },
     "metadata": {
      "needs_background": "light"
     },
     "output_type": "display_data"
    }
   ],
   "source": [
    "# Confusion matrix\n",
    "\n",
    "fig, ax = plt.subplots(figsize=(8, 8))\n",
    "\n",
    "confusion_matrix = pd.crosstab(y_test, y_pred, rownames=['Actual'], colnames=['Predicted'])\n",
    "\n",
    "\n",
    "annot_kws = {\"ha\": 'center',\"va\": 'top'}\n",
    "ax = sns.heatmap(confusion_matrix, annot=True, annot_kws=annot_kws, cmap ='RdBu_r', center=0)"
   ]
  },
  {
   "cell_type": "code",
   "execution_count": 33,
   "metadata": {},
   "outputs": [
    {
     "name": "stdout",
     "output_type": "stream",
     "text": [
      "Start_Lat has weight of -0.0033575343065668055\n",
      "Start_Lng has weight of -0.0028262279665836163\n",
      "Distance(mi) has weight of -1.6312223824657497\n",
      "Temperature(F) has weight of 0.008060798237584403\n",
      "Wind_Chill(F) has weight of -0.003976287290863199\n",
      "Humidity(%) has weight of 0.0002844235967002938\n",
      "Pressure(in) has weight of -0.15994613964637014\n",
      "Visibility(mi) has weight of -0.017427963296672004\n",
      "Wind_Speed(mph) has weight of -0.007288532325654409\n",
      "Precipitation(in) has weight of -0.4484154641441944\n",
      "PointOfInterest has weight of -0.08043599070956922\n",
      "Bump has weight of -0.06321160828284858\n",
      "Crossing has weight of 0.33803879307959894\n",
      "Yield has weight of 0.201426104727235\n",
      "Junction has weight of -1.3424764760525885\n",
      "No_Exit has weight of -0.28642279898052697\n",
      "Railway has weight of -0.039508040371981024\n",
      "Roundabout has weight of -0.014168120706424371\n",
      "Station has weight of 0.09977971776101238\n",
      "Stop has weight of 0.19777268453404526\n",
      "Traffic_Calming has weight of -0.13230813143485287\n",
      "Traffic_Signal has weight of -0.6568169459729666\n",
      "Turning_Loop has weight of 0.0\n",
      "Time_Duration(min) has weight of -0.009140465827889532\n",
      "State has weight of -0.10678322540807171\n",
      "SM_Interim has weight of -1.115595340161835\n",
      "Side_L has weight of -0.597019494832656\n",
      "Side_R has weight of -0.6180072634784136\n",
      "Sunrise_Sunset_Day has weight of -0.020928300967532745\n",
      "Sunrise_Sunset_Night has weight of 0.023299698515391924\n",
      "Start_Weekday_Fri has weight of -0.35811460593141164\n",
      "Start_Weekday_Mon has weight of -0.23819858181317996\n",
      "Start_Weekday_Sat has weight of -0.24535343833851328\n",
      "Start_Weekday_Sun has weight of -0.0722922799306891\n",
      "Start_Weekday_Thu has weight of -0.3107910571059329\n",
      "Start_Weekday_Tue has weight of -0.06454702881413944\n",
      "Start_Weekday_Wed has weight of 0.1454164391753358\n",
      "Start_Month_Apr has weight of -0.16336737322053577\n",
      "Start_Month_Aug has weight of -0.13157846206266247\n",
      "Start_Month_Dec has weight of -0.650700307603966\n",
      "Start_Month_Feb has weight of 0.018148535138363512\n",
      "Start_Month_Jan has weight of -0.07026439713116919\n",
      "Start_Month_Jul has weight of 0.02850083490326143\n",
      "Start_Month_Jun has weight of -0.009933701068703903\n",
      "Start_Month_Mar has weight of 0.015424766185339271\n",
      "Start_Month_May has weight of -0.2749068688885219\n",
      "Start_Month_Nov has weight of -0.06457100218465428\n",
      "Start_Month_Oct has weight of -0.0019432257096792594\n",
      "Start_Month_Sep has weight of -0.004120880964520859\n",
      "Weather_Condition_Blowing Dust has weight of -6.558914966415986e-05\n",
      "Weather_Condition_Blowing Dust / Windy has weight of -0.01096340941861142\n",
      "Weather_Condition_Blowing Sand has weight of -0.00023068778774396656\n",
      "Weather_Condition_Blowing Snow has weight of 0.4077741979631831\n",
      "Weather_Condition_Blowing Snow / Windy has weight of -0.4576632774260604\n",
      "Weather_Condition_Clear has weight of -0.11742184443808978\n",
      "Weather_Condition_Cloudy has weight of 0.652898913606313\n",
      "Weather_Condition_Cloudy / Windy has weight of -0.007980509560671723\n",
      "Weather_Condition_Drizzle has weight of -4.695440418005387e-06\n",
      "Weather_Condition_Drizzle and Fog has weight of -0.27460868776558917\n",
      "Weather_Condition_Dust Whirls has weight of -0.2173305858983095\n",
      "Weather_Condition_Fair has weight of 0.28854839447672137\n",
      "Weather_Condition_Fair / Windy has weight of -0.004900268303307267\n",
      "Weather_Condition_Fog has weight of -0.00011071057887941809\n",
      "Weather_Condition_Fog / Windy has weight of -0.00033954391598426954\n",
      "Weather_Condition_Freezing Rain has weight of -0.02483236506110481\n",
      "Weather_Condition_Funnel Cloud has weight of -0.0052120338298729295\n",
      "Weather_Condition_Haze has weight of -0.00037014589568268227\n",
      "Weather_Condition_Haze / Windy has weight of -0.01778599506404808\n",
      "Weather_Condition_Heavy Blowing Snow has weight of -6.162645559315658e-07\n",
      "Weather_Condition_Heavy Drizzle has weight of -0.0003313112687804882\n",
      "Weather_Condition_Heavy Freezing Drizzle has weight of 0.49271111141613355\n",
      "Weather_Condition_Heavy Ice Pellets has weight of -0.008910517303882553\n",
      "Weather_Condition_Heavy Rain has weight of -0.0010315840605344007\n",
      "Weather_Condition_Heavy Rain / Windy has weight of -7.861039449346327e-05\n",
      "Weather_Condition_Heavy Rain Showers has weight of -0.0001136753481841703\n",
      "Weather_Condition_Heavy Sleet has weight of -0.06707890655477941\n",
      "Weather_Condition_Heavy Smoke has weight of -0.002342727438389081\n",
      "Weather_Condition_Heavy Snow has weight of -0.00021098682668959192\n",
      "Weather_Condition_Heavy Snow / Windy has weight of -0.08345714888690708\n",
      "Weather_Condition_Heavy Snow with Thunder has weight of -0.012771725066956573\n",
      "Weather_Condition_Heavy T-Storm has weight of -0.15149853406211722\n",
      "Weather_Condition_Heavy T-Storm / Windy has weight of -1.5240500818293723e-06\n",
      "Weather_Condition_Heavy Thunderstorms and Rain has weight of -0.0020031574997685197\n",
      "Weather_Condition_Heavy Thunderstorms and Snow has weight of -0.005201409032327876\n",
      "Weather_Condition_Heavy Thunderstorms with Small Hail has weight of 0.0\n",
      "Weather_Condition_Ice Pellets has weight of 0.9219094733909915\n",
      "Weather_Condition_Light Blowing Snow has weight of -0.0008220131595655292\n",
      "Weather_Condition_Light Drizzle has weight of -0.0002828011910368259\n",
      "Weather_Condition_Light Drizzle / Windy has weight of -0.04167962759362583\n",
      "Weather_Condition_Light Fog has weight of -0.044116247541725724\n",
      "Weather_Condition_Light Freezing Drizzle has weight of 0.7301962338335194\n",
      "Weather_Condition_Light Freezing Fog has weight of -0.0007076070082280311\n",
      "Weather_Condition_Light Freezing Rain has weight of -0.0004007953510031098\n",
      "Weather_Condition_Light Freezing Rain / Windy has weight of -0.013405176545734846\n",
      "Weather_Condition_Light Haze has weight of -0.22967086497174813\n",
      "Weather_Condition_Light Ice Pellets has weight of -0.05817365784928291\n",
      "Weather_Condition_Light Rain has weight of -0.004614745647727777\n",
      "Weather_Condition_Light Rain / Windy has weight of -0.012457854791966708\n",
      "Weather_Condition_Light Rain Shower has weight of -0.12628646642157648\n",
      "Weather_Condition_Light Rain Showers has weight of -0.15147170222817938\n",
      "Weather_Condition_Light Rain with Thunder has weight of -0.030803693293848352\n",
      "Weather_Condition_Light Snow has weight of -0.00022545788271902443\n",
      "Weather_Condition_Light Snow / Windy has weight of -0.0007164855534835638\n",
      "Weather_Condition_Light Snow Grains has weight of -0.0004235542552509968\n",
      "Weather_Condition_Light Snow Showers has weight of -5.492308524638629e-05\n",
      "Weather_Condition_Light Snow and Sleet has weight of -0.0007818528024762483\n",
      "Weather_Condition_Light Snow and Sleet / Windy has weight of 0.0\n",
      "Weather_Condition_Light Snow with Thunder has weight of 0.9902648506649434\n",
      "Weather_Condition_Light Thunderstorm has weight of -0.00044983568631732534\n",
      "Weather_Condition_Light Thunderstorms and Rain has weight of -0.0005202729776745066\n",
      "Weather_Condition_Light Thunderstorms and Snow has weight of -0.17193490129053662\n",
      "Weather_Condition_Low Drifting Snow has weight of 0.2809495841794541\n",
      "Weather_Condition_Mist has weight of -0.12420741512298175\n",
      "Weather_Condition_Mostly Cloudy has weight of -0.010640819145203007\n",
      "Weather_Condition_Mostly Cloudy / Windy has weight of -0.008021413561252647\n",
      "Weather_Condition_N/A Precipitation has weight of -0.003052252363142143\n",
      "Weather_Condition_Overcast has weight of -0.00041096501419720196\n",
      "Weather_Condition_Partial Fog has weight of 0.24711591502521751\n",
      "Weather_Condition_Partial Fog / Windy has weight of -0.0850798634352523\n",
      "Weather_Condition_Partly Cloudy has weight of -0.160851326734805\n",
      "Weather_Condition_Partly Cloudy / Windy has weight of -0.11930630815636557\n",
      "Weather_Condition_Patches of Fog has weight of -0.012860992245971316\n",
      "Weather_Condition_Rain has weight of -0.00021548760889939384\n",
      "Weather_Condition_Rain / Windy has weight of -0.00965515275028444\n",
      "Weather_Condition_Rain Shower has weight of -0.00169536652987746\n",
      "Weather_Condition_Rain Showers has weight of -0.004785309423795103\n",
      "Weather_Condition_Sand has weight of -0.0003144708858858027\n",
      "Weather_Condition_Sand / Dust Whirlwinds has weight of 0.044069791046240175\n",
      "Weather_Condition_Sand / Dust Whirlwinds / Windy has weight of -0.08085649562156248\n",
      "Weather_Condition_Scattered Clouds has weight of -0.018967686340376325\n",
      "Weather_Condition_Shallow Fog has weight of -0.0001921383997516253\n",
      "Weather_Condition_Showers in the Vicinity has weight of -0.0029044080058593614\n",
      "Weather_Condition_Sleet has weight of 0.482368752586736\n",
      "Weather_Condition_Small Hail has weight of -0.00029613829304798046\n",
      "Weather_Condition_Smoke has weight of -0.22590015829830448\n",
      "Weather_Condition_Smoke / Windy has weight of -0.0027828789145581388\n",
      "Weather_Condition_Snow has weight of -2.5878162811776814e-06\n",
      "Weather_Condition_Snow / Windy has weight of -3.6631491418379814e-05\n",
      "Weather_Condition_Snow Grains has weight of -0.0003509553484469602\n",
      "Weather_Condition_Snow and Sleet has weight of -0.0013467164215837338\n",
      "Weather_Condition_Snow and Sleet / Windy has weight of -0.0013141586626775749\n",
      "Weather_Condition_Squalls has weight of -0.14051621576167217\n",
      "Weather_Condition_Squalls / Windy has weight of -0.008485243715336615\n",
      "Weather_Condition_T-Storm has weight of -0.11903389524067476\n",
      "Weather_Condition_T-Storm / Windy has weight of -0.004134552501678623\n",
      "Weather_Condition_Thunder has weight of -0.16208542034819595\n",
      "Weather_Condition_Thunder / Windy has weight of -0.2863951497386279\n",
      "Weather_Condition_Thunder in the Vicinity has weight of -0.14542785610694423\n",
      "Weather_Condition_Thunderstorm has weight of -0.0002135737310473477\n",
      "Weather_Condition_Thunderstorms and Rain has weight of -0.0019234346355387858\n",
      "Weather_Condition_Thunderstorms and Snow has weight of -0.0021698718029465806\n",
      "Weather_Condition_Tornado has weight of -0.010375674314151971\n",
      "Weather_Condition_Volcanic Ash has weight of -0.04862745561131155\n",
      "Weather_Condition_Widespread Dust has weight of -0.001900067921749612\n"
     ]
    }
   ],
   "source": [
    "#Coefficients\n",
    "weights = logistic_regression.coef_.T # take transpose to make a column vector\n",
    "variable_names = df2.columns\n",
    "for coef, name in zip(weights,variable_names):\n",
    "    print(name, 'has weight of', coef[0])"
   ]
  },
  {
   "cell_type": "markdown",
   "metadata": {},
   "source": [
    "The table above lists the non-normalized coefficients for the model. We'll normalize them next to make it more interpretable"
   ]
  },
  {
   "cell_type": "code",
   "execution_count": 34,
   "metadata": {},
   "outputs": [
    {
     "name": "stderr",
     "output_type": "stream",
     "text": [
      "/home/jbcroom/anaconda3/lib/python3.7/site-packages/sklearn/linear_model/logistic.py:469: FutureWarning: Default multi_class will be changed to 'auto' in 0.22. Specify the multi_class option to silence this warning.\n",
      "  \"this warning.\", FutureWarning)\n"
     ]
    }
   ],
   "source": [
    "#NOTE: Code below adapted from the course lectures\n",
    "# we want to normalize the features based upon the mean and standard deviation of each column. \n",
    "\n",
    "# scale attributes by the training set\n",
    "scl_obj = StandardScaler()\n",
    "scl_obj.fit(X_train) # find scalings for each column that make this zero mean and unit std\n",
    "\n",
    "X_train_scaled = scl_obj.transform(X_train) # apply to training\n",
    "X_test_scaled = scl_obj.transform(X_test) # apply those means and std to the test set \n",
    "\n",
    "# train the model just as before\n",
    "lr_clf = LogisticRegression(penalty='l2', C=0.05, solver='liblinear') \n",
    "lr_clf.fit(X_train_scaled,y_train)  # train object\n",
    "\n",
    "y_hat = lr_clf.predict(X_test_scaled) # get test set predictions"
   ]
  },
  {
   "cell_type": "markdown",
   "metadata": {},
   "source": [
    "The accuracy of the scaled model has not changed."
   ]
  },
  {
   "cell_type": "code",
   "execution_count": 35,
   "metadata": {},
   "outputs": [
    {
     "name": "stdout",
     "output_type": "stream",
     "text": [
      "Accuracy: 0.6936852686273823\n"
     ]
    }
   ],
   "source": [
    "acc = mt.accuracy_score(y_test,y_hat)\n",
    "print('Accuracy:', acc )"
   ]
  },
  {
   "cell_type": "code",
   "execution_count": 36,
   "metadata": {},
   "outputs": [
    {
     "name": "stdout",
     "output_type": "stream",
     "text": [
      "Confusion Matrix:\n",
      "[[     0     50      5      0]\n",
      " [     0 123600  10355    155]\n",
      " [     0  44754  14924    109]\n",
      " [     0   4862    961    186]]\n"
     ]
    }
   ],
   "source": [
    "conf = mt.confusion_matrix(y_test,y_hat)\n",
    "print('Confusion Matrix:')\n",
    "print(conf)"
   ]
  },
  {
   "cell_type": "markdown",
   "metadata": {},
   "source": [
    "The table below lists the normalized coefficients for the model. We'll interpret these coefficients in the interpretation section below."
   ]
  },
  {
   "cell_type": "code",
   "execution_count": 50,
   "metadata": {},
   "outputs": [
    {
     "name": "stdout",
     "output_type": "stream",
     "text": [
      "Start_Lat has weight of 0.025818672149562683\n",
      "Start_Lng has weight of -0.05743535138080002\n",
      "Distance(mi) has weight of -0.18256789037513138\n",
      "Temperature(F) has weight of 0.11387836814172972\n",
      "Wind_Chill(F) has weight of -0.00375812503639448\n",
      "Humidity(%) has weight of 0.015314450729849079\n",
      "Pressure(in) has weight of 0.06342468184367805\n",
      "Visibility(mi) has weight of 0.004461423236443088\n",
      "Wind_Speed(mph) has weight of -0.002618953025791767\n",
      "Precipitation(in) has weight of -0.05914064462039909\n",
      "PointOfInterest has weight of -0.008975652449912195\n",
      "Bump has weight of -0.003547159642782183\n",
      "Crossing has weight of 0.06021199782153623\n",
      "Yield has weight of 0.014188168971751753\n",
      "Junction has weight of -0.15765713722191407\n",
      "No_Exit has weight of -0.03521433513897266\n",
      "Railway has weight of -0.004459188006996383\n",
      "Roundabout has weight of -0.007402690453678194\n",
      "Station has weight of 0.009771482587197322\n",
      "Stop has weight of 0.024379482282088142\n",
      "Traffic_Calming has weight of -0.02144409857230218\n",
      "Traffic_Signal has weight of -0.14498575539505626\n",
      "Turning_Loop has weight of 0.0\n",
      "Time_Duration(min) has weight of -0.36654815007435143\n",
      "Side_L has weight of 0.1368132011297685\n",
      "Side_R has weight of -0.1368132011297685\n",
      "Sunrise_Sunset_Day has weight of 0.0031269075290222457\n",
      "Sunrise_Sunset_Night has weight of -0.0026694263063489205\n",
      "Start_Weekday_Fri has weight of 0.03126062951099838\n",
      "Start_Weekday_Mon has weight of 0.04106283001251279\n",
      "Start_Weekday_Sat has weight of -0.03313887907154961\n",
      "Start_Weekday_Sun has weight of -0.015457824660551152\n",
      "Start_Weekday_Thu has weight of -0.02242877673501941\n",
      "Start_Weekday_Tue has weight of 0.01715596538571251\n",
      "Start_Weekday_Wed has weight of -0.03752824124352103\n",
      "Start_Month_Apr has weight of 0.006871523239299601\n",
      "Start_Month_Aug has weight of 0.03433052836084946\n",
      "Start_Month_Dec has weight of -0.00096358134193522\n",
      "Start_Month_Feb has weight of 0.0026023955023161903\n",
      "Start_Month_Jan has weight of -0.07053559142843399\n",
      "Start_Month_Jul has weight of 0.006099259533655515\n",
      "Start_Month_Jun has weight of -0.001467549999710283\n",
      "Start_Month_Mar has weight of 0.02710563826147479\n",
      "Start_Month_May has weight of 0.010620171184880029\n",
      "Start_Month_Nov has weight of 0.02745562042639887\n",
      "Start_Month_Oct has weight of -0.03818993709046233\n",
      "Start_Month_Sep has weight of -0.004950258345603706\n",
      "Weather_Condition_Blowing Dust has weight of -0.00176060281050724\n",
      "Weather_Condition_Blowing Dust / Windy has weight of -0.002323069429148014\n",
      "Weather_Condition_Blowing Sand has weight of -0.0002499517889337769\n",
      "Weather_Condition_Blowing Snow has weight of -0.0029256964807377155\n",
      "Weather_Condition_Blowing Snow / Windy has weight of -0.00022573565699501283\n",
      "Weather_Condition_Clear has weight of 0.1366794274500073\n",
      "Weather_Condition_Cloudy has weight of -0.035182435925660456\n",
      "Weather_Condition_Cloudy / Windy has weight of -0.01642841911223034\n",
      "Weather_Condition_Drizzle has weight of 0.040366550917424346\n",
      "Weather_Condition_Drizzle and Fog has weight of -0.0032849515568523025\n",
      "Weather_Condition_Dust Whirls has weight of -0.00018760442120125558\n",
      "Weather_Condition_Fair has weight of -0.024642793343824087\n",
      "Weather_Condition_Fair / Windy has weight of -0.025158220461298352\n",
      "Weather_Condition_Fog has weight of 0.03772866151651784\n",
      "Weather_Condition_Fog / Windy has weight of -0.0026074219152487682\n",
      "Weather_Condition_Freezing Rain has weight of -0.00020574909692283073\n",
      "Weather_Condition_Funnel Cloud has weight of -0.0008745735925896464\n",
      "Weather_Condition_Haze has weight of 0.009167718803795149\n",
      "Weather_Condition_Haze / Windy has weight of -0.0029944524128778303\n",
      "Weather_Condition_Heavy Blowing Snow has weight of -0.0007961281968005104\n",
      "Weather_Condition_Heavy Drizzle has weight of -0.006180274214106118\n",
      "Weather_Condition_Heavy Freezing Drizzle has weight of -0.00012298276220268613\n",
      "Weather_Condition_Heavy Ice Pellets has weight of -0.0004200387414582887\n",
      "Weather_Condition_Heavy Rain has weight of 0.04443461242781059\n",
      "Weather_Condition_Heavy Rain / Windy has weight of -0.004210467266915283\n",
      "Weather_Condition_Heavy Rain Showers has weight of -0.0015391563689561326\n",
      "Weather_Condition_Heavy Sleet has weight of -0.00012343222461137868\n",
      "Weather_Condition_Heavy Smoke has weight of -0.0004526818460625471\n",
      "Weather_Condition_Heavy Snow has weight of -0.008381321190473138\n",
      "Weather_Condition_Heavy Snow / Windy has weight of -0.0013975342767814606\n",
      "Weather_Condition_Heavy Snow with Thunder has weight of -8.477896644480394e-05\n",
      "Weather_Condition_Heavy T-Storm has weight of -0.012331858735419303\n",
      "Weather_Condition_Heavy T-Storm / Windy has weight of -0.005068785739454429\n",
      "Weather_Condition_Heavy Thunderstorms and Rain has weight of -0.018102824979853126\n",
      "Weather_Condition_Heavy Thunderstorms and Snow has weight of 0.001056331034000623\n",
      "Weather_Condition_Heavy Thunderstorms with Small Hail has weight of -0.0019009532091563133\n",
      "Weather_Condition_Ice Pellets has weight of -0.002872612315680311\n",
      "Weather_Condition_Light Blowing Snow has weight of 0.0\n",
      "Weather_Condition_Light Drizzle has weight of 0.06385812468833708\n",
      "Weather_Condition_Light Drizzle / Windy has weight of -0.0012081844890356008\n",
      "Weather_Condition_Light Fog has weight of -0.0007412852741175232\n",
      "Weather_Condition_Light Freezing Drizzle has weight of -0.008528605697628063\n",
      "Weather_Condition_Light Freezing Fog has weight of -0.008945492473360288\n",
      "Weather_Condition_Light Freezing Rain has weight of 0.04839102679041431\n",
      "Weather_Condition_Light Freezing Rain / Windy has weight of -0.0009845924046511443\n",
      "Weather_Condition_Light Haze has weight of -0.0011704131725998703\n",
      "Weather_Condition_Light Ice Pellets has weight of -0.004510384155289239\n",
      "Weather_Condition_Light Rain has weight of -0.008653488651517428\n",
      "Weather_Condition_Light Rain / Windy has weight of -0.011435247477504969\n",
      "Weather_Condition_Light Rain Shower has weight of -0.002571811029852018\n",
      "Weather_Condition_Light Rain Showers has weight of -0.00572000391246496\n",
      "Weather_Condition_Light Rain with Thunder has weight of -0.017303934678828174\n",
      "Weather_Condition_Light Snow has weight of 0.01192323104154606\n",
      "Weather_Condition_Light Snow / Windy has weight of -0.0054291554028489675\n",
      "Weather_Condition_Light Snow Grains has weight of -0.0007419800540813269\n",
      "Weather_Condition_Light Snow Showers has weight of -0.0013191750085836302\n",
      "Weather_Condition_Light Snow and Sleet has weight of -0.0007484431129700795\n",
      "Weather_Condition_Light Snow and Sleet / Windy has weight of -0.0008035731930029527\n",
      "Weather_Condition_Light Snow with Thunder has weight of -0.0017873529354388354\n",
      "Weather_Condition_Light Thunderstorm has weight of 0.0\n",
      "Weather_Condition_Light Thunderstorms and Rain has weight of 0.05496788513000601\n",
      "Weather_Condition_Light Thunderstorms and Snow has weight of -0.0006635583803092016\n",
      "Weather_Condition_Low Drifting Snow has weight of -0.0010674878934389149\n",
      "Weather_Condition_Mist has weight of -0.020992472572032118\n",
      "Weather_Condition_Mostly Cloudy has weight of 0.08209363041439229\n",
      "Weather_Condition_Mostly Cloudy / Windy has weight of -0.01705009987316242\n",
      "Weather_Condition_N/A Precipitation has weight of -0.0037027762591275225\n",
      "Weather_Condition_Overcast has weight of 0.02178173965526799\n",
      "Weather_Condition_Partial Fog has weight of -0.001335690824223163\n",
      "Weather_Condition_Partial Fog / Windy has weight of -0.0002652832518122154\n",
      "Weather_Condition_Partly Cloudy has weight of 0.06576016243081144\n",
      "Weather_Condition_Partly Cloudy / Windy has weight of -0.014444712372499155\n",
      "Weather_Condition_Patches of Fog has weight of -0.021844566808356156\n",
      "Weather_Condition_Rain has weight of 0.006078199468919984\n",
      "Weather_Condition_Rain / Windy has weight of -0.005475436803818993\n",
      "Weather_Condition_Rain Shower has weight of -0.00042516073009227684\n",
      "Weather_Condition_Rain Showers has weight of -0.004877557001953036\n",
      "Weather_Condition_Sand has weight of -0.0022715830339223053\n",
      "Weather_Condition_Sand / Dust Whirlwinds has weight of -0.003717865138758627\n",
      "Weather_Condition_Sand / Dust Whirlwinds / Windy has weight of -0.0008127536935774187\n",
      "Weather_Condition_Scattered Clouds has weight of 0.018881821725767897\n",
      "Weather_Condition_Shallow Fog has weight of -0.015079377110198302\n",
      "Weather_Condition_Showers in the Vicinity has weight of -0.00439968679299121\n",
      "Weather_Condition_Sleet has weight of -0.0004631845864370017\n",
      "Weather_Condition_Small Hail has weight of -0.0025846137107813855\n",
      "Weather_Condition_Smoke has weight of 0.030901422366346545\n",
      "Weather_Condition_Smoke / Windy has weight of -0.0007860798164604696\n",
      "Weather_Condition_Snow has weight of -0.016803194275955422\n",
      "Weather_Condition_Snow / Windy has weight of -0.0009480639339881703\n",
      "Weather_Condition_Snow Grains has weight of 0.0005035870087532878\n",
      "Weather_Condition_Snow and Sleet has weight of -0.00011715526471794919\n",
      "Weather_Condition_Snow and Sleet / Windy has weight of -0.0005213920057742279\n",
      "Weather_Condition_Squalls has weight of -0.0019801593706183147\n",
      "Weather_Condition_Squalls / Windy has weight of -0.002293216738243599\n",
      "Weather_Condition_T-Storm has weight of -0.01803916328251508\n",
      "Weather_Condition_T-Storm / Windy has weight of -0.004394490578901107\n",
      "Weather_Condition_Thunder has weight of -0.018354917077222546\n",
      "Weather_Condition_Thunder / Windy has weight of -0.003312667157530846\n",
      "Weather_Condition_Thunder in the Vicinity has weight of -0.021804532861121773\n",
      "Weather_Condition_Thunderstorm has weight of -0.0313367741466479\n",
      "Weather_Condition_Thunderstorms and Rain has weight of -0.018666374378883185\n",
      "Weather_Condition_Thunderstorms and Snow has weight of -0.00023026194102745325\n",
      "Weather_Condition_Tornado has weight of -0.0023030848252123277\n",
      "Weather_Condition_Volcanic Ash has weight of -0.002580817087193287\n",
      "Weather_Condition_Widespread Dust has weight of -0.005248944466579636\n",
      "Weather_Condition_Wintry Mix has weight of -0.006662816950139598\n",
      "Weather_Condition_Wintry Mix / Windy has weight of -0.0017898057627809372\n"
     ]
    }
   ],
   "source": [
    "# output the coefficients\n",
    "weights = lr_clf.coef_.T # take transpose to make a column vector\n",
    "variable_names = df_X_train.columns\n",
    "zip_vars = zip(weights,variable_names)\n",
    "\n",
    "for coef, name in zip_vars:\n",
    "    print(name, 'has weight of', coef[0])"
   ]
  },
  {
   "cell_type": "markdown",
   "metadata": {},
   "source": [
    "Let's plot the coefficients of the variables to see which ones have the most pull and which ones we may be able to use to reduce the model."
   ]
  },
  {
   "cell_type": "code",
   "execution_count": 47,
   "metadata": {},
   "outputs": [
    {
     "data": {
      "image/png": "[encoded data removed]",
      "text/plain": [
       "<Figure size 1080x504 with 1 Axes>"
      ]
     },
     "metadata": {
      "needs_background": "light"
     },
     "output_type": "display_data"
    }
   ],
   "source": [
    "# now let's make a pandas Series with the names and values, and plot them\n",
    "from matplotlib import pyplot as plt\n",
    "%matplotlib inline\n",
    "plt.figure(figsize=(15,7))\n",
    "plt.style.use('ggplot')\n",
    "\n",
    "variable_names = df_X_train.columns\n",
    "\n",
    "weights = pd.Series(lr_clf.coef_[0],index=variable_names)\n",
    "weights.plot(kind='bar')\n",
    "plt.show()"
   ]
  },
  {
   "cell_type": "markdown",
   "metadata": {},
   "source": [
    "Looking at the graph it seems coefficients greater than 0.1 and less than -0.1 have the greatest influence. Let's determine what those are and see if just using them helps the model accuracy."
   ]
  },
  {
   "cell_type": "code",
   "execution_count": 56,
   "metadata": {},
   "outputs": [
    {
     "name": "stdout",
     "output_type": "stream",
     "text": [
      "Start_Lat has weight of 0.11479118321883569\n",
      "Start_Lng has weight of -0.3940663109033657\n",
      "Distance(mi) has weight of 0.279755627264862\n",
      "Temperature(F) has weight of 0.1051466934831793\n"
     ]
    }
   ],
   "source": [
    "# output the coefficients\n",
    "coefToKeep = []\n",
    "weights = lr_clf.coef_.T # take transpose to make a column vector\n",
    "variable_names = df_X_train.columns\n",
    "for coef, name in zip(weights,variable_names):\n",
    "    if coef[0] < -0.10 or coef[0] > 0.10:\n",
    "        print(name, 'has weight of', coef[0])\n",
    "        coefToKeep.append(name)"
   ]
  },
  {
   "cell_type": "code",
   "execution_count": 57,
   "metadata": {},
   "outputs": [],
   "source": [
    "df_X_Train2 = pd.DataFrame.from_records(X_train_scaled)\n",
    "df_X_Test2 = pd.DataFrame.from_records(X_test_scaled)\n",
    "df_X_Train2.columns = df_X_train.columns\n",
    "df_X_Test2.columns = df_X_test.columns"
   ]
  },
  {
   "cell_type": "code",
   "execution_count": 58,
   "metadata": {},
   "outputs": [],
   "source": [
    "df_X_Train2 = df_X_Train2[coefToKeep]\n",
    "df_X_Test2 = df_X_Test2[coefToKeep]\n",
    "\n",
    "#convert our test/train dataframes to numpy arrays\n",
    "X_train2 = df_X_Train2.to_numpy()\n",
    "X_test2 = df_X_Test2.to_numpy()"
   ]
  },
  {
   "cell_type": "code",
   "execution_count": 59,
   "metadata": {},
   "outputs": [
    {
     "name": "stderr",
     "output_type": "stream",
     "text": [
      "/home/jbcroom/anaconda3/lib/python3.7/site-packages/sklearn/linear_model/logistic.py:469: FutureWarning: Default multi_class will be changed to 'auto' in 0.22. Specify the multi_class option to silence this warning.\n",
      "  \"this warning.\", FutureWarning)\n"
     ]
    }
   ],
   "source": [
    "#NOTE: Code below adapted from the course lectures\n",
    "# we want to normalize the features based upon the mean and standard deviation of each column. \n",
    "# scale attributes by the training set\n",
    "scl_obj = StandardScaler()\n",
    "scl_obj.fit(X_train2) # find scalings for each column that make this zero mean and unit std\n",
    "\n",
    "X_train2_scaled = scl_obj.transform(X_train2) # apply to training\n",
    "X_test2_scaled = scl_obj.transform(X_test2) # apply those means and std to the test set \n",
    "\n",
    "# train the model just as before\n",
    "lr_clf = LogisticRegression(penalty='l2', C=0.05, solver='liblinear') \n",
    "lr_clf.fit(X_train2_scaled,y_train)  # train object\n",
    "\n",
    "y_hat = lr_clf.predict(X_test2_scaled) # get test set predictions"
   ]
  },
  {
   "cell_type": "markdown",
   "metadata": {},
   "source": [
    "The accuracy of the new model with fewer coefficients is less than the original model. "
   ]
  },
  {
   "cell_type": "code",
   "execution_count": 60,
   "metadata": {},
   "outputs": [
    {
     "name": "stdout",
     "output_type": "stream",
     "text": [
      "Accuracy: 0.6728662089107376\n"
     ]
    }
   ],
   "source": [
    "acc = mt.accuracy_score(y_test,y_hat)\n",
    "print('Accuracy:', acc )"
   ]
  },
  {
   "cell_type": "code",
   "execution_count": 61,
   "metadata": {},
   "outputs": [
    {
     "name": "stdout",
     "output_type": "stream",
     "text": [
      "Confusion Matrix:\n",
      "[[     0     55      0      0]\n",
      " [     0 133523    563     24]\n",
      " [     0  58672    994    121]\n",
      " [     0   5484    495     30]]\n"
     ]
    }
   ],
   "source": [
    "conf = mt.confusion_matrix(y_test,y_hat)\n",
    "print('Confusion Matrix:')\n",
    "print(conf)"
   ]
  },
  {
   "cell_type": "markdown",
   "metadata": {},
   "source": [
    "### State Focused Model"
   ]
  },
  {
   "cell_type": "markdown",
   "metadata": {},
   "source": [
    "Since our overall US model didn't have great accuracy lets see if we get better accuracy with a state specific model. To simplify we'll focus in on the top three states: California, Texas and Florida."
   ]
  },
  {
   "cell_type": "code",
   "execution_count": 221,
   "metadata": {},
   "outputs": [
    {
     "data": {
      "text/plain": [
       "(1184980, 55)"
      ]
     },
     "execution_count": 221,
     "metadata": {},
     "output_type": "execute_result"
    }
   ],
   "source": [
    "states = ['CA','TX','FL']\n",
    "df2 = df[df.State.isin(states)].copy()\n",
    "df2.shape"
   ]
  },
  {
   "cell_type": "code",
   "execution_count": 222,
   "metadata": {},
   "outputs": [],
   "source": [
    "#Take an initial pass at the features we want to run through logistic regression\n",
    "featuresList = ['Severity','Start_Lat','Start_Lng','Distance(mi)','Side','Temperature(F)','Wind_Chill(F)',\n",
    "                'Humidity(%)','Pressure(in)','Visibility(mi)','Wind_Speed(mph)','Precipitation(in)',\n",
    "                'PointOfInterest','Bump','Crossing','Yield','Junction','No_Exit','Railway',\n",
    "                'Roundabout','Station','Stop','Traffic_Calming','Traffic_Signal','Turning_Loop','Sunrise_Sunset',\n",
    "                'Start_Month','Start_Weekday','Start_Hour','Time_Duration(min)','State','Weather_Condition']\n",
    "\n",
    "#filter down the dataframe to just the features needed\n",
    "df2 = df2[featuresList]\n",
    "\n",
    "#duplicate the Start Month. This will help us later\n",
    "df2['SM_Interim'] = df2['Start_Month']\n",
    "df2['ST'] = df2['State']"
   ]
  },
  {
   "cell_type": "code",
   "execution_count": 223,
   "metadata": {},
   "outputs": [
    {
     "data": {
      "text/plain": [
       "Severity                                     float64\n",
       "Start_Lat                                    float64\n",
       "Start_Lng                                    float64\n",
       "Distance(mi)                                 float64\n",
       "Temperature(F)                               float64\n",
       "                                              ...   \n",
       "Weather_Condition_Widespread Dust / Windy      uint8\n",
       "Weather_Condition_Wintry Mix                   uint8\n",
       "ST_CA                                          uint8\n",
       "ST_FL                                          uint8\n",
       "ST_TX                                          uint8\n",
       "Length: 140, dtype: object"
      ]
     },
     "execution_count": 223,
     "metadata": {},
     "output_type": "execute_result"
    }
   ],
   "source": [
    "# transform categories into dummy numerics\n",
    "cols_to_transform = ['Side','Sunrise_Sunset','Start_Weekday','Start_Month','Weather_Condition','ST']\n",
    "\n",
    "df2 = pd.get_dummies(df2, columns = cols_to_transform)\n",
    "\n",
    "#check to make sure everything transformed\n",
    "df2.dtypes"
   ]
  },
  {
   "cell_type": "code",
   "execution_count": 224,
   "metadata": {},
   "outputs": [
    {
     "data": {
      "text/html": [
       "<div>\n",
       "<style scoped>\n",
       "    .dataframe tbody tr th:only-of-type {\n",
       "        vertical-align: middle;\n",
       "    }\n",
       "\n",
       "    .dataframe tbody tr th {\n",
       "        vertical-align: top;\n",
       "    }\n",
       "\n",
       "    .dataframe thead th {\n",
       "        text-align: right;\n",
       "    }\n",
       "</style>\n",
       "<table border=\"1\" class=\"dataframe\">\n",
       "  <thead>\n",
       "    <tr style=\"text-align: right;\">\n",
       "      <th></th>\n",
       "      <th>columns_name</th>\n",
       "      <th>missing_count</th>\n",
       "      <th>missing_ratio</th>\n",
       "    </tr>\n",
       "  </thead>\n",
       "  <tbody>\n",
       "    <tr>\n",
       "      <th>4</th>\n",
       "      <td>Temperature(F)</td>\n",
       "      <td>24324</td>\n",
       "      <td>0.020527</td>\n",
       "    </tr>\n",
       "    <tr>\n",
       "      <th>5</th>\n",
       "      <td>Wind_Chill(F)</td>\n",
       "      <td>866886</td>\n",
       "      <td>0.731562</td>\n",
       "    </tr>\n",
       "    <tr>\n",
       "      <th>6</th>\n",
       "      <td>Humidity(%)</td>\n",
       "      <td>26148</td>\n",
       "      <td>0.022066</td>\n",
       "    </tr>\n",
       "    <tr>\n",
       "      <th>7</th>\n",
       "      <td>Pressure(in)</td>\n",
       "      <td>18742</td>\n",
       "      <td>0.015816</td>\n",
       "    </tr>\n",
       "    <tr>\n",
       "      <th>8</th>\n",
       "      <td>Visibility(mi)</td>\n",
       "      <td>22405</td>\n",
       "      <td>0.018907</td>\n",
       "    </tr>\n",
       "    <tr>\n",
       "      <th>9</th>\n",
       "      <td>Wind_Speed(mph)</td>\n",
       "      <td>188233</td>\n",
       "      <td>0.158849</td>\n",
       "    </tr>\n",
       "    <tr>\n",
       "      <th>10</th>\n",
       "      <td>Precipitation(in)</td>\n",
       "      <td>844454</td>\n",
       "      <td>0.712631</td>\n",
       "    </tr>\n",
       "  </tbody>\n",
       "</table>\n",
       "</div>"
      ],
      "text/plain": [
       "         columns_name  missing_count  missing_ratio\n",
       "4      Temperature(F)          24324       0.020527\n",
       "5       Wind_Chill(F)         866886       0.731562\n",
       "6         Humidity(%)          26148       0.022066\n",
       "7        Pressure(in)          18742       0.015816\n",
       "8      Visibility(mi)          22405       0.018907\n",
       "9     Wind_Speed(mph)         188233       0.158849\n",
       "10  Precipitation(in)         844454       0.712631"
      ]
     },
     "execution_count": 224,
     "metadata": {},
     "output_type": "execute_result"
    }
   ],
   "source": [
    "#Let's look to see what missing data has been created by the dummy numerics\n",
    "checkMissingValues(df2)"
   ]
  },
  {
   "cell_type": "code",
   "execution_count": 225,
   "metadata": {},
   "outputs": [
    {
     "data": {
      "text/html": [
       "<div>\n",
       "<style scoped>\n",
       "    .dataframe tbody tr th:only-of-type {\n",
       "        vertical-align: middle;\n",
       "    }\n",
       "\n",
       "    .dataframe tbody tr th {\n",
       "        vertical-align: top;\n",
       "    }\n",
       "\n",
       "    .dataframe thead th {\n",
       "        text-align: right;\n",
       "    }\n",
       "</style>\n",
       "<table border=\"1\" class=\"dataframe\">\n",
       "  <thead>\n",
       "    <tr style=\"text-align: right;\">\n",
       "      <th></th>\n",
       "      <th>columns_name</th>\n",
       "      <th>missing_count</th>\n",
       "      <th>missing_ratio</th>\n",
       "    </tr>\n",
       "  </thead>\n",
       "  <tbody>\n",
       "    <tr>\n",
       "      <th>4</th>\n",
       "      <td>Temperature(F)</td>\n",
       "      <td>24324</td>\n",
       "      <td>0.020527</td>\n",
       "    </tr>\n",
       "    <tr>\n",
       "      <th>5</th>\n",
       "      <td>Wind_Chill(F)</td>\n",
       "      <td>866886</td>\n",
       "      <td>0.731562</td>\n",
       "    </tr>\n",
       "    <tr>\n",
       "      <th>6</th>\n",
       "      <td>Humidity(%)</td>\n",
       "      <td>26148</td>\n",
       "      <td>0.022066</td>\n",
       "    </tr>\n",
       "    <tr>\n",
       "      <th>7</th>\n",
       "      <td>Pressure(in)</td>\n",
       "      <td>18742</td>\n",
       "      <td>0.015816</td>\n",
       "    </tr>\n",
       "    <tr>\n",
       "      <th>8</th>\n",
       "      <td>Visibility(mi)</td>\n",
       "      <td>22405</td>\n",
       "      <td>0.018907</td>\n",
       "    </tr>\n",
       "    <tr>\n",
       "      <th>9</th>\n",
       "      <td>Wind_Speed(mph)</td>\n",
       "      <td>188233</td>\n",
       "      <td>0.158849</td>\n",
       "    </tr>\n",
       "    <tr>\n",
       "      <th>10</th>\n",
       "      <td>Precipitation(in)</td>\n",
       "      <td>844454</td>\n",
       "      <td>0.712631</td>\n",
       "    </tr>\n",
       "  </tbody>\n",
       "</table>\n",
       "</div>"
      ],
      "text/plain": [
       "         columns_name  missing_count  missing_ratio\n",
       "4      Temperature(F)          24324       0.020527\n",
       "5       Wind_Chill(F)         866886       0.731562\n",
       "6         Humidity(%)          26148       0.022066\n",
       "7        Pressure(in)          18742       0.015816\n",
       "8      Visibility(mi)          22405       0.018907\n",
       "9     Wind_Speed(mph)         188233       0.158849\n",
       "10  Precipitation(in)         844454       0.712631"
      ]
     },
     "execution_count": 225,
     "metadata": {},
     "output_type": "execute_result"
    }
   ],
   "source": [
    "cleanList = ['SM_Interim','Turning_Loop','Traffic_Signal','Traffic_Calming','Stop','Station',\n",
    "             'Roundabout','Railway','No_Exit','Junction','Yield','Crossing','Bump','PointOfInterest',\n",
    "             'Distance(mi)','Start_Lng','Start_Lat','Severity']\n",
    "\n",
    "df2.dropna(axis=0,how='any',subset=cleanList,inplace=True)\n",
    "checkMissingValues(df2)"
   ]
  },
  {
   "cell_type": "code",
   "execution_count": 226,
   "metadata": {},
   "outputs": [],
   "source": [
    "#Build the test/train split. Use a split of 80/20\n",
    "#Get the values for Y\n",
    "y = df2['Severity'].values\n",
    "\n",
    "#Delete off the values for Y so they don't get duplicated in the split\n",
    "del df2['Severity']\n",
    "\n",
    "#get everything else that we want to predict off of\n",
    "x = df2.values\n",
    "\n",
    "X_train,X_test,y_train,y_test = train_test_split(x,y,test_size=0.20,random_state=0)"
   ]
  },
  {
   "cell_type": "code",
   "execution_count": 227,
   "metadata": {},
   "outputs": [],
   "source": [
    "#Convert the train/test splits back to dataframes so we can impute missing data. \n",
    "df_X_train = pd.DataFrame.from_records(X_train)\n",
    "df_X_test = pd.DataFrame.from_records(X_test)\n",
    "df_X_train.columns = df2.columns\n",
    "df_X_test.columns = df2.columns"
   ]
  },
  {
   "cell_type": "code",
   "execution_count": 228,
   "metadata": {},
   "outputs": [
    {
     "name": "stdout",
     "output_type": "stream",
     "text": [
      "(947984, 139)\n",
      "(236996, 139)\n"
     ]
    }
   ],
   "source": [
    "#Check the dataframe shapes for sanity\n",
    "print(df_X_train.shape)\n",
    "print(df_X_test.shape)"
   ]
  },
  {
   "cell_type": "code",
   "execution_count": 229,
   "metadata": {},
   "outputs": [],
   "source": [
    "#Given that we're looking at weather based conditions take median values for each of the features. Initially start by\n",
    "#determining median by state and start month. To also cover any missing values that may not be present with this \n",
    "#combination calculate the overall median by month. \n",
    "medianTempByStateMonth = df_X_train.groupby(['State','SM_Interim'])['Temperature(F)'].median(skipna=True)\n",
    "medianPrecipByStateMonth  = df_X_train.groupby(['State','SM_Interim'])['Precipitation(in)'].median(skipna=True)\n",
    "medianPressureByStateMonth  = df_X_train.groupby(['State','SM_Interim'])['Pressure(in)'].median(skipna=True)\n",
    "medianWindChillByStateMonth  = df_X_train.groupby(['State','SM_Interim'])['Wind_Chill(F)'].median(skipna=True)\n",
    "medianVisByStateMonth  = df_X_train.groupby(['State','SM_Interim'])['Visibility(mi)'].median(skipna=True)\n",
    "medianWindSpeedByStateMonth  = df_X_train.groupby(['State','SM_Interim'])['Wind_Speed(mph)'].median(skipna=True)\n",
    "medianHumidityByStateMonth  = df_X_train.groupby(['State','SM_Interim'])['Humidity(%)'].median(skipna=True)\n",
    "\n",
    "medianTempByMonth = df_X_train.groupby(['SM_Interim'])['Temperature(F)'].median(skipna=True)\n",
    "medianPrecipByMonth  = df_X_train.groupby(['SM_Interim'])['Precipitation(in)'].median(skipna=True)\n",
    "medianPressureByMonth  = df_X_train.groupby(['SM_Interim'])['Pressure(in)'].median(skipna=True)\n",
    "medianWindChillByMonth  = df_X_train.groupby(['SM_Interim'])['Wind_Chill(F)'].median(skipna=True)\n",
    "medianVisByMonth  = df_X_train.groupby(['SM_Interim'])['Visibility(mi)'].median(skipna=True)\n",
    "medianWindSpeedByMonth  = df_X_train.groupby(['SM_Interim'])['Wind_Speed(mph)'].median(skipna=True)\n",
    "medianHumidityByMonth  = df_X_train.groupby(['SM_Interim'])['Humidity(%)'].median(skipna=True)"
   ]
  },
  {
   "cell_type": "code",
   "execution_count": 230,
   "metadata": {},
   "outputs": [
    {
     "name": "stderr",
     "output_type": "stream",
     "text": [
      "/home/jbcroom/anaconda3/lib/python3.7/site-packages/tqdm/std.py:648: FutureWarning: The Panel class is removed from pandas. Accessing it from the top-level namespace will also be removed in the next version\n",
      "  from pandas import Panel\n"
     ]
    },
    {
     "data": {
      "application/vnd.jupyter.widget-view+json": {
       "model_id": "4e85e567503d42938fddaa5f6c2bb5da",
       "version_major": 2,
       "version_minor": 0
      },
      "text/plain": [
       "HBox(children=(IntProgress(value=0, description='Pandas Apply', max=947984, style=ProgressStyle(description_wi…"
      ]
     },
     "metadata": {},
     "output_type": "display_data"
    },
    {
     "name": "stdout",
     "output_type": "stream",
     "text": [
      "\n"
     ]
    },
    {
     "data": {
      "application/vnd.jupyter.widget-view+json": {
       "model_id": "d238aeb627ff4599b7127984e049b5b0",
       "version_major": 2,
       "version_minor": 0
      },
      "text/plain": [
       "HBox(children=(IntProgress(value=0, description='Pandas Apply', max=947984, style=ProgressStyle(description_wi…"
      ]
     },
     "metadata": {},
     "output_type": "display_data"
    },
    {
     "name": "stdout",
     "output_type": "stream",
     "text": [
      "\n"
     ]
    },
    {
     "data": {
      "application/vnd.jupyter.widget-view+json": {
       "model_id": "037911180d01476e9b780b9d1d59e1a4",
       "version_major": 2,
       "version_minor": 0
      },
      "text/plain": [
       "HBox(children=(IntProgress(value=0, description='Pandas Apply', max=947984, style=ProgressStyle(description_wi…"
      ]
     },
     "metadata": {},
     "output_type": "display_data"
    },
    {
     "name": "stdout",
     "output_type": "stream",
     "text": [
      "\n"
     ]
    },
    {
     "data": {
      "application/vnd.jupyter.widget-view+json": {
       "model_id": "e9a503e9e996443ca7ef97665a0b9bbc",
       "version_major": 2,
       "version_minor": 0
      },
      "text/plain": [
       "HBox(children=(IntProgress(value=0, description='Pandas Apply', max=947984, style=ProgressStyle(description_wi…"
      ]
     },
     "metadata": {},
     "output_type": "display_data"
    },
    {
     "name": "stdout",
     "output_type": "stream",
     "text": [
      "\n"
     ]
    },
    {
     "data": {
      "application/vnd.jupyter.widget-view+json": {
       "model_id": "dcdf1c6c19f547a181aa80181666bbb1",
       "version_major": 2,
       "version_minor": 0
      },
      "text/plain": [
       "HBox(children=(IntProgress(value=0, description='Pandas Apply', max=947984, style=ProgressStyle(description_wi…"
      ]
     },
     "metadata": {},
     "output_type": "display_data"
    },
    {
     "name": "stdout",
     "output_type": "stream",
     "text": [
      "\n"
     ]
    },
    {
     "data": {
      "application/vnd.jupyter.widget-view+json": {
       "model_id": "63be78b8c2a84e8eb44c5ab62b096158",
       "version_major": 2,
       "version_minor": 0
      },
      "text/plain": [
       "HBox(children=(IntProgress(value=0, description='Pandas Apply', max=947984, style=ProgressStyle(description_wi…"
      ]
     },
     "metadata": {},
     "output_type": "display_data"
    },
    {
     "name": "stdout",
     "output_type": "stream",
     "text": [
      "\n"
     ]
    },
    {
     "data": {
      "application/vnd.jupyter.widget-view+json": {
       "model_id": "25df726bc0ee4485960e6f480253ae0e",
       "version_major": 2,
       "version_minor": 0
      },
      "text/plain": [
       "HBox(children=(IntProgress(value=0, description='Pandas Apply', max=947984, style=ProgressStyle(description_wi…"
      ]
     },
     "metadata": {},
     "output_type": "display_data"
    },
    {
     "name": "stdout",
     "output_type": "stream",
     "text": [
      "\n"
     ]
    }
   ],
   "source": [
    "df_X_train.loc[pd.isnull(df_X_train['Temperature(F)']),'Temperature(F)'] = df_X_train.swifter.apply(getMedianTemp, axis=1)\n",
    "df_X_train.loc[pd.isnull(df_X_train['Precipitation(in)']),'Precipitation(in)'] = df_X_train.swifter.apply(getMedianPrecip,axis=1)\n",
    "df_X_train.loc[pd.isnull(df_X_train['Pressure(in)']),'Pressure(in)'] = df_X_train.swifter.apply(getMedianPressure,axis=1)\n",
    "df_X_train.loc[pd.isnull(df_X_train['Wind_Chill(F)']),'Wind_Chill(F)'] = df_X_train.swifter.apply(getMedianWindChill,axis=1)\n",
    "df_X_train.loc[pd.isnull(df_X_train['Visibility(mi)']),'Visibility(mi)'] = df_X_train.swifter.apply(getMedianVis,axis=1)\n",
    "df_X_train.loc[pd.isnull(df_X_train['Wind_Speed(mph)']),'Wind_Speed(mph)'] = df_X_train.swifter.apply(getMedianWindSpeed,axis=1)\n",
    "df_X_train.loc[pd.isnull(df_X_train['Humidity(%)']),'Humidity(%)'] = df_X_train.swifter.apply(getMedianHumidity,axis=1)\n",
    "    \n",
    "#if anything else remains we'll zero it out\n",
    "df_X_train['Precipitation(in)'].fillna(0,inplace=True)\n",
    "df_X_train['Wind_Chill(F)'].fillna(0,inplace=True)\n",
    "df_X_train['Wind_Speed(mph)'].fillna(0,inplace=True)\n",
    "df_X_train['Temperature(F)'].fillna(0,inplace=True)\n",
    "df_X_train['Precipitation(in)'].fillna(0,inplace=True)\n",
    "df_X_train['Visibility(mi)'].fillna(0,inplace=True)\n",
    "df_X_train['Humidity(%)'].fillna(0,inplace=True)"
   ]
  },
  {
   "cell_type": "code",
   "execution_count": 231,
   "metadata": {},
   "outputs": [
    {
     "data": {
      "application/vnd.jupyter.widget-view+json": {
       "model_id": "bd0a0ccbc2374c7aa865c4db76c04c69",
       "version_major": 2,
       "version_minor": 0
      },
      "text/plain": [
       "HBox(children=(IntProgress(value=0, description='Pandas Apply', max=236996, style=ProgressStyle(description_wi…"
      ]
     },
     "metadata": {},
     "output_type": "display_data"
    },
    {
     "name": "stdout",
     "output_type": "stream",
     "text": [
      "\n"
     ]
    },
    {
     "data": {
      "application/vnd.jupyter.widget-view+json": {
       "model_id": "351d6b2302414163ae2a5e0ecd025143",
       "version_major": 2,
       "version_minor": 0
      },
      "text/plain": [
       "HBox(children=(IntProgress(value=0, description='Pandas Apply', max=236996, style=ProgressStyle(description_wi…"
      ]
     },
     "metadata": {},
     "output_type": "display_data"
    },
    {
     "name": "stdout",
     "output_type": "stream",
     "text": [
      "\n"
     ]
    },
    {
     "data": {
      "application/vnd.jupyter.widget-view+json": {
       "model_id": "272b6508130d4fb5885e3425b0403f5b",
       "version_major": 2,
       "version_minor": 0
      },
      "text/plain": [
       "HBox(children=(IntProgress(value=0, description='Pandas Apply', max=236996, style=ProgressStyle(description_wi…"
      ]
     },
     "metadata": {},
     "output_type": "display_data"
    },
    {
     "name": "stdout",
     "output_type": "stream",
     "text": [
      "\n"
     ]
    },
    {
     "data": {
      "application/vnd.jupyter.widget-view+json": {
       "model_id": "87a071a23c5742daa2c36dfd14bf8ecf",
       "version_major": 2,
       "version_minor": 0
      },
      "text/plain": [
       "HBox(children=(IntProgress(value=0, description='Pandas Apply', max=236996, style=ProgressStyle(description_wi…"
      ]
     },
     "metadata": {},
     "output_type": "display_data"
    },
    {
     "name": "stdout",
     "output_type": "stream",
     "text": [
      "\n"
     ]
    },
    {
     "data": {
      "application/vnd.jupyter.widget-view+json": {
       "model_id": "c84c82fcc0ac46359f40264845f45baa",
       "version_major": 2,
       "version_minor": 0
      },
      "text/plain": [
       "HBox(children=(IntProgress(value=0, description='Pandas Apply', max=236996, style=ProgressStyle(description_wi…"
      ]
     },
     "metadata": {},
     "output_type": "display_data"
    },
    {
     "name": "stdout",
     "output_type": "stream",
     "text": [
      "\n"
     ]
    },
    {
     "data": {
      "application/vnd.jupyter.widget-view+json": {
       "model_id": "c9bff1ea8a13462b8fe66da86d593f64",
       "version_major": 2,
       "version_minor": 0
      },
      "text/plain": [
       "HBox(children=(IntProgress(value=0, description='Pandas Apply', max=236996, style=ProgressStyle(description_wi…"
      ]
     },
     "metadata": {},
     "output_type": "display_data"
    },
    {
     "name": "stdout",
     "output_type": "stream",
     "text": [
      "\n"
     ]
    },
    {
     "data": {
      "application/vnd.jupyter.widget-view+json": {
       "model_id": "9efba7592bbf434abfccdab953a0a3ae",
       "version_major": 2,
       "version_minor": 0
      },
      "text/plain": [
       "HBox(children=(IntProgress(value=0, description='Pandas Apply', max=236996, style=ProgressStyle(description_wi…"
      ]
     },
     "metadata": {},
     "output_type": "display_data"
    },
    {
     "name": "stdout",
     "output_type": "stream",
     "text": [
      "\n"
     ]
    }
   ],
   "source": [
    "df_X_test.loc[pd.isnull(df_X_test['Temperature(F)']),'Temperature(F)'] = df_X_test.swifter.apply(getMedianTemp, axis=1)\n",
    "df_X_test.loc[pd.isnull(df_X_test['Precipitation(in)']),'Precipitation(in)'] = df_X_test.swifter.apply(getMedianPrecip,axis=1)\n",
    "df_X_test.loc[pd.isnull(df_X_test['Pressure(in)']),'Pressure(in)'] = df_X_test.swifter.apply(getMedianPressure,axis=1)\n",
    "df_X_test.loc[pd.isnull(df_X_test['Wind_Chill(F)']),'Wind_Chill(F)'] = df_X_test.swifter.apply(getMedianWindChill,axis=1)\n",
    "df_X_test.loc[pd.isnull(df_X_test['Visibility(mi)']),'Visibility(mi)'] = df_X_test.swifter.apply(getMedianVis,axis=1)\n",
    "df_X_test.loc[pd.isnull(df_X_test['Wind_Speed(mph)']),'Wind_Speed(mph)'] = df_X_test.swifter.apply(getMedianWindSpeed,axis=1)\n",
    "df_X_test.loc[pd.isnull(df_X_test['Humidity(%)']),'Humidity(%)'] = df_X_test.swifter.apply(getMedianHumidity,axis=1)\n",
    "    \n",
    "#if anything else remains we'll zero it out\n",
    "df_X_test['Precipitation(in)'].fillna(0,inplace=True)\n",
    "df_X_test['Wind_Chill(F)'].fillna(0,inplace=True)\n",
    "df_X_test['Wind_Speed(mph)'].fillna(0,inplace=True)\n",
    "df_X_test['Temperature(F)'].fillna(0,inplace=True)\n",
    "df_X_test['Precipitation(in)'].fillna(0,inplace=True)\n",
    "df_X_test['Visibility(mi)'].fillna(0,inplace=True)\n",
    "df_X_test['Humidity(%)'].fillna(0,inplace=True)"
   ]
  },
  {
   "cell_type": "code",
   "execution_count": 232,
   "metadata": {},
   "outputs": [
    {
     "data": {
      "text/html": [
       "<div>\n",
       "<style scoped>\n",
       "    .dataframe tbody tr th:only-of-type {\n",
       "        vertical-align: middle;\n",
       "    }\n",
       "\n",
       "    .dataframe tbody tr th {\n",
       "        vertical-align: top;\n",
       "    }\n",
       "\n",
       "    .dataframe thead th {\n",
       "        text-align: right;\n",
       "    }\n",
       "</style>\n",
       "<table border=\"1\" class=\"dataframe\">\n",
       "  <thead>\n",
       "    <tr style=\"text-align: right;\">\n",
       "      <th></th>\n",
       "      <th>columns_name</th>\n",
       "      <th>missing_count</th>\n",
       "      <th>missing_ratio</th>\n",
       "    </tr>\n",
       "  </thead>\n",
       "  <tbody>\n",
       "  </tbody>\n",
       "</table>\n",
       "</div>"
      ],
      "text/plain": [
       "Empty DataFrame\n",
       "Columns: [columns_name, missing_count, missing_ratio]\n",
       "Index: []"
      ]
     },
     "execution_count": 232,
     "metadata": {},
     "output_type": "execute_result"
    }
   ],
   "source": [
    "#Let's make sure we have everthing accounted for\n",
    "checkMissingValues(df_X_test)"
   ]
  },
  {
   "cell_type": "code",
   "execution_count": 233,
   "metadata": {},
   "outputs": [
    {
     "data": {
      "text/html": [
       "<div>\n",
       "<style scoped>\n",
       "    .dataframe tbody tr th:only-of-type {\n",
       "        vertical-align: middle;\n",
       "    }\n",
       "\n",
       "    .dataframe tbody tr th {\n",
       "        vertical-align: top;\n",
       "    }\n",
       "\n",
       "    .dataframe thead th {\n",
       "        text-align: right;\n",
       "    }\n",
       "</style>\n",
       "<table border=\"1\" class=\"dataframe\">\n",
       "  <thead>\n",
       "    <tr style=\"text-align: right;\">\n",
       "      <th></th>\n",
       "      <th>columns_name</th>\n",
       "      <th>missing_count</th>\n",
       "      <th>missing_ratio</th>\n",
       "    </tr>\n",
       "  </thead>\n",
       "  <tbody>\n",
       "  </tbody>\n",
       "</table>\n",
       "</div>"
      ],
      "text/plain": [
       "Empty DataFrame\n",
       "Columns: [columns_name, missing_count, missing_ratio]\n",
       "Index: []"
      ]
     },
     "execution_count": 233,
     "metadata": {},
     "output_type": "execute_result"
    }
   ],
   "source": [
    "#Let's make sure we have everthing accounted for\n",
    "checkMissingValues(df_X_train)"
   ]
  },
  {
   "cell_type": "code",
   "execution_count": 234,
   "metadata": {},
   "outputs": [],
   "source": [
    "#drop the interim columns for Start Month  and State that was used for imputing\n",
    "df_X_test.drop(['SM_Interim'],axis=1,inplace=True)\n",
    "df_X_train.drop(['SM_Interim'],axis=1,inplace=True)\n",
    "\n",
    "df_X_test.drop(['State'],axis=1,inplace=True)\n",
    "df_X_train.drop(['State'],axis=1,inplace=True)"
   ]
  },
  {
   "cell_type": "code",
   "execution_count": 235,
   "metadata": {},
   "outputs": [
    {
     "name": "stdout",
     "output_type": "stream",
     "text": [
      "(947984, 137)\n",
      "(236996, 137)\n"
     ]
    }
   ],
   "source": [
    "#Check the dataframe shapes for sanity\n",
    "print(df_X_train.shape)\n",
    "print(df_X_test.shape)"
   ]
  },
  {
   "cell_type": "code",
   "execution_count": 236,
   "metadata": {},
   "outputs": [],
   "source": [
    "#convert our test/train dataframes to numpy arrays\n",
    "X_train = df_X_train.to_numpy()\n",
    "X_test = df_X_test.to_numpy()"
   ]
  },
  {
   "cell_type": "code",
   "execution_count": 237,
   "metadata": {},
   "outputs": [
    {
     "name": "stderr",
     "output_type": "stream",
     "text": [
      "/home/jbcroom/anaconda3/lib/python3.7/site-packages/sklearn/linear_model/logistic.py:432: FutureWarning: Default solver will be changed to 'lbfgs' in 0.22. Specify a solver to silence this warning.\n",
      "  FutureWarning)\n",
      "/home/jbcroom/anaconda3/lib/python3.7/site-packages/sklearn/linear_model/logistic.py:469: FutureWarning: Default multi_class will be changed to 'auto' in 0.22. Specify the multi_class option to silence this warning.\n",
      "  \"this warning.\", FutureWarning)\n"
     ]
    }
   ],
   "source": [
    "# logistic regression\n",
    "logistic_regression= LogisticRegression(max_iter = 4000)\n",
    "logistic_regression.fit(X_train,y_train)\n",
    "y_pred=logistic_regression.predict(X_test)"
   ]
  },
  {
   "cell_type": "code",
   "execution_count": 238,
   "metadata": {},
   "outputs": [
    {
     "name": "stdout",
     "output_type": "stream",
     "text": [
      "Accuracy:  0.7021046768721835\n"
     ]
    }
   ],
   "source": [
    "# Accuracy | Accuracy = (TP+TN)/Total\n",
    "print('Accuracy: ',mt.accuracy_score(y_test, y_pred))"
   ]
  },
  {
   "cell_type": "code",
   "execution_count": 239,
   "metadata": {},
   "outputs": [
    {
     "name": "stdout",
     "output_type": "stream",
     "text": [
      "Confusion Matrix: \n",
      "[[     0     85     12      0]\n",
      " [     0 145043  15831     40]\n",
      " [     0  51164  21264     69]\n",
      " [     0   2700    699     89]]\n"
     ]
    }
   ],
   "source": [
    "conf = mt.confusion_matrix(y_test,y_pred)\n",
    "print('Confusion Matrix: ')\n",
    "print(conf)"
   ]
  },
  {
   "cell_type": "code",
   "execution_count": 240,
   "metadata": {},
   "outputs": [
    {
     "name": "stdout",
     "output_type": "stream",
     "text": [
      "Start_Lat has weight of 0.1268478359603198\n",
      "Start_Lng has weight of 0.07182310621845393\n",
      "Distance(mi) has weight of -1.361136240139018\n",
      "Temperature(F) has weight of 0.002502008885238532\n",
      "Wind_Chill(F) has weight of -0.009954958050353516\n",
      "Humidity(%) has weight of 0.0052781219764250695\n",
      "Pressure(in) has weight of -0.12087638031067978\n",
      "Visibility(mi) has weight of 0.033208628236651626\n",
      "Wind_Speed(mph) has weight of 0.00353933282790803\n",
      "Precipitation(in) has weight of -0.08334219390520507\n",
      "PointOfInterest has weight of 0.3131298989286723\n",
      "Bump has weight of -0.08049659088732311\n",
      "Crossing has weight of 0.5118830821043315\n",
      "Yield has weight of 0.0511093363433387\n",
      "Junction has weight of -1.1621556976069252\n",
      "No_Exit has weight of 0.3981114059978769\n",
      "Railway has weight of -0.5155051826296485\n",
      "Roundabout has weight of -0.005869464275524732\n",
      "Station has weight of 0.2361364454226629\n",
      "Stop has weight of 0.834368764591015\n",
      "Traffic_Calming has weight of -0.1254974519769427\n",
      "Traffic_Signal has weight of -0.4072910158910838\n",
      "Turning_Loop has weight of 0.0\n",
      "Start_Hour has weight of 0.029173267830008818\n",
      "Time_Duration(min) has weight of -0.0077792471201284\n",
      "State has weight of -0.001509828630646618\n",
      "SM_Interim has weight of 0.3052386065285401\n",
      "Side_  has weight of -0.78618785625904\n",
      "Side_L has weight of -0.2507317480763601\n",
      "Side_R has weight of -0.2250798313481437\n",
      "Sunrise_Sunset_Day has weight of -0.1240346369245566\n",
      "Sunrise_Sunset_Night has weight of 0.0998267921250475\n",
      "Start_Weekday_Fri has weight of 0.12645680756759564\n",
      "Start_Weekday_Mon has weight of -0.07046369580374728\n",
      "Start_Weekday_Sat has weight of -0.20975821343133347\n",
      "Start_Weekday_Sun has weight of -0.11259523288926727\n",
      "Start_Weekday_Thu has weight of -0.1918908990045443\n",
      "Start_Weekday_Tue has weight of -0.33640333053713406\n",
      "Start_Weekday_Wed has weight of 0.06955656003122933\n",
      "Start_Month_Apr has weight of -0.5964658313102589\n",
      "Start_Month_Aug has weight of 0.03216494992572722\n",
      "Start_Month_Dec has weight of -0.43660394053106943\n",
      "Start_Month_Feb has weight of 0.315859822073145\n",
      "Start_Month_Jan has weight of 0.3772750749349799\n",
      "Start_Month_Jul has weight of -0.1831983538070578\n",
      "Start_Month_Jun has weight of 0.05830146314655712\n",
      "Start_Month_Mar has weight of 0.11866294897839733\n",
      "Start_Month_May has weight of 0.2046958947574331\n",
      "Start_Month_Nov has weight of -0.10630433602314263\n",
      "Start_Month_Oct has weight of -0.003980440694616306\n",
      "Start_Month_Sep has weight of -0.005319216492799983\n",
      "Weather_Condition_Blowing Dust has weight of -5.0417850917143064e-05\n",
      "Weather_Condition_Blowing Dust / Windy has weight of 0.4696449647960787\n",
      "Weather_Condition_Blowing Sand has weight of -0.10550650574372028\n",
      "Weather_Condition_Clear has weight of -0.06823161349530071\n",
      "Weather_Condition_Cloudy has weight of -0.056646347917777534\n",
      "Weather_Condition_Cloudy / Windy has weight of -0.00086999935134526\n",
      "Weather_Condition_Drizzle has weight of -4.0770164068518395e-06\n",
      "Weather_Condition_Drizzle and Fog has weight of -0.7123673918808772\n",
      "Weather_Condition_Dust Whirls has weight of -0.22648055743559145\n",
      "Weather_Condition_Fair has weight of -0.6810646671130718\n",
      "Weather_Condition_Fair / Windy has weight of -0.0035566829841244783\n",
      "Weather_Condition_Fog has weight of -0.0010006124174413585\n",
      "Weather_Condition_Fog / Windy has weight of -0.00011205060541527797\n",
      "Weather_Condition_Funnel Cloud has weight of 0.009842190327049053\n",
      "Weather_Condition_Hail has weight of -0.003352754213571436\n",
      "Weather_Condition_Haze has weight of -0.006043747589463321\n",
      "Weather_Condition_Haze / Windy has weight of 0.11127924653106126\n",
      "Weather_Condition_Heavy Drizzle has weight of -0.009566642632720373\n",
      "Weather_Condition_Heavy Rain has weight of -0.0004615725965783962\n",
      "Weather_Condition_Heavy Rain / Windy has weight of -8.448468475537562e-05\n",
      "Weather_Condition_Heavy Rain Showers has weight of -0.00760338140427712\n",
      "Weather_Condition_Heavy Smoke has weight of -0.054939074411997475\n",
      "Weather_Condition_Heavy Snow has weight of -0.004260347141069648\n",
      "Weather_Condition_Heavy T-Storm has weight of -0.11965764325227678\n",
      "Weather_Condition_Heavy T-Storm / Windy has weight of -3.83980428338457e-05\n",
      "Weather_Condition_Heavy Thunderstorms and Rain has weight of -0.2395622032946806\n",
      "Weather_Condition_Heavy Thunderstorms with Small Hail has weight of -0.000868831033645733\n",
      "Weather_Condition_Light Drizzle has weight of -0.00025321951189616457\n",
      "Weather_Condition_Light Drizzle / Windy has weight of -0.0038652509208425725\n",
      "Weather_Condition_Light Fog has weight of -0.00586777895639467\n",
      "Weather_Condition_Light Freezing Drizzle has weight of -0.010308173692353829\n",
      "Weather_Condition_Light Freezing Fog has weight of -7.840443743541574e-06\n",
      "Weather_Condition_Light Freezing Rain has weight of -0.0012509105451287217\n",
      "Weather_Condition_Light Freezing Rain / Windy has weight of -0.0022869141156282567\n",
      "Weather_Condition_Light Hail has weight of -0.0012899813311839498\n",
      "Weather_Condition_Light Haze has weight of 0.3013166150073181\n",
      "Weather_Condition_Light Ice Pellets has weight of -0.042941601594537214\n",
      "Weather_Condition_Light Rain has weight of -0.0020540821207155058\n",
      "Weather_Condition_Light Rain / Windy has weight of -0.0052935909919343835\n",
      "Weather_Condition_Light Rain Shower has weight of -0.08859131223225593\n",
      "Weather_Condition_Light Rain Showers has weight of -0.07906257010228564\n",
      "Weather_Condition_Light Rain with Thunder has weight of -0.0018254336177191566\n",
      "Weather_Condition_Light Snow has weight of -2.817517658036055e-08\n",
      "Weather_Condition_Light Snow / Windy has weight of -0.00011436220823998949\n",
      "Weather_Condition_Light Snow Showers has weight of 0.0\n",
      "Weather_Condition_Light Snow and Sleet has weight of 1.30519279707691\n",
      "Weather_Condition_Light Thunderstorm has weight of -0.11387727554807088\n",
      "Weather_Condition_Light Thunderstorms and Rain has weight of 0.2921526036690729\n",
      "Weather_Condition_Mist has weight of -0.0758215867494359\n",
      "Weather_Condition_Mostly Cloudy has weight of -0.0014503566941693328\n",
      "Weather_Condition_Mostly Cloudy / Windy has weight of 0.35154636586277244\n",
      "Weather_Condition_N/A Precipitation has weight of -0.0003946184853613668\n",
      "Weather_Condition_Overcast has weight of 0.18357008198616273\n",
      "Weather_Condition_Partial Fog has weight of -0.06997698842983416\n",
      "Weather_Condition_Partly Cloudy has weight of -0.09549456822433598\n",
      "Weather_Condition_Partly Cloudy / Windy has weight of 0.7921484302214826\n",
      "Weather_Condition_Patches of Fog has weight of -0.014959225452214906\n",
      "Weather_Condition_Rain has weight of -0.00017427633233528612\n",
      "Weather_Condition_Rain / Windy has weight of -0.012598101430015557\n",
      "Weather_Condition_Rain Shower has weight of -0.0022099279501460833\n",
      "Weather_Condition_Rain Showers has weight of 0.37902508074958513\n",
      "Weather_Condition_Sand has weight of 0.5729150023174858\n",
      "Weather_Condition_Scattered Clouds has weight of -0.017300074330156567\n",
      "Weather_Condition_Shallow Fog has weight of -0.28592151217299316\n",
      "Weather_Condition_Showers in the Vicinity has weight of -0.0006693292911485387\n",
      "Weather_Condition_Smoke has weight of -0.0284572275035712\n",
      "Weather_Condition_Smoke / Windy has weight of -0.0004381470988266536\n",
      "Weather_Condition_Snow has weight of -0.0002281795911431707\n",
      "Weather_Condition_Snow / Windy has weight of -0.00036752021567347445\n",
      "Weather_Condition_Snow Grains has weight of -0.0003230715690625689\n",
      "Weather_Condition_Squalls has weight of -0.0788565054202369\n",
      "Weather_Condition_Squalls / Windy has weight of -0.004971259320856156\n",
      "Weather_Condition_T-Storm has weight of -0.09056167490551668\n",
      "Weather_Condition_T-Storm / Windy has weight of -0.004251871940795805\n",
      "Weather_Condition_Thunder has weight of -0.00010401902159637972\n",
      "Weather_Condition_Thunder / Windy has weight of -0.0882342851900643\n",
      "Weather_Condition_Thunder and Hail / Windy has weight of -0.27480541658056684\n",
      "Weather_Condition_Thunder in the Vicinity has weight of -0.1229592547483321\n",
      "Weather_Condition_Thunderstorm has weight of 0.0\n",
      "Weather_Condition_Thunderstorms and Rain has weight of -0.0016907037842217505\n",
      "Weather_Condition_Thunderstorms and Snow has weight of -0.008256718408263586\n",
      "Weather_Condition_Volcanic Ash has weight of -8.220309645826078e-05\n",
      "Weather_Condition_Widespread Dust has weight of -0.002998005256230252\n",
      "Weather_Condition_Widespread Dust / Windy has weight of 0.9257491758835297\n",
      "Weather_Condition_Wintry Mix has weight of -1.0557826167712157\n",
      "ST_CA has weight of -0.35242563747435235\n"
     ]
    }
   ],
   "source": [
    "#Coefficients\n",
    "weights = logistic_regression.coef_.T # take transpose to make a column vector\n",
    "variable_names = df2.columns\n",
    "for coef, name in zip(weights,variable_names):\n",
    "    print(name, 'has weight of', coef[0])"
   ]
  },
  {
   "cell_type": "code",
   "execution_count": 241,
   "metadata": {},
   "outputs": [
    {
     "name": "stderr",
     "output_type": "stream",
     "text": [
      "/home/jbcroom/anaconda3/lib/python3.7/site-packages/sklearn/linear_model/logistic.py:469: FutureWarning: Default multi_class will be changed to 'auto' in 0.22. Specify the multi_class option to silence this warning.\n",
      "  \"this warning.\", FutureWarning)\n"
     ]
    }
   ],
   "source": [
    "#NOTE: Code below adapted from the course lectures\n",
    "# we want to normalize the features based upon the mean and standard deviation of each column. \n",
    "\n",
    "# scale attributes by the training set\n",
    "scl_obj = StandardScaler()\n",
    "scl_obj.fit(X_train) # find scalings for each column that make this zero mean and unit std\n",
    "\n",
    "X_train_scaled = scl_obj.transform(X_train) # apply to training\n",
    "X_test_scaled = scl_obj.transform(X_test) # apply those means and std to the test set \n",
    "\n",
    "# train the model just as before\n",
    "lr_clf = LogisticRegression(penalty='l2', C=0.05, solver='liblinear') \n",
    "lr_clf.fit(X_train_scaled,y_train)  # train object\n",
    "\n",
    "y_hat = lr_clf.predict(X_test_scaled) # get test set predictions"
   ]
  },
  {
   "cell_type": "code",
   "execution_count": 242,
   "metadata": {},
   "outputs": [
    {
     "name": "stdout",
     "output_type": "stream",
     "text": [
      "Accuracy: 0.7027375989468176\n"
     ]
    }
   ],
   "source": [
    "acc = mt.accuracy_score(y_test,y_hat)\n",
    "print('Accuracy:', acc )"
   ]
  },
  {
   "cell_type": "code",
   "execution_count": 243,
   "metadata": {},
   "outputs": [
    {
     "name": "stdout",
     "output_type": "stream",
     "text": [
      "Confusion Matrix:\n",
      "[[     0     82     15      0]\n",
      " [     0 144774  16100     40]\n",
      " [     0  50746  21683     68]\n",
      " [     0   2691    708     89]]\n"
     ]
    }
   ],
   "source": [
    "conf = mt.confusion_matrix(y_test,y_hat)\n",
    "print('Confusion Matrix:')\n",
    "print(conf)"
   ]
  },
  {
   "cell_type": "code",
   "execution_count": 244,
   "metadata": {},
   "outputs": [
    {
     "name": "stdout",
     "output_type": "stream",
     "text": [
      "Start_Lat has weight of 0.18188245332004763\n",
      "Start_Lng has weight of 0.035999701011872824\n",
      "Distance(mi) has weight of -0.1748483070335308\n",
      "Temperature(F) has weight of 0.04198872940869942\n",
      "Wind_Chill(F) has weight of -0.07509325154500514\n",
      "Humidity(%) has weight of 0.08398692519225304\n",
      "Pressure(in) has weight of 0.07501374200585963\n",
      "Visibility(mi) has weight of 0.05273545360792437\n",
      "Wind_Speed(mph) has weight of 0.01707888113567527\n",
      "Precipitation(in) has weight of -0.029954328361590014\n",
      "PointOfInterest has weight of 0.024827906394919726\n",
      "Bump has weight of -0.006336882446893363\n",
      "Crossing has weight of 0.09177725038444291\n",
      "Yield has weight of 0.0014182617485978932\n",
      "Junction has weight of -0.176732342138714\n",
      "No_Exit has weight of 0.02625812600604798\n",
      "Railway has weight of -0.042665436554971535\n",
      "Roundabout has weight of -0.005844831875701086\n",
      "Station has weight of 0.024727919967139706\n",
      "Stop has weight of 0.09019871204050375\n",
      "Traffic_Calming has weight of -0.022775682409894023\n",
      "Traffic_Signal has weight of -0.10282526115245247\n",
      "Turning_Loop has weight of 0.0\n",
      "Start_Hour has weight of 0.10510365563443129\n",
      "Time_Duration(min) has weight of -0.33815555441637013\n",
      "Side_  has weight of -0.0022718838544461568\n",
      "Side_L has weight of 0.14422049653574293\n",
      "Side_R has weight of -0.14421339819827583\n",
      "Sunrise_Sunset_Day has weight of -0.008188408418847302\n",
      "Sunrise_Sunset_Night has weight of 0.009159450275624436\n",
      "Start_Weekday_Fri has weight of -0.009737252924136224\n",
      "Start_Weekday_Mon has weight of 0.0492124947882094\n",
      "Start_Weekday_Sat has weight of 0.03940676561330521\n",
      "Start_Weekday_Sun has weight of 0.00456086634305603\n",
      "Start_Weekday_Thu has weight of -0.03234216425983589\n",
      "Start_Weekday_Tue has weight of -0.00715335229598101\n",
      "Start_Weekday_Wed has weight of -0.027733034461702912\n",
      "Start_Month_Apr has weight of -0.05364161695649095\n",
      "Start_Month_Aug has weight of 0.011529764268472234\n",
      "Start_Month_Dec has weight of -0.09939633611436513\n",
      "Start_Month_Feb has weight of 0.025713803535601442\n",
      "Start_Month_Jan has weight of -0.057898126789987465\n",
      "Start_Month_Jul has weight of 0.05226379888801518\n",
      "Start_Month_Jun has weight of 0.06977968478224948\n",
      "Start_Month_Mar has weight of -0.017689885386528867\n",
      "Start_Month_May has weight of 0.0148769747514872\n",
      "Start_Month_Nov has weight of 0.03109886993005973\n",
      "Start_Month_Oct has weight of 0.04467664183309647\n",
      "Start_Month_Sep has weight of -0.019008167211525852\n",
      "Weather_Condition_Blowing Dust has weight of -0.0030386918481621894\n",
      "Weather_Condition_Blowing Dust / Windy has weight of -0.0030879833329184605\n",
      "Weather_Condition_Blowing Sand has weight of -0.0003350871566276906\n",
      "Weather_Condition_Clear has weight of 0.140197915643229\n",
      "Weather_Condition_Cloudy has weight of -0.010125377111956208\n",
      "Weather_Condition_Cloudy / Windy has weight of -0.016368271096532286\n",
      "Weather_Condition_Drizzle has weight of -0.013793498524848213\n",
      "Weather_Condition_Drizzle and Fog has weight of -0.0019751701239938036\n",
      "Weather_Condition_Dust Whirls has weight of 0.0001978917591946666\n",
      "Weather_Condition_Fair has weight of -0.12025450657887722\n",
      "Weather_Condition_Fair / Windy has weight of -0.03182163165492376\n",
      "Weather_Condition_Fog has weight of -0.06039375083114851\n",
      "Weather_Condition_Fog / Windy has weight of -0.0031835899150149814\n",
      "Weather_Condition_Funnel Cloud has weight of -0.0016041610045290507\n",
      "Weather_Condition_Hail has weight of -0.000545919533059409\n",
      "Weather_Condition_Haze has weight of 0.002838722912965741\n",
      "Weather_Condition_Haze / Windy has weight of -0.0032464012037428545\n",
      "Weather_Condition_Heavy Drizzle has weight of -0.004718259572564344\n",
      "Weather_Condition_Heavy Rain has weight of 0.020976429268564602\n",
      "Weather_Condition_Heavy Rain / Windy has weight of -0.005066688460629755\n",
      "Weather_Condition_Heavy Rain Showers has weight of -0.0013071898076805215\n",
      "Weather_Condition_Heavy Smoke has weight of -0.0004947002887806621\n",
      "Weather_Condition_Heavy Snow has weight of -0.003043878783353025\n",
      "Weather_Condition_Heavy T-Storm has weight of -0.011402204978125281\n",
      "Weather_Condition_Heavy T-Storm / Windy has weight of -0.003097965856528642\n",
      "Weather_Condition_Heavy Thunderstorms and Rain has weight of -0.01598121703736963\n",
      "Weather_Condition_Heavy Thunderstorms with Small Hail has weight of -0.0007567195393622045\n",
      "Weather_Condition_Light Drizzle has weight of -0.03275605684711081\n",
      "Weather_Condition_Light Drizzle / Windy has weight of -0.0016547275064936959\n",
      "Weather_Condition_Light Fog has weight of -0.0009424992546907217\n",
      "Weather_Condition_Light Freezing Drizzle has weight of -0.0037860284874139108\n",
      "Weather_Condition_Light Freezing Fog has weight of -0.0048067411981297554\n",
      "Weather_Condition_Light Freezing Rain has weight of -0.006214047392418816\n",
      "Weather_Condition_Light Freezing Rain / Windy has weight of 0.00043271237406734554\n",
      "Weather_Condition_Light Hail has weight of -0.002365752678766409\n",
      "Weather_Condition_Light Haze has weight of -0.0032694877599725673\n",
      "Weather_Condition_Light Ice Pellets has weight of -0.00218846753134536\n",
      "Weather_Condition_Light Rain has weight of 0.04187080499531157\n",
      "Weather_Condition_Light Rain / Windy has weight of -0.013235749122230082\n",
      "Weather_Condition_Light Rain Shower has weight of -0.0023624977215539206\n",
      "Weather_Condition_Light Rain Showers has weight of -0.004311569912666001\n",
      "Weather_Condition_Light Rain with Thunder has weight of -0.01717447825881903\n",
      "Weather_Condition_Light Snow has weight of -0.012915518718945224\n",
      "Weather_Condition_Light Snow / Windy has weight of -0.0013698948719686307\n",
      "Weather_Condition_Light Snow Showers has weight of 0.0019255412398400812\n",
      "Weather_Condition_Light Snow and Sleet has weight of -0.00046174949307974664\n",
      "Weather_Condition_Light Thunderstorm has weight of 0.0\n",
      "Weather_Condition_Light Thunderstorms and Rain has weight of 0.06781379559002672\n",
      "Weather_Condition_Mist has weight of -0.02238957359616238\n",
      "Weather_Condition_Mostly Cloudy has weight of 0.0589557273404114\n",
      "Weather_Condition_Mostly Cloudy / Windy has weight of -0.017294017284161828\n",
      "Weather_Condition_N/A Precipitation has weight of -0.0016789761538735166\n",
      "Weather_Condition_Overcast has weight of 0.06471301748398366\n",
      "Weather_Condition_Partial Fog has weight of -0.0012697767166228349\n",
      "Weather_Condition_Partly Cloudy has weight of 0.028829618012819073\n",
      "Weather_Condition_Partly Cloudy / Windy has weight of -0.017527178207390724\n",
      "Weather_Condition_Patches of Fog has weight of -0.020994193769636724\n",
      "Weather_Condition_Rain has weight of 0.06796683875998974\n",
      "Weather_Condition_Rain / Windy has weight of -0.006709239429934353\n",
      "Weather_Condition_Rain Shower has weight of -0.0007510083315543951\n",
      "Weather_Condition_Rain Showers has weight of -0.007198823251756347\n",
      "Weather_Condition_Sand has weight of -0.0032918577069704783\n",
      "Weather_Condition_Scattered Clouds has weight of 0.05976148633586726\n",
      "Weather_Condition_Shallow Fog has weight of 0.03725221743011242\n",
      "Weather_Condition_Showers in the Vicinity has weight of -0.00800236377141171\n",
      "Weather_Condition_Smoke has weight of -0.03895965231377972\n",
      "Weather_Condition_Smoke / Windy has weight of -0.0011442096618560938\n",
      "Weather_Condition_Snow has weight of -0.0053056454182246445\n",
      "Weather_Condition_Snow / Windy has weight of 0.00019101295502197655\n",
      "Weather_Condition_Snow Grains has weight of -0.0005547705496642114\n",
      "Weather_Condition_Squalls has weight of -0.0012255147583687877\n",
      "Weather_Condition_Squalls / Windy has weight of -0.0011821190136889574\n",
      "Weather_Condition_T-Storm has weight of -0.015392230364855881\n",
      "Weather_Condition_T-Storm / Windy has weight of -0.004078333155973331\n",
      "Weather_Condition_Thunder has weight of -0.01951717092004102\n",
      "Weather_Condition_Thunder / Windy has weight of -0.004606707865746236\n",
      "Weather_Condition_Thunder and Hail / Windy has weight of -0.0008116127368213555\n",
      "Weather_Condition_Thunder in the Vicinity has weight of -0.019555378114762777\n",
      "Weather_Condition_Thunderstorm has weight of -0.03559335899328732\n",
      "Weather_Condition_Thunderstorms and Rain has weight of -0.019806930278686952\n",
      "Weather_Condition_Thunderstorms and Snow has weight of 0.0\n",
      "Weather_Condition_Volcanic Ash has weight of -0.002455029312614574\n",
      "Weather_Condition_Widespread Dust has weight of -0.005628883680424581\n",
      "Weather_Condition_Widespread Dust / Windy has weight of -0.00047657960372672923\n",
      "Weather_Condition_Wintry Mix has weight of -0.0018505995670929946\n",
      "ST_CA has weight of -0.0010711962406787256\n",
      "ST_FL has weight of 0.008712197482130656\n",
      "ST_TX has weight of -0.006638647569598657\n"
     ]
    }
   ],
   "source": [
    "# output the coefficients\n",
    "weights = lr_clf.coef_.T # take transpose to make a column vector\n",
    "variable_names = df_X_train.columns\n",
    "zip_vars = zip(weights,variable_names)\n",
    "\n",
    "for coef, name in zip_vars:\n",
    "    print(name, 'has weight of', coef[0])"
   ]
  },
  {
   "cell_type": "code",
   "execution_count": 245,
   "metadata": {},
   "outputs": [
    {
     "data": {
      "image/png": "[encoded data removed]",
      "text/plain": [
       "<Figure size 1080x504 with 1 Axes>"
      ]
     },
     "metadata": {
      "needs_background": "light"
     },
     "output_type": "display_data"
    }
   ],
   "source": [
    "# now let's make a pandas Series with the names and values, and plot them\n",
    "from matplotlib import pyplot as plt\n",
    "%matplotlib inline\n",
    "plt.figure(figsize=(15,7))\n",
    "plt.style.use('ggplot')\n",
    "\n",
    "variable_names = df_X_train.columns\n",
    "\n",
    "weights = pd.Series(lr_clf.coef_[0],index=variable_names)\n",
    "weights.plot(kind='bar')\n",
    "plt.show()"
   ]
  },
  {
   "cell_type": "markdown",
   "metadata": {},
   "source": [
    "## Model Advantages - 10pts"
   ]
  },
  {
   "cell_type": "markdown",
   "metadata": {},
   "source": [
    "## Interpretation - 30pts"
   ]
  },
  {
   "cell_type": "markdown",
   "metadata": {},
   "source": [
    "## SVM Insight - 10pts"
   ]
  },
  {
   "cell_type": "code",
   "execution_count": null,
   "metadata": {},
   "outputs": [],
   "source": []
  }
 ],
 "metadata": {
  "kernelspec": {
   "display_name": "Python 3",
   "language": "python",
   "name": "python3"
  },
  "language_info": {
   "codemirror_mode": {
    "name": "ipython",
    "version": 3
   },
   "file_extension": ".py",
   "mimetype": "text/x-python",
   "name": "python",
   "nbconvert_exporter": "python",
   "pygments_lexer": "ipython3",
   "version": "3.7.4"
  }
 },
 "nbformat": 4,
 "nbformat_minor": 2
}
